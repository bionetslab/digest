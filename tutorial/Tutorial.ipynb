{
 "cells": [
  {
   "cell_type": "markdown",
   "metadata": {},
   "source": [
    "# Tutorial for Usage of DIGEST"
   ]
  },
  {
   "cell_type": "markdown",
   "metadata": {},
   "source": [
    "## Setup"
   ]
  },
  {
   "cell_type": "code",
   "execution_count": 1,
   "metadata": {},
   "outputs": [],
   "source": [
    "import os"
   ]
  },
  {
   "cell_type": "code",
   "execution_count": 2,
   "metadata": {},
   "outputs": [],
   "source": [
    "runner_dir = \"../\""
   ]
  },
  {
   "cell_type": "code",
   "execution_count": null,
   "metadata": {},
   "outputs": [],
   "source": [
    "os.system(\"mkdir -p \"+c.FILES_DIR+\"tmp/\")"
   ]
  },
  {
   "cell_type": "markdown",
   "metadata": {},
   "source": [
    "## ID versus Set"
   ]
  },
  {
   "cell_type": "markdown",
   "metadata": {},
   "source": [
    "Runtimes:\n",
    "- 10 random runs: 00:00:04 (hh:mm:ss)\n",
    "- 100 random runs: 00:00:05 (hh:mm:ss)\n",
    "- 1000 random runs: 00:00:16 (hh:mm:ss)"
   ]
  },
  {
   "cell_type": "code",
   "execution_count": 3,
   "metadata": {},
   "outputs": [
    {
     "data": {
      "text/plain": [
       "0"
      ]
     },
     "execution_count": 3,
     "metadata": {},
     "output_type": "execute_result"
    }
   ],
   "source": [
    "os.system(\"python3 \"+runner_dir+\"single_validation.py -r=0007079 -ri=mondo -t=\"+runner_dir+\"tutorial/input/target_gene_set.txt -ti=uniprot -m=id-set\")"
   ]
  },
  {
   "cell_type": "markdown",
   "metadata": {},
   "source": [
    "## Set versus Set"
   ]
  },
  {
   "cell_type": "markdown",
   "metadata": {},
   "source": [
    "Runtimes:\n",
    "- 10 random runs: 00:00:04 (hh:mm:ss)\n",
    "- 100 random runs: 00:00:06 (hh:mm:ss)\n",
    "- 1000 random runs: 00:00:20 (hh:mm:ss)"
   ]
  },
  {
   "cell_type": "code",
   "execution_count": 4,
   "metadata": {},
   "outputs": [
    {
     "data": {
      "text/plain": [
       "256"
      ]
     },
     "execution_count": 4,
     "metadata": {},
     "output_type": "execute_result"
    }
   ],
   "source": [
    "os.system(\"python3 \"+runner_dir+\"single_validation.py -r=\"+runner_dir+\"tutorial/input/0007079_reference_gene_set.txt -ri=uniprot -t=\"+runner_dir+\"tutorial/input/target_gene_set.txt -ti=uniprot -m=id-set\")"
   ]
  },
  {
   "cell_type": "markdown",
   "metadata": {},
   "source": [
    "## Set itself"
   ]
  },
  {
   "cell_type": "markdown",
   "metadata": {},
   "source": [
    "Runtimes:\n",
    "- 10 random runs: 00:00:10 (hh:mm:ss)\n",
    "- 100 random runs: 00:00:26 (hh:mm:ss)\n",
    "- 1000 random runs: 00:56:00 (hh:mm:ss)"
   ]
  },
  {
   "cell_type": "code",
   "execution_count": null,
   "metadata": {},
   "outputs": [],
   "source": [
    "os.system(\"python3 \"+runner_dir+\"single_validation.py -t=\"+runner_dir+\"tutorial/input/target_gene_set.txt -ti=uniprot -m=set\")"
   ]
  },
  {
   "cell_type": "markdown",
   "metadata": {},
   "source": [
    "## Cluster itself"
   ]
  },
  {
   "cell_type": "markdown",
   "metadata": {},
   "source": [
    "Runtimes:\n",
    "- 10 random runs: 00:00:07 (hh:mm:ss)\n",
    "- 100 random runs: 00:00:42 (hh:mm:ss)\n",
    "- 1000 random runs: 00:08:02 (hh:mm:ss)"
   ]
  },
  {
   "cell_type": "code",
   "execution_count": null,
   "metadata": {},
   "outputs": [],
   "source": [
    "os.system(\"python3 \"+runner_dir+\"single_validation.py -t=\"+runner_dir+\"tutorial/input/target_disease_cluster.txt -ti=ICD-10 -m=cluster\")"
   ]
  },
  {
   "cell_type": "code",
   "execution_count": null,
   "metadata": {},
   "outputs": [],
   "source": []
  }
 ],
 "metadata": {
  "kernelspec": {
   "display_name": "Python 3",
   "language": "python",
   "name": "python3"
  },
  "language_info": {
   "codemirror_mode": {
    "name": "ipython",
    "version": 3
   },
   "file_extension": ".py",
   "mimetype": "text/x-python",
   "name": "python",
   "nbconvert_exporter": "python",
   "pygments_lexer": "ipython3",
   "version": "3.8.10"
  }
 },
 "nbformat": 4,
 "nbformat_minor": 4
}
