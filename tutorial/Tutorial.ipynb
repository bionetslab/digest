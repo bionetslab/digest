{
 "cells": [
  {
   "cell_type": "markdown",
   "metadata": {},
   "source": [
    "# Tutorial for Usage of DIGEST"
   ]
  },
  {
   "cell_type": "markdown",
   "metadata": {},
   "source": [
    "## Setup"
   ]
  },
  {
   "cell_type": "code",
   "execution_count": 1,
   "metadata": {},
   "outputs": [
    {
     "name": "stderr",
     "output_type": "stream",
     "text": [
      "/home/kikky/.local/lib/python3.8/site-packages/scipy/sparse/sputils.py:114: UserWarning: object dtype is not supported by sparse matrices\n",
      "  warnings.warn(\"object dtype is not supported by sparse matrices\")\n",
      "/home/kikky/.local/lib/python3.8/site-packages/scipy/sparse/sputils.py:114: UserWarning: object dtype is not supported by sparse matrices\n",
      "  warnings.warn(\"object dtype is not supported by sparse matrices\")\n"
     ]
    }
   ],
   "source": [
    "import os\n",
    "import sys\n",
    "import json\n",
    "import pandas as pd\n",
    "# ==== import single validation script ====\n",
    "from pathlib import Path\n",
    "sys.path.append(str(Path.cwd().parent))\n",
    "from single_validation import single_validation"
   ]
  },
  {
   "cell_type": "markdown",
   "metadata": {},
   "source": [
    "## ID versus Set"
   ]
  },
  {
   "cell_type": "markdown",
   "metadata": {},
   "source": [
    "Compare a target set of genes against a single disease id.<br>\n",
    "Note: Runtime for `--run=1000` around 00:00:15 (hh:mm:ss)"
   ]
  },
  {
   "cell_type": "markdown",
   "metadata": {},
   "source": [
    "### Set input parameters"
   ]
  },
  {
   "cell_type": "code",
   "execution_count": 2,
   "metadata": {},
   "outputs": [],
   "source": [
    "ref_id = \"0007079\"\n",
    "ref_id_type = \"mondo\"\n",
    "tar_set = \"input/target_gene_set.txt\"\n",
    "tar_id_type = \"uniprot\"\n",
    "mode = \"id-set\"\n",
    "out_dir = \"results/\"\n",
    "runs = 1000"
   ]
  },
  {
   "cell_type": "markdown",
   "metadata": {},
   "source": [
    "### Run script"
   ]
  },
  {
   "cell_type": "code",
   "execution_count": 3,
   "metadata": {},
   "outputs": [
    {
     "name": "stdout",
     "output_type": "stream",
     "text": [
      "[00:00:00|148.45MB] Starting validation ...\n",
      "[00:00:00|148.45MB] Load mappings for input into cache ...\n",
      "querying 1-26...done.\n",
      "Finished.\n",
      "1 input query terms found dup hits:\n",
      "\t[('P34998', 2)]\n",
      "Pass \"returnall=True\" to return complete lists of duplicate or missing query terms.\n",
      "querying 1-25...done.\n",
      "Finished.\n",
      "[00:00:04|438.30MB] Validation of input ...\n",
      "[00:00:04|438.30MB] Validation of random runs ...\n",
      "[00:00:18|438.30MB] Calculating p-values ...\n",
      "[00:00:18|438.30MB] Save files\n",
      "[00:00:18|438.30MB] Finished validation\n"
     ]
    }
   ],
   "source": [
    "single_validation(tar=tar_set, tar_id=tar_id_type, mode=mode, ref=ref_id, ref_id=ref_id_type, \n",
    "                  enriched = False, out_dir=out_dir, runs=runs)"
   ]
  },
  {
   "cell_type": "markdown",
   "metadata": {},
   "source": [
    "### Inspect results"
   ]
  },
  {
   "cell_type": "code",
   "execution_count": 4,
   "metadata": {},
   "outputs": [
    {
     "data": {
      "text/html": [
       "<div>\n",
       "<style scoped>\n",
       "    .dataframe tbody tr th:only-of-type {\n",
       "        vertical-align: middle;\n",
       "    }\n",
       "\n",
       "    .dataframe tbody tr th {\n",
       "        vertical-align: top;\n",
       "    }\n",
       "\n",
       "    .dataframe thead th {\n",
       "        text-align: right;\n",
       "    }\n",
       "</style>\n",
       "<table border=\"1\" class=\"dataframe\">\n",
       "  <thead>\n",
       "    <tr style=\"text-align: right;\">\n",
       "      <th></th>\n",
       "      <th>input_values</th>\n",
       "      <th>p_values</th>\n",
       "    </tr>\n",
       "  </thead>\n",
       "  <tbody>\n",
       "    <tr>\n",
       "      <th>pathway.kegg</th>\n",
       "      <td>0.365</td>\n",
       "      <td>1.0</td>\n",
       "    </tr>\n",
       "  </tbody>\n",
       "</table>\n",
       "</div>"
      ],
      "text/plain": [
       "             input_values  p_values\n",
       "pathway.kegg        0.365       1.0"
      ]
     },
     "execution_count": 4,
     "metadata": {},
     "output_type": "execute_result"
    }
   ],
   "source": [
    "with open(out_dir+'digest_'+mode+'_result.json', 'r') as f:\n",
    "    data = json.load(f)\n",
    "pd.DataFrame.from_dict(data)"
   ]
  },
  {
   "cell_type": "markdown",
   "metadata": {},
   "source": [
    "While the values under `input_values` are the raw values for the input set, the values under `p_value` are the calculated p-values for the original input against the 1000 runs."
   ]
  },
  {
   "cell_type": "markdown",
   "metadata": {},
   "source": [
    "## Set versus Set"
   ]
  },
  {
   "cell_type": "markdown",
   "metadata": {},
   "source": [
    "Compare a target set of genes against a reference set of genes.<br>\n",
    "Note: Runtime for `--run=1000` around 00:00:20 (hh:mm:ss)"
   ]
  },
  {
   "cell_type": "markdown",
   "metadata": {},
   "source": [
    "### Set input parameters"
   ]
  },
  {
   "cell_type": "code",
   "execution_count": 5,
   "metadata": {},
   "outputs": [],
   "source": [
    "ref_set = \"input/0007079_reference_gene_set.txt\"\n",
    "ref_id_type = \"uniprot\"\n",
    "tar_set = \"input/target_gene_set.txt\"\n",
    "tar_id_type = \"uniprot\"\n",
    "mode = \"set-set\"\n",
    "out_dir = \"results/\"\n",
    "runs = 1000"
   ]
  },
  {
   "cell_type": "markdown",
   "metadata": {},
   "source": [
    "### Non-Enriched setup\n",
    "Use all attributes values mapped to the reference ids"
   ]
  },
  {
   "cell_type": "markdown",
   "metadata": {},
   "source": [
    "### Run script"
   ]
  },
  {
   "cell_type": "code",
   "execution_count": 6,
   "metadata": {},
   "outputs": [
    {
     "name": "stdout",
     "output_type": "stream",
     "text": [
      "[00:00:00|438.30MB] Starting validation ...\n",
      "[00:00:00|438.30MB] Load mappings for input into cache ...\n",
      "querying 1-26...done.\n",
      "Finished.\n",
      "1 input query terms found dup hits:\n",
      "\t[('P34998', 2)]\n",
      "Pass \"returnall=True\" to return complete lists of duplicate or missing query terms.\n",
      "querying 1-25...done.\n",
      "Finished.\n",
      "[00:00:04|458.66MB] Validation of input ...\n",
      "[00:00:04|458.66MB] Validation of random runs ...\n",
      "[00:00:19|458.66MB] Calculating p-values ...\n",
      "[00:00:19|458.66MB] Save files\n",
      "[00:00:19|458.66MB] Finished validation\n"
     ]
    }
   ],
   "source": [
    "single_validation(tar=tar_set, tar_id=tar_id_type, mode=mode, ref=ref_set, ref_id=ref_id_type, \n",
    "                  out_dir=out_dir, runs=runs, enriched=False)"
   ]
  },
  {
   "cell_type": "markdown",
   "metadata": {},
   "source": [
    "### Inspect results"
   ]
  },
  {
   "cell_type": "code",
   "execution_count": 7,
   "metadata": {
    "scrolled": true
   },
   "outputs": [
    {
     "data": {
      "text/html": [
       "<div>\n",
       "<style scoped>\n",
       "    .dataframe tbody tr th:only-of-type {\n",
       "        vertical-align: middle;\n",
       "    }\n",
       "\n",
       "    .dataframe tbody tr th {\n",
       "        vertical-align: top;\n",
       "    }\n",
       "\n",
       "    .dataframe thead th {\n",
       "        text-align: right;\n",
       "    }\n",
       "</style>\n",
       "<table border=\"1\" class=\"dataframe\">\n",
       "  <thead>\n",
       "    <tr style=\"text-align: right;\">\n",
       "      <th></th>\n",
       "      <th>input_values</th>\n",
       "      <th>p_values</th>\n",
       "    </tr>\n",
       "  </thead>\n",
       "  <tbody>\n",
       "    <tr>\n",
       "      <th>go.BP</th>\n",
       "      <td>0.56</td>\n",
       "      <td>1.0</td>\n",
       "    </tr>\n",
       "    <tr>\n",
       "      <th>go.CC</th>\n",
       "      <td>0.91</td>\n",
       "      <td>1.0</td>\n",
       "    </tr>\n",
       "    <tr>\n",
       "      <th>go.MF</th>\n",
       "      <td>0.905</td>\n",
       "      <td>1.0</td>\n",
       "    </tr>\n",
       "    <tr>\n",
       "      <th>pathway.kegg</th>\n",
       "      <td>0.365</td>\n",
       "      <td>1.0</td>\n",
       "    </tr>\n",
       "  </tbody>\n",
       "</table>\n",
       "</div>"
      ],
      "text/plain": [
       "             input_values  p_values\n",
       "go.BP                0.56       1.0\n",
       "go.CC                0.91       1.0\n",
       "go.MF               0.905       1.0\n",
       "pathway.kegg        0.365       1.0"
      ]
     },
     "execution_count": 7,
     "metadata": {},
     "output_type": "execute_result"
    }
   ],
   "source": [
    "with open(out_dir+'digest_'+mode+'_result.json', 'r') as f:\n",
    "    data = json.load(f)\n",
    "pd.DataFrame.from_dict(data)"
   ]
  },
  {
   "cell_type": "markdown",
   "metadata": {},
   "source": [
    "While the values under `input_values` are the raw values for the input set, the values under `p_value` are the calculated p-values for the original input against the 1000 runs."
   ]
  },
  {
   "cell_type": "markdown",
   "metadata": {},
   "source": [
    "### Enriched setup\n",
    "Use only enriched attribute values mapped to the reference ids"
   ]
  },
  {
   "cell_type": "markdown",
   "metadata": {},
   "source": [
    "### Run script"
   ]
  },
  {
   "cell_type": "code",
   "execution_count": 8,
   "metadata": {},
   "outputs": [
    {
     "name": "stdout",
     "output_type": "stream",
     "text": [
      "[00:00:00|458.66MB] Starting validation ...\n",
      "[00:00:00|458.66MB] Load mappings for input into cache ...\n"
     ]
    },
    {
     "name": "stderr",
     "output_type": "stream",
     "text": [
      "2022-01-24 00:09:48,150 Warning: No enrich terms using library GO_Cellular_Component_2015 when cutoff = 0.05\n"
     ]
    },
    {
     "name": "stdout",
     "output_type": "stream",
     "text": [
      "querying 1-26...done.\n",
      "Finished.\n",
      "1 input query terms found dup hits:\n",
      "\t[('P34998', 2)]\n",
      "Pass \"returnall=True\" to return complete lists of duplicate or missing query terms.\n",
      "querying 1-25...done.\n",
      "Finished.\n",
      "[00:00:21|478.18MB] Validation of input ...\n",
      "[00:00:21|478.18MB] Validation of random runs ...\n",
      "[00:00:38|478.18MB] Calculating p-values ...\n",
      "[00:00:38|478.18MB] Save files\n",
      "[00:00:38|478.18MB] Finished validation\n"
     ]
    }
   ],
   "source": [
    "single_validation(tar=tar_set, tar_id=tar_id_type, mode=mode, ref=ref_set, ref_id=ref_id_type, \n",
    "                  out_dir=out_dir, runs=runs, enriched=True)"
   ]
  },
  {
   "cell_type": "markdown",
   "metadata": {},
   "source": [
    "### Inspect results"
   ]
  },
  {
   "cell_type": "code",
   "execution_count": 9,
   "metadata": {
    "scrolled": true
   },
   "outputs": [
    {
     "data": {
      "text/html": [
       "<div>\n",
       "<style scoped>\n",
       "    .dataframe tbody tr th:only-of-type {\n",
       "        vertical-align: middle;\n",
       "    }\n",
       "\n",
       "    .dataframe tbody tr th {\n",
       "        vertical-align: top;\n",
       "    }\n",
       "\n",
       "    .dataframe thead th {\n",
       "        text-align: right;\n",
       "    }\n",
       "</style>\n",
       "<table border=\"1\" class=\"dataframe\">\n",
       "  <thead>\n",
       "    <tr style=\"text-align: right;\">\n",
       "      <th></th>\n",
       "      <th>input_values</th>\n",
       "      <th>p_values</th>\n",
       "    </tr>\n",
       "  </thead>\n",
       "  <tbody>\n",
       "    <tr>\n",
       "      <th>go.BP</th>\n",
       "      <td>0.365</td>\n",
       "      <td>1.000000</td>\n",
       "    </tr>\n",
       "    <tr>\n",
       "      <th>go.CC</th>\n",
       "      <td>0.0</td>\n",
       "      <td>1.000000</td>\n",
       "    </tr>\n",
       "    <tr>\n",
       "      <th>go.MF</th>\n",
       "      <td>0.085</td>\n",
       "      <td>0.979021</td>\n",
       "    </tr>\n",
       "    <tr>\n",
       "      <th>pathway.kegg</th>\n",
       "      <td>0.365</td>\n",
       "      <td>1.000000</td>\n",
       "    </tr>\n",
       "  </tbody>\n",
       "</table>\n",
       "</div>"
      ],
      "text/plain": [
       "             input_values  p_values\n",
       "go.BP               0.365  1.000000\n",
       "go.CC                 0.0  1.000000\n",
       "go.MF               0.085  0.979021\n",
       "pathway.kegg        0.365  1.000000"
      ]
     },
     "execution_count": 9,
     "metadata": {},
     "output_type": "execute_result"
    }
   ],
   "source": [
    "with open(out_dir+'digest_'+mode+'_result.json', 'r') as f:\n",
    "    data = json.load(f)\n",
    "pd.DataFrame.from_dict(data)"
   ]
  },
  {
   "cell_type": "markdown",
   "metadata": {},
   "source": [
    "While the values under `input_values` are the raw values for the input set, the values under `p_value` are the calculated p-values for the original input against the 1000 runs."
   ]
  },
  {
   "cell_type": "markdown",
   "metadata": {},
   "source": [
    "## Set itself"
   ]
  },
  {
   "cell_type": "markdown",
   "metadata": {},
   "source": [
    "Compare a target set in itself.<br>\n",
    "Note: Runtime for `--run=1000` around 00:00:51 (hh:mm:ss)"
   ]
  },
  {
   "cell_type": "markdown",
   "metadata": {},
   "source": [
    "### Set input parameters"
   ]
  },
  {
   "cell_type": "code",
   "execution_count": 10,
   "metadata": {},
   "outputs": [],
   "source": [
    "tar_set = \"input/target_gene_set.txt\"\n",
    "tar_id_type = \"uniprot\"\n",
    "mode = \"set\"\n",
    "out_dir = \"results/\"\n",
    "runs = 1000"
   ]
  },
  {
   "cell_type": "markdown",
   "metadata": {},
   "source": [
    "### Run script"
   ]
  },
  {
   "cell_type": "code",
   "execution_count": 11,
   "metadata": {},
   "outputs": [
    {
     "name": "stdout",
     "output_type": "stream",
     "text": [
      "[00:00:00|478.18MB] Starting validation ...\n",
      "[00:00:00|478.18MB] Load mappings for input into cache ...\n",
      "[00:00:01|482.74MB] Load distances for input into cache ...\n",
      "querying 1-26...done.\n",
      "Finished.\n",
      "1 input query terms found dup hits:\n",
      "\t[('P34998', 2)]\n",
      "Pass \"returnall=True\" to return complete lists of duplicate or missing query terms.\n",
      "querying 1-25...done.\n",
      "Finished.\n",
      "[00:00:09|1717.99MB] Validation of input ...\n",
      "[00:00:19|1760.62MB] Validation of random runs ...\n",
      "[00:00:50|1765.59MB] Calculating p-values ...\n",
      "[00:00:50|1765.59MB] Save files\n",
      "[00:00:50|1765.59MB] Finished validation\n"
     ]
    }
   ],
   "source": [
    "single_validation(tar=tar_set, tar_id=tar_id_type, mode=mode, out_dir=out_dir, runs=runs)"
   ]
  },
  {
   "cell_type": "markdown",
   "metadata": {},
   "source": [
    "### Inspect results"
   ]
  },
  {
   "cell_type": "code",
   "execution_count": 12,
   "metadata": {},
   "outputs": [
    {
     "data": {
      "text/html": [
       "<div>\n",
       "<style scoped>\n",
       "    .dataframe tbody tr th:only-of-type {\n",
       "        vertical-align: middle;\n",
       "    }\n",
       "\n",
       "    .dataframe tbody tr th {\n",
       "        vertical-align: top;\n",
       "    }\n",
       "\n",
       "    .dataframe thead th {\n",
       "        text-align: right;\n",
       "    }\n",
       "</style>\n",
       "<table border=\"1\" class=\"dataframe\">\n",
       "  <thead>\n",
       "    <tr style=\"text-align: right;\">\n",
       "      <th></th>\n",
       "      <th>input_values</th>\n",
       "      <th>p_values</th>\n",
       "    </tr>\n",
       "  </thead>\n",
       "  <tbody>\n",
       "    <tr>\n",
       "      <th>go.BP</th>\n",
       "      <td>0.017596</td>\n",
       "      <td>0.000999</td>\n",
       "    </tr>\n",
       "    <tr>\n",
       "      <th>go.CC</th>\n",
       "      <td>0.104296</td>\n",
       "      <td>0.000999</td>\n",
       "    </tr>\n",
       "    <tr>\n",
       "      <th>go.MF</th>\n",
       "      <td>0.107253</td>\n",
       "      <td>0.067932</td>\n",
       "    </tr>\n",
       "    <tr>\n",
       "      <th>pathway.kegg</th>\n",
       "      <td>0.029286</td>\n",
       "      <td>0.000999</td>\n",
       "    </tr>\n",
       "  </tbody>\n",
       "</table>\n",
       "</div>"
      ],
      "text/plain": [
       "              input_values  p_values\n",
       "go.BP             0.017596  0.000999\n",
       "go.CC             0.104296  0.000999\n",
       "go.MF             0.107253  0.067932\n",
       "pathway.kegg      0.029286  0.000999"
      ]
     },
     "execution_count": 12,
     "metadata": {},
     "output_type": "execute_result"
    }
   ],
   "source": [
    "with open(out_dir+'digest_'+mode+'_result.json', 'r') as f:\n",
    "    data = json.load(f)\n",
    "pd.DataFrame.from_dict(data)"
   ]
  },
  {
   "cell_type": "markdown",
   "metadata": {},
   "source": [
    "While the values under `input_values` are the raw values for the input set, the values under `p_value` are the calculated p-values for the original input against the 1000 runs."
   ]
  },
  {
   "cell_type": "markdown",
   "metadata": {},
   "source": [
    "## Cluster itself"
   ]
  },
  {
   "cell_type": "markdown",
   "metadata": {},
   "source": [
    "Compare a target cluster of diseases based on dunn index and sillhouette score, while the random runs are simply cluster size preserving perturbation of cluster assignments.<br>\n",
    "Note: Runtime for `--run=1000` around 00:02:45 (hh:mm:ss)"
   ]
  },
  {
   "cell_type": "markdown",
   "metadata": {},
   "source": [
    "### Set input parameters"
   ]
  },
  {
   "cell_type": "code",
   "execution_count": 13,
   "metadata": {},
   "outputs": [],
   "source": [
    "tar_set = \"input/target_disease_cluster.txt\"\n",
    "tar_id_type = \"ICD-10\"\n",
    "mode = \"cluster\"\n",
    "out_dir = \"results/\"\n",
    "runs = 1000"
   ]
  },
  {
   "cell_type": "markdown",
   "metadata": {},
   "source": [
    "### Run script"
   ]
  },
  {
   "cell_type": "code",
   "execution_count": 14,
   "metadata": {},
   "outputs": [
    {
     "name": "stdout",
     "output_type": "stream",
     "text": [
      "[00:00:00|1765.59MB] Starting validation ...\n",
      "[00:00:00|1765.59MB] Load mappings for input into cache ...\n",
      "[00:00:01|1798.86MB] Load distances for input into cache ...\n",
      "[00:00:01|1947.71MB] Load input data ...\n",
      "[00:00:01|1947.71MB] Validation of input ...\n",
      "[00:00:02|1949.25MB] Validation of random runs ...\n",
      "[00:02:45|1950.39MB] Save files\n",
      "[00:02:45|1950.39MB] Finished validation\n"
     ]
    }
   ],
   "source": [
    "single_validation(tar=tar_set, tar_id=tar_id_type, mode=mode, out_dir=out_dir, runs=runs)"
   ]
  },
  {
   "cell_type": "markdown",
   "metadata": {},
   "source": [
    "### Inspect results"
   ]
  },
  {
   "cell_type": "code",
   "execution_count": 23,
   "metadata": {},
   "outputs": [
    {
     "data": {
      "text/html": [
       "<div>\n",
       "<style scoped>\n",
       "    .dataframe tbody tr th:only-of-type {\n",
       "        vertical-align: middle;\n",
       "    }\n",
       "\n",
       "    .dataframe tbody tr th {\n",
       "        vertical-align: top;\n",
       "    }\n",
       "\n",
       "    .dataframe thead th {\n",
       "        text-align: right;\n",
       "    }\n",
       "</style>\n",
       "<table border=\"1\" class=\"dataframe\">\n",
       "  <thead>\n",
       "    <tr style=\"text-align: right;\">\n",
       "      <th></th>\n",
       "      <th></th>\n",
       "      <th>di</th>\n",
       "      <th>ss</th>\n",
       "    </tr>\n",
       "  </thead>\n",
       "  <tbody>\n",
       "    <tr>\n",
       "      <th rowspan=\"3\" valign=\"top\">input_values</th>\n",
       "      <th>disgenet.genes_related_to_disease</th>\n",
       "      <td>0.000000</td>\n",
       "      <td>-0.608696</td>\n",
       "    </tr>\n",
       "    <tr>\n",
       "      <th>disgenet.variants_related_to_disease</th>\n",
       "      <td>0.000000</td>\n",
       "      <td>-0.606749</td>\n",
       "    </tr>\n",
       "    <tr>\n",
       "      <th>ctd.pathway_related_to_disease</th>\n",
       "      <td>0.000000</td>\n",
       "      <td>-0.632568</td>\n",
       "    </tr>\n",
       "    <tr>\n",
       "      <th rowspan=\"3\" valign=\"top\">p_values</th>\n",
       "      <th>disgenet.genes_related_to_disease</th>\n",
       "      <td>0.137862</td>\n",
       "      <td>0.632368</td>\n",
       "    </tr>\n",
       "    <tr>\n",
       "      <th>disgenet.variants_related_to_disease</th>\n",
       "      <td>0.420579</td>\n",
       "      <td>0.518482</td>\n",
       "    </tr>\n",
       "    <tr>\n",
       "      <th>ctd.pathway_related_to_disease</th>\n",
       "      <td>0.424575</td>\n",
       "      <td>0.332667</td>\n",
       "    </tr>\n",
       "  </tbody>\n",
       "</table>\n",
       "</div>"
      ],
      "text/plain": [
       "                                                         di        ss\n",
       "input_values disgenet.genes_related_to_disease     0.000000 -0.608696\n",
       "             disgenet.variants_related_to_disease  0.000000 -0.606749\n",
       "             ctd.pathway_related_to_disease        0.000000 -0.632568\n",
       "p_values     disgenet.genes_related_to_disease     0.137862  0.632368\n",
       "             disgenet.variants_related_to_disease  0.420579  0.518482\n",
       "             ctd.pathway_related_to_disease        0.424575  0.332667"
      ]
     },
     "execution_count": 23,
     "metadata": {},
     "output_type": "execute_result"
    }
   ],
   "source": [
    "with open(out_dir+'digest_'+mode+'_result.json', 'r') as f:\n",
    "    data = json.load(f)\n",
    "pd.concat({k: pd.DataFrame(v) for k, v in data.items()})"
   ]
  },
  {
   "cell_type": "markdown",
   "metadata": {},
   "source": [
    "While the values under `input_values` are the raw values for the input set, the values under `p_value` are the calculated p-values for the original input against the 1000 runs."
   ]
  },
  {
   "cell_type": "code",
   "execution_count": null,
   "metadata": {},
   "outputs": [],
   "source": []
  }
 ],
 "metadata": {
  "kernelspec": {
   "display_name": "Python 3",
   "language": "python",
   "name": "python3"
  },
  "language_info": {
   "codemirror_mode": {
    "name": "ipython",
    "version": 3
   },
   "file_extension": ".py",
   "mimetype": "text/x-python",
   "name": "python",
   "nbconvert_exporter": "python",
   "pygments_lexer": "ipython3",
   "version": "3.8.10"
  }
 },
 "nbformat": 4,
 "nbformat_minor": 4
}
