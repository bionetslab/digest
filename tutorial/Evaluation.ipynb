{
 "cells": [
  {
   "cell_type": "markdown",
   "metadata": {},
   "source": [
    "# Evaluation using DIGEST"
   ]
  },
  {
   "cell_type": "markdown",
   "metadata": {},
   "source": [
    "## Setup"
   ]
  },
  {
   "cell_type": "code",
   "execution_count": 1,
   "metadata": {},
   "outputs": [
    {
     "name": "stderr",
     "output_type": "stream",
     "text": [
      "/home/kikky/.local/lib/python3.8/site-packages/scipy/sparse/sputils.py:114: UserWarning: object dtype is not supported by sparse matrices\n",
      "  warnings.warn(\"object dtype is not supported by sparse matrices\")\n",
      "/home/kikky/.local/lib/python3.8/site-packages/scipy/sparse/sputils.py:114: UserWarning: object dtype is not supported by sparse matrices\n",
      "  warnings.warn(\"object dtype is not supported by sparse matrices\")\n"
     ]
    }
   ],
   "source": [
    "import os\n",
    "import sys\n",
    "import json\n",
    "import pandas as pd\n",
    "# ==== import single validation script ====\n",
    "from pathlib import Path\n",
    "sys.path.append(str(Path.cwd().parent))\n",
    "from single_validation import single_validation"
   ]
  },
  {
   "cell_type": "markdown",
   "metadata": {},
   "source": [
    "## ID versus Set"
   ]
  },
  {
   "cell_type": "markdown",
   "metadata": {},
   "source": [
    "Compare a target set of genes against a single disease id.<br>\n",
    "Note: Runtime for `--run=1000` around 00:00:15 (hh:mm:ss)"
   ]
  },
  {
   "cell_type": "markdown",
   "metadata": {},
   "source": [
    "### Set input parameters"
   ]
  },
  {
   "cell_type": "code",
   "execution_count": null,
   "metadata": {},
   "outputs": [],
   "source": [
    "ref_id = \"0007079\"\n",
    "ref_id_type = \"mondo\"\n",
    "tar_set = \"input/target_gene_set.txt\"\n",
    "tar_id_type = \"uniprot\"\n",
    "mode = \"id-set\"\n",
    "out_dir = \"results/\"\n",
    "runs = 1000"
   ]
  },
  {
   "cell_type": "markdown",
   "metadata": {},
   "source": [
    "### Run script"
   ]
  },
  {
   "cell_type": "code",
   "execution_count": null,
   "metadata": {},
   "outputs": [],
   "source": [
    "single_validation(tar=tar_set, tar_id=tar_id_type, mode=mode, ref=ref_id, ref_id=ref_id_type, \n",
    "                  enriched = False, out_dir=out_dir, runs=runs)"
   ]
  },
  {
   "cell_type": "markdown",
   "metadata": {},
   "source": [
    "### Inspect results"
   ]
  },
  {
   "cell_type": "code",
   "execution_count": null,
   "metadata": {},
   "outputs": [],
   "source": [
    "with open(out_dir+'digest_'+mode+'_result.json', 'r') as f:\n",
    "    data = json.load(f)\n",
    "pd.DataFrame.from_dict(data)"
   ]
  },
  {
   "cell_type": "markdown",
   "metadata": {},
   "source": [
    "While the values under `input_values` are the raw values for the input set, the values under `p_value` are the calculated p-values for the original input against the 1000 runs."
   ]
  },
  {
   "cell_type": "markdown",
   "metadata": {},
   "source": [
    "## Set versus Set"
   ]
  },
  {
   "cell_type": "markdown",
   "metadata": {},
   "source": [
    "Compare a target set of genes against a reference set of genes.<br>\n",
    "Note: Runtime for `--run=1000` around 00:00:20 (hh:mm:ss)"
   ]
  },
  {
   "cell_type": "markdown",
   "metadata": {},
   "source": [
    "### Set input parameters"
   ]
  },
  {
   "cell_type": "code",
   "execution_count": null,
   "metadata": {},
   "outputs": [],
   "source": [
    "ref_set = \"input/0007079_reference_gene_set.txt\"\n",
    "ref_id_type = \"uniprot\"\n",
    "tar_set = \"input/target_gene_set.txt\"\n",
    "tar_id_type = \"uniprot\"\n",
    "mode = \"set-set\"\n",
    "out_dir = \"results/\"\n",
    "runs = 1000"
   ]
  },
  {
   "cell_type": "markdown",
   "metadata": {},
   "source": [
    "### Non-Enriched setup\n",
    "Use all attributes values mapped to the reference ids"
   ]
  },
  {
   "cell_type": "markdown",
   "metadata": {},
   "source": [
    "### Run script"
   ]
  },
  {
   "cell_type": "code",
   "execution_count": null,
   "metadata": {},
   "outputs": [],
   "source": [
    "single_validation(tar=tar_set, tar_id=tar_id_type, mode=mode, ref=ref_set, ref_id=ref_id_type, \n",
    "                  out_dir=out_dir, runs=runs, enriched=False)"
   ]
  },
  {
   "cell_type": "markdown",
   "metadata": {},
   "source": [
    "### Inspect results"
   ]
  },
  {
   "cell_type": "code",
   "execution_count": null,
   "metadata": {
    "scrolled": true
   },
   "outputs": [],
   "source": [
    "with open(out_dir+'digest_'+mode+'_result.json', 'r') as f:\n",
    "    data = json.load(f)\n",
    "pd.DataFrame.from_dict(data)"
   ]
  },
  {
   "cell_type": "markdown",
   "metadata": {},
   "source": [
    "While the values under `input_values` are the raw values for the input set, the values under `p_value` are the calculated p-values for the original input against the 1000 runs."
   ]
  },
  {
   "cell_type": "markdown",
   "metadata": {},
   "source": [
    "### Enriched setup\n",
    "Use only enriched attribute values mapped to the reference ids"
   ]
  },
  {
   "cell_type": "markdown",
   "metadata": {},
   "source": [
    "### Run script"
   ]
  },
  {
   "cell_type": "code",
   "execution_count": null,
   "metadata": {},
   "outputs": [],
   "source": [
    "single_validation(tar=tar_set, tar_id=tar_id_type, mode=mode, ref=ref_set, ref_id=ref_id_type, \n",
    "                  out_dir=out_dir, runs=runs, enriched=True)"
   ]
  },
  {
   "cell_type": "markdown",
   "metadata": {},
   "source": [
    "### Inspect results"
   ]
  },
  {
   "cell_type": "code",
   "execution_count": null,
   "metadata": {
    "scrolled": true
   },
   "outputs": [],
   "source": [
    "with open(out_dir+'digest_'+mode+'_result.json', 'r') as f:\n",
    "    data = json.load(f)\n",
    "pd.DataFrame.from_dict(data)"
   ]
  },
  {
   "cell_type": "markdown",
   "metadata": {},
   "source": [
    "While the values under `input_values` are the raw values for the input set, the values under `p_value` are the calculated p-values for the original input against the 1000 runs."
   ]
  },
  {
   "cell_type": "markdown",
   "metadata": {},
   "source": [
    "## Set itself"
   ]
  },
  {
   "cell_type": "markdown",
   "metadata": {},
   "source": [
    "Compare a target set in itself.<br>\n",
    "Note: Runtime for `--run=1000` around 00:00:51 (hh:mm:ss)"
   ]
  },
  {
   "cell_type": "markdown",
   "metadata": {},
   "source": [
    "### Set input parameters"
   ]
  },
  {
   "cell_type": "code",
   "execution_count": null,
   "metadata": {},
   "outputs": [],
   "source": [
    "tar_set = \"input/target_gene_set.txt\"\n",
    "tar_id_type = \"uniprot\"\n",
    "mode = \"set\"\n",
    "out_dir = \"results/\"\n",
    "runs = 1000"
   ]
  },
  {
   "cell_type": "markdown",
   "metadata": {},
   "source": [
    "### Run script"
   ]
  },
  {
   "cell_type": "code",
   "execution_count": null,
   "metadata": {},
   "outputs": [],
   "source": [
    "single_validation(tar=tar_set, tar_id=tar_id_type, mode=mode, out_dir=out_dir, runs=runs)"
   ]
  },
  {
   "cell_type": "markdown",
   "metadata": {},
   "source": [
    "### Inspect results"
   ]
  },
  {
   "cell_type": "code",
   "execution_count": null,
   "metadata": {},
   "outputs": [],
   "source": [
    "with open(out_dir+'digest_'+mode+'_result.json', 'r') as f:\n",
    "    data = json.load(f)\n",
    "pd.DataFrame.from_dict(data)"
   ]
  },
  {
   "cell_type": "markdown",
   "metadata": {},
   "source": [
    "While the values under `input_values` are the raw values for the input set, the values under `p_value` are the calculated p-values for the original input against the 1000 runs."
   ]
  },
  {
   "cell_type": "markdown",
   "metadata": {},
   "source": [
    "## Cluster itself"
   ]
  },
  {
   "cell_type": "markdown",
   "metadata": {},
   "source": [
    "Compare a target cluster of diseases based on dunn index and sillhouette score, while the random runs are simply cluster size preserving perturbation of cluster assignments.<br>\n",
    "Note: Runtime for `--run=1000` around 00:02:45 (hh:mm:ss)"
   ]
  },
  {
   "cell_type": "markdown",
   "metadata": {},
   "source": [
    "### Cluster input parameters"
   ]
  },
  {
   "cell_type": "code",
   "execution_count": 2,
   "metadata": {},
   "outputs": [],
   "source": [
    "tar_set = \"input/gene_cluster.txt\"\n",
    "tar_id_type = \"entrez\"\n",
    "mode = \"cluster\"\n",
    "out_dir = \"results/\"\n",
    "runs = 1000\n",
    "perc = [10, 20, 30, 40, 50, 60, 70, 80, 90, 100]"
   ]
  },
  {
   "cell_type": "markdown",
   "metadata": {},
   "source": [
    "### Run script"
   ]
  },
  {
   "cell_type": "code",
   "execution_count": 3,
   "metadata": {},
   "outputs": [
    {
     "name": "stdout",
     "output_type": "stream",
     "text": [
      "[00:00:00|150.02MB] Starting validation ...\n",
      "[00:00:45|2414.36MB] Finished validation\n",
      "[00:00:00|2414.36MB] Starting validation ...\n",
      "[00:00:48|2476.22MB] Finished validation\n",
      "[00:00:00|2476.22MB] Starting validation ...\n",
      "[00:00:48|2507.78MB] Finished validation\n",
      "[00:00:00|2507.78MB] Starting validation ...\n",
      "[00:00:48|2598.71MB] Finished validation\n",
      "[00:00:00|2598.71MB] Starting validation ...\n",
      "[00:00:49|2629.27MB] Finished validation\n",
      "[00:00:00|2629.27MB] Starting validation ...\n",
      "[00:00:49|2562.88MB] Finished validation\n",
      "[00:00:00|2562.88MB] Starting validation ...\n",
      "[00:00:48|2593.09MB] Finished validation\n",
      "[00:00:00|2593.09MB] Starting validation ...\n",
      "[00:00:47|2525.44MB] Finished validation\n",
      "[00:00:00|2525.44MB] Starting validation ...\n",
      "[00:00:49|2616.35MB] Finished validation\n",
      "[00:00:00|2616.35MB] Starting validation ...\n",
      "[00:00:51|2551.52MB] Finished validation\n"
     ]
    }
   ],
   "source": [
    "results = dict()\n",
    "for cur_perc in perc:\n",
    "    single_validation(tar=tar_set, tar_id=tar_id_type, mode=mode, out_dir=out_dir, runs=runs, replace=cur_perc)\n",
    "    with open(out_dir+'digest_'+mode+'_result.json', 'r') as f:\n",
    "        results[str(cur_perc)] = json.load(f)"
   ]
  },
  {
   "cell_type": "markdown",
   "metadata": {},
   "source": [
    "### Inspect results"
   ]
  },
  {
   "cell_type": "code",
   "execution_count": 4,
   "metadata": {},
   "outputs": [],
   "source": [
    "plot_df = pd.DataFrame(columns=[\"attribute\",\"di\",\"ss\",\"dbi\",\"perc\"])\n",
    "for cur_perc in perc:\n",
    "    df = pd.DataFrame.from_dict(results[str(cur_perc)][\"p_values\"])\n",
    "    df[\"perc\"] = str(cur_perc)\n",
    "    df = df.rename_axis('attribute').reset_index()\n",
    "    plot_df = pd.concat([plot_df, df])"
   ]
  },
  {
   "cell_type": "code",
   "execution_count": 5,
   "metadata": {},
   "outputs": [
    {
     "data": {
      "text/html": [
       "<div>\n",
       "<style scoped>\n",
       "    .dataframe tbody tr th:only-of-type {\n",
       "        vertical-align: middle;\n",
       "    }\n",
       "\n",
       "    .dataframe tbody tr th {\n",
       "        vertical-align: top;\n",
       "    }\n",
       "\n",
       "    .dataframe thead th {\n",
       "        text-align: right;\n",
       "    }\n",
       "</style>\n",
       "<table border=\"1\" class=\"dataframe\">\n",
       "  <thead>\n",
       "    <tr style=\"text-align: right;\">\n",
       "      <th></th>\n",
       "      <th>attribute</th>\n",
       "      <th>di</th>\n",
       "      <th>ss</th>\n",
       "      <th>dbi</th>\n",
       "      <th>perc</th>\n",
       "    </tr>\n",
       "  </thead>\n",
       "  <tbody>\n",
       "    <tr>\n",
       "      <th>0</th>\n",
       "      <td>go.BP</td>\n",
       "      <td>0.067932</td>\n",
       "      <td>0.373626</td>\n",
       "      <td>0.136863</td>\n",
       "      <td>10</td>\n",
       "    </tr>\n",
       "    <tr>\n",
       "      <th>1</th>\n",
       "      <td>go.CC</td>\n",
       "      <td>0.403596</td>\n",
       "      <td>1.000000</td>\n",
       "      <td>0.780220</td>\n",
       "      <td>10</td>\n",
       "    </tr>\n",
       "    <tr>\n",
       "      <th>2</th>\n",
       "      <td>go.MF</td>\n",
       "      <td>0.423576</td>\n",
       "      <td>1.000000</td>\n",
       "      <td>0.756244</td>\n",
       "      <td>10</td>\n",
       "    </tr>\n",
       "    <tr>\n",
       "      <th>3</th>\n",
       "      <td>pathway.kegg</td>\n",
       "      <td>0.329670</td>\n",
       "      <td>1.000000</td>\n",
       "      <td>0.687313</td>\n",
       "      <td>10</td>\n",
       "    </tr>\n",
       "    <tr>\n",
       "      <th>0</th>\n",
       "      <td>go.BP</td>\n",
       "      <td>0.074925</td>\n",
       "      <td>0.349650</td>\n",
       "      <td>0.142857</td>\n",
       "      <td>20</td>\n",
       "    </tr>\n",
       "  </tbody>\n",
       "</table>\n",
       "</div>"
      ],
      "text/plain": [
       "      attribute        di        ss       dbi perc\n",
       "0         go.BP  0.067932  0.373626  0.136863   10\n",
       "1         go.CC  0.403596  1.000000  0.780220   10\n",
       "2         go.MF  0.423576  1.000000  0.756244   10\n",
       "3  pathway.kegg  0.329670  1.000000  0.687313   10\n",
       "0         go.BP  0.074925  0.349650  0.142857   20"
      ]
     },
     "execution_count": 5,
     "metadata": {},
     "output_type": "execute_result"
    }
   ],
   "source": [
    "plot_df.head()"
   ]
  },
  {
   "cell_type": "code",
   "execution_count": 6,
   "metadata": {},
   "outputs": [
    {
     "data": {
      "text/plain": [
       "<AxesSubplot:title={'center':'pathway.kegg'}, xlabel='perc'>"
      ]
     },
     "execution_count": 6,
     "metadata": {},
     "output_type": "execute_result"
    },
    {
     "data": {
      "image/png": "[encoded data removed]",
      "text/plain": [
       "<Figure size 720x720 with 4 Axes>"
      ]
     },
     "metadata": {
      "needs_background": "light"
     },
     "output_type": "display_data"
    }
   ],
   "source": [
    "import matplotlib.pyplot as plt\n",
    "\n",
    "fig, axes = plt.subplots(nrows=2, ncols=2, figsize=(10,10), subplot_kw={'ylim': (0,1)})\n",
    "fig.suptitle(\"Empirical P-Values for Gene Cluster\", fontsize=16)\n",
    "plot_df[plot_df[\"attribute\"]==\"go.BP\"].set_index('perc')[[\"di\", \"ss\", \"dbi\"]].plot(ax=axes[0,0], title=\"go.BP\")\n",
    "plot_df[plot_df[\"attribute\"]==\"go.CC\"].set_index('perc')[[\"di\", \"ss\", \"dbi\"]].plot(ax=axes[0,1], title=\"go.CC\")\n",
    "plot_df[plot_df[\"attribute\"]==\"go.MF\"].set_index('perc')[[\"di\", \"ss\", \"dbi\"]].plot(ax=axes[1,0], title=\"go.MF\")\n",
    "plot_df[plot_df[\"attribute\"]==\"pathway.kegg\"].set_index('perc')[[\"di\", \"ss\", \"dbi\"]].plot(ax=axes[1,1], title=\"pathway.kegg\")"
   ]
  },
  {
   "cell_type": "code",
   "execution_count": 7,
   "metadata": {},
   "outputs": [
    {
     "data": {
      "text/plain": [
       "<AxesSubplot:title={'center':'Davies Bouldin Index'}, xlabel='perc'>"
      ]
     },
     "execution_count": 7,
     "metadata": {},
     "output_type": "execute_result"
    },
    {
     "data": {
      "image/png": "[encoded data removed]",
      "text/plain": [
       "<Figure size 720x720 with 4 Axes>"
      ]
     },
     "metadata": {
      "needs_background": "light"
     },
     "output_type": "display_data"
    }
   ],
   "source": [
    "\n",
    "fig, axes = plt.subplots(nrows=2, ncols=2, figsize=(10,10), subplot_kw={'ylim': (0,1)})\n",
    "fig.suptitle(\"Empirical P-Values for Gene Cluster\", fontsize=16)\n",
    "plot_df.pivot(index='perc', columns='attribute', values='di').plot(ax=axes[0,0], title=\"Dunn Index\")\n",
    "plot_df.pivot(index='perc', columns='attribute', values='ss').plot(ax=axes[0,1], title=\"Silhouette Score\")\n",
    "plot_df.pivot(index='perc', columns='attribute', values='dbi').plot(ax=axes[1,0], title=\"Davies Bouldin Index\")\n",
    "#plot_df[plot_df[\"attribute\"]==\"pathway.kegg\"].set_index('perc')[[\"di\", \"ss\", \"dbi\"]].plot(ax=axes[1,1], title=\"pathway.kegg\")\n"
   ]
  },
  {
   "cell_type": "code",
   "execution_count": 12,
   "metadata": {},
   "outputs": [
    {
     "data": {
      "text/html": [
       "<div>\n",
       "<style scoped>\n",
       "    .dataframe tbody tr th:only-of-type {\n",
       "        vertical-align: middle;\n",
       "    }\n",
       "\n",
       "    .dataframe tbody tr th {\n",
       "        vertical-align: top;\n",
       "    }\n",
       "\n",
       "    .dataframe thead th {\n",
       "        text-align: right;\n",
       "    }\n",
       "</style>\n",
       "<table border=\"1\" class=\"dataframe\">\n",
       "  <thead>\n",
       "    <tr style=\"text-align: right;\">\n",
       "      <th></th>\n",
       "      <th>di</th>\n",
       "      <th>ss</th>\n",
       "      <th>dbi</th>\n",
       "    </tr>\n",
       "  </thead>\n",
       "  <tbody>\n",
       "    <tr>\n",
       "      <th>go.BP</th>\n",
       "      <td>0.097523</td>\n",
       "      <td>-0.700000</td>\n",
       "      <td>0.180988</td>\n",
       "    </tr>\n",
       "    <tr>\n",
       "      <th>go.CC</th>\n",
       "      <td>0.181698</td>\n",
       "      <td>-1.000000</td>\n",
       "      <td>1.835614</td>\n",
       "    </tr>\n",
       "    <tr>\n",
       "      <th>go.MF</th>\n",
       "      <td>0.184877</td>\n",
       "      <td>-0.900000</td>\n",
       "      <td>1.962328</td>\n",
       "    </tr>\n",
       "    <tr>\n",
       "      <th>pathway.kegg</th>\n",
       "      <td>0.279293</td>\n",
       "      <td>-0.909091</td>\n",
       "      <td>0.275175</td>\n",
       "    </tr>\n",
       "  </tbody>\n",
       "</table>\n",
       "</div>"
      ],
      "text/plain": [
       "                    di        ss       dbi\n",
       "go.BP         0.097523 -0.700000  0.180988\n",
       "go.CC         0.181698 -1.000000  1.835614\n",
       "go.MF         0.184877 -0.900000  1.962328\n",
       "pathway.kegg  0.279293 -0.909091  0.275175"
      ]
     },
     "execution_count": 12,
     "metadata": {},
     "output_type": "execute_result"
    }
   ],
   "source": [
    "pd.DataFrame(results[\"10\"][\"input_values\"])[[\"di\",\"ss\", \"dbi\"]]"
   ]
  },
  {
   "cell_type": "code",
   "execution_count": 13,
   "metadata": {},
   "outputs": [
    {
     "data": {
      "text/html": [
       "<div>\n",
       "<style scoped>\n",
       "    .dataframe tbody tr th:only-of-type {\n",
       "        vertical-align: middle;\n",
       "    }\n",
       "\n",
       "    .dataframe tbody tr th {\n",
       "        vertical-align: top;\n",
       "    }\n",
       "\n",
       "    .dataframe thead th {\n",
       "        text-align: right;\n",
       "    }\n",
       "</style>\n",
       "<table border=\"1\" class=\"dataframe\">\n",
       "  <thead>\n",
       "    <tr style=\"text-align: right;\">\n",
       "      <th></th>\n",
       "      <th>go.BP</th>\n",
       "      <th>go.CC</th>\n",
       "      <th>go.MF</th>\n",
       "      <th>pathway.kegg</th>\n",
       "    </tr>\n",
       "  </thead>\n",
       "  <tbody>\n",
       "    <tr>\n",
       "      <th>0</th>\n",
       "      <td>-0.8</td>\n",
       "      <td>-1.0</td>\n",
       "      <td>-1.0</td>\n",
       "      <td>-1.0</td>\n",
       "    </tr>\n",
       "    <tr>\n",
       "      <th>1</th>\n",
       "      <td>-0.6</td>\n",
       "      <td>-1.0</td>\n",
       "      <td>-0.8</td>\n",
       "      <td>-0.8</td>\n",
       "    </tr>\n",
       "  </tbody>\n",
       "</table>\n",
       "</div>"
      ],
      "text/plain": [
       "   go.BP  go.CC  go.MF  pathway.kegg\n",
       "0   -0.8   -1.0   -1.0          -1.0\n",
       "1   -0.6   -1.0   -0.8          -0.8"
      ]
     },
     "execution_count": 13,
     "metadata": {},
     "output_type": "execute_result"
    }
   ],
   "source": [
    "pd.DataFrame(results[\"10\"][\"input_values\"][\"ss_inter\"])"
   ]
  },
  {
   "cell_type": "code",
   "execution_count": 37,
   "metadata": {},
   "outputs": [
    {
     "data": {
      "text/html": [
       "<div>\n",
       "<style scoped>\n",
       "    .dataframe tbody tr th:only-of-type {\n",
       "        vertical-align: middle;\n",
       "    }\n",
       "\n",
       "    .dataframe tbody tr th {\n",
       "        vertical-align: top;\n",
       "    }\n",
       "\n",
       "    .dataframe thead th {\n",
       "        text-align: right;\n",
       "    }\n",
       "</style>\n",
       "<table border=\"1\" class=\"dataframe\">\n",
       "  <thead>\n",
       "    <tr style=\"text-align: right;\">\n",
       "      <th></th>\n",
       "      <th>entrezgene</th>\n",
       "      <th>go.CC</th>\n",
       "      <th>go.BP</th>\n",
       "      <th>go.MF</th>\n",
       "      <th>pathway.kegg</th>\n",
       "    </tr>\n",
       "  </thead>\n",
       "  <tbody>\n",
       "    <tr>\n",
       "      <th>1417</th>\n",
       "      <td>51678</td>\n",
       "      <td>GO:0016020;GO:0005911;GO:0070062;GO:0005886</td>\n",
       "      <td>GO:0065003</td>\n",
       "      <td>GO:0005515</td>\n",
       "      <td></td>\n",
       "    </tr>\n",
       "    <tr>\n",
       "      <th>3008</th>\n",
       "      <td>367</td>\n",
       "      <td>GO:0005634;GO:0005654;GO:0005829;GO:0032991;GO...</td>\n",
       "      <td>GO:0043568;GO:0000122;GO:0030521;GO:0045893;GO...</td>\n",
       "      <td>GO:0001223;GO:0005496;GO:0008013;GO:0004879;GO...</td>\n",
       "      <td>hsa05215;hsa05200;hsa04114</td>\n",
       "    </tr>\n",
       "    <tr>\n",
       "      <th>4492</th>\n",
       "      <td>399694</td>\n",
       "      <td>GO:0045211;GO:0005886</td>\n",
       "      <td>GO:0010468;GO:0035556;GO:0008284;GO:0007169;GO...</td>\n",
       "      <td>GO:0030971;GO:0019901;GO:0005515;GO:0019904</td>\n",
       "      <td>hsa04935;hsa04012;hsa04917;hsa05214;hsa05100;h...</td>\n",
       "    </tr>\n",
       "    <tr>\n",
       "      <th>4679</th>\n",
       "      <td>284467</td>\n",
       "      <td>GO:0005615</td>\n",
       "      <td>GO:1903980;GO:1902692;GO:1903979;GO:0014016;GO...</td>\n",
       "      <td>GO:0048018</td>\n",
       "      <td></td>\n",
       "    </tr>\n",
       "    <tr>\n",
       "      <th>5702</th>\n",
       "      <td>5241</td>\n",
       "      <td>GO:0005654;GO:0005741;GO:0005829;GO:0000785</td>\n",
       "      <td>GO:0010629;GO:0002070;GO:0007267;GO:0038001;GO...</td>\n",
       "      <td>GO:0004879;GO:0019899;GO:0001223;GO:0008270;GO...</td>\n",
       "      <td>hsa04914;hsa04915;hsa04114;hsa05224</td>\n",
       "    </tr>\n",
       "  </tbody>\n",
       "</table>\n",
       "</div>"
      ],
      "text/plain": [
       "      entrezgene                                              go.CC  \\\n",
       "1417       51678        GO:0016020;GO:0005911;GO:0070062;GO:0005886   \n",
       "3008         367  GO:0005634;GO:0005654;GO:0005829;GO:0032991;GO...   \n",
       "4492      399694                              GO:0045211;GO:0005886   \n",
       "4679      284467                                         GO:0005615   \n",
       "5702        5241        GO:0005654;GO:0005741;GO:0005829;GO:0000785   \n",
       "\n",
       "                                                  go.BP  \\\n",
       "1417                                         GO:0065003   \n",
       "3008  GO:0043568;GO:0000122;GO:0030521;GO:0045893;GO...   \n",
       "4492  GO:0010468;GO:0035556;GO:0008284;GO:0007169;GO...   \n",
       "4679  GO:1903980;GO:1902692;GO:1903979;GO:0014016;GO...   \n",
       "5702  GO:0010629;GO:0002070;GO:0007267;GO:0038001;GO...   \n",
       "\n",
       "                                                  go.MF  \\\n",
       "1417                                         GO:0005515   \n",
       "3008  GO:0001223;GO:0005496;GO:0008013;GO:0004879;GO...   \n",
       "4492        GO:0030971;GO:0019901;GO:0005515;GO:0019904   \n",
       "4679                                         GO:0048018   \n",
       "5702  GO:0004879;GO:0019899;GO:0001223;GO:0008270;GO...   \n",
       "\n",
       "                                           pathway.kegg  \n",
       "1417                                                     \n",
       "3008                         hsa05215;hsa05200;hsa04114  \n",
       "4492  hsa04935;hsa04012;hsa04917;hsa05214;hsa05100;h...  \n",
       "4679                                                     \n",
       "5702                hsa04914;hsa04915;hsa04114;hsa05224  "
      ]
     },
     "execution_count": 37,
     "metadata": {},
     "output_type": "execute_result"
    }
   ],
   "source": [
    "atts = pd.read_csv(\"../mapping_files/gene_att_mapping.csv\")\n",
    "cluster = pd.read_csv(tar_set, sep=\"\\t\", header=None)\n",
    "atts = atts[atts['entrezgene'].isin(cluster[0])].fillna(\"\")\n",
    "atts.head()"
   ]
  },
  {
   "cell_type": "code",
   "execution_count": 38,
   "metadata": {},
   "outputs": [],
   "source": [
    "def string_to_len(x):\n",
    "    return len(set(filter(None, x.split(\";\"))))\n",
    "atts[atts.columns[1:]] = atts[atts.columns[1:]].applymap(string_to_len)"
   ]
  },
  {
   "cell_type": "code",
   "execution_count": 39,
   "metadata": {},
   "outputs": [
    {
     "data": {
      "text/html": [
       "<div>\n",
       "<style scoped>\n",
       "    .dataframe tbody tr th:only-of-type {\n",
       "        vertical-align: middle;\n",
       "    }\n",
       "\n",
       "    .dataframe tbody tr th {\n",
       "        vertical-align: top;\n",
       "    }\n",
       "\n",
       "    .dataframe thead th {\n",
       "        text-align: right;\n",
       "    }\n",
       "</style>\n",
       "<table border=\"1\" class=\"dataframe\">\n",
       "  <thead>\n",
       "    <tr style=\"text-align: right;\">\n",
       "      <th></th>\n",
       "      <th>entrezgene</th>\n",
       "      <th>go.CC</th>\n",
       "      <th>go.BP</th>\n",
       "      <th>go.MF</th>\n",
       "      <th>pathway.kegg</th>\n",
       "    </tr>\n",
       "  </thead>\n",
       "  <tbody>\n",
       "    <tr>\n",
       "      <th>1417</th>\n",
       "      <td>51678</td>\n",
       "      <td>4</td>\n",
       "      <td>1</td>\n",
       "      <td>1</td>\n",
       "      <td>0</td>\n",
       "    </tr>\n",
       "    <tr>\n",
       "      <th>3008</th>\n",
       "      <td>367</td>\n",
       "      <td>8</td>\n",
       "      <td>50</td>\n",
       "      <td>19</td>\n",
       "      <td>3</td>\n",
       "    </tr>\n",
       "    <tr>\n",
       "      <th>4492</th>\n",
       "      <td>399694</td>\n",
       "      <td>2</td>\n",
       "      <td>6</td>\n",
       "      <td>4</td>\n",
       "      <td>20</td>\n",
       "    </tr>\n",
       "    <tr>\n",
       "      <th>4679</th>\n",
       "      <td>284467</td>\n",
       "      <td>1</td>\n",
       "      <td>5</td>\n",
       "      <td>1</td>\n",
       "      <td>0</td>\n",
       "    </tr>\n",
       "    <tr>\n",
       "      <th>5702</th>\n",
       "      <td>5241</td>\n",
       "      <td>4</td>\n",
       "      <td>14</td>\n",
       "      <td>13</td>\n",
       "      <td>4</td>\n",
       "    </tr>\n",
       "    <tr>\n",
       "      <th>6248</th>\n",
       "      <td>3868</td>\n",
       "      <td>5</td>\n",
       "      <td>14</td>\n",
       "      <td>2</td>\n",
       "      <td>2</td>\n",
       "    </tr>\n",
       "    <tr>\n",
       "      <th>7332</th>\n",
       "      <td>56171</td>\n",
       "      <td>6</td>\n",
       "      <td>4</td>\n",
       "      <td>6</td>\n",
       "      <td>3</td>\n",
       "    </tr>\n",
       "    <tr>\n",
       "      <th>9281</th>\n",
       "      <td>1299</td>\n",
       "      <td>7</td>\n",
       "      <td>3</td>\n",
       "      <td>2</td>\n",
       "      <td>5</td>\n",
       "    </tr>\n",
       "    <tr>\n",
       "      <th>9725</th>\n",
       "      <td>8601</td>\n",
       "      <td>4</td>\n",
       "      <td>4</td>\n",
       "      <td>3</td>\n",
       "      <td>0</td>\n",
       "    </tr>\n",
       "    <tr>\n",
       "      <th>17355</th>\n",
       "      <td>10551</td>\n",
       "      <td>2</td>\n",
       "      <td>12</td>\n",
       "      <td>4</td>\n",
       "      <td>0</td>\n",
       "    </tr>\n",
       "    <tr>\n",
       "      <th>25025</th>\n",
       "      <td>7545</td>\n",
       "      <td>3</td>\n",
       "      <td>12</td>\n",
       "      <td>7</td>\n",
       "      <td>0</td>\n",
       "    </tr>\n",
       "    <tr>\n",
       "      <th>30047</th>\n",
       "      <td>7031</td>\n",
       "      <td>2</td>\n",
       "      <td>8</td>\n",
       "      <td>2</td>\n",
       "      <td>1</td>\n",
       "    </tr>\n",
       "    <tr>\n",
       "      <th>34279</th>\n",
       "      <td>2066</td>\n",
       "      <td>16</td>\n",
       "      <td>33</td>\n",
       "      <td>8</td>\n",
       "      <td>6</td>\n",
       "    </tr>\n",
       "    <tr>\n",
       "      <th>34429</th>\n",
       "      <td>547</td>\n",
       "      <td>9</td>\n",
       "      <td>9</td>\n",
       "      <td>8</td>\n",
       "      <td>0</td>\n",
       "    </tr>\n",
       "    <tr>\n",
       "      <th>41698</th>\n",
       "      <td>64084</td>\n",
       "      <td>7</td>\n",
       "      <td>3</td>\n",
       "      <td>1</td>\n",
       "      <td>0</td>\n",
       "    </tr>\n",
       "    <tr>\n",
       "      <th>46688</th>\n",
       "      <td>6280</td>\n",
       "      <td>12</td>\n",
       "      <td>28</td>\n",
       "      <td>9</td>\n",
       "      <td>1</td>\n",
       "    </tr>\n",
       "    <tr>\n",
       "      <th>47607</th>\n",
       "      <td>1956</td>\n",
       "      <td>26</td>\n",
       "      <td>64</td>\n",
       "      <td>21</td>\n",
       "      <td>44</td>\n",
       "    </tr>\n",
       "    <tr>\n",
       "      <th>50207</th>\n",
       "      <td>2099</td>\n",
       "      <td>13</td>\n",
       "      <td>40</td>\n",
       "      <td>24</td>\n",
       "      <td>7</td>\n",
       "    </tr>\n",
       "    <tr>\n",
       "      <th>52483</th>\n",
       "      <td>25803</td>\n",
       "      <td>2</td>\n",
       "      <td>9</td>\n",
       "      <td>4</td>\n",
       "      <td>0</td>\n",
       "    </tr>\n",
       "    <tr>\n",
       "      <th>59538</th>\n",
       "      <td>3169</td>\n",
       "      <td>5</td>\n",
       "      <td>31</td>\n",
       "      <td>10</td>\n",
       "      <td>0</td>\n",
       "    </tr>\n",
       "  </tbody>\n",
       "</table>\n",
       "</div>"
      ],
      "text/plain": [
       "       entrezgene  go.CC  go.BP  go.MF  pathway.kegg\n",
       "1417        51678      4      1      1             0\n",
       "3008          367      8     50     19             3\n",
       "4492       399694      2      6      4            20\n",
       "4679       284467      1      5      1             0\n",
       "5702         5241      4     14     13             4\n",
       "6248         3868      5     14      2             2\n",
       "7332        56171      6      4      6             3\n",
       "9281         1299      7      3      2             5\n",
       "9725         8601      4      4      3             0\n",
       "17355       10551      2     12      4             0\n",
       "25025        7545      3     12      7             0\n",
       "30047        7031      2      8      2             1\n",
       "34279        2066     16     33      8             6\n",
       "34429         547      9      9      8             0\n",
       "41698       64084      7      3      1             0\n",
       "46688        6280     12     28      9             1\n",
       "47607        1956     26     64     21            44\n",
       "50207        2099     13     40     24             7\n",
       "52483       25803      2      9      4             0\n",
       "59538        3169      5     31     10             0"
      ]
     },
     "execution_count": 39,
     "metadata": {},
     "output_type": "execute_result"
    }
   ],
   "source": [
    "atts"
   ]
  },
  {
   "cell_type": "code",
   "execution_count": 40,
   "metadata": {},
   "outputs": [
    {
     "data": {
      "text/html": [
       "<div>\n",
       "<style scoped>\n",
       "    .dataframe tbody tr th:only-of-type {\n",
       "        vertical-align: middle;\n",
       "    }\n",
       "\n",
       "    .dataframe tbody tr th {\n",
       "        vertical-align: top;\n",
       "    }\n",
       "\n",
       "    .dataframe thead th {\n",
       "        text-align: right;\n",
       "    }\n",
       "</style>\n",
       "<table border=\"1\" class=\"dataframe\">\n",
       "  <thead>\n",
       "    <tr style=\"text-align: right;\">\n",
       "      <th></th>\n",
       "      <th>id</th>\n",
       "      <th>cluster</th>\n",
       "    </tr>\n",
       "  </thead>\n",
       "  <tbody>\n",
       "    <tr>\n",
       "      <th>0</th>\n",
       "      <td>8601</td>\n",
       "      <td>1</td>\n",
       "    </tr>\n",
       "    <tr>\n",
       "      <th>1</th>\n",
       "      <td>1956</td>\n",
       "      <td>1</td>\n",
       "    </tr>\n",
       "    <tr>\n",
       "      <th>2</th>\n",
       "      <td>547</td>\n",
       "      <td>1</td>\n",
       "    </tr>\n",
       "    <tr>\n",
       "      <th>3</th>\n",
       "      <td>399694</td>\n",
       "      <td>1</td>\n",
       "    </tr>\n",
       "    <tr>\n",
       "      <th>4</th>\n",
       "      <td>284467</td>\n",
       "      <td>1</td>\n",
       "    </tr>\n",
       "    <tr>\n",
       "      <th>5</th>\n",
       "      <td>51678</td>\n",
       "      <td>1</td>\n",
       "    </tr>\n",
       "    <tr>\n",
       "      <th>6</th>\n",
       "      <td>6280</td>\n",
       "      <td>1</td>\n",
       "    </tr>\n",
       "    <tr>\n",
       "      <th>7</th>\n",
       "      <td>1299</td>\n",
       "      <td>1</td>\n",
       "    </tr>\n",
       "    <tr>\n",
       "      <th>8</th>\n",
       "      <td>7545</td>\n",
       "      <td>1</td>\n",
       "    </tr>\n",
       "    <tr>\n",
       "      <th>9</th>\n",
       "      <td>3868</td>\n",
       "      <td>1</td>\n",
       "    </tr>\n",
       "    <tr>\n",
       "      <th>10</th>\n",
       "      <td>7031</td>\n",
       "      <td>0</td>\n",
       "    </tr>\n",
       "    <tr>\n",
       "      <th>11</th>\n",
       "      <td>2099</td>\n",
       "      <td>0</td>\n",
       "    </tr>\n",
       "    <tr>\n",
       "      <th>12</th>\n",
       "      <td>5241</td>\n",
       "      <td>0</td>\n",
       "    </tr>\n",
       "    <tr>\n",
       "      <th>13</th>\n",
       "      <td>2066</td>\n",
       "      <td>0</td>\n",
       "    </tr>\n",
       "    <tr>\n",
       "      <th>14</th>\n",
       "      <td>3169</td>\n",
       "      <td>0</td>\n",
       "    </tr>\n",
       "    <tr>\n",
       "      <th>15</th>\n",
       "      <td>367</td>\n",
       "      <td>0</td>\n",
       "    </tr>\n",
       "    <tr>\n",
       "      <th>16</th>\n",
       "      <td>25803</td>\n",
       "      <td>0</td>\n",
       "    </tr>\n",
       "    <tr>\n",
       "      <th>17</th>\n",
       "      <td>64084</td>\n",
       "      <td>0</td>\n",
       "    </tr>\n",
       "    <tr>\n",
       "      <th>18</th>\n",
       "      <td>10551</td>\n",
       "      <td>0</td>\n",
       "    </tr>\n",
       "    <tr>\n",
       "      <th>19</th>\n",
       "      <td>56171</td>\n",
       "      <td>0</td>\n",
       "    </tr>\n",
       "  </tbody>\n",
       "</table>\n",
       "</div>"
      ],
      "text/plain": [
       "        id  cluster\n",
       "0     8601        1\n",
       "1     1956        1\n",
       "2      547        1\n",
       "3   399694        1\n",
       "4   284467        1\n",
       "5    51678        1\n",
       "6     6280        1\n",
       "7     1299        1\n",
       "8     7545        1\n",
       "9     3868        1\n",
       "10    7031        0\n",
       "11    2099        0\n",
       "12    5241        0\n",
       "13    2066        0\n",
       "14    3169        0\n",
       "15     367        0\n",
       "16   25803        0\n",
       "17   64084        0\n",
       "18   10551        0\n",
       "19   56171        0"
      ]
     },
     "execution_count": 40,
     "metadata": {},
     "output_type": "execute_result"
    }
   ],
   "source": [
    "cluster.rename(columns={0:\"id\",1:\"cluster\"})"
   ]
  },
  {
   "cell_type": "code",
   "execution_count": 75,
   "metadata": {},
   "outputs": [],
   "source": [
    "tar_set = \"input/icd10_I-M_small.txt\"\n",
    "tar_id_type = \"mondo\"\n",
    "mode = \"cluster\"\n",
    "out_dir = \"results/\"\n",
    "runs = 1000\n",
    "perc = [10, 20, 30, 40, 50, 60, 70, 80, 90, 100]"
   ]
  },
  {
   "cell_type": "code",
   "execution_count": 76,
   "metadata": {},
   "outputs": [
    {
     "name": "stdout",
     "output_type": "stream",
     "text": [
      "[00:00:00|2736.09MB] Starting validation ...\n",
      "[00:01:11|2736.09MB] Finished validation\n",
      "[00:00:00|2736.09MB] Starting validation ...\n",
      "[00:01:24|2736.09MB] Finished validation\n",
      "[00:00:00|2736.09MB] Starting validation ...\n",
      "[00:01:17|2736.28MB] Finished validation\n",
      "[00:00:00|2736.28MB] Starting validation ...\n",
      "[00:01:18|2736.28MB] Finished validation\n",
      "[00:00:00|2736.28MB] Starting validation ...\n",
      "[00:01:18|2736.28MB] Finished validation\n",
      "[00:00:00|2736.28MB] Starting validation ...\n",
      "[00:01:18|2737.53MB] Finished validation\n",
      "[00:00:00|2737.53MB] Starting validation ...\n",
      "[00:01:16|2740.78MB] Finished validation\n",
      "[00:00:00|2740.78MB] Starting validation ...\n",
      "[00:01:19|2740.53MB] Finished validation\n",
      "[00:00:00|2740.53MB] Starting validation ...\n",
      "[00:01:18|2740.53MB] Finished validation\n",
      "[00:00:00|2740.53MB] Starting validation ...\n",
      "[00:01:16|2740.78MB] Finished validation\n"
     ]
    }
   ],
   "source": [
    "results2 = dict()\n",
    "for cur_perc in perc:\n",
    "    single_validation(tar=tar_set, tar_id=tar_id_type, mode=mode, out_dir=out_dir, runs=runs, replace=cur_perc)\n",
    "    with open(out_dir+'digest_'+mode+'_result.json', 'r') as f:\n",
    "        results2[str(cur_perc)] = json.load(f)"
   ]
  },
  {
   "cell_type": "code",
   "execution_count": 77,
   "metadata": {},
   "outputs": [],
   "source": [
    "plot_df = pd.DataFrame(columns=[\"attribute\",\"di\",\"ss\",\"dbi\",\"perc\"])\n",
    "for cur_perc in perc:\n",
    "    df = pd.DataFrame.from_dict(results2[str(cur_perc)][\"p_values\"])\n",
    "    df[\"perc\"] = str(cur_perc)\n",
    "    df = df.rename_axis('attribute').reset_index()\n",
    "    plot_df = pd.concat([plot_df, df])"
   ]
  },
  {
   "cell_type": "code",
   "execution_count": 78,
   "metadata": {},
   "outputs": [
    {
     "data": {
      "text/html": [
       "<div>\n",
       "<style scoped>\n",
       "    .dataframe tbody tr th:only-of-type {\n",
       "        vertical-align: middle;\n",
       "    }\n",
       "\n",
       "    .dataframe tbody tr th {\n",
       "        vertical-align: top;\n",
       "    }\n",
       "\n",
       "    .dataframe thead th {\n",
       "        text-align: right;\n",
       "    }\n",
       "</style>\n",
       "<table border=\"1\" class=\"dataframe\">\n",
       "  <thead>\n",
       "    <tr style=\"text-align: right;\">\n",
       "      <th></th>\n",
       "      <th>attribute</th>\n",
       "      <th>di</th>\n",
       "      <th>ss</th>\n",
       "      <th>dbi</th>\n",
       "      <th>perc</th>\n",
       "    </tr>\n",
       "  </thead>\n",
       "  <tbody>\n",
       "    <tr>\n",
       "      <th>0</th>\n",
       "      <td>disgenet.genes_related_to_disease</td>\n",
       "      <td>0.134865</td>\n",
       "      <td>0.474525</td>\n",
       "      <td>0.973027</td>\n",
       "      <td>10</td>\n",
       "    </tr>\n",
       "    <tr>\n",
       "      <th>1</th>\n",
       "      <td>disgenet.variants_related_to_disease</td>\n",
       "      <td>0.864136</td>\n",
       "      <td>0.984016</td>\n",
       "      <td>1.000000</td>\n",
       "      <td>10</td>\n",
       "    </tr>\n",
       "    <tr>\n",
       "      <th>2</th>\n",
       "      <td>ctd.pathway_related_to_disease</td>\n",
       "      <td>0.507493</td>\n",
       "      <td>0.926074</td>\n",
       "      <td>0.973027</td>\n",
       "      <td>10</td>\n",
       "    </tr>\n",
       "    <tr>\n",
       "      <th>0</th>\n",
       "      <td>disgenet.genes_related_to_disease</td>\n",
       "      <td>0.130869</td>\n",
       "      <td>0.496503</td>\n",
       "      <td>0.975025</td>\n",
       "      <td>20</td>\n",
       "    </tr>\n",
       "    <tr>\n",
       "      <th>1</th>\n",
       "      <td>disgenet.variants_related_to_disease</td>\n",
       "      <td>0.845155</td>\n",
       "      <td>0.977023</td>\n",
       "      <td>1.000000</td>\n",
       "      <td>20</td>\n",
       "    </tr>\n",
       "  </tbody>\n",
       "</table>\n",
       "</div>"
      ],
      "text/plain": [
       "                              attribute        di        ss       dbi perc\n",
       "0     disgenet.genes_related_to_disease  0.134865  0.474525  0.973027   10\n",
       "1  disgenet.variants_related_to_disease  0.864136  0.984016  1.000000   10\n",
       "2        ctd.pathway_related_to_disease  0.507493  0.926074  0.973027   10\n",
       "0     disgenet.genes_related_to_disease  0.130869  0.496503  0.975025   20\n",
       "1  disgenet.variants_related_to_disease  0.845155  0.977023  1.000000   20"
      ]
     },
     "execution_count": 78,
     "metadata": {},
     "output_type": "execute_result"
    }
   ],
   "source": [
    "plot_df.head()"
   ]
  },
  {
   "cell_type": "code",
   "execution_count": 81,
   "metadata": {},
   "outputs": [
    {
     "data": {
      "text/plain": [
       "0       disgenet.genes_related_to_disease\n",
       "1    disgenet.variants_related_to_disease\n",
       "2          ctd.pathway_related_to_disease\n",
       "0       disgenet.genes_related_to_disease\n",
       "1    disgenet.variants_related_to_disease\n",
       "2          ctd.pathway_related_to_disease\n",
       "0       disgenet.genes_related_to_disease\n",
       "1    disgenet.variants_related_to_disease\n",
       "2          ctd.pathway_related_to_disease\n",
       "0       disgenet.genes_related_to_disease\n",
       "1    disgenet.variants_related_to_disease\n",
       "2          ctd.pathway_related_to_disease\n",
       "0       disgenet.genes_related_to_disease\n",
       "1    disgenet.variants_related_to_disease\n",
       "2          ctd.pathway_related_to_disease\n",
       "0       disgenet.genes_related_to_disease\n",
       "1    disgenet.variants_related_to_disease\n",
       "2          ctd.pathway_related_to_disease\n",
       "0       disgenet.genes_related_to_disease\n",
       "1    disgenet.variants_related_to_disease\n",
       "2          ctd.pathway_related_to_disease\n",
       "0       disgenet.genes_related_to_disease\n",
       "1    disgenet.variants_related_to_disease\n",
       "2          ctd.pathway_related_to_disease\n",
       "0       disgenet.genes_related_to_disease\n",
       "1    disgenet.variants_related_to_disease\n",
       "2          ctd.pathway_related_to_disease\n",
       "0       disgenet.genes_related_to_disease\n",
       "1    disgenet.variants_related_to_disease\n",
       "2          ctd.pathway_related_to_disease\n",
       "Name: attribute, dtype: object"
      ]
     },
     "execution_count": 81,
     "metadata": {},
     "output_type": "execute_result"
    }
   ],
   "source": [
    "plot_df[\"attribute\"]"
   ]
  },
  {
   "cell_type": "code",
   "execution_count": 82,
   "metadata": {},
   "outputs": [
    {
     "data": {
      "text/plain": [
       "<AxesSubplot:title={'center':'ctd.pathway_related_to_disease'}, xlabel='perc'>"
      ]
     },
     "execution_count": 82,
     "metadata": {},
     "output_type": "execute_result"
    },
    {
     "data": {
      "image/png": "[encoded data removed]",
      "text/plain": [
       "<Figure size 720x720 with 4 Axes>"
      ]
     },
     "metadata": {
      "needs_background": "light"
     },
     "output_type": "display_data"
    }
   ],
   "source": [
    "import matplotlib.pyplot as plt\n",
    "\n",
    "fig, axes = plt.subplots(nrows=2, ncols=2, figsize=(10,10), subplot_kw={'ylim': (0,1)})\n",
    "fig.suptitle(\"Empirical P-Values for Disease Cluster\", fontsize=16)\n",
    "plot_df[plot_df[\"attribute\"]==\"disgenet.genes_related_to_disease\"].set_index('perc')[[\"di\", \"ss\", \"dbi\"]].plot(ax=axes[0,0], title=\"disgenet.genes_related_to_disease\")\n",
    "plot_df[plot_df[\"attribute\"]==\"disgenet.variants_related_to_disease\"].set_index('perc')[[\"di\", \"ss\", \"dbi\"]].plot(ax=axes[0,1], title=\"disgenet.variants_related_to_disease\")\n",
    "plot_df[plot_df[\"attribute\"]==\"ctd.pathway_related_to_disease\"].set_index('perc')[[\"di\", \"ss\", \"dbi\"]].plot(ax=axes[1,0], title=\"ctd.pathway_related_to_disease\")"
   ]
  },
  {
   "cell_type": "code",
   "execution_count": 83,
   "metadata": {
    "scrolled": true
   },
   "outputs": [
    {
     "data": {
      "text/plain": [
       "<AxesSubplot:title={'center':'Davies Bouldin Index'}, xlabel='perc'>"
      ]
     },
     "execution_count": 83,
     "metadata": {},
     "output_type": "execute_result"
    },
    {
     "data": {
      "image/png": "[encoded data removed]",
      "text/plain": [
       "<Figure size 720x720 with 4 Axes>"
      ]
     },
     "metadata": {
      "needs_background": "light"
     },
     "output_type": "display_data"
    }
   ],
   "source": [
    "\n",
    "fig, axes = plt.subplots(nrows=2, ncols=2, figsize=(10,10), subplot_kw={'ylim': (0,1)})\n",
    "fig.suptitle(\"Empirical P-Values for Disease Cluster\", fontsize=16)\n",
    "plot_df.pivot(index='perc', columns='attribute', values='di').plot(ax=axes[0,0], title=\"Dunn Index\")\n",
    "plot_df.pivot(index='perc', columns='attribute', values='ss').plot(ax=axes[0,1], title=\"Silhouette Score\")\n",
    "plot_df.pivot(index='perc', columns='attribute', values='dbi').plot(ax=axes[1,0], title=\"Davies Bouldin Index\")\n",
    "#plot_df[plot_df[\"attribute\"]==\"pathway.kegg\"].set_index('perc')[[\"di\", \"ss\", \"dbi\"]].plot(ax=axes[1,1], title=\"pathway.kegg\")\n"
   ]
  },
  {
   "cell_type": "code",
   "execution_count": 84,
   "metadata": {},
   "outputs": [],
   "source": [
    "tar_set = \"input/mondo_cluster.txt\"\n",
    "tar_id_type = \"mondo\"\n",
    "mode = \"cluster\"\n",
    "out_dir = \"results/\"\n",
    "runs = 1000\n",
    "perc = [10, 20, 30, 40, 50, 60, 70, 80, 90, 100]"
   ]
  },
  {
   "cell_type": "code",
   "execution_count": 85,
   "metadata": {},
   "outputs": [
    {
     "name": "stdout",
     "output_type": "stream",
     "text": [
      "[00:00:00|2740.78MB] Starting validation ...\n",
      "[00:00:36|2746.78MB] Finished validation\n",
      "[00:00:00|2746.78MB] Starting validation ...\n",
      "[00:00:48|2746.37MB] Finished validation\n",
      "[00:00:00|2746.37MB] Starting validation ...\n",
      "[00:00:51|2746.73MB] Finished validation\n",
      "[00:00:00|2746.73MB] Starting validation ...\n",
      "[00:00:50|2746.48MB] Finished validation\n",
      "[00:00:00|2746.48MB] Starting validation ...\n",
      "[00:00:45|2746.48MB] Finished validation\n",
      "[00:00:00|2746.48MB] Starting validation ...\n",
      "[00:00:48|2746.23MB] Finished validation\n",
      "[00:00:00|2746.23MB] Starting validation ...\n",
      "[00:00:49|2745.97MB] Finished validation\n",
      "[00:00:00|2745.97MB] Starting validation ...\n",
      "[00:00:49|2746.38MB] Finished validation\n",
      "[00:00:00|2746.38MB] Starting validation ...\n",
      "[00:00:48|2746.40MB] Finished validation\n",
      "[00:00:00|2746.40MB] Starting validation ...\n",
      "[00:00:46|2747.63MB] Finished validation\n"
     ]
    }
   ],
   "source": [
    "results3 = dict()\n",
    "for cur_perc in perc:\n",
    "    single_validation(tar=tar_set, tar_id=tar_id_type, mode=mode, out_dir=out_dir, runs=runs, replace=cur_perc)\n",
    "    with open(out_dir+'digest_'+mode+'_result.json', 'r') as f:\n",
    "        results3[str(cur_perc)] = json.load(f)"
   ]
  },
  {
   "cell_type": "code",
   "execution_count": 91,
   "metadata": {},
   "outputs": [],
   "source": [
    "plot_df = pd.DataFrame(columns=[\"attribute\",\"di\",\"ss\",\"dbi\",\"perc\"])\n",
    "for cur_perc in perc:\n",
    "    df = pd.DataFrame.from_dict(results3[str(cur_perc)][\"p_values\"])\n",
    "    df[\"perc\"] = str(cur_perc)\n",
    "    df = df.rename_axis('attribute').reset_index()\n",
    "    plot_df = pd.concat([plot_df, df])"
   ]
  },
  {
   "cell_type": "code",
   "execution_count": 92,
   "metadata": {},
   "outputs": [
    {
     "data": {
      "text/html": [
       "<div>\n",
       "<style scoped>\n",
       "    .dataframe tbody tr th:only-of-type {\n",
       "        vertical-align: middle;\n",
       "    }\n",
       "\n",
       "    .dataframe tbody tr th {\n",
       "        vertical-align: top;\n",
       "    }\n",
       "\n",
       "    .dataframe thead th {\n",
       "        text-align: right;\n",
       "    }\n",
       "</style>\n",
       "<table border=\"1\" class=\"dataframe\">\n",
       "  <thead>\n",
       "    <tr style=\"text-align: right;\">\n",
       "      <th></th>\n",
       "      <th>attribute</th>\n",
       "      <th>di</th>\n",
       "      <th>ss</th>\n",
       "      <th>dbi</th>\n",
       "      <th>perc</th>\n",
       "    </tr>\n",
       "  </thead>\n",
       "  <tbody>\n",
       "    <tr>\n",
       "      <th>0</th>\n",
       "      <td>disgenet.genes_related_to_disease</td>\n",
       "      <td>0.238761</td>\n",
       "      <td>0.729271</td>\n",
       "      <td>0.984016</td>\n",
       "      <td>10</td>\n",
       "    </tr>\n",
       "    <tr>\n",
       "      <th>1</th>\n",
       "      <td>disgenet.variants_related_to_disease</td>\n",
       "      <td>0.195804</td>\n",
       "      <td>0.871129</td>\n",
       "      <td>0.984016</td>\n",
       "      <td>10</td>\n",
       "    </tr>\n",
       "    <tr>\n",
       "      <th>2</th>\n",
       "      <td>ctd.pathway_related_to_disease</td>\n",
       "      <td>0.441558</td>\n",
       "      <td>0.176823</td>\n",
       "      <td>0.742258</td>\n",
       "      <td>10</td>\n",
       "    </tr>\n",
       "    <tr>\n",
       "      <th>0</th>\n",
       "      <td>disgenet.genes_related_to_disease</td>\n",
       "      <td>0.252747</td>\n",
       "      <td>0.699301</td>\n",
       "      <td>0.985015</td>\n",
       "      <td>20</td>\n",
       "    </tr>\n",
       "    <tr>\n",
       "      <th>1</th>\n",
       "      <td>disgenet.variants_related_to_disease</td>\n",
       "      <td>0.208791</td>\n",
       "      <td>0.851149</td>\n",
       "      <td>0.979021</td>\n",
       "      <td>20</td>\n",
       "    </tr>\n",
       "  </tbody>\n",
       "</table>\n",
       "</div>"
      ],
      "text/plain": [
       "                              attribute        di        ss       dbi perc\n",
       "0     disgenet.genes_related_to_disease  0.238761  0.729271  0.984016   10\n",
       "1  disgenet.variants_related_to_disease  0.195804  0.871129  0.984016   10\n",
       "2        ctd.pathway_related_to_disease  0.441558  0.176823  0.742258   10\n",
       "0     disgenet.genes_related_to_disease  0.252747  0.699301  0.985015   20\n",
       "1  disgenet.variants_related_to_disease  0.208791  0.851149  0.979021   20"
      ]
     },
     "execution_count": 92,
     "metadata": {},
     "output_type": "execute_result"
    }
   ],
   "source": [
    "plot_df.head()"
   ]
  },
  {
   "cell_type": "code",
   "execution_count": null,
   "metadata": {},
   "outputs": [],
   "source": []
  },
  {
   "cell_type": "code",
   "execution_count": 93,
   "metadata": {},
   "outputs": [
    {
     "data": {
      "text/plain": [
       "<AxesSubplot:title={'center':'ctd.pathway_related_to_disease'}, xlabel='perc'>"
      ]
     },
     "execution_count": 93,
     "metadata": {},
     "output_type": "execute_result"
    },
    {
     "data": {
      "image/png": "[encoded data removed]",
      "text/plain": [
       "<Figure size 720x720 with 4 Axes>"
      ]
     },
     "metadata": {
      "needs_background": "light"
     },
     "output_type": "display_data"
    }
   ],
   "source": [
    "import matplotlib.pyplot as plt\n",
    "\n",
    "fig, axes = plt.subplots(nrows=2, ncols=2, figsize=(10,10), subplot_kw={'ylim': (0,1)})\n",
    "fig.suptitle(\"Empirical P-Values for Disease Cluster\", fontsize=16)\n",
    "plot_df[plot_df[\"attribute\"]==\"disgenet.genes_related_to_disease\"].set_index('perc')[[\"di\", \"ss\", \"dbi\"]].plot(ax=axes[0,0], title=\"disgenet.genes_related_to_disease\")\n",
    "plot_df[plot_df[\"attribute\"]==\"disgenet.variants_related_to_disease\"].set_index('perc')[[\"di\", \"ss\", \"dbi\"]].plot(ax=axes[0,1], title=\"disgenet.variants_related_to_disease\")\n",
    "plot_df[plot_df[\"attribute\"]==\"ctd.pathway_related_to_disease\"].set_index('perc')[[\"di\", \"ss\", \"dbi\"]].plot(ax=axes[1,0], title=\"ctd.pathway_related_to_disease\")"
   ]
  },
  {
   "cell_type": "code",
   "execution_count": 94,
   "metadata": {},
   "outputs": [
    {
     "data": {
      "text/plain": [
       "<AxesSubplot:title={'center':'Davies Bouldin Index'}, xlabel='perc'>"
      ]
     },
     "execution_count": 94,
     "metadata": {},
     "output_type": "execute_result"
    },
    {
     "data": {
      "image/png": "[encoded data removed]",
      "text/plain": [
       "<Figure size 720x720 with 4 Axes>"
      ]
     },
     "metadata": {
      "needs_background": "light"
     },
     "output_type": "display_data"
    }
   ],
   "source": [
    "\n",
    "fig, axes = plt.subplots(nrows=2, ncols=2, figsize=(10,10), subplot_kw={'ylim': (0,1)})\n",
    "fig.suptitle(\"Empirical P-Values for Disease Cluster\", fontsize=16)\n",
    "plot_df.pivot(index='perc', columns='attribute', values='di').plot(ax=axes[0,0], title=\"Dunn Index\")\n",
    "plot_df.pivot(index='perc', columns='attribute', values='ss').plot(ax=axes[0,1], title=\"Silhouette Score\")\n",
    "plot_df.pivot(index='perc', columns='attribute', values='dbi').plot(ax=axes[1,0], title=\"Davies Bouldin Index\")\n",
    "#plot_df[plot_df[\"attribute\"]==\"pathway.kegg\"].set_index('perc')[[\"di\", \"ss\", \"dbi\"]].plot(ax=axes[1,1], title=\"pathway.kegg\")\n"
   ]
  },
  {
   "cell_type": "code",
   "execution_count": 102,
   "metadata": {},
   "outputs": [],
   "source": [
    "tar_set = \"input/target_disease_set.txt\"\n",
    "tar_id_type = \"ICD-10\"\n",
    "mode = \"set\"\n",
    "out_dir = \"results/\"\n",
    "runs = 1000\n",
    "perc = [10, 20, 30, 40, 50, 60, 70, 80, 90, 100]"
   ]
  },
  {
   "cell_type": "code",
   "execution_count": 103,
   "metadata": {},
   "outputs": [
    {
     "name": "stdout",
     "output_type": "stream",
     "text": [
      "[00:00:00|2989.54MB] Starting validation ...\n",
      "[00:00:02|2989.59MB] Load distances for input into cache ...\n",
      "[00:01:15|3015.94MB] Finished validation\n",
      "[00:00:00|3015.94MB] Starting validation ...\n",
      "[00:00:03|3016.20MB] Load distances for input into cache ...\n",
      "[00:01:18|3016.98MB] Finished validation\n",
      "[00:00:00|3016.98MB] Starting validation ...\n",
      "[00:00:02|3016.98MB] Load distances for input into cache ...\n",
      "[00:01:16|3017.23MB] Finished validation\n",
      "[00:00:00|3017.23MB] Starting validation ...\n",
      "[00:00:02|3007.82MB] Load distances for input into cache ...\n",
      "[00:01:10|3007.88MB] Finished validation\n",
      "[00:00:00|3007.88MB] Starting validation ...\n",
      "[00:00:01|3009.23MB] Load distances for input into cache ...\n",
      "[00:01:03|2942.51MB] Finished validation\n",
      "[00:00:00|2942.51MB] Starting validation ...\n",
      "[00:00:02|2979.23MB] Load distances for input into cache ...\n",
      "[00:01:01|2979.30MB] Finished validation\n",
      "[00:00:00|2979.30MB] Starting validation ...\n",
      "[00:00:03|2981.77MB] Load distances for input into cache ...\n",
      "[00:01:02|2981.80MB] Finished validation\n",
      "[00:00:00|2981.80MB] Starting validation ...\n",
      "[00:00:02|2981.80MB] Load distances for input into cache ...\n",
      "[00:00:58|2981.80MB] Finished validation\n",
      "[00:00:00|2981.80MB] Starting validation ...\n",
      "[00:00:04|2980.55MB] Load distances for input into cache ...\n",
      "[00:00:58|2980.55MB] Finished validation\n",
      "[00:00:00|2980.55MB] Starting validation ...\n",
      "[00:00:02|2980.55MB] Load distances for input into cache ...\n",
      "[00:00:51|2980.55MB] Finished validation\n"
     ]
    }
   ],
   "source": [
    "results4 = dict()\n",
    "for cur_perc in perc:\n",
    "    single_validation(tar=tar_set, tar_id=tar_id_type, mode=mode, out_dir=out_dir, runs=runs, replace=cur_perc)\n",
    "    with open(out_dir+'digest_'+mode+'_result.json', 'r') as f:\n",
    "        results4[str(cur_perc)] = json.load(f)"
   ]
  },
  {
   "cell_type": "code",
   "execution_count": 132,
   "metadata": {},
   "outputs": [],
   "source": [
    "plot_df = pd.DataFrame(columns=[\"attribute\",\"p_values\",\"perc\"])\n",
    "for cur_perc in perc:\n",
    "    df = pd.DataFrame.from_dict(results4[str(cur_perc)])\n",
    "    df[\"perc\"] = str(cur_perc)\n",
    "    df = df.rename_axis('attribute').reset_index()\n",
    "    plot_df = pd.concat([plot_df, df])\n",
    "    plot_df = plot_df[[\"attribute\",\"p_values\",\"perc\"]]"
   ]
  },
  {
   "cell_type": "code",
   "execution_count": 133,
   "metadata": {},
   "outputs": [
    {
     "data": {
      "text/html": [
       "<div>\n",
       "<style scoped>\n",
       "    .dataframe tbody tr th:only-of-type {\n",
       "        vertical-align: middle;\n",
       "    }\n",
       "\n",
       "    .dataframe tbody tr th {\n",
       "        vertical-align: top;\n",
       "    }\n",
       "\n",
       "    .dataframe thead th {\n",
       "        text-align: right;\n",
       "    }\n",
       "</style>\n",
       "<table border=\"1\" class=\"dataframe\">\n",
       "  <thead>\n",
       "    <tr style=\"text-align: right;\">\n",
       "      <th></th>\n",
       "      <th>attribute</th>\n",
       "      <th>p_values</th>\n",
       "      <th>perc</th>\n",
       "    </tr>\n",
       "  </thead>\n",
       "  <tbody>\n",
       "    <tr>\n",
       "      <th>0</th>\n",
       "      <td>disgenet.genes_related_to_disease</td>\n",
       "      <td>1.000000</td>\n",
       "      <td>10</td>\n",
       "    </tr>\n",
       "    <tr>\n",
       "      <th>1</th>\n",
       "      <td>disgenet.variants_related_to_disease</td>\n",
       "      <td>1.000000</td>\n",
       "      <td>10</td>\n",
       "    </tr>\n",
       "    <tr>\n",
       "      <th>2</th>\n",
       "      <td>ctd.pathway_related_to_disease</td>\n",
       "      <td>0.997003</td>\n",
       "      <td>10</td>\n",
       "    </tr>\n",
       "    <tr>\n",
       "      <th>0</th>\n",
       "      <td>disgenet.genes_related_to_disease</td>\n",
       "      <td>1.000000</td>\n",
       "      <td>20</td>\n",
       "    </tr>\n",
       "    <tr>\n",
       "      <th>1</th>\n",
       "      <td>disgenet.variants_related_to_disease</td>\n",
       "      <td>1.000000</td>\n",
       "      <td>20</td>\n",
       "    </tr>\n",
       "    <tr>\n",
       "      <th>2</th>\n",
       "      <td>ctd.pathway_related_to_disease</td>\n",
       "      <td>0.960040</td>\n",
       "      <td>20</td>\n",
       "    </tr>\n",
       "    <tr>\n",
       "      <th>0</th>\n",
       "      <td>disgenet.genes_related_to_disease</td>\n",
       "      <td>1.000000</td>\n",
       "      <td>30</td>\n",
       "    </tr>\n",
       "    <tr>\n",
       "      <th>1</th>\n",
       "      <td>disgenet.variants_related_to_disease</td>\n",
       "      <td>1.000000</td>\n",
       "      <td>30</td>\n",
       "    </tr>\n",
       "    <tr>\n",
       "      <th>2</th>\n",
       "      <td>ctd.pathway_related_to_disease</td>\n",
       "      <td>0.913087</td>\n",
       "      <td>30</td>\n",
       "    </tr>\n",
       "    <tr>\n",
       "      <th>0</th>\n",
       "      <td>disgenet.genes_related_to_disease</td>\n",
       "      <td>1.000000</td>\n",
       "      <td>40</td>\n",
       "    </tr>\n",
       "    <tr>\n",
       "      <th>1</th>\n",
       "      <td>disgenet.variants_related_to_disease</td>\n",
       "      <td>1.000000</td>\n",
       "      <td>40</td>\n",
       "    </tr>\n",
       "    <tr>\n",
       "      <th>2</th>\n",
       "      <td>ctd.pathway_related_to_disease</td>\n",
       "      <td>0.873127</td>\n",
       "      <td>40</td>\n",
       "    </tr>\n",
       "    <tr>\n",
       "      <th>0</th>\n",
       "      <td>disgenet.genes_related_to_disease</td>\n",
       "      <td>1.000000</td>\n",
       "      <td>50</td>\n",
       "    </tr>\n",
       "    <tr>\n",
       "      <th>1</th>\n",
       "      <td>disgenet.variants_related_to_disease</td>\n",
       "      <td>1.000000</td>\n",
       "      <td>50</td>\n",
       "    </tr>\n",
       "    <tr>\n",
       "      <th>2</th>\n",
       "      <td>ctd.pathway_related_to_disease</td>\n",
       "      <td>0.824176</td>\n",
       "      <td>50</td>\n",
       "    </tr>\n",
       "    <tr>\n",
       "      <th>0</th>\n",
       "      <td>disgenet.genes_related_to_disease</td>\n",
       "      <td>1.000000</td>\n",
       "      <td>60</td>\n",
       "    </tr>\n",
       "    <tr>\n",
       "      <th>1</th>\n",
       "      <td>disgenet.variants_related_to_disease</td>\n",
       "      <td>1.000000</td>\n",
       "      <td>60</td>\n",
       "    </tr>\n",
       "    <tr>\n",
       "      <th>2</th>\n",
       "      <td>ctd.pathway_related_to_disease</td>\n",
       "      <td>0.841159</td>\n",
       "      <td>60</td>\n",
       "    </tr>\n",
       "    <tr>\n",
       "      <th>0</th>\n",
       "      <td>disgenet.genes_related_to_disease</td>\n",
       "      <td>1.000000</td>\n",
       "      <td>70</td>\n",
       "    </tr>\n",
       "    <tr>\n",
       "      <th>1</th>\n",
       "      <td>disgenet.variants_related_to_disease</td>\n",
       "      <td>1.000000</td>\n",
       "      <td>70</td>\n",
       "    </tr>\n",
       "    <tr>\n",
       "      <th>2</th>\n",
       "      <td>ctd.pathway_related_to_disease</td>\n",
       "      <td>0.848152</td>\n",
       "      <td>70</td>\n",
       "    </tr>\n",
       "    <tr>\n",
       "      <th>0</th>\n",
       "      <td>disgenet.genes_related_to_disease</td>\n",
       "      <td>1.000000</td>\n",
       "      <td>80</td>\n",
       "    </tr>\n",
       "    <tr>\n",
       "      <th>1</th>\n",
       "      <td>disgenet.variants_related_to_disease</td>\n",
       "      <td>1.000000</td>\n",
       "      <td>80</td>\n",
       "    </tr>\n",
       "    <tr>\n",
       "      <th>2</th>\n",
       "      <td>ctd.pathway_related_to_disease</td>\n",
       "      <td>0.927073</td>\n",
       "      <td>80</td>\n",
       "    </tr>\n",
       "    <tr>\n",
       "      <th>0</th>\n",
       "      <td>disgenet.genes_related_to_disease</td>\n",
       "      <td>1.000000</td>\n",
       "      <td>90</td>\n",
       "    </tr>\n",
       "    <tr>\n",
       "      <th>1</th>\n",
       "      <td>disgenet.variants_related_to_disease</td>\n",
       "      <td>1.000000</td>\n",
       "      <td>90</td>\n",
       "    </tr>\n",
       "    <tr>\n",
       "      <th>2</th>\n",
       "      <td>ctd.pathway_related_to_disease</td>\n",
       "      <td>0.955045</td>\n",
       "      <td>90</td>\n",
       "    </tr>\n",
       "    <tr>\n",
       "      <th>0</th>\n",
       "      <td>disgenet.genes_related_to_disease</td>\n",
       "      <td>1.000000</td>\n",
       "      <td>100</td>\n",
       "    </tr>\n",
       "    <tr>\n",
       "      <th>1</th>\n",
       "      <td>disgenet.variants_related_to_disease</td>\n",
       "      <td>1.000000</td>\n",
       "      <td>100</td>\n",
       "    </tr>\n",
       "    <tr>\n",
       "      <th>2</th>\n",
       "      <td>ctd.pathway_related_to_disease</td>\n",
       "      <td>0.992008</td>\n",
       "      <td>100</td>\n",
       "    </tr>\n",
       "  </tbody>\n",
       "</table>\n",
       "</div>"
      ],
      "text/plain": [
       "                              attribute  p_values perc\n",
       "0     disgenet.genes_related_to_disease  1.000000   10\n",
       "1  disgenet.variants_related_to_disease  1.000000   10\n",
       "2        ctd.pathway_related_to_disease  0.997003   10\n",
       "0     disgenet.genes_related_to_disease  1.000000   20\n",
       "1  disgenet.variants_related_to_disease  1.000000   20\n",
       "2        ctd.pathway_related_to_disease  0.960040   20\n",
       "0     disgenet.genes_related_to_disease  1.000000   30\n",
       "1  disgenet.variants_related_to_disease  1.000000   30\n",
       "2        ctd.pathway_related_to_disease  0.913087   30\n",
       "0     disgenet.genes_related_to_disease  1.000000   40\n",
       "1  disgenet.variants_related_to_disease  1.000000   40\n",
       "2        ctd.pathway_related_to_disease  0.873127   40\n",
       "0     disgenet.genes_related_to_disease  1.000000   50\n",
       "1  disgenet.variants_related_to_disease  1.000000   50\n",
       "2        ctd.pathway_related_to_disease  0.824176   50\n",
       "0     disgenet.genes_related_to_disease  1.000000   60\n",
       "1  disgenet.variants_related_to_disease  1.000000   60\n",
       "2        ctd.pathway_related_to_disease  0.841159   60\n",
       "0     disgenet.genes_related_to_disease  1.000000   70\n",
       "1  disgenet.variants_related_to_disease  1.000000   70\n",
       "2        ctd.pathway_related_to_disease  0.848152   70\n",
       "0     disgenet.genes_related_to_disease  1.000000   80\n",
       "1  disgenet.variants_related_to_disease  1.000000   80\n",
       "2        ctd.pathway_related_to_disease  0.927073   80\n",
       "0     disgenet.genes_related_to_disease  1.000000   90\n",
       "1  disgenet.variants_related_to_disease  1.000000   90\n",
       "2        ctd.pathway_related_to_disease  0.955045   90\n",
       "0     disgenet.genes_related_to_disease  1.000000  100\n",
       "1  disgenet.variants_related_to_disease  1.000000  100\n",
       "2        ctd.pathway_related_to_disease  0.992008  100"
      ]
     },
     "execution_count": 133,
     "metadata": {},
     "output_type": "execute_result"
    }
   ],
   "source": [
    "plot_df"
   ]
  },
  {
   "cell_type": "code",
   "execution_count": 129,
   "metadata": {},
   "outputs": [
    {
     "data": {
      "text/html": [
       "<div>\n",
       "<style scoped>\n",
       "    .dataframe tbody tr th:only-of-type {\n",
       "        vertical-align: middle;\n",
       "    }\n",
       "\n",
       "    .dataframe tbody tr th {\n",
       "        vertical-align: top;\n",
       "    }\n",
       "\n",
       "    .dataframe thead th {\n",
       "        text-align: right;\n",
       "    }\n",
       "</style>\n",
       "<table border=\"1\" class=\"dataframe\">\n",
       "  <thead>\n",
       "    <tr style=\"text-align: right;\">\n",
       "      <th></th>\n",
       "      <th>input_values</th>\n",
       "      <th>p_values</th>\n",
       "    </tr>\n",
       "  </thead>\n",
       "  <tbody>\n",
       "    <tr>\n",
       "      <th>disgenet.genes_related_to_disease</th>\n",
       "      <td>7.732428</td>\n",
       "      <td>1.000000</td>\n",
       "    </tr>\n",
       "    <tr>\n",
       "      <th>disgenet.variants_related_to_disease</th>\n",
       "      <td>4.412785</td>\n",
       "      <td>1.000000</td>\n",
       "    </tr>\n",
       "    <tr>\n",
       "      <th>ctd.pathway_related_to_disease</th>\n",
       "      <td>1.003546</td>\n",
       "      <td>0.997003</td>\n",
       "    </tr>\n",
       "  </tbody>\n",
       "</table>\n",
       "</div>"
      ],
      "text/plain": [
       "                                      input_values  p_values\n",
       "disgenet.genes_related_to_disease         7.732428  1.000000\n",
       "disgenet.variants_related_to_disease      4.412785  1.000000\n",
       "ctd.pathway_related_to_disease            1.003546  0.997003"
      ]
     },
     "execution_count": 129,
     "metadata": {},
     "output_type": "execute_result"
    }
   ],
   "source": [
    "pd.DataFrame(results4[\"10\"])"
   ]
  },
  {
   "cell_type": "code",
   "execution_count": 105,
   "metadata": {},
   "outputs": [
    {
     "data": {
      "text/html": [
       "<div>\n",
       "<style scoped>\n",
       "    .dataframe tbody tr th:only-of-type {\n",
       "        vertical-align: middle;\n",
       "    }\n",
       "\n",
       "    .dataframe tbody tr th {\n",
       "        vertical-align: top;\n",
       "    }\n",
       "\n",
       "    .dataframe thead th {\n",
       "        text-align: right;\n",
       "    }\n",
       "</style>\n",
       "<table border=\"1\" class=\"dataframe\">\n",
       "  <thead>\n",
       "    <tr style=\"text-align: right;\">\n",
       "      <th></th>\n",
       "      <th>attribute</th>\n",
       "      <th>di</th>\n",
       "      <th>ss</th>\n",
       "      <th>dbi</th>\n",
       "      <th>perc</th>\n",
       "    </tr>\n",
       "  </thead>\n",
       "  <tbody>\n",
       "    <tr>\n",
       "      <th>0</th>\n",
       "      <td>disgenet.genes_related_to_disease</td>\n",
       "      <td>0.238761</td>\n",
       "      <td>0.729271</td>\n",
       "      <td>0.984016</td>\n",
       "      <td>10</td>\n",
       "    </tr>\n",
       "    <tr>\n",
       "      <th>1</th>\n",
       "      <td>disgenet.variants_related_to_disease</td>\n",
       "      <td>0.195804</td>\n",
       "      <td>0.871129</td>\n",
       "      <td>0.984016</td>\n",
       "      <td>10</td>\n",
       "    </tr>\n",
       "    <tr>\n",
       "      <th>2</th>\n",
       "      <td>ctd.pathway_related_to_disease</td>\n",
       "      <td>0.441558</td>\n",
       "      <td>0.176823</td>\n",
       "      <td>0.742258</td>\n",
       "      <td>10</td>\n",
       "    </tr>\n",
       "    <tr>\n",
       "      <th>0</th>\n",
       "      <td>disgenet.genes_related_to_disease</td>\n",
       "      <td>0.252747</td>\n",
       "      <td>0.699301</td>\n",
       "      <td>0.985015</td>\n",
       "      <td>20</td>\n",
       "    </tr>\n",
       "    <tr>\n",
       "      <th>1</th>\n",
       "      <td>disgenet.variants_related_to_disease</td>\n",
       "      <td>0.208791</td>\n",
       "      <td>0.851149</td>\n",
       "      <td>0.979021</td>\n",
       "      <td>20</td>\n",
       "    </tr>\n",
       "    <tr>\n",
       "      <th>2</th>\n",
       "      <td>ctd.pathway_related_to_disease</td>\n",
       "      <td>0.474525</td>\n",
       "      <td>0.189810</td>\n",
       "      <td>0.719281</td>\n",
       "      <td>20</td>\n",
       "    </tr>\n",
       "    <tr>\n",
       "      <th>0</th>\n",
       "      <td>disgenet.genes_related_to_disease</td>\n",
       "      <td>0.262737</td>\n",
       "      <td>0.710290</td>\n",
       "      <td>0.989011</td>\n",
       "      <td>30</td>\n",
       "    </tr>\n",
       "    <tr>\n",
       "      <th>1</th>\n",
       "      <td>disgenet.variants_related_to_disease</td>\n",
       "      <td>0.218781</td>\n",
       "      <td>0.862138</td>\n",
       "      <td>0.984016</td>\n",
       "      <td>30</td>\n",
       "    </tr>\n",
       "    <tr>\n",
       "      <th>2</th>\n",
       "      <td>ctd.pathway_related_to_disease</td>\n",
       "      <td>0.470529</td>\n",
       "      <td>0.192807</td>\n",
       "      <td>0.703297</td>\n",
       "      <td>30</td>\n",
       "    </tr>\n",
       "    <tr>\n",
       "      <th>0</th>\n",
       "      <td>disgenet.genes_related_to_disease</td>\n",
       "      <td>0.237762</td>\n",
       "      <td>0.702298</td>\n",
       "      <td>0.985015</td>\n",
       "      <td>40</td>\n",
       "    </tr>\n",
       "    <tr>\n",
       "      <th>1</th>\n",
       "      <td>disgenet.variants_related_to_disease</td>\n",
       "      <td>0.218781</td>\n",
       "      <td>0.868132</td>\n",
       "      <td>0.985015</td>\n",
       "      <td>40</td>\n",
       "    </tr>\n",
       "    <tr>\n",
       "      <th>2</th>\n",
       "      <td>ctd.pathway_related_to_disease</td>\n",
       "      <td>0.471528</td>\n",
       "      <td>0.201798</td>\n",
       "      <td>0.701299</td>\n",
       "      <td>40</td>\n",
       "    </tr>\n",
       "    <tr>\n",
       "      <th>0</th>\n",
       "      <td>disgenet.genes_related_to_disease</td>\n",
       "      <td>0.249750</td>\n",
       "      <td>0.721279</td>\n",
       "      <td>0.976024</td>\n",
       "      <td>50</td>\n",
       "    </tr>\n",
       "    <tr>\n",
       "      <th>1</th>\n",
       "      <td>disgenet.variants_related_to_disease</td>\n",
       "      <td>0.226773</td>\n",
       "      <td>0.895105</td>\n",
       "      <td>0.981019</td>\n",
       "      <td>50</td>\n",
       "    </tr>\n",
       "    <tr>\n",
       "      <th>2</th>\n",
       "      <td>ctd.pathway_related_to_disease</td>\n",
       "      <td>0.441558</td>\n",
       "      <td>0.175824</td>\n",
       "      <td>0.706294</td>\n",
       "      <td>50</td>\n",
       "    </tr>\n",
       "    <tr>\n",
       "      <th>0</th>\n",
       "      <td>disgenet.genes_related_to_disease</td>\n",
       "      <td>0.250749</td>\n",
       "      <td>0.710290</td>\n",
       "      <td>0.983017</td>\n",
       "      <td>60</td>\n",
       "    </tr>\n",
       "    <tr>\n",
       "      <th>1</th>\n",
       "      <td>disgenet.variants_related_to_disease</td>\n",
       "      <td>0.208791</td>\n",
       "      <td>0.866134</td>\n",
       "      <td>0.984016</td>\n",
       "      <td>60</td>\n",
       "    </tr>\n",
       "    <tr>\n",
       "      <th>2</th>\n",
       "      <td>ctd.pathway_related_to_disease</td>\n",
       "      <td>0.464535</td>\n",
       "      <td>0.174825</td>\n",
       "      <td>0.724276</td>\n",
       "      <td>60</td>\n",
       "    </tr>\n",
       "    <tr>\n",
       "      <th>0</th>\n",
       "      <td>disgenet.genes_related_to_disease</td>\n",
       "      <td>0.232767</td>\n",
       "      <td>0.686314</td>\n",
       "      <td>0.978022</td>\n",
       "      <td>70</td>\n",
       "    </tr>\n",
       "    <tr>\n",
       "      <th>1</th>\n",
       "      <td>disgenet.variants_related_to_disease</td>\n",
       "      <td>0.208791</td>\n",
       "      <td>0.868132</td>\n",
       "      <td>0.980020</td>\n",
       "      <td>70</td>\n",
       "    </tr>\n",
       "    <tr>\n",
       "      <th>2</th>\n",
       "      <td>ctd.pathway_related_to_disease</td>\n",
       "      <td>0.433566</td>\n",
       "      <td>0.188811</td>\n",
       "      <td>0.700300</td>\n",
       "      <td>70</td>\n",
       "    </tr>\n",
       "    <tr>\n",
       "      <th>0</th>\n",
       "      <td>disgenet.genes_related_to_disease</td>\n",
       "      <td>0.229770</td>\n",
       "      <td>0.710290</td>\n",
       "      <td>0.989011</td>\n",
       "      <td>80</td>\n",
       "    </tr>\n",
       "    <tr>\n",
       "      <th>1</th>\n",
       "      <td>disgenet.variants_related_to_disease</td>\n",
       "      <td>0.192807</td>\n",
       "      <td>0.865135</td>\n",
       "      <td>0.980020</td>\n",
       "      <td>80</td>\n",
       "    </tr>\n",
       "    <tr>\n",
       "      <th>2</th>\n",
       "      <td>ctd.pathway_related_to_disease</td>\n",
       "      <td>0.425574</td>\n",
       "      <td>0.189810</td>\n",
       "      <td>0.749251</td>\n",
       "      <td>80</td>\n",
       "    </tr>\n",
       "    <tr>\n",
       "      <th>0</th>\n",
       "      <td>disgenet.genes_related_to_disease</td>\n",
       "      <td>0.250749</td>\n",
       "      <td>0.705295</td>\n",
       "      <td>0.986014</td>\n",
       "      <td>90</td>\n",
       "    </tr>\n",
       "    <tr>\n",
       "      <th>1</th>\n",
       "      <td>disgenet.variants_related_to_disease</td>\n",
       "      <td>0.195804</td>\n",
       "      <td>0.858142</td>\n",
       "      <td>0.991009</td>\n",
       "      <td>90</td>\n",
       "    </tr>\n",
       "    <tr>\n",
       "      <th>2</th>\n",
       "      <td>ctd.pathway_related_to_disease</td>\n",
       "      <td>0.442557</td>\n",
       "      <td>0.169830</td>\n",
       "      <td>0.727273</td>\n",
       "      <td>90</td>\n",
       "    </tr>\n",
       "    <tr>\n",
       "      <th>0</th>\n",
       "      <td>disgenet.genes_related_to_disease</td>\n",
       "      <td>0.267732</td>\n",
       "      <td>0.737263</td>\n",
       "      <td>0.986014</td>\n",
       "      <td>100</td>\n",
       "    </tr>\n",
       "    <tr>\n",
       "      <th>1</th>\n",
       "      <td>disgenet.variants_related_to_disease</td>\n",
       "      <td>0.218781</td>\n",
       "      <td>0.853147</td>\n",
       "      <td>0.983017</td>\n",
       "      <td>100</td>\n",
       "    </tr>\n",
       "    <tr>\n",
       "      <th>2</th>\n",
       "      <td>ctd.pathway_related_to_disease</td>\n",
       "      <td>0.440559</td>\n",
       "      <td>0.214785</td>\n",
       "      <td>0.706294</td>\n",
       "      <td>100</td>\n",
       "    </tr>\n",
       "  </tbody>\n",
       "</table>\n",
       "</div>"
      ],
      "text/plain": [
       "                              attribute        di        ss       dbi perc\n",
       "0     disgenet.genes_related_to_disease  0.238761  0.729271  0.984016   10\n",
       "1  disgenet.variants_related_to_disease  0.195804  0.871129  0.984016   10\n",
       "2        ctd.pathway_related_to_disease  0.441558  0.176823  0.742258   10\n",
       "0     disgenet.genes_related_to_disease  0.252747  0.699301  0.985015   20\n",
       "1  disgenet.variants_related_to_disease  0.208791  0.851149  0.979021   20\n",
       "2        ctd.pathway_related_to_disease  0.474525  0.189810  0.719281   20\n",
       "0     disgenet.genes_related_to_disease  0.262737  0.710290  0.989011   30\n",
       "1  disgenet.variants_related_to_disease  0.218781  0.862138  0.984016   30\n",
       "2        ctd.pathway_related_to_disease  0.470529  0.192807  0.703297   30\n",
       "0     disgenet.genes_related_to_disease  0.237762  0.702298  0.985015   40\n",
       "1  disgenet.variants_related_to_disease  0.218781  0.868132  0.985015   40\n",
       "2        ctd.pathway_related_to_disease  0.471528  0.201798  0.701299   40\n",
       "0     disgenet.genes_related_to_disease  0.249750  0.721279  0.976024   50\n",
       "1  disgenet.variants_related_to_disease  0.226773  0.895105  0.981019   50\n",
       "2        ctd.pathway_related_to_disease  0.441558  0.175824  0.706294   50\n",
       "0     disgenet.genes_related_to_disease  0.250749  0.710290  0.983017   60\n",
       "1  disgenet.variants_related_to_disease  0.208791  0.866134  0.984016   60\n",
       "2        ctd.pathway_related_to_disease  0.464535  0.174825  0.724276   60\n",
       "0     disgenet.genes_related_to_disease  0.232767  0.686314  0.978022   70\n",
       "1  disgenet.variants_related_to_disease  0.208791  0.868132  0.980020   70\n",
       "2        ctd.pathway_related_to_disease  0.433566  0.188811  0.700300   70\n",
       "0     disgenet.genes_related_to_disease  0.229770  0.710290  0.989011   80\n",
       "1  disgenet.variants_related_to_disease  0.192807  0.865135  0.980020   80\n",
       "2        ctd.pathway_related_to_disease  0.425574  0.189810  0.749251   80\n",
       "0     disgenet.genes_related_to_disease  0.250749  0.705295  0.986014   90\n",
       "1  disgenet.variants_related_to_disease  0.195804  0.858142  0.991009   90\n",
       "2        ctd.pathway_related_to_disease  0.442557  0.169830  0.727273   90\n",
       "0     disgenet.genes_related_to_disease  0.267732  0.737263  0.986014  100\n",
       "1  disgenet.variants_related_to_disease  0.218781  0.853147  0.983017  100\n",
       "2        ctd.pathway_related_to_disease  0.440559  0.214785  0.706294  100"
      ]
     },
     "execution_count": 105,
     "metadata": {},
     "output_type": "execute_result"
    }
   ],
   "source": [
    "plot_df"
   ]
  },
  {
   "cell_type": "code",
   "execution_count": 114,
   "metadata": {},
   "outputs": [
    {
     "data": {
      "text/html": [
       "<div>\n",
       "<style scoped>\n",
       "    .dataframe tbody tr th:only-of-type {\n",
       "        vertical-align: middle;\n",
       "    }\n",
       "\n",
       "    .dataframe tbody tr th {\n",
       "        vertical-align: top;\n",
       "    }\n",
       "\n",
       "    .dataframe thead th {\n",
       "        text-align: right;\n",
       "    }\n",
       "</style>\n",
       "<table border=\"1\" class=\"dataframe\">\n",
       "  <thead>\n",
       "    <tr style=\"text-align: right;\">\n",
       "      <th></th>\n",
       "      <th>di</th>\n",
       "      <th>ss</th>\n",
       "      <th>dbi</th>\n",
       "    </tr>\n",
       "  </thead>\n",
       "  <tbody>\n",
       "    <tr>\n",
       "      <th>disgenet.genes_related_to_disease</th>\n",
       "      <td>0.007588</td>\n",
       "      <td>-0.530196</td>\n",
       "      <td>11.104390</td>\n",
       "    </tr>\n",
       "    <tr>\n",
       "      <th>disgenet.variants_related_to_disease</th>\n",
       "      <td>0.000000</td>\n",
       "      <td>-0.143566</td>\n",
       "      <td>17.226517</td>\n",
       "    </tr>\n",
       "    <tr>\n",
       "      <th>ctd.pathway_related_to_disease</th>\n",
       "      <td>0.073855</td>\n",
       "      <td>-0.840604</td>\n",
       "      <td>8.930695</td>\n",
       "    </tr>\n",
       "  </tbody>\n",
       "</table>\n",
       "</div>"
      ],
      "text/plain": [
       "                                            di        ss        dbi\n",
       "disgenet.genes_related_to_disease     0.007588 -0.530196  11.104390\n",
       "disgenet.variants_related_to_disease  0.000000 -0.143566  17.226517\n",
       "ctd.pathway_related_to_disease        0.073855 -0.840604   8.930695"
      ]
     },
     "execution_count": 114,
     "metadata": {},
     "output_type": "execute_result"
    }
   ],
   "source": [
    "pd.DataFrame(results2[\"10\"][\"input_values\"])[[\"di\",\"ss\", \"dbi\"]]"
   ]
  },
  {
   "cell_type": "code",
   "execution_count": 115,
   "metadata": {},
   "outputs": [
    {
     "data": {
      "text/html": [
       "<div>\n",
       "<style scoped>\n",
       "    .dataframe tbody tr th:only-of-type {\n",
       "        vertical-align: middle;\n",
       "    }\n",
       "\n",
       "    .dataframe tbody tr th {\n",
       "        vertical-align: top;\n",
       "    }\n",
       "\n",
       "    .dataframe thead th {\n",
       "        text-align: right;\n",
       "    }\n",
       "</style>\n",
       "<table border=\"1\" class=\"dataframe\">\n",
       "  <thead>\n",
       "    <tr style=\"text-align: right;\">\n",
       "      <th></th>\n",
       "      <th>disgenet.genes_related_to_disease</th>\n",
       "      <th>disgenet.variants_related_to_disease</th>\n",
       "      <th>ctd.pathway_related_to_disease</th>\n",
       "    </tr>\n",
       "  </thead>\n",
       "  <tbody>\n",
       "    <tr>\n",
       "      <th>0</th>\n",
       "      <td>-0.737127</td>\n",
       "      <td>-0.762287</td>\n",
       "      <td>-0.89707</td>\n",
       "    </tr>\n",
       "    <tr>\n",
       "      <th>2</th>\n",
       "      <td>-0.142857</td>\n",
       "      <td>1.000000</td>\n",
       "      <td>-0.22125</td>\n",
       "    </tr>\n",
       "    <tr>\n",
       "      <th>3</th>\n",
       "      <td>-0.158339</td>\n",
       "      <td>0.500000</td>\n",
       "      <td>NaN</td>\n",
       "    </tr>\n",
       "    <tr>\n",
       "      <th>4</th>\n",
       "      <td>-0.704035</td>\n",
       "      <td>0.064932</td>\n",
       "      <td>-1.00000</td>\n",
       "    </tr>\n",
       "    <tr>\n",
       "      <th>1</th>\n",
       "      <td>-0.763104</td>\n",
       "      <td>-0.308298</td>\n",
       "      <td>-1.00000</td>\n",
       "    </tr>\n",
       "  </tbody>\n",
       "</table>\n",
       "</div>"
      ],
      "text/plain": [
       "   disgenet.genes_related_to_disease  disgenet.variants_related_to_disease  \\\n",
       "0                          -0.737127                             -0.762287   \n",
       "2                          -0.142857                              1.000000   \n",
       "3                          -0.158339                              0.500000   \n",
       "4                          -0.704035                              0.064932   \n",
       "1                          -0.763104                             -0.308298   \n",
       "\n",
       "   ctd.pathway_related_to_disease  \n",
       "0                        -0.89707  \n",
       "2                        -0.22125  \n",
       "3                             NaN  \n",
       "4                        -1.00000  \n",
       "1                        -1.00000  "
      ]
     },
     "execution_count": 115,
     "metadata": {},
     "output_type": "execute_result"
    }
   ],
   "source": [
    "pd.DataFrame(results2[\"10\"][\"input_values\"][\"ss_inter\"])"
   ]
  },
  {
   "cell_type": "code",
   "execution_count": 116,
   "metadata": {},
   "outputs": [
    {
     "data": {
      "text/html": [
       "<div>\n",
       "<style scoped>\n",
       "    .dataframe tbody tr th:only-of-type {\n",
       "        vertical-align: middle;\n",
       "    }\n",
       "\n",
       "    .dataframe tbody tr th {\n",
       "        vertical-align: top;\n",
       "    }\n",
       "\n",
       "    .dataframe thead th {\n",
       "        text-align: right;\n",
       "    }\n",
       "</style>\n",
       "<table border=\"1\" class=\"dataframe\">\n",
       "  <thead>\n",
       "    <tr style=\"text-align: right;\">\n",
       "      <th></th>\n",
       "      <th>di</th>\n",
       "      <th>ss</th>\n",
       "      <th>dbi</th>\n",
       "    </tr>\n",
       "  </thead>\n",
       "  <tbody>\n",
       "    <tr>\n",
       "      <th>disgenet.genes_related_to_disease</th>\n",
       "      <td>0.011838</td>\n",
       "      <td>-0.779331</td>\n",
       "      <td>2.074301</td>\n",
       "    </tr>\n",
       "    <tr>\n",
       "      <th>disgenet.variants_related_to_disease</th>\n",
       "      <td>0.008442</td>\n",
       "      <td>-0.429921</td>\n",
       "      <td>12.037512</td>\n",
       "    </tr>\n",
       "    <tr>\n",
       "      <th>ctd.pathway_related_to_disease</th>\n",
       "      <td>0.040552</td>\n",
       "      <td>-0.648143</td>\n",
       "      <td>2.959916</td>\n",
       "    </tr>\n",
       "  </tbody>\n",
       "</table>\n",
       "</div>"
      ],
      "text/plain": [
       "                                            di        ss        dbi\n",
       "disgenet.genes_related_to_disease     0.011838 -0.779331   2.074301\n",
       "disgenet.variants_related_to_disease  0.008442 -0.429921  12.037512\n",
       "ctd.pathway_related_to_disease        0.040552 -0.648143   2.959916"
      ]
     },
     "execution_count": 116,
     "metadata": {},
     "output_type": "execute_result"
    }
   ],
   "source": [
    "pd.DataFrame(results3[\"10\"][\"input_values\"])[[\"di\",\"ss\", \"dbi\"]]"
   ]
  },
  {
   "cell_type": "code",
   "execution_count": 117,
   "metadata": {},
   "outputs": [
    {
     "data": {
      "text/html": [
       "<div>\n",
       "<style scoped>\n",
       "    .dataframe tbody tr th:only-of-type {\n",
       "        vertical-align: middle;\n",
       "    }\n",
       "\n",
       "    .dataframe tbody tr th {\n",
       "        vertical-align: top;\n",
       "    }\n",
       "\n",
       "    .dataframe thead th {\n",
       "        text-align: right;\n",
       "    }\n",
       "</style>\n",
       "<table border=\"1\" class=\"dataframe\">\n",
       "  <thead>\n",
       "    <tr style=\"text-align: right;\">\n",
       "      <th></th>\n",
       "      <th>disgenet.genes_related_to_disease</th>\n",
       "      <th>disgenet.variants_related_to_disease</th>\n",
       "      <th>ctd.pathway_related_to_disease</th>\n",
       "    </tr>\n",
       "  </thead>\n",
       "  <tbody>\n",
       "    <tr>\n",
       "      <th>3</th>\n",
       "      <td>-0.717310</td>\n",
       "      <td>0.333333</td>\n",
       "      <td>-0.509614</td>\n",
       "    </tr>\n",
       "    <tr>\n",
       "      <th>2</th>\n",
       "      <td>-0.759644</td>\n",
       "      <td>-0.574406</td>\n",
       "      <td>-0.638069</td>\n",
       "    </tr>\n",
       "    <tr>\n",
       "      <th>1</th>\n",
       "      <td>-0.744289</td>\n",
       "      <td>-0.500000</td>\n",
       "      <td>-0.874992</td>\n",
       "    </tr>\n",
       "    <tr>\n",
       "      <th>0</th>\n",
       "      <td>-0.977985</td>\n",
       "      <td>-0.666279</td>\n",
       "      <td>0.000000</td>\n",
       "    </tr>\n",
       "  </tbody>\n",
       "</table>\n",
       "</div>"
      ],
      "text/plain": [
       "   disgenet.genes_related_to_disease  disgenet.variants_related_to_disease  \\\n",
       "3                          -0.717310                              0.333333   \n",
       "2                          -0.759644                             -0.574406   \n",
       "1                          -0.744289                             -0.500000   \n",
       "0                          -0.977985                             -0.666279   \n",
       "\n",
       "   ctd.pathway_related_to_disease  \n",
       "3                       -0.509614  \n",
       "2                       -0.638069  \n",
       "1                       -0.874992  \n",
       "0                        0.000000  "
      ]
     },
     "execution_count": 117,
     "metadata": {},
     "output_type": "execute_result"
    }
   ],
   "source": [
    "pd.DataFrame(results3[\"10\"][\"input_values\"][\"ss_inter\"])"
   ]
  },
  {
   "cell_type": "code",
   "execution_count": 140,
   "metadata": {},
   "outputs": [
    {
     "data": {
      "text/plain": [
       "<AxesSubplot:title={'center':'Dunn Index'}, xlabel='perc'>"
      ]
     },
     "execution_count": 140,
     "metadata": {},
     "output_type": "execute_result"
    },
    {
     "data": {
      "image/png": "[encoded data removed]",
      "text/plain": [
       "<Figure size 432x288 with 1 Axes>"
      ]
     },
     "metadata": {
      "needs_background": "light"
     },
     "output_type": "display_data"
    }
   ],
   "source": [
    "plot_df.pivot(index='perc', columns='attribute', values='p_values').plot(title=\"Dunn Index\", ylim= (0,1))"
   ]
  },
  {
   "cell_type": "code",
   "execution_count": 146,
   "metadata": {},
   "outputs": [
    {
     "data": {
      "text/html": [
       "<div>\n",
       "<style scoped>\n",
       "    .dataframe tbody tr th:only-of-type {\n",
       "        vertical-align: middle;\n",
       "    }\n",
       "\n",
       "    .dataframe tbody tr th {\n",
       "        vertical-align: top;\n",
       "    }\n",
       "\n",
       "    .dataframe thead th {\n",
       "        text-align: right;\n",
       "    }\n",
       "</style>\n",
       "<table border=\"1\" class=\"dataframe\">\n",
       "  <thead>\n",
       "    <tr style=\"text-align: right;\">\n",
       "      <th></th>\n",
       "      <th>0</th>\n",
       "      <th>1</th>\n",
       "    </tr>\n",
       "  </thead>\n",
       "  <tbody>\n",
       "    <tr>\n",
       "      <th>0</th>\n",
       "      <td>disgenet.genes_related_to_disease</td>\n",
       "      <td>7.732428</td>\n",
       "    </tr>\n",
       "    <tr>\n",
       "      <th>1</th>\n",
       "      <td>disgenet.variants_related_to_disease</td>\n",
       "      <td>4.412785</td>\n",
       "    </tr>\n",
       "    <tr>\n",
       "      <th>2</th>\n",
       "      <td>ctd.pathway_related_to_disease</td>\n",
       "      <td>1.003546</td>\n",
       "    </tr>\n",
       "  </tbody>\n",
       "</table>\n",
       "</div>"
      ],
      "text/plain": [
       "                                      0         1\n",
       "0     disgenet.genes_related_to_disease  7.732428\n",
       "1  disgenet.variants_related_to_disease  4.412785\n",
       "2        ctd.pathway_related_to_disease  1.003546"
      ]
     },
     "execution_count": 146,
     "metadata": {},
     "output_type": "execute_result"
    }
   ],
   "source": [
    "pd.DataFrame(results4[\"10\"][\"input_values\"].items())"
   ]
  },
  {
   "cell_type": "code",
   "execution_count": 150,
   "metadata": {},
   "outputs": [],
   "source": [
    "import scipy.sparse as sp\n",
    "df = sp.load_npz(\"../mapping_files/disease_dist_rel_genes.npz\").tocsr()"
   ]
  },
  {
   "cell_type": "code",
   "execution_count": 156,
   "metadata": {},
   "outputs": [],
   "source": [
    "df = None"
   ]
  },
  {
   "cell_type": "code",
   "execution_count": 153,
   "metadata": {},
   "outputs": [
    {
     "ename": "AttributeError",
     "evalue": "a not found",
     "output_type": "error",
     "traceback": [
      "\u001b[0;31m---------------------------------------------------------------------------\u001b[0m",
      "\u001b[0;31mAttributeError\u001b[0m                            Traceback (most recent call last)",
      "\u001b[0;32m<ipython-input-153-3e97dacade5c>\u001b[0m in \u001b[0;36m<module>\u001b[0;34m\u001b[0m\n\u001b[0;32m----> 1\u001b[0;31m \u001b[0mdf\u001b[0m\u001b[0;34m.\u001b[0m\u001b[0ma\u001b[0m\u001b[0;34m\u001b[0m\u001b[0;34m\u001b[0m\u001b[0m\n\u001b[0m",
      "\u001b[0;32m~/.local/lib/python3.8/site-packages/scipy/sparse/base.py\u001b[0m in \u001b[0;36m__getattr__\u001b[0;34m(self, attr)\u001b[0m\n\u001b[1;32m    685\u001b[0m             \u001b[0;32mreturn\u001b[0m \u001b[0mself\u001b[0m\u001b[0;34m.\u001b[0m\u001b[0mgetnnz\u001b[0m\u001b[0;34m(\u001b[0m\u001b[0;34m)\u001b[0m\u001b[0;34m\u001b[0m\u001b[0;34m\u001b[0m\u001b[0m\n\u001b[1;32m    686\u001b[0m         \u001b[0;32melse\u001b[0m\u001b[0;34m:\u001b[0m\u001b[0;34m\u001b[0m\u001b[0;34m\u001b[0m\u001b[0m\n\u001b[0;32m--> 687\u001b[0;31m             \u001b[0;32mraise\u001b[0m \u001b[0mAttributeError\u001b[0m\u001b[0;34m(\u001b[0m\u001b[0mattr\u001b[0m \u001b[0;34m+\u001b[0m \u001b[0;34m\" not found\"\u001b[0m\u001b[0;34m)\u001b[0m\u001b[0;34m\u001b[0m\u001b[0;34m\u001b[0m\u001b[0m\n\u001b[0m\u001b[1;32m    688\u001b[0m \u001b[0;34m\u001b[0m\u001b[0m\n\u001b[1;32m    689\u001b[0m     \u001b[0;32mdef\u001b[0m \u001b[0mtranspose\u001b[0m\u001b[0;34m(\u001b[0m\u001b[0mself\u001b[0m\u001b[0;34m,\u001b[0m \u001b[0maxes\u001b[0m\u001b[0;34m=\u001b[0m\u001b[0;32mNone\u001b[0m\u001b[0;34m,\u001b[0m \u001b[0mcopy\u001b[0m\u001b[0;34m=\u001b[0m\u001b[0;32mFalse\u001b[0m\u001b[0;34m)\u001b[0m\u001b[0;34m:\u001b[0m\u001b[0;34m\u001b[0m\u001b[0;34m\u001b[0m\u001b[0m\n",
      "\u001b[0;31mAttributeError\u001b[0m: a not found"
     ]
    }
   ],
   "source": []
  },
  {
   "cell_type": "code",
   "execution_count": null,
   "metadata": {},
   "outputs": [],
   "source": []
  }
 ],
 "metadata": {
  "kernelspec": {
   "display_name": "Python 3",
   "language": "python",
   "name": "python3"
  },
  "language_info": {
   "codemirror_mode": {
    "name": "ipython",
    "version": 3
   },
   "file_extension": ".py",
   "mimetype": "text/x-python",
   "name": "python",
   "nbconvert_exporter": "python",
   "pygments_lexer": "ipython3",
   "version": "3.8.10"
  }
 },
 "nbformat": 4,
 "nbformat_minor": 4
}
