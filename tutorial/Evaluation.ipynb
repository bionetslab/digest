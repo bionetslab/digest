{
 "cells": [
  {
   "cell_type": "markdown",
   "metadata": {},
   "source": [
    "# Evaluation using DIGEST"
   ]
  },
  {
   "cell_type": "markdown",
   "metadata": {},
   "source": [
    "## Setup"
   ]
  },
  {
   "cell_type": "code",
   "execution_count": 19,
   "metadata": {},
   "outputs": [],
   "source": [
    "import os\n",
    "import sys\n",
    "import json\n",
    "import math\n",
    "import pandas as pd\n",
    "import seaborn as sns\n",
    "from matplotlib import pyplot as plt\n",
    "# ==== import single validation script ====\n",
    "from pathlib import Path\n",
    "sys.path.append(str(Path.cwd().parent))\n",
    "from single_validation import single_validation"
   ]
  },
  {
   "cell_type": "markdown",
   "metadata": {},
   "source": [
    "## Cluster itself"
   ]
  },
  {
   "cell_type": "markdown",
   "metadata": {},
   "source": [
    "Compare a target cluster of diseases based on dunn index and sillhouette score, while the random runs are simply cluster size preserving perturbation of cluster assignments."
   ]
  },
  {
   "cell_type": "markdown",
   "metadata": {},
   "source": [
    "## Gene Cluster"
   ]
  },
  {
   "cell_type": "markdown",
   "metadata": {},
   "source": [
    "### Cluster input parameters"
   ]
  },
  {
   "cell_type": "code",
   "execution_count": 13,
   "metadata": {},
   "outputs": [],
   "source": [
    "tar_set = \"input/gene_cluster.txt\"\n",
    "tar_id_type = \"symbol\"\n",
    "mode = \"cluster\"\n",
    "out_dir = \"results/\"\n",
    "runs = 1000\n",
    "perc = 100\n",
    "background_model=\"complete\""
   ]
  },
  {
   "cell_type": "markdown",
   "metadata": {},
   "source": [
    "### Run script"
   ]
  },
  {
   "cell_type": "code",
   "execution_count": 14,
   "metadata": {},
   "outputs": [
    {
     "name": "stdout",
     "output_type": "stream",
     "text": [
      "[00:00:00|843.59MB] Starting validation ...\n",
      "[00:00:00|843.59MB] Load mappings for input into cache ...\n",
      "[00:00:01|830.97MB] Load distances for input into cache ...\n",
      "[00:00:10|2630.47MB] Load input data ...\n",
      "[00:00:10|2630.47MB] Validation of input ...\n",
      "Missing values for pathway.kegg :9/20\n",
      "[00:00:11|2630.98MB] Validation of random runs ...\n",
      "[00:04:54|2632.26MB] Save files\n",
      "[00:04:54|2632.26MB] Finished validation\n"
     ]
    }
   ],
   "source": [
    "single_validation(tar=tar_set, tar_id=tar_id_type, mode=mode, out_dir=out_dir, runs=runs, replace=perc, verbose=True)\n",
    "with open(out_dir+'digest_'+mode+'_result.json', 'r') as f:\n",
    "    results = json.load(f)"
   ]
  },
  {
   "cell_type": "markdown",
   "metadata": {},
   "source": [
    "### Inspect results"
   ]
  },
  {
   "cell_type": "code",
   "execution_count": 4,
   "metadata": {},
   "outputs": [
    {
     "data": {
      "text/html": [
       "<div>\n",
       "<style scoped>\n",
       "    .dataframe tbody tr th:only-of-type {\n",
       "        vertical-align: middle;\n",
       "    }\n",
       "\n",
       "    .dataframe tbody tr th {\n",
       "        vertical-align: top;\n",
       "    }\n",
       "\n",
       "    .dataframe thead th {\n",
       "        text-align: right;\n",
       "    }\n",
       "</style>\n",
       "<table border=\"1\" class=\"dataframe\">\n",
       "  <thead>\n",
       "    <tr style=\"text-align: right;\">\n",
       "      <th></th>\n",
       "      <th>di</th>\n",
       "      <th>ss</th>\n",
       "      <th>dbi</th>\n",
       "    </tr>\n",
       "  </thead>\n",
       "  <tbody>\n",
       "    <tr>\n",
       "      <th>go.BP</th>\n",
       "      <td>0.119880</td>\n",
       "      <td>0.10989</td>\n",
       "      <td>0.016983</td>\n",
       "    </tr>\n",
       "    <tr>\n",
       "      <th>go.CC</th>\n",
       "      <td>0.247752</td>\n",
       "      <td>1.00000</td>\n",
       "      <td>0.780220</td>\n",
       "    </tr>\n",
       "    <tr>\n",
       "      <th>go.MF</th>\n",
       "      <td>0.321678</td>\n",
       "      <td>1.00000</td>\n",
       "      <td>0.244755</td>\n",
       "    </tr>\n",
       "    <tr>\n",
       "      <th>pathway.kegg</th>\n",
       "      <td>0.031968</td>\n",
       "      <td>1.00000</td>\n",
       "      <td>0.964036</td>\n",
       "    </tr>\n",
       "  </tbody>\n",
       "</table>\n",
       "</div>"
      ],
      "text/plain": [
       "                    di       ss       dbi\n",
       "go.BP         0.119880  0.10989  0.016983\n",
       "go.CC         0.247752  1.00000  0.780220\n",
       "go.MF         0.321678  1.00000  0.244755\n",
       "pathway.kegg  0.031968  1.00000  0.964036"
      ]
     },
     "execution_count": 4,
     "metadata": {},
     "output_type": "execute_result"
    }
   ],
   "source": [
    "pd.DataFrame(results[\"p_values\"])"
   ]
  },
  {
   "cell_type": "code",
   "execution_count": 51,
   "metadata": {},
   "outputs": [
    {
     "data": {
      "text/html": [
       "<div>\n",
       "<style scoped>\n",
       "    .dataframe tbody tr th:only-of-type {\n",
       "        vertical-align: middle;\n",
       "    }\n",
       "\n",
       "    .dataframe tbody tr th {\n",
       "        vertical-align: top;\n",
       "    }\n",
       "\n",
       "    .dataframe thead th {\n",
       "        text-align: right;\n",
       "    }\n",
       "</style>\n",
       "<table border=\"1\" class=\"dataframe\">\n",
       "  <thead>\n",
       "    <tr style=\"text-align: right;\">\n",
       "      <th></th>\n",
       "      <th>di</th>\n",
       "      <th>ss</th>\n",
       "      <th>ss_inter</th>\n",
       "      <th>dbi</th>\n",
       "      <th>missing_ids</th>\n",
       "    </tr>\n",
       "  </thead>\n",
       "  <tbody>\n",
       "    <tr>\n",
       "      <th>go.BP</th>\n",
       "      <td>0.112353</td>\n",
       "      <td>-0.650000</td>\n",
       "      <td>{'0': -0.5555555555555556, '1': -0.72727272727...</td>\n",
       "      <td>0.125108</td>\n",
       "      <td>[SHC4, PGR, EGFR, TFF1, AGR2, ZIC1, S100A9, AR...</td>\n",
       "    </tr>\n",
       "    <tr>\n",
       "      <th>go.CC</th>\n",
       "      <td>0.162656</td>\n",
       "      <td>-1.000000</td>\n",
       "      <td>{'1': -1.0, '0': -1.0}</td>\n",
       "      <td>1.777019</td>\n",
       "      <td>[SHC4, PGR, EGFR, TFF1, AGR2, ZIC1, S100A9, AR...</td>\n",
       "    </tr>\n",
       "    <tr>\n",
       "      <th>go.MF</th>\n",
       "      <td>0.171909</td>\n",
       "      <td>-0.900000</td>\n",
       "      <td>{'0': -0.7777777777777778, '1': -1.0}</td>\n",
       "      <td>1.484198</td>\n",
       "      <td>[SHC4, PGR, EGFR, TFF1, AGR2, ZIC1, S100A9, AR...</td>\n",
       "    </tr>\n",
       "    <tr>\n",
       "      <th>pathway.kegg</th>\n",
       "      <td>0.101576</td>\n",
       "      <td>-0.909091</td>\n",
       "      <td>{'0': -0.75, '1': -1.0}</td>\n",
       "      <td>0.773883</td>\n",
       "      <td>[COL9A3, KRT16, SHC4, ESR1, PGR, EGFR, TFF1, S...</td>\n",
       "    </tr>\n",
       "  </tbody>\n",
       "</table>\n",
       "</div>"
      ],
      "text/plain": [
       "                    di        ss  \\\n",
       "go.BP         0.112353 -0.650000   \n",
       "go.CC         0.162656 -1.000000   \n",
       "go.MF         0.171909 -0.900000   \n",
       "pathway.kegg  0.101576 -0.909091   \n",
       "\n",
       "                                                       ss_inter       dbi  \\\n",
       "go.BP         {'0': -0.5555555555555556, '1': -0.72727272727...  0.125108   \n",
       "go.CC                                    {'1': -1.0, '0': -1.0}  1.777019   \n",
       "go.MF                     {'0': -0.7777777777777778, '1': -1.0}  1.484198   \n",
       "pathway.kegg                            {'0': -0.75, '1': -1.0}  0.773883   \n",
       "\n",
       "                                                    missing_ids  \n",
       "go.BP         [SHC4, PGR, EGFR, TFF1, AGR2, ZIC1, S100A9, AR...  \n",
       "go.CC         [SHC4, PGR, EGFR, TFF1, AGR2, ZIC1, S100A9, AR...  \n",
       "go.MF         [SHC4, PGR, EGFR, TFF1, AGR2, ZIC1, S100A9, AR...  \n",
       "pathway.kegg  [COL9A3, KRT16, SHC4, ESR1, PGR, EGFR, TFF1, S...  "
      ]
     },
     "execution_count": 51,
     "metadata": {},
     "output_type": "execute_result"
    }
   ],
   "source": [
    "pd.DataFrame(results[\"input_values\"])"
   ]
  },
  {
   "cell_type": "code",
   "execution_count": 42,
   "metadata": {},
   "outputs": [],
   "source": [
    "# prepare for scatterplot\n",
    "df = pd.DataFrame.from_dict(results[\"p_values\"])\n",
    "df = df.rename_axis('attribute').reset_index()\n",
    "df[\"log_di\"] = df[\"di\"].apply(lambda x: -math.log10(x))\n",
    "df = df.replace({\"go.BP\": \"GO.BP\", \"go.CC\": \"GO.CC\", \"go.MF\": \"GO.MF\", \"pathway.kegg\": \"KEGG\"})\n",
    "# prepare for mappibility plot\n",
    "in_put = pd.read_csv(tar_set, sep=\"\\t\", names=[\"id\",\"cluster\"])\n",
    "mapped_df = in_put.copy()\n",
    "for att in results[\"input_values\"][\"mapped_ids\"]:\n",
    "    mapped_df[att] = [1 if x in results[\"input_values\"][\"mapped_ids\"][att] else 0 for x in in_put[\"id\"]]\n",
    "mapped_df = mapped_df.groupby(\"cluster\", as_index = False).agg(sum).melt('cluster', var_name='att', value_name='count')\n",
    "mapped_df = mapped_df.replace({\"go.BP\": \"GO.BP\", \"go.CC\": \"GO.CC\", \"go.MF\": \"GO.MF\", \"pathway.kegg\": \"KEGG\"})\n",
    "cluster_sizes = in_put[\"cluster\"].value_counts().to_dict()\n",
    "mapped_df[\"fraction\"] = mapped_df.apply(lambda x: x['count']/cluster_sizes[x['cluster']], axis=1)"
   ]
  },
  {
   "cell_type": "code",
   "execution_count": 79,
   "metadata": {},
   "outputs": [
    {
     "data": {
      "image/png": "[encoded data removed]",
      "text/plain": [
       "<Figure size 432x720 with 2 Axes>"
      ]
     },
     "metadata": {
      "needs_background": "light"
     },
     "output_type": "display_data"
    }
   ],
   "source": [
    "fig, axes = plt.subplots(2, 1, figsize=(6,10))\n",
    "sns.scatterplot(x=df['attribute'], y=df['log_di'], s=150, ax=axes[0])\n",
    "axes[0].set(title=\"Dunn Index\", ylabel=\"-log10(p-value)\", xlabel=\"attribute \\n (a)\")\n",
    "axes[0].axhline(y=-math.log10(0.05), color=\"red\",linestyle='--')\n",
    "sns.barplot(x =\"att\", y = 'fraction', data = mapped_df, hue = \"cluster\", ax=axes[1])\n",
    "axes[1].set(title=\"Mappability of input\", xlabel=\"attribute \\n (b)\", ylabel=\"Fraction of genes with non-empty annotation sets\", ylim=(0, 1.1))\n",
    "for container in axes[1].containers:\n",
    "    axes[1].bar_label(container,  fmt='%.2f')\n",
    "fig.tight_layout() \n",
    "fig.savefig(\"mode_gene-cluster_overview.png\", bbox_inches='tight')"
   ]
  },
  {
   "cell_type": "code",
   "execution_count": null,
   "metadata": {},
   "outputs": [],
   "source": []
  },
  {
   "cell_type": "code",
   "execution_count": null,
   "metadata": {},
   "outputs": [],
   "source": []
  },
  {
   "cell_type": "code",
   "execution_count": null,
   "metadata": {},
   "outputs": [],
   "source": []
  },
  {
   "cell_type": "code",
   "execution_count": null,
   "metadata": {},
   "outputs": [],
   "source": [
    "inp = pd.read_csv(\"input/gene_cluster.txt\", sep=\"\\t\", names=[\"id\",\"cluster\"])\n",
    "to_ids = pd.read_csv(\"../mapping_files/gene_id_mapping.csv\")\n",
    "to_atts = pd.read_csv(\"../mapping_files/gene_att_mapping.csv\")\n",
    "hit = to_atts[to_atts[\"entrezgene\"].isin(to_ids[to_ids[\"symbol\"].isin(inp[\"id\"])][\"entrezgene\"])].reset_index(drop=True)\n",
    "hit = hit.merge(to_ids[to_ids[\"symbol\"].isin(inp[\"id\"])][[\"entrezgene\",\"symbol\"]]).merge(inp, left_on='symbol', right_on='id')"
   ]
  },
  {
   "cell_type": "code",
   "execution_count": null,
   "metadata": {},
   "outputs": [],
   "source": [
    "tmp = hit[[\"symbol\",\"cluster\", \"pathway.kegg\"]].fillna(\"\")\n",
    "tmp.sort_values([\"cluster\",\"pathway.kegg\"], ascending=[True, False])"
   ]
  },
  {
   "cell_type": "markdown",
   "metadata": {},
   "source": [
    "## Disease Cluster 1"
   ]
  },
  {
   "cell_type": "code",
   "execution_count": null,
   "metadata": {},
   "outputs": [],
   "source": [
    "tar_set = \"input/icd10_cluster.txt\"\n",
    "tar_id_type = \"ICD-10\"\n",
    "mode = \"cluster\"\n",
    "out_dir = \"results/\"\n",
    "runs = 1000\n",
    "perc = 100"
   ]
  },
  {
   "cell_type": "markdown",
   "metadata": {},
   "source": [
    "### Run script"
   ]
  },
  {
   "cell_type": "code",
   "execution_count": null,
   "metadata": {},
   "outputs": [],
   "source": [
    "single_validation(tar=tar_set, tar_id=tar_id_type, mode=mode, out_dir=out_dir, runs=runs, replace=perc, verbose=True)\n",
    "with open(out_dir+'digest_'+mode+'_result.json', 'r') as f:\n",
    "    results2 = json.load(f)"
   ]
  },
  {
   "cell_type": "markdown",
   "metadata": {},
   "source": [
    "## Set itself"
   ]
  },
  {
   "cell_type": "markdown",
   "metadata": {},
   "source": [
    "Compare a target set in itself."
   ]
  },
  {
   "cell_type": "markdown",
   "metadata": {},
   "source": [
    "## Disease Set"
   ]
  },
  {
   "cell_type": "markdown",
   "metadata": {},
   "source": [
    "### Set input parameters"
   ]
  },
  {
   "cell_type": "code",
   "execution_count": 80,
   "metadata": {},
   "outputs": [],
   "source": [
    "tar_set = \"input/target_disease_set.txt\"\n",
    "tar_id_type = \"ICD-10\"\n",
    "mode = \"set\"\n",
    "out_dir = \"results/\"\n",
    "runs = 1000\n",
    "background_model=\"complete\""
   ]
  },
  {
   "cell_type": "markdown",
   "metadata": {},
   "source": [
    "### Run script"
   ]
  },
  {
   "cell_type": "code",
   "execution_count": 82,
   "metadata": {},
   "outputs": [
    {
     "name": "stdout",
     "output_type": "stream",
     "text": [
      "[00:00:00|2706.55MB] Starting validation ...\n",
      "[00:00:00|2706.55MB] Load mappings for input into cache ...\n",
      "[00:00:02|2906.87MB] Load distances for input into cache ...\n",
      "[00:00:03|2986.51MB] Validation of input ...\n",
      "Missing values for disgenet.genes_related_to_disease :1/25\n",
      "Missing values for disgenet.variants_related_to_disease :1/25\n",
      "Missing values for ctd.pathway_related_to_disease :2/25\n",
      "[00:00:03|2986.77MB] Validation of random runs ...\n",
      "[00:00:30|2990.23MB] Calculating p-values ...\n",
      "[00:00:30|2990.23MB] Save files\n",
      "[00:00:30|2990.23MB] Finished validation\n"
     ]
    }
   ],
   "source": [
    "single_validation(tar=tar_set, tar_id=tar_id_type, mode=mode, out_dir=out_dir, runs=runs, background_model=background_model, verbose=True)\n",
    "with open(out_dir+'digest_'+mode+'_result.json', 'r') as f:\n",
    "    data = json.load(f)"
   ]
  },
  {
   "cell_type": "markdown",
   "metadata": {},
   "source": [
    "### Inspect results"
   ]
  },
  {
   "cell_type": "code",
   "execution_count": 157,
   "metadata": {},
   "outputs": [],
   "source": [
    "# prepare scatter\n",
    "data_df = data.copy()\n",
    "data_df = pd.DataFrame.from_dict({'p_values':data_df[\"p_values\"]})\n",
    "data_df = data_df.rename_axis('attribute').reset_index()\n",
    "data_df[\"log_p-values\"] = data_df[\"p_values\"].apply(lambda x: -math.log10(x))\n",
    "data_df = data_df.replace({\"disgenet.genes_related_to_disease\":\"related genes\", \"disgenet.variants_related_to_disease\":\"related variants\", \"ctd.pathway_related_to_disease\":\"KEGG\"})\n",
    "data_df = data_df.sort_values(['attribute']).reset_index(drop=True)\n",
    "# prepare for mappibility plot\n",
    "in_put = pd.read_csv(tar_set, sep=\"\\t\", names=[\"id\", \"desc\"])\n",
    "mapped_df = in_put.copy()\n",
    "for att in data[\"input_values\"][\"mapped_ids\"]:\n",
    "    mapped_df[att] = [1 if x in data[\"input_values\"][\"mapped_ids\"][att] else 0 for x in in_put[\"id\"]]\n",
    "mapped_df= mapped_df[[\"disgenet.genes_related_to_disease\", \"disgenet.variants_related_to_disease\", \"ctd.pathway_related_to_disease\"]].T\n",
    "mapped_df[\"count\"] = mapped_df.sum(axis=1)\n",
    "mapped_df[\"fraction\"] = mapped_df['count'].apply(lambda x: x/len(in_put[\"id\"]))\n",
    "mapped_df = mapped_df.rename_axis('attribute').reset_index()\n",
    "mapped_df = mapped_df.replace({\"disgenet.genes_related_to_disease\":\"related genes\", \"disgenet.variants_related_to_disease\":\"related variants\", \"ctd.pathway_related_to_disease\":\"KEGG\"})\n",
    "mapped_df = mapped_df.sort_values(['attribute']).reset_index(drop=True)"
   ]
  },
  {
   "cell_type": "code",
   "execution_count": 158,
   "metadata": {},
   "outputs": [
    {
     "data": {
      "text/html": [
       "<div>\n",
       "<style scoped>\n",
       "    .dataframe tbody tr th:only-of-type {\n",
       "        vertical-align: middle;\n",
       "    }\n",
       "\n",
       "    .dataframe tbody tr th {\n",
       "        vertical-align: top;\n",
       "    }\n",
       "\n",
       "    .dataframe thead th {\n",
       "        text-align: right;\n",
       "    }\n",
       "</style>\n",
       "<table border=\"1\" class=\"dataframe\">\n",
       "  <thead>\n",
       "    <tr style=\"text-align: right;\">\n",
       "      <th></th>\n",
       "      <th>attribute</th>\n",
       "      <th>0</th>\n",
       "      <th>1</th>\n",
       "      <th>2</th>\n",
       "      <th>3</th>\n",
       "      <th>4</th>\n",
       "      <th>5</th>\n",
       "      <th>6</th>\n",
       "      <th>7</th>\n",
       "      <th>8</th>\n",
       "      <th>...</th>\n",
       "      <th>17</th>\n",
       "      <th>18</th>\n",
       "      <th>19</th>\n",
       "      <th>20</th>\n",
       "      <th>21</th>\n",
       "      <th>22</th>\n",
       "      <th>23</th>\n",
       "      <th>24</th>\n",
       "      <th>count</th>\n",
       "      <th>fraction</th>\n",
       "    </tr>\n",
       "  </thead>\n",
       "  <tbody>\n",
       "    <tr>\n",
       "      <th>0</th>\n",
       "      <td>KEGG</td>\n",
       "      <td>1</td>\n",
       "      <td>1</td>\n",
       "      <td>1</td>\n",
       "      <td>1</td>\n",
       "      <td>1</td>\n",
       "      <td>1</td>\n",
       "      <td>0</td>\n",
       "      <td>1</td>\n",
       "      <td>0</td>\n",
       "      <td>...</td>\n",
       "      <td>1</td>\n",
       "      <td>1</td>\n",
       "      <td>1</td>\n",
       "      <td>1</td>\n",
       "      <td>1</td>\n",
       "      <td>1</td>\n",
       "      <td>1</td>\n",
       "      <td>1</td>\n",
       "      <td>22</td>\n",
       "      <td>0.88</td>\n",
       "    </tr>\n",
       "    <tr>\n",
       "      <th>1</th>\n",
       "      <td>related genes</td>\n",
       "      <td>1</td>\n",
       "      <td>1</td>\n",
       "      <td>1</td>\n",
       "      <td>1</td>\n",
       "      <td>1</td>\n",
       "      <td>1</td>\n",
       "      <td>1</td>\n",
       "      <td>1</td>\n",
       "      <td>0</td>\n",
       "      <td>...</td>\n",
       "      <td>1</td>\n",
       "      <td>1</td>\n",
       "      <td>1</td>\n",
       "      <td>1</td>\n",
       "      <td>1</td>\n",
       "      <td>1</td>\n",
       "      <td>1</td>\n",
       "      <td>1</td>\n",
       "      <td>23</td>\n",
       "      <td>0.92</td>\n",
       "    </tr>\n",
       "    <tr>\n",
       "      <th>2</th>\n",
       "      <td>related variants</td>\n",
       "      <td>1</td>\n",
       "      <td>1</td>\n",
       "      <td>1</td>\n",
       "      <td>1</td>\n",
       "      <td>1</td>\n",
       "      <td>1</td>\n",
       "      <td>1</td>\n",
       "      <td>1</td>\n",
       "      <td>0</td>\n",
       "      <td>...</td>\n",
       "      <td>1</td>\n",
       "      <td>1</td>\n",
       "      <td>1</td>\n",
       "      <td>1</td>\n",
       "      <td>1</td>\n",
       "      <td>1</td>\n",
       "      <td>1</td>\n",
       "      <td>1</td>\n",
       "      <td>23</td>\n",
       "      <td>0.92</td>\n",
       "    </tr>\n",
       "  </tbody>\n",
       "</table>\n",
       "<p>3 rows × 28 columns</p>\n",
       "</div>"
      ],
      "text/plain": [
       "          attribute  0  1  2  3  4  5  6  7  8  ...  17  18  19  20  21  22  \\\n",
       "0              KEGG  1  1  1  1  1  1  0  1  0  ...   1   1   1   1   1   1   \n",
       "1     related genes  1  1  1  1  1  1  1  1  0  ...   1   1   1   1   1   1   \n",
       "2  related variants  1  1  1  1  1  1  1  1  0  ...   1   1   1   1   1   1   \n",
       "\n",
       "   23  24  count  fraction  \n",
       "0   1   1     22      0.88  \n",
       "1   1   1     23      0.92  \n",
       "2   1   1     23      0.92  \n",
       "\n",
       "[3 rows x 28 columns]"
      ]
     },
     "execution_count": 158,
     "metadata": {},
     "output_type": "execute_result"
    }
   ],
   "source": [
    "mapped_df"
   ]
  },
  {
   "cell_type": "code",
   "execution_count": 163,
   "metadata": {},
   "outputs": [
    {
     "data": {
      "image/png": "[encoded data removed]",
      "text/plain": [
       "<Figure size 432x720 with 2 Axes>"
      ]
     },
     "metadata": {
      "needs_background": "light"
     },
     "output_type": "display_data"
    }
   ],
   "source": [
    "fig, axes = plt.subplots(2, 1, figsize=(6,10))\n",
    "sns.scatterplot(x=data_df['attribute'], y=data_df['log_p-values'], s=150, ax=axes[0])\n",
    "axes[0].set(title=\"Set with uniform random background model\", ylabel=\"-log10(p-value)\", xlabel=\"attribute \\n (a)\")\n",
    "axes[0].axhline(y=-math.log10(0.05), color=\"red\",linestyle='--')\n",
    "sns.barplot(x =\"attribute\", y = 'fraction', data = mapped_df, ax=axes[1])\n",
    "axes[1].set(title=\"Mappability of input\", xlabel=\"attribute \\n (b)\", ylabel=\"Fraction of diseases with non-empty annotation sets\", ylim=(0, 1.1))\n",
    "for container in axes[1].containers:\n",
    "    axes[1].bar_label(container,  fmt='%.2f')\n",
    "fig.tight_layout() \n",
    "fig.savefig(\"mode_disease-set_uniform_overview.png\", bbox_inches='tight')"
   ]
  },
  {
   "cell_type": "code",
   "execution_count": 164,
   "metadata": {},
   "outputs": [],
   "source": [
    "tar_set = \"input/target_disease_set.txt\"\n",
    "tar_id_type = \"ICD-10\"\n",
    "mode = \"set\"\n",
    "out_dir = \"results/\"\n",
    "runs = 1000\n",
    "background_model=\"term-pres\""
   ]
  },
  {
   "cell_type": "code",
   "execution_count": 165,
   "metadata": {},
   "outputs": [
    {
     "name": "stdout",
     "output_type": "stream",
     "text": [
      "[00:00:00|2880.48MB] Starting validation ...\n",
      "[00:00:03|2962.02MB] Load distances for input into cache ...\n",
      "[00:04:33|3331.29MB] Finished validation\n"
     ]
    }
   ],
   "source": [
    "single_validation(tar=tar_set, tar_id=tar_id_type, mode=mode, out_dir=out_dir, runs=runs, background_model=background_model)\n",
    "with open(out_dir+'digest_'+mode+'_result.json', 'r') as f:\n",
    "    data = json.load(f)"
   ]
  },
  {
   "cell_type": "markdown",
   "metadata": {},
   "source": [
    "### Inspect results"
   ]
  },
  {
   "cell_type": "code",
   "execution_count": 166,
   "metadata": {},
   "outputs": [],
   "source": [
    "# prepare scatter\n",
    "data_df = data.copy()\n",
    "data_df = pd.DataFrame.from_dict({'p_values':data_df[\"p_values\"]})\n",
    "data_df = data_df.rename_axis('attribute').reset_index()\n",
    "data_df[\"log_p-values\"] = data_df[\"p_values\"].apply(lambda x: -math.log10(x))\n",
    "data_df = data_df.replace({\"disgenet.genes_related_to_disease\":\"related genes\", \"disgenet.variants_related_to_disease\":\"related variants\", \"ctd.pathway_related_to_disease\":\"KEGG\"})\n",
    "data_df = data_df.sort_values(['attribute']).reset_index(drop=True)\n",
    "# prepare for mappibility plot\n",
    "in_put = pd.read_csv(tar_set, sep=\"\\t\", names=[\"id\", \"desc\"])\n",
    "mapped_df = in_put.copy()\n",
    "for att in data[\"input_values\"][\"mapped_ids\"]:\n",
    "    mapped_df[att] = [1 if x in data[\"input_values\"][\"mapped_ids\"][att] else 0 for x in in_put[\"id\"]]\n",
    "mapped_df= mapped_df[[\"disgenet.genes_related_to_disease\", \"disgenet.variants_related_to_disease\", \"ctd.pathway_related_to_disease\"]].T\n",
    "mapped_df[\"count\"] = mapped_df.sum(axis=1)\n",
    "mapped_df[\"fraction\"] = mapped_df['count'].apply(lambda x: x/len(in_put[\"id\"]))\n",
    "mapped_df = mapped_df.rename_axis('attribute').reset_index()\n",
    "mapped_df = mapped_df.replace({\"disgenet.genes_related_to_disease\":\"related genes\", \"disgenet.variants_related_to_disease\":\"related variants\", \"ctd.pathway_related_to_disease\":\"KEGG\"})\n",
    "mapped_df = mapped_df.sort_values(['attribute']).reset_index(drop=True)"
   ]
  },
  {
   "cell_type": "code",
   "execution_count": 167,
   "metadata": {},
   "outputs": [
    {
     "data": {
      "image/png": "[encoded data removed]",
      "text/plain": [
       "<Figure size 432x720 with 2 Axes>"
      ]
     },
     "metadata": {
      "needs_background": "light"
     },
     "output_type": "display_data"
    }
   ],
   "source": [
    "fig, axes = plt.subplots(2, 1, figsize=(6,10))\n",
    "sns.scatterplot(x=data_df['attribute'], y=data_df['log_p-values'], s=150, ax=axes[0])\n",
    "axes[0].set(title=\"Set with uniform random background model\", ylabel=\"-log10(p-value)\", xlabel=\"attribute \\n (a)\")\n",
    "axes[0].axhline(y=-math.log10(0.05), color=\"red\",linestyle='--')\n",
    "sns.barplot(x =\"attribute\", y = 'fraction', data = mapped_df, ax=axes[1])\n",
    "axes[1].set(title=\"Mappability of input\", xlabel=\"attribute \\n (b)\", ylabel=\"Fraction of diseases with non-empty annotation sets\", ylim=(0, 1.1))\n",
    "for container in axes[1].containers:\n",
    "    axes[1].bar_label(container,  fmt='%.2f')\n",
    "fig.tight_layout() \n",
    "fig.savefig(\"mode_disease-set_uniform_overview.png\", bbox_inches='tight')"
   ]
  },
  {
   "cell_type": "code",
   "execution_count": 168,
   "metadata": {},
   "outputs": [
    {
     "data": {
      "text/plain": [
       "{'input_values': {'value': {'disgenet.genes_related_to_disease': 7.732428110576978,\n",
       "   'disgenet.variants_related_to_disease': 4.412785311058239,\n",
       "   'ctd.pathway_related_to_disease': 1.0035455804963545},\n",
       "  'mapped_ids': {'disgenet.genes_related_to_disease': ['E10',\n",
       "    'E11',\n",
       "    'E12',\n",
       "    'E13',\n",
       "    'E14',\n",
       "    'E66',\n",
       "    'F00',\n",
       "    'F01',\n",
       "    'G20',\n",
       "    'G30',\n",
       "    'G43',\n",
       "    'I10',\n",
       "    'I11',\n",
       "    'I12',\n",
       "    'I13',\n",
       "    'I15',\n",
       "    'I21',\n",
       "    'I22',\n",
       "    'I50',\n",
       "    'I63',\n",
       "    'I64',\n",
       "    'I70',\n",
       "    'J45'],\n",
       "   'disgenet.variants_related_to_disease': ['E10',\n",
       "    'E11',\n",
       "    'E12',\n",
       "    'E13',\n",
       "    'E14',\n",
       "    'E66',\n",
       "    'F00',\n",
       "    'F01',\n",
       "    'G20',\n",
       "    'G30',\n",
       "    'G43',\n",
       "    'I10',\n",
       "    'I11',\n",
       "    'I12',\n",
       "    'I13',\n",
       "    'I15',\n",
       "    'I21',\n",
       "    'I22',\n",
       "    'I50',\n",
       "    'I63',\n",
       "    'I64',\n",
       "    'I70',\n",
       "    'J45'],\n",
       "   'ctd.pathway_related_to_disease': ['E10',\n",
       "    'E11',\n",
       "    'E12',\n",
       "    'E13',\n",
       "    'E14',\n",
       "    'E66',\n",
       "    'F01',\n",
       "    'G20',\n",
       "    'G30',\n",
       "    'G43',\n",
       "    'I10',\n",
       "    'I11',\n",
       "    'I12',\n",
       "    'I13',\n",
       "    'I15',\n",
       "    'I21',\n",
       "    'I22',\n",
       "    'I50',\n",
       "    'I63',\n",
       "    'I64',\n",
       "    'I70',\n",
       "    'J45']}},\n",
       " 'p_values': {'disgenet.genes_related_to_disease': 0.000999000999000999,\n",
       "  'disgenet.variants_related_to_disease': 0.000999000999000999,\n",
       "  'ctd.pathway_related_to_disease': 0.000999000999000999}}"
      ]
     },
     "execution_count": 168,
     "metadata": {},
     "output_type": "execute_result"
    }
   ],
   "source": [
    "data"
   ]
  },
  {
   "cell_type": "markdown",
   "metadata": {},
   "source": [
    "While the values under `input_values` are the raw values for the input set, the values under `p_value` are the calculated p-values for the original input against the 1000 runs."
   ]
  },
  {
   "cell_type": "code",
   "execution_count": null,
   "metadata": {},
   "outputs": [],
   "source": [
    "import matplotlib.pyplot as plt\n",
    "\n",
    "fig, axes = plt.subplots(nrows=2, ncols=2, figsize=(10,10), subplot_kw={'ylim': (0,1)})\n",
    "fig.suptitle(\"Empirical P-Values for Gene Cluster\", fontsize=16)\n",
    "plot_df[plot_df[\"attribute\"]==\"go.BP\"].set_index('perc')[[\"di\", \"ss\", \"dbi\"]].plot(ax=axes[0,0], title=\"go.BP\")\n",
    "plot_df[plot_df[\"attribute\"]==\"go.CC\"].set_index('perc')[[\"di\", \"ss\", \"dbi\"]].plot(ax=axes[0,1], title=\"go.CC\")\n",
    "plot_df[plot_df[\"attribute\"]==\"go.MF\"].set_index('perc')[[\"di\", \"ss\", \"dbi\"]].plot(ax=axes[1,0], title=\"go.MF\")\n",
    "plot_df[plot_df[\"attribute\"]==\"pathway.kegg\"].set_index('perc')[[\"di\", \"ss\", \"dbi\"]].plot(ax=axes[1,1], title=\"pathway.kegg\")"
   ]
  },
  {
   "cell_type": "code",
   "execution_count": null,
   "metadata": {},
   "outputs": [],
   "source": [
    "\n",
    "fig, axes = plt.subplots(nrows=2, ncols=2, figsize=(10,10), subplot_kw={'ylim': (0,1)})\n",
    "fig.suptitle(\"Empirical P-Values for Gene Cluster\", fontsize=16)\n",
    "plot_df.pivot(index='perc', columns='attribute', values='di').plot(ax=axes[0,0], title=\"Dunn Index\")\n",
    "plot_df.pivot(index='perc', columns='attribute', values='ss').plot(ax=axes[0,1], title=\"Silhouette Score\")\n",
    "plot_df.pivot(index='perc', columns='attribute', values='dbi').plot(ax=axes[1,0], title=\"Davies Bouldin Index\")\n",
    "#plot_df[plot_df[\"attribute\"]==\"pathway.kegg\"].set_index('perc')[[\"di\", \"ss\", \"dbi\"]].plot(ax=axes[1,1], title=\"pathway.kegg\")\n"
   ]
  },
  {
   "cell_type": "code",
   "execution_count": null,
   "metadata": {},
   "outputs": [],
   "source": [
    "pd.DataFrame(results[\"10\"][\"input_values\"])[[\"di\",\"ss\", \"dbi\"]]"
   ]
  },
  {
   "cell_type": "code",
   "execution_count": null,
   "metadata": {},
   "outputs": [],
   "source": [
    "pd.DataFrame(results[\"10\"][\"input_values\"][\"ss_inter\"])"
   ]
  },
  {
   "cell_type": "code",
   "execution_count": null,
   "metadata": {},
   "outputs": [],
   "source": [
    "atts = pd.read_csv(\"../mapping_files/gene_att_mapping.csv\")\n",
    "cluster = pd.read_csv(tar_set, sep=\"\\t\", header=None)\n",
    "atts = atts[atts['entrezgene'].isin(cluster[0])].fillna(\"\")\n",
    "atts.head()"
   ]
  },
  {
   "cell_type": "code",
   "execution_count": null,
   "metadata": {},
   "outputs": [],
   "source": [
    "def string_to_len(x):\n",
    "    return len(set(filter(None, x.split(\";\"))))\n",
    "atts[atts.columns[1:]] = atts[atts.columns[1:]].applymap(string_to_len)"
   ]
  },
  {
   "cell_type": "code",
   "execution_count": null,
   "metadata": {},
   "outputs": [],
   "source": [
    "atts"
   ]
  },
  {
   "cell_type": "code",
   "execution_count": null,
   "metadata": {},
   "outputs": [],
   "source": [
    "cluster.rename(columns={0:\"id\",1:\"cluster\"})"
   ]
  },
  {
   "cell_type": "code",
   "execution_count": null,
   "metadata": {},
   "outputs": [],
   "source": [
    "tar_set = \"input/icd10_I-M_small.txt\"\n",
    "tar_id_type = \"mondo\"\n",
    "mode = \"cluster\"\n",
    "out_dir = \"results/\"\n",
    "runs = 1000\n",
    "perc = [10, 20, 30, 40, 50, 60, 70, 80, 90, 100]"
   ]
  },
  {
   "cell_type": "code",
   "execution_count": null,
   "metadata": {},
   "outputs": [],
   "source": [
    "results2 = dict()\n",
    "for cur_perc in perc:\n",
    "    single_validation(tar=tar_set, tar_id=tar_id_type, mode=mode, out_dir=out_dir, runs=runs, replace=cur_perc)\n",
    "    with open(out_dir+'digest_'+mode+'_result.json', 'r') as f:\n",
    "        results2[str(cur_perc)] = json.load(f)"
   ]
  },
  {
   "cell_type": "code",
   "execution_count": null,
   "metadata": {},
   "outputs": [],
   "source": [
    "plot_df = pd.DataFrame(columns=[\"attribute\",\"di\",\"ss\",\"dbi\",\"perc\"])\n",
    "for cur_perc in perc:\n",
    "    df = pd.DataFrame.from_dict(results2[str(cur_perc)][\"p_values\"])\n",
    "    df[\"perc\"] = str(cur_perc)\n",
    "    df = df.rename_axis('attribute').reset_index()\n",
    "    plot_df = pd.concat([plot_df, df])"
   ]
  },
  {
   "cell_type": "code",
   "execution_count": null,
   "metadata": {},
   "outputs": [],
   "source": [
    "plot_df.head()"
   ]
  },
  {
   "cell_type": "code",
   "execution_count": null,
   "metadata": {},
   "outputs": [],
   "source": [
    "plot_df[\"attribute\"]"
   ]
  },
  {
   "cell_type": "code",
   "execution_count": null,
   "metadata": {},
   "outputs": [],
   "source": [
    "import matplotlib.pyplot as plt\n",
    "\n",
    "fig, axes = plt.subplots(nrows=2, ncols=2, figsize=(10,10), subplot_kw={'ylim': (0,1)})\n",
    "fig.suptitle(\"Empirical P-Values for Disease Cluster\", fontsize=16)\n",
    "plot_df[plot_df[\"attribute\"]==\"disgenet.genes_related_to_disease\"].set_index('perc')[[\"di\", \"ss\", \"dbi\"]].plot(ax=axes[0,0], title=\"disgenet.genes_related_to_disease\")\n",
    "plot_df[plot_df[\"attribute\"]==\"disgenet.variants_related_to_disease\"].set_index('perc')[[\"di\", \"ss\", \"dbi\"]].plot(ax=axes[0,1], title=\"disgenet.variants_related_to_disease\")\n",
    "plot_df[plot_df[\"attribute\"]==\"ctd.pathway_related_to_disease\"].set_index('perc')[[\"di\", \"ss\", \"dbi\"]].plot(ax=axes[1,0], title=\"ctd.pathway_related_to_disease\")"
   ]
  },
  {
   "cell_type": "code",
   "execution_count": null,
   "metadata": {
    "scrolled": true
   },
   "outputs": [],
   "source": [
    "\n",
    "fig, axes = plt.subplots(nrows=2, ncols=2, figsize=(10,10), subplot_kw={'ylim': (0,1)})\n",
    "fig.suptitle(\"Empirical P-Values for Disease Cluster\", fontsize=16)\n",
    "plot_df.pivot(index='perc', columns='attribute', values='di').plot(ax=axes[0,0], title=\"Dunn Index\")\n",
    "plot_df.pivot(index='perc', columns='attribute', values='ss').plot(ax=axes[0,1], title=\"Silhouette Score\")\n",
    "plot_df.pivot(index='perc', columns='attribute', values='dbi').plot(ax=axes[1,0], title=\"Davies Bouldin Index\")\n",
    "#plot_df[plot_df[\"attribute\"]==\"pathway.kegg\"].set_index('perc')[[\"di\", \"ss\", \"dbi\"]].plot(ax=axes[1,1], title=\"pathway.kegg\")\n"
   ]
  },
  {
   "cell_type": "code",
   "execution_count": null,
   "metadata": {},
   "outputs": [],
   "source": [
    "tar_set = \"input/mondo_cluster.txt\"\n",
    "tar_id_type = \"mondo\"\n",
    "mode = \"cluster\"\n",
    "out_dir = \"results/\"\n",
    "runs = 1000\n",
    "perc = [10, 20, 30, 40, 50, 60, 70, 80, 90, 100]"
   ]
  },
  {
   "cell_type": "code",
   "execution_count": null,
   "metadata": {},
   "outputs": [],
   "source": [
    "results3 = dict()\n",
    "for cur_perc in perc:\n",
    "    single_validation(tar=tar_set, tar_id=tar_id_type, mode=mode, out_dir=out_dir, runs=runs, replace=cur_perc)\n",
    "    with open(out_dir+'digest_'+mode+'_result.json', 'r') as f:\n",
    "        results3[str(cur_perc)] = json.load(f)"
   ]
  },
  {
   "cell_type": "code",
   "execution_count": null,
   "metadata": {},
   "outputs": [],
   "source": [
    "plot_df = pd.DataFrame(columns=[\"attribute\",\"di\",\"ss\",\"dbi\",\"perc\"])\n",
    "for cur_perc in perc:\n",
    "    df = pd.DataFrame.from_dict(results3[str(cur_perc)][\"p_values\"])\n",
    "    df[\"perc\"] = str(cur_perc)\n",
    "    df = df.rename_axis('attribute').reset_index()\n",
    "    plot_df = pd.concat([plot_df, df])"
   ]
  },
  {
   "cell_type": "code",
   "execution_count": null,
   "metadata": {},
   "outputs": [],
   "source": [
    "plot_df.head()"
   ]
  },
  {
   "cell_type": "code",
   "execution_count": null,
   "metadata": {},
   "outputs": [],
   "source": []
  },
  {
   "cell_type": "code",
   "execution_count": null,
   "metadata": {},
   "outputs": [],
   "source": [
    "import matplotlib.pyplot as plt\n",
    "\n",
    "fig, axes = plt.subplots(nrows=2, ncols=2, figsize=(10,10), subplot_kw={'ylim': (0,1)})\n",
    "fig.suptitle(\"Empirical P-Values for Disease Cluster\", fontsize=16)\n",
    "plot_df[plot_df[\"attribute\"]==\"disgenet.genes_related_to_disease\"].set_index('perc')[[\"di\", \"ss\", \"dbi\"]].plot(ax=axes[0,0], title=\"disgenet.genes_related_to_disease\")\n",
    "plot_df[plot_df[\"attribute\"]==\"disgenet.variants_related_to_disease\"].set_index('perc')[[\"di\", \"ss\", \"dbi\"]].plot(ax=axes[0,1], title=\"disgenet.variants_related_to_disease\")\n",
    "plot_df[plot_df[\"attribute\"]==\"ctd.pathway_related_to_disease\"].set_index('perc')[[\"di\", \"ss\", \"dbi\"]].plot(ax=axes[1,0], title=\"ctd.pathway_related_to_disease\")"
   ]
  },
  {
   "cell_type": "code",
   "execution_count": null,
   "metadata": {},
   "outputs": [],
   "source": [
    "\n",
    "fig, axes = plt.subplots(nrows=2, ncols=2, figsize=(10,10), subplot_kw={'ylim': (0,1)})\n",
    "fig.suptitle(\"Empirical P-Values for Disease Cluster\", fontsize=16)\n",
    "plot_df.pivot(index='perc', columns='attribute', values='di').plot(ax=axes[0,0], title=\"Dunn Index\")\n",
    "plot_df.pivot(index='perc', columns='attribute', values='ss').plot(ax=axes[0,1], title=\"Silhouette Score\")\n",
    "plot_df.pivot(index='perc', columns='attribute', values='dbi').plot(ax=axes[1,0], title=\"Davies Bouldin Index\")\n",
    "#plot_df[plot_df[\"attribute\"]==\"pathway.kegg\"].set_index('perc')[[\"di\", \"ss\", \"dbi\"]].plot(ax=axes[1,1], title=\"pathway.kegg\")\n"
   ]
  },
  {
   "cell_type": "code",
   "execution_count": null,
   "metadata": {},
   "outputs": [],
   "source": [
    "tar_set = \"input/target_disease_set.txt\"\n",
    "tar_id_type = \"ICD-10\"\n",
    "mode = \"set\"\n",
    "out_dir = \"results/\"\n",
    "runs = 1000\n",
    "perc = [10, 20, 30, 40, 50, 60, 70, 80, 90, 100]"
   ]
  },
  {
   "cell_type": "code",
   "execution_count": null,
   "metadata": {},
   "outputs": [],
   "source": [
    "results4 = dict()\n",
    "for cur_perc in perc:\n",
    "    single_validation(tar=tar_set, tar_id=tar_id_type, mode=mode, out_dir=out_dir, runs=runs, replace=cur_perc)\n",
    "    with open(out_dir+'digest_'+mode+'_result.json', 'r') as f:\n",
    "        results4[str(cur_perc)] = json.load(f)"
   ]
  },
  {
   "cell_type": "code",
   "execution_count": null,
   "metadata": {},
   "outputs": [],
   "source": [
    "plot_df = pd.DataFrame(columns=[\"attribute\",\"p_values\",\"perc\"])\n",
    "for cur_perc in perc:\n",
    "    df = pd.DataFrame.from_dict(results4[str(cur_perc)])\n",
    "    df[\"perc\"] = str(cur_perc)\n",
    "    df = df.rename_axis('attribute').reset_index()\n",
    "    plot_df = pd.concat([plot_df, df])\n",
    "    plot_df = plot_df[[\"attribute\",\"p_values\",\"perc\"]]"
   ]
  },
  {
   "cell_type": "code",
   "execution_count": null,
   "metadata": {},
   "outputs": [],
   "source": [
    "plot_df"
   ]
  },
  {
   "cell_type": "code",
   "execution_count": null,
   "metadata": {},
   "outputs": [],
   "source": [
    "pd.DataFrame(results4[\"10\"])"
   ]
  },
  {
   "cell_type": "code",
   "execution_count": null,
   "metadata": {},
   "outputs": [],
   "source": [
    "plot_df"
   ]
  },
  {
   "cell_type": "code",
   "execution_count": null,
   "metadata": {},
   "outputs": [],
   "source": [
    "pd.DataFrame(results2[\"10\"][\"input_values\"])[[\"di\",\"ss\", \"dbi\"]]"
   ]
  },
  {
   "cell_type": "code",
   "execution_count": null,
   "metadata": {},
   "outputs": [],
   "source": [
    "pd.DataFrame(results2[\"10\"][\"input_values\"][\"ss_inter\"])"
   ]
  },
  {
   "cell_type": "code",
   "execution_count": null,
   "metadata": {},
   "outputs": [],
   "source": [
    "pd.DataFrame(results3[\"10\"][\"input_values\"])[[\"di\",\"ss\", \"dbi\"]]"
   ]
  },
  {
   "cell_type": "code",
   "execution_count": null,
   "metadata": {},
   "outputs": [],
   "source": [
    "pd.DataFrame(results3[\"10\"][\"input_values\"][\"ss_inter\"])"
   ]
  },
  {
   "cell_type": "code",
   "execution_count": null,
   "metadata": {},
   "outputs": [],
   "source": [
    "plot_df.pivot(index='perc', columns='attribute', values='p_values').plot(title=\"Dunn Index\", ylim= (0,1))"
   ]
  },
  {
   "cell_type": "code",
   "execution_count": null,
   "metadata": {},
   "outputs": [],
   "source": [
    "pd.DataFrame(results4[\"10\"][\"input_values\"].items())"
   ]
  },
  {
   "cell_type": "code",
   "execution_count": null,
   "metadata": {},
   "outputs": [],
   "source": [
    "import scipy.sparse as sp\n",
    "df = sp.load_npz(\"../mapping_files/disease_dist_rel_genes.npz\").tocsr()"
   ]
  },
  {
   "cell_type": "code",
   "execution_count": null,
   "metadata": {},
   "outputs": [],
   "source": [
    "df = None"
   ]
  },
  {
   "cell_type": "code",
   "execution_count": null,
   "metadata": {},
   "outputs": [],
   "source": [
    "with open(\"https://api.nedrex.net/disorder_is_subtype_of_disorder/all\", 'r') as f:\n",
    "        f"
   ]
  },
  {
   "cell_type": "code",
   "execution_count": null,
   "metadata": {},
   "outputs": [],
   "source": [
    "pd.read_csv(\"https://api.nedrex.net/disorder_is_subtype_of_disorder/all\")"
   ]
  },
  {
   "cell_type": "code",
   "execution_count": null,
   "metadata": {},
   "outputs": [],
   "source": []
  },
  {
   "cell_type": "code",
   "execution_count": null,
   "metadata": {},
   "outputs": [],
   "source": [
    "d = pd.DataFrame(columns=[\"id\",\"cluster\",\"desc\"])\n",
    "d[\"id\"] = [\"H\"+str(x).zfill(2) for x in list(range(0,60))]\n",
    "d[\"cluster\"] = \"0\"\n",
    "d[\"desc\"] = \"Krankheiten des Auges und der Augenanhangsgebilde\"\n",
    "d_fin = pd.concat([d_fin, d])"
   ]
  },
  {
   "cell_type": "code",
   "execution_count": null,
   "metadata": {},
   "outputs": [],
   "source": [
    "d = pd.DataFrame(columns=[\"id\",\"cluster\",\"desc\"])\n",
    "d[\"id\"] = [\"M\"+str(x).zfill(2) for x in list(range(0,100))]\n",
    "d[\"cluster\"] = \"1\"\n",
    "d[\"desc\"] = \"Krankheiten des Muskel-Skelett-Systems und des Bindegewebes\"\n",
    "d_fin = pd.concat([d_fin, d])"
   ]
  },
  {
   "cell_type": "code",
   "execution_count": null,
   "metadata": {},
   "outputs": [],
   "source": [
    "d = pd.DataFrame(columns=[\"id\",\"cluster\",\"desc\"])\n",
    "d[\"id\"] = [\"G\"+str(x).zfill(2) for x in list(range(0,100))]\n",
    "d[\"cluster\"] = \"2\"\n",
    "d[\"desc\"] = \"Krankheiten des Nervensystems\"\n",
    "d_fin = pd.concat([d_fin, d])"
   ]
  },
  {
   "cell_type": "code",
   "execution_count": null,
   "metadata": {},
   "outputs": [],
   "source": [
    "d = pd.DataFrame(columns=[\"id\",\"cluster\",\"desc\"])\n",
    "d[\"id\"] = [\"E\"+str(x).zfill(2) for x in list(range(0,91))]\n",
    "d[\"cluster\"] = \"3\"\n",
    "d[\"desc\"] = \"Endokrine, Ernährungs- und Stoffwechselkrankheiten\"\n",
    "d_fin = pd.concat([d_fin, d])"
   ]
  },
  {
   "cell_type": "code",
   "execution_count": null,
   "metadata": {},
   "outputs": [],
   "source": [
    "d = pd.DataFrame(columns=[\"id\",\"cluster\",\"desc\"])\n",
    "d[\"id\"] = [\"J\"+str(x).zfill(2) for x in list(range(0,100))]\n",
    "d[\"cluster\"] = \"4\"\n",
    "d[\"desc\"] = \"Krankheiten des Atmungssystems\"\n",
    "d_fin = pd.concat([d_fin, d])"
   ]
  },
  {
   "cell_type": "code",
   "execution_count": null,
   "metadata": {},
   "outputs": [],
   "source": [
    "d_fin.to_csv(\"icd10_cluster.txt\", sep=\"\\t\", index=False, header=False)"
   ]
  }
 ],
 "metadata": {
  "kernelspec": {
   "display_name": "Python 3",
   "language": "python",
   "name": "python3"
  },
  "language_info": {
   "codemirror_mode": {
    "name": "ipython",
    "version": 3
   },
   "file_extension": ".py",
   "mimetype": "text/x-python",
   "name": "python",
   "nbconvert_exporter": "python",
   "pygments_lexer": "ipython3",
   "version": "3.8.10"
  }
 },
 "nbformat": 4,
 "nbformat_minor": 4
}
