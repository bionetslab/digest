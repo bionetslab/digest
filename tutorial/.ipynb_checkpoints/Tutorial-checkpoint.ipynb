{
 "cells": [
  {
   "cell_type": "markdown",
   "metadata": {},
   "source": [
    "# Validation using DIGEST"
   ]
  },
  {
   "cell_type": "markdown",
   "metadata": {},
   "source": [
    "Notebook to recreate the results presented in the paper. Keep in mind, that the results can slighty differentiate as the random background will not create the exact same random sets as before. "
   ]
  },
  {
   "cell_type": "markdown",
   "metadata": {},
   "source": [
    "## Setup"
   ]
  },
  {
   "cell_type": "code",
   "execution_count": 2,
   "metadata": {},
   "outputs": [],
   "source": [
    "import sys\n",
    "import json\n",
    "import pandas as pd\n",
    "from IPython.display import IFrame\n",
    "# ==== import single validation script ====\n",
    "from pathlib import Path\n",
    "sys.path.append(str(Path.cwd().parent))\n",
    "from single_validation import single_validation"
   ]
  },
  {
   "cell_type": "markdown",
   "metadata": {},
   "source": [
    "## Cluster itself"
   ]
  },
  {
   "cell_type": "markdown",
   "metadata": {},
   "source": [
    "Compare a target cluster of diseases or genes based on dunn index, sillhouette score or david bouldin index, while the random runs are simply cluster size preserving perturbation of cluster assignments."
   ]
  },
  {
   "cell_type": "markdown",
   "metadata": {},
   "source": [
    "## Gene Cluster"
   ]
  },
  {
   "cell_type": "markdown",
   "metadata": {},
   "source": [
    "### Set input parameters"
   ]
  },
  {
   "cell_type": "code",
   "execution_count": 4,
   "metadata": {},
   "outputs": [],
   "source": [
    "# ==== define required input ====\n",
    "tar_set = \"input/target_gene_cluster.txt\"\n",
    "tar_id_type = \"symbol\"\n",
    "mode = \"cluster\"\n",
    "# ==== define optional input ====\n",
    "out_dir = \"results/gene_cluster\" \n",
    "background_model=\"complete\" # the only background model for clustering\n",
    "runs = 1000 # how many random runs for empirical p-value estimation\n",
    "perc = 100 # how many % of the original input should be perturbated for the background model\n",
    "plot=True # create plots for vizualisation from results\n",
    "verbose=True # printing additional information during the run\n",
    "prefix=\"cluster_gene_symbol_complete\""
   ]
  },
  {
   "cell_type": "markdown",
   "metadata": {},
   "source": [
    "### Run script"
   ]
  },
  {
   "cell_type": "code",
   "execution_count": 5,
   "metadata": {},
   "outputs": [
    {
     "name": "stdout",
     "output_type": "stream",
     "text": [
      "[00:00:00|2396.57MB] Starting validation ...\n",
      "[00:00:00|2396.57MB] Load mappings for input into cache ...\n",
      "[00:00:01|2397.34MB] Load distances for input into cache ...\n",
      "[00:00:10|2457.59MB] Load input data ...\n",
      "[00:00:10|2457.83MB] Validation of input ...\n",
      "Missing values for pathway.kegg :9/20\n",
      "[00:00:11|2457.83MB] Validation of random runs ...\n",
      "[00:03:46|2459.87MB] Save files\n",
      "[00:03:46|2459.87MB] Finished validation\n"
     ]
    }
   ],
   "source": [
    "single_validation(tar=tar_set, tar_id=tar_id_type, mode=mode, out_dir=out_dir, prefix=prefix,\n",
    "                  background_model=background_model, runs=runs, replace=perc, verbose=verbose, plot=plot)"
   ]
  },
  {
   "cell_type": "markdown",
   "metadata": {},
   "source": [
    "### Inspect results"
   ]
  },
  {
   "cell_type": "code",
   "execution_count": 6,
   "metadata": {},
   "outputs": [],
   "source": [
    "with open(out_dir+prefix+'_result.json', 'r') as f:\n",
    "    results = json.load(f)"
   ]
  },
  {
   "cell_type": "markdown",
   "metadata": {},
   "source": [
    "Check all P-values"
   ]
  },
  {
   "cell_type": "code",
   "execution_count": 7,
   "metadata": {},
   "outputs": [
    {
     "data": {
      "text/html": [
       "<div>\n",
       "<style scoped>\n",
       "    .dataframe tbody tr th:only-of-type {\n",
       "        vertical-align: middle;\n",
       "    }\n",
       "\n",
       "    .dataframe tbody tr th {\n",
       "        vertical-align: top;\n",
       "    }\n",
       "\n",
       "    .dataframe thead th {\n",
       "        text-align: right;\n",
       "    }\n",
       "</style>\n",
       "<table border=\"1\" class=\"dataframe\">\n",
       "  <thead>\n",
       "    <tr style=\"text-align: right;\">\n",
       "      <th></th>\n",
       "      <th>di</th>\n",
       "      <th>ss</th>\n",
       "      <th>dbi</th>\n",
       "    </tr>\n",
       "  </thead>\n",
       "  <tbody>\n",
       "    <tr>\n",
       "      <th>go.BP</th>\n",
       "      <td>0.051948</td>\n",
       "      <td>0.35964</td>\n",
       "      <td>0.135864</td>\n",
       "    </tr>\n",
       "    <tr>\n",
       "      <th>go.CC</th>\n",
       "      <td>0.372627</td>\n",
       "      <td>1.00000</td>\n",
       "      <td>0.810190</td>\n",
       "    </tr>\n",
       "    <tr>\n",
       "      <th>go.MF</th>\n",
       "      <td>0.425574</td>\n",
       "      <td>1.00000</td>\n",
       "      <td>0.764236</td>\n",
       "    </tr>\n",
       "    <tr>\n",
       "      <th>pathway.kegg</th>\n",
       "      <td>0.379620</td>\n",
       "      <td>1.00000</td>\n",
       "      <td>0.664336</td>\n",
       "    </tr>\n",
       "  </tbody>\n",
       "</table>\n",
       "</div>"
      ],
      "text/plain": [
       "                    di       ss       dbi\n",
       "go.BP         0.051948  0.35964  0.135864\n",
       "go.CC         0.372627  1.00000  0.810190\n",
       "go.MF         0.425574  1.00000  0.764236\n",
       "pathway.kegg  0.379620  1.00000  0.664336"
      ]
     },
     "execution_count": 7,
     "metadata": {},
     "output_type": "execute_result"
    }
   ],
   "source": [
    "pd.DataFrame(results[\"p_values\"])"
   ]
  },
  {
   "cell_type": "markdown",
   "metadata": {},
   "source": [
    "Check validation values of input cluster"
   ]
  },
  {
   "cell_type": "code",
   "execution_count": 8,
   "metadata": {},
   "outputs": [
    {
     "data": {
      "text/html": [
       "<div>\n",
       "<style scoped>\n",
       "    .dataframe tbody tr th:only-of-type {\n",
       "        vertical-align: middle;\n",
       "    }\n",
       "\n",
       "    .dataframe tbody tr th {\n",
       "        vertical-align: top;\n",
       "    }\n",
       "\n",
       "    .dataframe thead th {\n",
       "        text-align: right;\n",
       "    }\n",
       "</style>\n",
       "<table border=\"1\" class=\"dataframe\">\n",
       "  <thead>\n",
       "    <tr style=\"text-align: right;\">\n",
       "      <th></th>\n",
       "      <th>di</th>\n",
       "      <th>ss</th>\n",
       "      <th>ss_inter</th>\n",
       "      <th>dbi</th>\n",
       "      <th>mapped_ids</th>\n",
       "    </tr>\n",
       "  </thead>\n",
       "  <tbody>\n",
       "    <tr>\n",
       "      <th>go.BP</th>\n",
       "      <td>0.097523</td>\n",
       "      <td>-0.700000</td>\n",
       "      <td>{'1': -0.6, '0': -0.8}</td>\n",
       "      <td>0.180988</td>\n",
       "      <td>[AGR2, AR, CLSTN2, COL9A3, DNAH7, EGFR, ERBB4,...</td>\n",
       "    </tr>\n",
       "    <tr>\n",
       "      <th>go.CC</th>\n",
       "      <td>0.181698</td>\n",
       "      <td>-1.000000</td>\n",
       "      <td>{'1': -1.0, '0': -1.0}</td>\n",
       "      <td>1.835614</td>\n",
       "      <td>[AGR2, AR, CLSTN2, COL9A3, DNAH7, EGFR, ERBB4,...</td>\n",
       "    </tr>\n",
       "    <tr>\n",
       "      <th>go.MF</th>\n",
       "      <td>0.184877</td>\n",
       "      <td>-0.900000</td>\n",
       "      <td>{'1': -0.8, '0': -1.0}</td>\n",
       "      <td>1.962328</td>\n",
       "      <td>[AGR2, AR, CLSTN2, COL9A3, DNAH7, EGFR, ERBB4,...</td>\n",
       "    </tr>\n",
       "    <tr>\n",
       "      <th>pathway.kegg</th>\n",
       "      <td>0.279293</td>\n",
       "      <td>-0.909091</td>\n",
       "      <td>{'0': -1.0, '1': -0.8}</td>\n",
       "      <td>0.275175</td>\n",
       "      <td>[AR, COL9A3, DNAH7, EGFR, ERBB4, ESR1, KRT16, ...</td>\n",
       "    </tr>\n",
       "  </tbody>\n",
       "</table>\n",
       "</div>"
      ],
      "text/plain": [
       "                    di        ss                ss_inter       dbi  \\\n",
       "go.BP         0.097523 -0.700000  {'1': -0.6, '0': -0.8}  0.180988   \n",
       "go.CC         0.181698 -1.000000  {'1': -1.0, '0': -1.0}  1.835614   \n",
       "go.MF         0.184877 -0.900000  {'1': -0.8, '0': -1.0}  1.962328   \n",
       "pathway.kegg  0.279293 -0.909091  {'0': -1.0, '1': -0.8}  0.275175   \n",
       "\n",
       "                                                     mapped_ids  \n",
       "go.BP         [AGR2, AR, CLSTN2, COL9A3, DNAH7, EGFR, ERBB4,...  \n",
       "go.CC         [AGR2, AR, CLSTN2, COL9A3, DNAH7, EGFR, ERBB4,...  \n",
       "go.MF         [AGR2, AR, CLSTN2, COL9A3, DNAH7, EGFR, ERBB4,...  \n",
       "pathway.kegg  [AR, COL9A3, DNAH7, EGFR, ERBB4, ESR1, KRT16, ...  "
      ]
     },
     "execution_count": 8,
     "metadata": {},
     "output_type": "execute_result"
    }
   ],
   "source": [
    "pd.DataFrame(results[\"input_values\"])"
   ]
  },
  {
   "cell_type": "markdown",
   "metadata": {},
   "source": [
    "#### Show visualization"
   ]
  },
  {
   "cell_type": "markdown",
   "metadata": {},
   "source": [
    "If flag for plot was set, you can see a plot with the p-values for every attribute and a mappability plot showing how many of the input ids had assigned values per attribute."
   ]
  },
  {
   "cell_type": "code",
   "execution_count": 18,
   "metadata": {},
   "outputs": [
    {
     "data": {
      "text/html": [
       "\n",
       "        <iframe\n",
       "            width=\"600\"\n",
       "            height=\"400\"\n",
       "            src=\"results/cluster_gene_symbol_complete_di_p-value.pdf\"\n",
       "            frameborder=\"0\"\n",
       "            allowfullscreen\n",
       "        ></iframe>\n",
       "        "
      ],
      "text/plain": [
       "<IPython.lib.display.IFrame at 0x7f0c5c3eaf70>"
      ]
     },
     "execution_count": 18,
     "metadata": {},
     "output_type": "execute_result"
    }
   ],
   "source": [
    "IFrame(out_dir+prefix+'_di_p-value.pdf', width=600, height=400)"
   ]
  },
  {
   "cell_type": "code",
   "execution_count": 20,
   "metadata": {
    "scrolled": true
   },
   "outputs": [
    {
     "data": {
      "text/html": [
       "\n",
       "        <iframe\n",
       "            width=\"600\"\n",
       "            height=\"400\"\n",
       "            src=\"results/cluster_gene_symbol_complete_mappability.pdf\"\n",
       "            frameborder=\"0\"\n",
       "            allowfullscreen\n",
       "        ></iframe>\n",
       "        "
      ],
      "text/plain": [
       "<IPython.lib.display.IFrame at 0x7f0c5c3ea700>"
      ]
     },
     "execution_count": 20,
     "metadata": {},
     "output_type": "execute_result"
    }
   ],
   "source": [
    "IFrame(out_dir+prefix+'_mappability.pdf', width=600, height=400)"
   ]
  },
  {
   "cell_type": "markdown",
   "metadata": {},
   "source": [
    "## Disease Cluster"
   ]
  },
  {
   "cell_type": "markdown",
   "metadata": {},
   "source": [
    "### Set input parameters"
   ]
  },
  {
   "cell_type": "code",
   "execution_count": 3,
   "metadata": {},
   "outputs": [],
   "source": [
    "# ==== define required input ====\n",
    "tar_set = \"input/target_disease_cluster.txt\"\n",
    "tar_id_type = \"ICD-10\"\n",
    "mode = \"cluster\"\n",
    "# ==== define optional input ====\n",
    "out_dir = \"results/\" \n",
    "background_model=\"complete\" # the only background model for clustering\n",
    "runs = 1000 # how many random runs for empirical p-value estimation\n",
    "perc = 100 # how many % of the original input should be perturbated for the background model\n",
    "plot=True # create plots for vizualisation from results\n",
    "verbose=True # printing additional information during the run\n",
    "prefix=\"cluster_disease_ICD-10_complete\""
   ]
  },
  {
   "cell_type": "markdown",
   "metadata": {},
   "source": [
    "### Run script"
   ]
  },
  {
   "cell_type": "code",
   "execution_count": 4,
   "metadata": {},
   "outputs": [
    {
     "name": "stdout",
     "output_type": "stream",
     "text": [
      "[00:00:00|152.57MB] Starting validation ...\n",
      "[00:00:00|152.57MB] Load mappings for input into cache ...\n",
      "[00:00:01|590.84MB] Load distances for input into cache ...\n",
      "[00:00:02|803.79MB] Load input data ...\n",
      "[00:00:02|804.43MB] Validation of input ...\n",
      "Missing values for disgenet.genes_related_to_disease :2/64\n",
      "Missing values for disgenet.variants_related_to_disease :7/64\n",
      "Missing values for ctd.pathway_related_to_disease :18/64\n",
      "[00:00:03|809.26MB] Validation of random runs ...\n",
      "[00:22:18|817.12MB] Save files\n",
      "[00:22:18|817.12MB] Finished validation\n"
     ]
    }
   ],
   "source": [
    "single_validation(tar=tar_set, tar_id=tar_id_type, mode=mode, out_dir=out_dir, prefix=prefix,\n",
    "                  background_model=background_model, runs=runs, replace=perc, verbose=verbose, plot=plot)"
   ]
  },
  {
   "cell_type": "markdown",
   "metadata": {},
   "source": [
    "### Inspect results"
   ]
  },
  {
   "cell_type": "code",
   "execution_count": 9,
   "metadata": {},
   "outputs": [],
   "source": [
    "with open(out_dir+prefix+'_result.json', 'r') as f:\n",
    "    results = json.load(f)"
   ]
  },
  {
   "cell_type": "markdown",
   "metadata": {},
   "source": [
    "Check all P-values"
   ]
  },
  {
   "cell_type": "code",
   "execution_count": 10,
   "metadata": {},
   "outputs": [
    {
     "data": {
      "text/html": [
       "<div>\n",
       "<style scoped>\n",
       "    .dataframe tbody tr th:only-of-type {\n",
       "        vertical-align: middle;\n",
       "    }\n",
       "\n",
       "    .dataframe tbody tr th {\n",
       "        vertical-align: top;\n",
       "    }\n",
       "\n",
       "    .dataframe thead th {\n",
       "        text-align: right;\n",
       "    }\n",
       "</style>\n",
       "<table border=\"1\" class=\"dataframe\">\n",
       "  <thead>\n",
       "    <tr style=\"text-align: right;\">\n",
       "      <th></th>\n",
       "      <th>di</th>\n",
       "      <th>ss</th>\n",
       "      <th>dbi</th>\n",
       "    </tr>\n",
       "  </thead>\n",
       "  <tbody>\n",
       "    <tr>\n",
       "      <th>disgenet.genes_related_to_disease</th>\n",
       "      <td>0.080919</td>\n",
       "      <td>0.346653</td>\n",
       "      <td>0.144855</td>\n",
       "    </tr>\n",
       "    <tr>\n",
       "      <th>disgenet.variants_related_to_disease</th>\n",
       "      <td>0.133866</td>\n",
       "      <td>0.069930</td>\n",
       "      <td>0.845155</td>\n",
       "    </tr>\n",
       "    <tr>\n",
       "      <th>ctd.pathway_related_to_disease</th>\n",
       "      <td>0.060939</td>\n",
       "      <td>0.225774</td>\n",
       "      <td>0.252747</td>\n",
       "    </tr>\n",
       "  </tbody>\n",
       "</table>\n",
       "</div>"
      ],
      "text/plain": [
       "                                            di        ss       dbi\n",
       "disgenet.genes_related_to_disease     0.080919  0.346653  0.144855\n",
       "disgenet.variants_related_to_disease  0.133866  0.069930  0.845155\n",
       "ctd.pathway_related_to_disease        0.060939  0.225774  0.252747"
      ]
     },
     "execution_count": 10,
     "metadata": {},
     "output_type": "execute_result"
    }
   ],
   "source": [
    "pd.DataFrame(results[\"p_values\"])"
   ]
  },
  {
   "cell_type": "markdown",
   "metadata": {},
   "source": [
    "Check validation values of input cluster"
   ]
  },
  {
   "cell_type": "code",
   "execution_count": 11,
   "metadata": {},
   "outputs": [
    {
     "data": {
      "text/html": [
       "<div>\n",
       "<style scoped>\n",
       "    .dataframe tbody tr th:only-of-type {\n",
       "        vertical-align: middle;\n",
       "    }\n",
       "\n",
       "    .dataframe tbody tr th {\n",
       "        vertical-align: top;\n",
       "    }\n",
       "\n",
       "    .dataframe thead th {\n",
       "        text-align: right;\n",
       "    }\n",
       "</style>\n",
       "<table border=\"1\" class=\"dataframe\">\n",
       "  <thead>\n",
       "    <tr style=\"text-align: right;\">\n",
       "      <th></th>\n",
       "      <th>di</th>\n",
       "      <th>ss</th>\n",
       "      <th>ss_inter</th>\n",
       "      <th>dbi</th>\n",
       "      <th>mapped_ids</th>\n",
       "    </tr>\n",
       "  </thead>\n",
       "  <tbody>\n",
       "    <tr>\n",
       "      <th>disgenet.genes_related_to_disease</th>\n",
       "      <td>0.000348</td>\n",
       "      <td>-0.990557</td>\n",
       "      <td>{'8': -1.0, '4': -0.986219324225794, '7': -1.0...</td>\n",
       "      <td>780.645289</td>\n",
       "      <td>[I00, I01, I02, I05, I06, I09, I10, I11, I12, ...</td>\n",
       "    </tr>\n",
       "    <tr>\n",
       "      <th>disgenet.variants_related_to_disease</th>\n",
       "      <td>0.000020</td>\n",
       "      <td>-0.664652</td>\n",
       "      <td>{'8': -0.19666292222898646, '7': -0.3540285312...</td>\n",
       "      <td>6075.650277</td>\n",
       "      <td>[I00, I01, I02, I05, I06, I09, I10, I11, I12, ...</td>\n",
       "    </tr>\n",
       "    <tr>\n",
       "      <th>ctd.pathway_related_to_disease</th>\n",
       "      <td>0.001232</td>\n",
       "      <td>-0.881844</td>\n",
       "      <td>{'4': -1.0, '5': -1.0, '3': -1.0, '1': 0.0, '6...</td>\n",
       "      <td>140.398352</td>\n",
       "      <td>[I00, I06, I10, I11, I12, I13, I14, I15, I20, ...</td>\n",
       "    </tr>\n",
       "  </tbody>\n",
       "</table>\n",
       "</div>"
      ],
      "text/plain": [
       "                                            di        ss  \\\n",
       "disgenet.genes_related_to_disease     0.000348 -0.990557   \n",
       "disgenet.variants_related_to_disease  0.000020 -0.664652   \n",
       "ctd.pathway_related_to_disease        0.001232 -0.881844   \n",
       "\n",
       "                                                                               ss_inter  \\\n",
       "disgenet.genes_related_to_disease     {'8': -1.0, '4': -0.986219324225794, '7': -1.0...   \n",
       "disgenet.variants_related_to_disease  {'8': -0.19666292222898646, '7': -0.3540285312...   \n",
       "ctd.pathway_related_to_disease        {'4': -1.0, '5': -1.0, '3': -1.0, '1': 0.0, '6...   \n",
       "\n",
       "                                              dbi  \\\n",
       "disgenet.genes_related_to_disease      780.645289   \n",
       "disgenet.variants_related_to_disease  6075.650277   \n",
       "ctd.pathway_related_to_disease         140.398352   \n",
       "\n",
       "                                                                             mapped_ids  \n",
       "disgenet.genes_related_to_disease     [I00, I01, I02, I05, I06, I09, I10, I11, I12, ...  \n",
       "disgenet.variants_related_to_disease  [I00, I01, I02, I05, I06, I09, I10, I11, I12, ...  \n",
       "ctd.pathway_related_to_disease        [I00, I06, I10, I11, I12, I13, I14, I15, I20, ...  "
      ]
     },
     "execution_count": 11,
     "metadata": {},
     "output_type": "execute_result"
    }
   ],
   "source": [
    "pd.DataFrame(results[\"input_values\"])"
   ]
  },
  {
   "cell_type": "markdown",
   "metadata": {},
   "source": [
    "#### Show visualization"
   ]
  },
  {
   "cell_type": "markdown",
   "metadata": {},
   "source": [
    "If flag for plot was set, you can see a plot with the p-values for every attribute and a mappability plot showing how many of the input ids had assigned values per attribute."
   ]
  },
  {
   "cell_type": "code",
   "execution_count": 12,
   "metadata": {
    "scrolled": true
   },
   "outputs": [
    {
     "data": {
      "text/html": [
       "\n",
       "        <iframe\n",
       "            width=\"600\"\n",
       "            height=\"400\"\n",
       "            src=\"results/cluster_disease_ICD-10_complete_di_p-value.pdf\"\n",
       "            frameborder=\"0\"\n",
       "            allowfullscreen\n",
       "        ></iframe>\n",
       "        "
      ],
      "text/plain": [
       "<IPython.lib.display.IFrame at 0x7f25e0c8efa0>"
      ]
     },
     "execution_count": 12,
     "metadata": {},
     "output_type": "execute_result"
    }
   ],
   "source": [
    "IFrame(out_dir+prefix+'_di_p-value.pdf', width=600, height=400)"
   ]
  },
  {
   "cell_type": "code",
   "execution_count": 13,
   "metadata": {
    "scrolled": true
   },
   "outputs": [
    {
     "data": {
      "text/html": [
       "\n",
       "        <iframe\n",
       "            width=\"600\"\n",
       "            height=\"400\"\n",
       "            src=\"results/cluster_disease_ICD-10_complete_mappability.pdf\"\n",
       "            frameborder=\"0\"\n",
       "            allowfullscreen\n",
       "        ></iframe>\n",
       "        "
      ],
      "text/plain": [
       "<IPython.lib.display.IFrame at 0x7f2578c455e0>"
      ]
     },
     "execution_count": 13,
     "metadata": {},
     "output_type": "execute_result"
    }
   ],
   "source": [
    "IFrame(out_dir+prefix+'_mappability.pdf', width=600, height=400)"
   ]
  },
  {
   "cell_type": "markdown",
   "metadata": {},
   "source": [
    "## Set itself"
   ]
  },
  {
   "cell_type": "markdown",
   "metadata": {},
   "source": [
    "Validate a set by reference, either reference set or id, or reference-free. Two background models can be used. "
   ]
  },
  {
   "cell_type": "markdown",
   "metadata": {},
   "source": [
    "## Disease Set"
   ]
  },
  {
   "cell_type": "markdown",
   "metadata": {},
   "source": [
    "### Set input parameters"
   ]
  },
  {
   "cell_type": "code",
   "execution_count": 15,
   "metadata": {},
   "outputs": [],
   "source": [
    "# ==== define required input ====\n",
    "tar_set = \"input/target_disease_set.txt\"\n",
    "tar_id_type = \"mesh\"\n",
    "mode = \"set\"\n",
    "# ==== define optional input ====\n",
    "out_dir = \"results/\" \n",
    "background_model=\"term-pres\" # the only background model for clustering\n",
    "runs = 1000 # how many random runs for empirical p-value estimation\n",
    "perc = 100 # how many % of the original input should be perturbated for the background model\n",
    "plot=True # create plots for vizualisation from results\n",
    "verbose=True # printing additional information during the run\n",
    "prefix=\"set_disease_mesh_term-pres\""
   ]
  },
  {
   "cell_type": "markdown",
   "metadata": {},
   "source": [
    "### Run script"
   ]
  },
  {
   "cell_type": "code",
   "execution_count": 17,
   "metadata": {},
   "outputs": [
    {
     "name": "stdout",
     "output_type": "stream",
     "text": [
      "[00:00:00|857.46MB] Starting validation ...\n",
      "[00:00:00|857.46MB] Load mappings for input into cache ...\n",
      "[00:00:01|856.39MB] Load distances for input into cache ...\n",
      "[00:00:02|906.50MB] Validation of input ...\n",
      "[00:00:02|906.50MB] Validation of random runs ...\n",
      "[00:00:27|907.19MB] Calculating p-values ...\n",
      "[00:00:27|907.19MB] Save files\n",
      "[00:00:27|907.19MB] Finished validation\n"
     ]
    }
   ],
   "source": [
    "single_validation(tar=tar_set, tar_id=tar_id_type, mode=mode, out_dir=out_dir, prefix=prefix,\n",
    "                  background_model=background_model, runs=runs, replace=perc, verbose=verbose, plot=plot)"
   ]
  },
  {
   "cell_type": "markdown",
   "metadata": {},
   "source": [
    "### Inspect results"
   ]
  },
  {
   "cell_type": "code",
   "execution_count": 20,
   "metadata": {},
   "outputs": [],
   "source": [
    "with open(out_dir+prefix+'_result.json', 'r') as f:\n",
    "    results = json.load(f)"
   ]
  },
  {
   "cell_type": "markdown",
   "metadata": {},
   "source": [
    "Check all P-values"
   ]
  },
  {
   "cell_type": "code",
   "execution_count": 23,
   "metadata": {},
   "outputs": [
    {
     "data": {
      "text/plain": [
       "{'disgenet.genes_related_to_disease': 0.027972027972027972,\n",
       " 'disgenet.variants_related_to_disease': 0.00999000999000999,\n",
       " 'ctd.pathway_related_to_disease': 0.026973026973026972}"
      ]
     },
     "execution_count": 23,
     "metadata": {},
     "output_type": "execute_result"
    }
   ],
   "source": [
    "results[\"p_values\"]"
   ]
  },
  {
   "cell_type": "markdown",
   "metadata": {},
   "source": [
    "Check validation values of input cluster"
   ]
  },
  {
   "cell_type": "code",
   "execution_count": 24,
   "metadata": {},
   "outputs": [
    {
     "data": {
      "text/html": [
       "<div>\n",
       "<style scoped>\n",
       "    .dataframe tbody tr th:only-of-type {\n",
       "        vertical-align: middle;\n",
       "    }\n",
       "\n",
       "    .dataframe tbody tr th {\n",
       "        vertical-align: top;\n",
       "    }\n",
       "\n",
       "    .dataframe thead th {\n",
       "        text-align: right;\n",
       "    }\n",
       "</style>\n",
       "<table border=\"1\" class=\"dataframe\">\n",
       "  <thead>\n",
       "    <tr style=\"text-align: right;\">\n",
       "      <th></th>\n",
       "      <th>value</th>\n",
       "      <th>mapped_ids</th>\n",
       "    </tr>\n",
       "  </thead>\n",
       "  <tbody>\n",
       "    <tr>\n",
       "      <th>disgenet.genes_related_to_disease</th>\n",
       "      <td>1.188217</td>\n",
       "      <td>[D000544, D001249, D003704, D003924, D006333, ...</td>\n",
       "    </tr>\n",
       "    <tr>\n",
       "      <th>disgenet.variants_related_to_disease</th>\n",
       "      <td>0.200375</td>\n",
       "      <td>[D000544, D001249, D003704, D003924, D006333, ...</td>\n",
       "    </tr>\n",
       "    <tr>\n",
       "      <th>ctd.pathway_related_to_disease</th>\n",
       "      <td>2.738386</td>\n",
       "      <td>[D000544, D001249, D003704, D003924, D006333, ...</td>\n",
       "    </tr>\n",
       "  </tbody>\n",
       "</table>\n",
       "</div>"
      ],
      "text/plain": [
       "                                         value  \\\n",
       "disgenet.genes_related_to_disease     1.188217   \n",
       "disgenet.variants_related_to_disease  0.200375   \n",
       "ctd.pathway_related_to_disease        2.738386   \n",
       "\n",
       "                                                                             mapped_ids  \n",
       "disgenet.genes_related_to_disease     [D000544, D001249, D003704, D003924, D006333, ...  \n",
       "disgenet.variants_related_to_disease  [D000544, D001249, D003704, D003924, D006333, ...  \n",
       "ctd.pathway_related_to_disease        [D000544, D001249, D003704, D003924, D006333, ...  "
      ]
     },
     "execution_count": 24,
     "metadata": {},
     "output_type": "execute_result"
    }
   ],
   "source": [
    "pd.DataFrame(results[\"input_values\"])"
   ]
  },
  {
   "cell_type": "markdown",
   "metadata": {},
   "source": [
    "#### Show visualization"
   ]
  },
  {
   "cell_type": "markdown",
   "metadata": {},
   "source": [
    "If flag for plot was set, you can see a plot with the p-values for every attribute and a mappability plot showing how many of the input ids had assigned values per attribute."
   ]
  },
  {
   "cell_type": "code",
   "execution_count": 25,
   "metadata": {
    "scrolled": true
   },
   "outputs": [
    {
     "data": {
      "text/html": [
       "\n",
       "        <iframe\n",
       "            width=\"600\"\n",
       "            height=\"400\"\n",
       "            src=\"results/set_disease_mesh_term-pres_p-value.pdf\"\n",
       "            frameborder=\"0\"\n",
       "            allowfullscreen\n",
       "        ></iframe>\n",
       "        "
      ],
      "text/plain": [
       "<IPython.lib.display.IFrame at 0x7f2578c450d0>"
      ]
     },
     "execution_count": 25,
     "metadata": {},
     "output_type": "execute_result"
    }
   ],
   "source": [
    "IFrame(out_dir+prefix+'_p-value.pdf', width=600, height=400)"
   ]
  },
  {
   "cell_type": "code",
   "execution_count": 26,
   "metadata": {
    "scrolled": true
   },
   "outputs": [
    {
     "data": {
      "text/html": [
       "\n",
       "        <iframe\n",
       "            width=\"600\"\n",
       "            height=\"400\"\n",
       "            src=\"results/set_disease_mesh_term-pres_mappability.pdf\"\n",
       "            frameborder=\"0\"\n",
       "            allowfullscreen\n",
       "        ></iframe>\n",
       "        "
      ],
      "text/plain": [
       "<IPython.lib.display.IFrame at 0x7f257a1ecd30>"
      ]
     },
     "execution_count": 26,
     "metadata": {},
     "output_type": "execute_result"
    }
   ],
   "source": [
    "IFrame(out_dir+prefix+'_mappability.pdf', width=600, height=400)"
   ]
  },
  {
   "cell_type": "markdown",
   "metadata": {},
   "source": [
    "## Gene Set"
   ]
  },
  {
   "cell_type": "markdown",
   "metadata": {},
   "source": [
    "### Set input parameters"
   ]
  },
  {
   "cell_type": "code",
   "execution_count": 28,
   "metadata": {},
   "outputs": [],
   "source": [
    "# ==== define required input ====\n",
    "tar_set = \"input/target_gene_set.txt\"\n",
    "tar_id_type = \"symbol\"\n",
    "ref_set = \"input/reference_gene_set.txt\"\n",
    "ref_id_type = \"symbol\"\n",
    "mode = \"set-set\"\n",
    "# ==== define optional input ====\n",
    "out_dir = \"results/\" \n",
    "enriched=True # only enriched values of reference set are used\n",
    "background_model=\"term-pres\" # the only background model for clustering\n",
    "runs = 1000 # how many random runs for empirical p-value estimation\n",
    "perc = 100 # how many % of the original input should be perturbated for the background model\n",
    "plot=True # create plots for vizualisation from results\n",
    "verbose=True # printing additional information during the run\n",
    "prefix=\"set-set_gene_symbol_term-pres\""
   ]
  },
  {
   "cell_type": "markdown",
   "metadata": {},
   "source": [
    "### Run script"
   ]
  },
  {
   "cell_type": "code",
   "execution_count": 36,
   "metadata": {},
   "outputs": [
    {
     "name": "stdout",
     "output_type": "stream",
     "text": [
      "[00:00:00|933.12MB] Starting validation ...\n",
      "[00:00:00|933.12MB] Load mappings for input into cache ...\n",
      "[00:00:17|932.88MB] Validation of input ...\n",
      "[00:00:17|932.88MB] Validation of random runs ...\n",
      "[00:02:03|933.33MB] Calculating p-values ...\n",
      "[00:02:03|933.33MB] Save files\n",
      "[00:02:03|933.33MB] Finished validation\n"
     ]
    }
   ],
   "source": [
    "single_validation(tar=tar_set, tar_id=tar_id_type, ref=ref_set, ref_id=ref_id_type, mode=mode, \n",
    "                  out_dir=out_dir, runs=runs, background_model=background_model, verbose=verbose, \n",
    "                  enriched=enriched, prefix=prefix, plot=plot)"
   ]
  },
  {
   "cell_type": "markdown",
   "metadata": {},
   "source": [
    "### Inspect results"
   ]
  },
  {
   "cell_type": "code",
   "execution_count": 37,
   "metadata": {},
   "outputs": [],
   "source": [
    "with open(out_dir+prefix+'_result.json', 'r') as f:\n",
    "    results = json.load(f)"
   ]
  },
  {
   "cell_type": "markdown",
   "metadata": {},
   "source": [
    "Check all P-values"
   ]
  },
  {
   "cell_type": "code",
   "execution_count": 38,
   "metadata": {},
   "outputs": [
    {
     "data": {
      "text/plain": [
       "{'go.BP': 0.000999000999000999,\n",
       " 'go.CC': 0.000999000999000999,\n",
       " 'go.MF': 0.004995004995004995,\n",
       " 'pathway.kegg': 1.0}"
      ]
     },
     "execution_count": 38,
     "metadata": {},
     "output_type": "execute_result"
    }
   ],
   "source": [
    "results[\"p_values\"]"
   ]
  },
  {
   "cell_type": "markdown",
   "metadata": {},
   "source": [
    "Check validation values of input cluster"
   ]
  },
  {
   "cell_type": "code",
   "execution_count": 39,
   "metadata": {},
   "outputs": [
    {
     "data": {
      "text/html": [
       "<div>\n",
       "<style scoped>\n",
       "    .dataframe tbody tr th:only-of-type {\n",
       "        vertical-align: middle;\n",
       "    }\n",
       "\n",
       "    .dataframe tbody tr th {\n",
       "        vertical-align: top;\n",
       "    }\n",
       "\n",
       "    .dataframe thead th {\n",
       "        text-align: right;\n",
       "    }\n",
       "</style>\n",
       "<table border=\"1\" class=\"dataframe\">\n",
       "  <thead>\n",
       "    <tr style=\"text-align: right;\">\n",
       "      <th></th>\n",
       "      <th>value</th>\n",
       "      <th>mapped_ids</th>\n",
       "    </tr>\n",
       "  </thead>\n",
       "  <tbody>\n",
       "    <tr>\n",
       "      <th>go.BP</th>\n",
       "      <td>0.625</td>\n",
       "      <td>[A2M, ABCA7, ACE, AD10, AD11, AD12, AD13, AD14...</td>\n",
       "    </tr>\n",
       "    <tr>\n",
       "      <th>go.CC</th>\n",
       "      <td>0.65</td>\n",
       "      <td>[A2M, ABCA7, ACE, AD10, AD11, AD12, AD13, AD14...</td>\n",
       "    </tr>\n",
       "    <tr>\n",
       "      <th>go.MF</th>\n",
       "      <td>0.35</td>\n",
       "      <td>[A2M, ABCA7, ACE, AD10, AD11, AD12, AD13, AD14...</td>\n",
       "    </tr>\n",
       "    <tr>\n",
       "      <th>pathway.kegg</th>\n",
       "      <td>0.0</td>\n",
       "      <td>[A2M, ABCA7, ACE, AD10, AD11, AD12, AD13, AD14...</td>\n",
       "    </tr>\n",
       "  </tbody>\n",
       "</table>\n",
       "</div>"
      ],
      "text/plain": [
       "              value                                         mapped_ids\n",
       "go.BP         0.625  [A2M, ABCA7, ACE, AD10, AD11, AD12, AD13, AD14...\n",
       "go.CC          0.65  [A2M, ABCA7, ACE, AD10, AD11, AD12, AD13, AD14...\n",
       "go.MF          0.35  [A2M, ABCA7, ACE, AD10, AD11, AD12, AD13, AD14...\n",
       "pathway.kegg    0.0  [A2M, ABCA7, ACE, AD10, AD11, AD12, AD13, AD14..."
      ]
     },
     "execution_count": 39,
     "metadata": {},
     "output_type": "execute_result"
    }
   ],
   "source": [
    "pd.DataFrame(results[\"input_values\"])"
   ]
  },
  {
   "cell_type": "markdown",
   "metadata": {},
   "source": [
    "#### Show visualization"
   ]
  },
  {
   "cell_type": "markdown",
   "metadata": {},
   "source": [
    "If flag for plot was set, you can see a plot with the p-values for every attribute and a mappability plot showing how many of the input ids had assigned values per attribute."
   ]
  },
  {
   "cell_type": "code",
   "execution_count": 40,
   "metadata": {},
   "outputs": [
    {
     "data": {
      "text/html": [
       "\n",
       "        <iframe\n",
       "            width=\"600\"\n",
       "            height=\"400\"\n",
       "            src=\"results/set-set_gene_symbol_term-pres_p-value.pdf\"\n",
       "            frameborder=\"0\"\n",
       "            allowfullscreen\n",
       "        ></iframe>\n",
       "        "
      ],
      "text/plain": [
       "<IPython.lib.display.IFrame at 0x7f25e0c7ab80>"
      ]
     },
     "execution_count": 40,
     "metadata": {},
     "output_type": "execute_result"
    }
   ],
   "source": [
    "IFrame(out_dir+prefix+'_p-value.pdf', width=600, height=400)"
   ]
  },
  {
   "cell_type": "code",
   "execution_count": 41,
   "metadata": {
    "scrolled": true
   },
   "outputs": [
    {
     "data": {
      "text/html": [
       "\n",
       "        <iframe\n",
       "            width=\"600\"\n",
       "            height=\"400\"\n",
       "            src=\"results/set-set_gene_symbol_term-pres_mappability.pdf\"\n",
       "            frameborder=\"0\"\n",
       "            allowfullscreen\n",
       "        ></iframe>\n",
       "        "
      ],
      "text/plain": [
       "<IPython.lib.display.IFrame at 0x7f257a92e190>"
      ]
     },
     "execution_count": 41,
     "metadata": {},
     "output_type": "execute_result"
    }
   ],
   "source": [
    "IFrame(out_dir+prefix+'_mappability.pdf', width=600, height=400)"
   ]
  },
  {
   "cell_type": "code",
   "execution_count": null,
   "metadata": {},
   "outputs": [],
   "source": []
  },
  {
   "cell_type": "code",
   "execution_count": null,
   "metadata": {},
   "outputs": [],
   "source": []
  },
  {
   "cell_type": "code",
   "execution_count": null,
   "metadata": {},
   "outputs": [],
   "source": []
  },
  {
   "cell_type": "code",
   "execution_count": null,
   "metadata": {},
   "outputs": [],
   "source": []
  }
 ],
 "metadata": {
  "kernelspec": {
   "display_name": "Python 3",
   "language": "python",
   "name": "python3"
  },
  "language_info": {
   "codemirror_mode": {
    "name": "ipython",
    "version": 3
   },
   "file_extension": ".py",
   "mimetype": "text/x-python",
   "name": "python",
   "nbconvert_exporter": "python",
   "pygments_lexer": "ipython3",
   "version": "3.8.10"
  }
 },
 "nbformat": 4,
 "nbformat_minor": 4
}
