{
 "cells": [
  {
   "cell_type": "markdown",
   "metadata": {},
   "source": [
    "# Testing environment for DoSE"
   ]
  },
  {
   "cell_type": "markdown",
   "metadata": {},
   "source": [
    "## Setup"
   ]
  },
  {
   "cell_type": "markdown",
   "metadata": {},
   "source": [
    "### Load libraries"
   ]
  },
  {
   "cell_type": "code",
   "execution_count": 33,
   "metadata": {},
   "outputs": [],
   "source": [
    "import pandas as pd\n",
    "import gseapy\n",
    "from biothings_client import get_client"
   ]
  },
  {
   "cell_type": "markdown",
   "metadata": {},
   "source": [
    "### Define data"
   ]
  },
  {
   "cell_type": "code",
   "execution_count": 3,
   "metadata": {},
   "outputs": [],
   "source": [
    "seeds_file = \"Input/0007079.txt\"\n",
    "betweenness_file = \"Input/0007079_added_200_dmd_betweenness_hub_0.01.txt\"\n",
    "significance_file = \"Input/0007079_added_200_dmd_significance_hub_1.txt\"\n",
    "diseases_file = \"Input/ICD10_commROCG_raw.txt\"\n",
    "disease_clusters_file = \"Input/ICD10_commROCG_cluster.txt\""
   ]
  },
  {
   "cell_type": "markdown",
   "metadata": {},
   "source": [
    "### Load data"
   ]
  },
  {
   "cell_type": "code",
   "execution_count": 5,
   "metadata": {},
   "outputs": [],
   "source": [
    "seeds = pd.read_csv(seeds_file, sep=\"\\t\", header=None)[0]\n",
    "betweenness = pd.read_csv(betweenness_file, sep=\"\\t\")['node']\n",
    "significance = pd.read_csv(significance_file, sep=\"\\t\")['node']\n",
    "diseases = pd.read_csv(diseases_file, sep=\"\\t\", header=None)\n",
    "disease_clusters = pd.read_csv(disease_clusters_file, sep=\"\\t\", header=None)"
   ]
  },
  {
   "cell_type": "code",
   "execution_count": 6,
   "metadata": {},
   "outputs": [
    {
     "name": "stdout",
     "output_type": "stream",
     "text": [
      "Time:  2.2973000000092725e-05\n"
     ]
    }
   ],
   "source": [
    "import timeit\n",
    "start = timeit.default_timer()\n",
    "\n",
    "stop = timeit.default_timer()\n",
    "print('Time: ', stop - start)  "
   ]
  },
  {
   "cell_type": "markdown",
   "metadata": {},
   "source": [
    "## Mapper"
   ]
  },
  {
   "cell_type": "code",
   "execution_count": 34,
   "metadata": {},
   "outputs": [],
   "source": [
    "mg = get_client(\"gene\")"
   ]
  },
  {
   "cell_type": "code",
   "execution_count": 65,
   "metadata": {},
   "outputs": [],
   "source": [
    "def get_gene_mapping(mg, gene_set):\n",
    "    \"\"\"\n",
    "    Simple converter.\n",
    "\n",
    "    :param gene_set: Set of gene ids\n",
    "    :return: Dataframe\n",
    "    \"\"\"\n",
    "    return mg.querymany(gene_set, scopes='uniprot.Swiss-Prot,symbol,ensembl.gene,entrezgene',\n",
    "                        fields='symbol',\n",
    "                        species='human', returnall=False, as_dataframe=True, df_index=False)\n",
    "\n",
    "def get_gene_to_keggpathway(mg, gene_set):\n",
    "    \"\"\"\n",
    "    Simple converter.\n",
    "\n",
    "    :param gene_set: Set of gene ids\n",
    "    :return: Dataframe\n",
    "    \"\"\"\n",
    "    return mg.querymany(gene_set, scopes='uniprot.Swiss-Prot,symbol,ensembl.gene,entrezgene',\n",
    "                        fields='pathway.kegg.id',\n",
    "                        species='human', returnall=False, as_dataframe=True, df_index=False)"
   ]
  },
  {
   "cell_type": "code",
   "execution_count": 66,
   "metadata": {},
   "outputs": [
    {
     "name": "stdout",
     "output_type": "stream",
     "text": [
      "querying 1-4...done.\n",
      "Finished.\n",
      "querying 1-200...done.\n",
      "Finished.\n",
      "1 input query terms found dup hits:\n",
      "\t[('P34998', 2)]\n",
      "Pass \"returnall=True\" to return complete lists of duplicate or missing query terms.\n",
      "Time:  3.1941767309999705\n"
     ]
    }
   ],
   "source": [
    "start = timeit.default_timer()\n",
    "reference_mapping = get_gene_mapping(mg,seeds)\n",
    "target_mapping = get_gene_mapping(mg,significance)\n",
    "stop = timeit.default_timer()\n",
    "print('Time: ', stop - start)"
   ]
  },
  {
   "cell_type": "code",
   "execution_count": 67,
   "metadata": {},
   "outputs": [
    {
     "data": {
      "text/html": [
       "<div>\n",
       "<style scoped>\n",
       "    .dataframe tbody tr th:only-of-type {\n",
       "        vertical-align: middle;\n",
       "    }\n",
       "\n",
       "    .dataframe tbody tr th {\n",
       "        vertical-align: top;\n",
       "    }\n",
       "\n",
       "    .dataframe thead th {\n",
       "        text-align: right;\n",
       "    }\n",
       "</style>\n",
       "<table border=\"1\" class=\"dataframe\">\n",
       "  <thead>\n",
       "    <tr style=\"text-align: right;\">\n",
       "      <th></th>\n",
       "      <th>query</th>\n",
       "      <th>_id</th>\n",
       "      <th>_score</th>\n",
       "      <th>symbol</th>\n",
       "    </tr>\n",
       "  </thead>\n",
       "  <tbody>\n",
       "    <tr>\n",
       "      <th>43</th>\n",
       "      <td>P34998</td>\n",
       "      <td>1394</td>\n",
       "      <td>16.838882</td>\n",
       "      <td>CRHR1</td>\n",
       "    </tr>\n",
       "    <tr>\n",
       "      <th>44</th>\n",
       "      <td>P34998</td>\n",
       "      <td>104909134</td>\n",
       "      <td>16.356878</td>\n",
       "      <td>LINC02210-CRHR1</td>\n",
       "    </tr>\n",
       "  </tbody>\n",
       "</table>\n",
       "</div>"
      ],
      "text/plain": [
       "     query        _id     _score           symbol\n",
       "43  P34998       1394  16.838882            CRHR1\n",
       "44  P34998  104909134  16.356878  LINC02210-CRHR1"
      ]
     },
     "execution_count": 67,
     "metadata": {},
     "output_type": "execute_result"
    }
   ],
   "source": [
    "target_mapping[target_mapping['query']=='P34998']"
   ]
  },
  {
   "cell_type": "code",
   "execution_count": 68,
   "metadata": {},
   "outputs": [
    {
     "name": "stdout",
     "output_type": "stream",
     "text": [
      "querying 1-4...done.\n",
      "Finished.\n",
      "querying 1-200...done.\n",
      "Finished.\n",
      "1 input query terms found dup hits:\n",
      "\t[('P34998', 2)]\n",
      "Pass \"returnall=True\" to return complete lists of duplicate or missing query terms.\n",
      "Time:  3.4341397289999804\n"
     ]
    }
   ],
   "source": [
    "start = timeit.default_timer()\n",
    "reference_kegg_mapping = get_gene_to_keggpathway(mg,seeds)\n",
    "target_kegg_mapping = get_gene_to_keggpathway(mg,significance)\n",
    "stop = timeit.default_timer()\n",
    "print('Time: ', stop - start)"
   ]
  },
  {
   "cell_type": "code",
   "execution_count": 69,
   "metadata": {},
   "outputs": [
    {
     "data": {
      "text/html": [
       "<div>\n",
       "<style scoped>\n",
       "    .dataframe tbody tr th:only-of-type {\n",
       "        vertical-align: middle;\n",
       "    }\n",
       "\n",
       "    .dataframe tbody tr th {\n",
       "        vertical-align: top;\n",
       "    }\n",
       "\n",
       "    .dataframe thead th {\n",
       "        text-align: right;\n",
       "    }\n",
       "</style>\n",
       "<table border=\"1\" class=\"dataframe\">\n",
       "  <thead>\n",
       "    <tr style=\"text-align: right;\">\n",
       "      <th></th>\n",
       "      <th>query</th>\n",
       "      <th>_id</th>\n",
       "      <th>_score</th>\n",
       "      <th>pathway.kegg</th>\n",
       "      <th>pathway.kegg.id</th>\n",
       "    </tr>\n",
       "  </thead>\n",
       "  <tbody>\n",
       "    <tr>\n",
       "      <th>43</th>\n",
       "      <td>P34998</td>\n",
       "      <td>104909134</td>\n",
       "      <td>16.818409</td>\n",
       "      <td>NaN</td>\n",
       "      <td>NaN</td>\n",
       "    </tr>\n",
       "    <tr>\n",
       "      <th>44</th>\n",
       "      <td>P34998</td>\n",
       "      <td>1394</td>\n",
       "      <td>16.644955</td>\n",
       "      <td>[{'id': 'hsa04080'}, {'id': 'hsa04730'}, {'id'...</td>\n",
       "      <td>NaN</td>\n",
       "    </tr>\n",
       "  </tbody>\n",
       "</table>\n",
       "</div>"
      ],
      "text/plain": [
       "     query        _id     _score  \\\n",
       "43  P34998  104909134  16.818409   \n",
       "44  P34998       1394  16.644955   \n",
       "\n",
       "                                         pathway.kegg pathway.kegg.id  \n",
       "43                                                NaN             NaN  \n",
       "44  [{'id': 'hsa04080'}, {'id': 'hsa04730'}, {'id'...             NaN  "
      ]
     },
     "execution_count": 69,
     "metadata": {},
     "output_type": "execute_result"
    }
   ],
   "source": [
    "target_kegg_mapping[target_kegg_mapping['query']=='P34998']"
   ]
  },
  {
   "cell_type": "code",
   "execution_count": 38,
   "metadata": {},
   "outputs": [],
   "source": [
    "md = get_client(\"disease\")"
   ]
  },
  {
   "cell_type": "code",
   "execution_count": 58,
   "metadata": {},
   "outputs": [],
   "source": [
    "def get_disease_mapping(md, diseases):\n",
    "    \"\"\"\n",
    "    Simple converter.\n",
    "\n",
    "    :param gene_set: Set of gene ids\n",
    "    :return: Dataframe\n",
    "    \"\"\"\n",
    "    return md.getdiseases(diseases,\n",
    "                          fields='disgenet.genes_related_to_disease.gene_iddisgenet.variants_related_to_disease.rsid',\n",
    "                          species='human', returnall=False, as_dataframe=True, df_index=False)"
   ]
  },
  {
   "cell_type": "code",
   "execution_count": 59,
   "metadata": {},
   "outputs": [
    {
     "name": "stdout",
     "output_type": "stream",
     "text": [
      "querying 1-25...done.\n",
      "Finished.\n",
      "25 input query terms found no hit:\n",
      "\t['E10', 'E11', 'E12', 'E13', 'E14', 'E66', 'F00', 'F01', 'F02', 'F03', 'G20', 'G30', 'G43', 'I10', '\n",
      "Pass \"returnall=True\" to return complete lists of duplicate or missing query terms.\n"
     ]
    },
    {
     "data": {
      "text/html": [
       "<div>\n",
       "<style scoped>\n",
       "    .dataframe tbody tr th:only-of-type {\n",
       "        vertical-align: middle;\n",
       "    }\n",
       "\n",
       "    .dataframe tbody tr th {\n",
       "        vertical-align: top;\n",
       "    }\n",
       "\n",
       "    .dataframe thead th {\n",
       "        text-align: right;\n",
       "    }\n",
       "</style>\n",
       "<table border=\"1\" class=\"dataframe\">\n",
       "  <thead>\n",
       "    <tr style=\"text-align: right;\">\n",
       "      <th></th>\n",
       "      <th>query</th>\n",
       "      <th>notfound</th>\n",
       "    </tr>\n",
       "  </thead>\n",
       "  <tbody>\n",
       "    <tr>\n",
       "      <th>0</th>\n",
       "      <td>E10</td>\n",
       "      <td>True</td>\n",
       "    </tr>\n",
       "    <tr>\n",
       "      <th>1</th>\n",
       "      <td>E11</td>\n",
       "      <td>True</td>\n",
       "    </tr>\n",
       "    <tr>\n",
       "      <th>2</th>\n",
       "      <td>E12</td>\n",
       "      <td>True</td>\n",
       "    </tr>\n",
       "    <tr>\n",
       "      <th>3</th>\n",
       "      <td>E13</td>\n",
       "      <td>True</td>\n",
       "    </tr>\n",
       "    <tr>\n",
       "      <th>4</th>\n",
       "      <td>E14</td>\n",
       "      <td>True</td>\n",
       "    </tr>\n",
       "    <tr>\n",
       "      <th>5</th>\n",
       "      <td>E66</td>\n",
       "      <td>True</td>\n",
       "    </tr>\n",
       "    <tr>\n",
       "      <th>6</th>\n",
       "      <td>F00</td>\n",
       "      <td>True</td>\n",
       "    </tr>\n",
       "    <tr>\n",
       "      <th>7</th>\n",
       "      <td>F01</td>\n",
       "      <td>True</td>\n",
       "    </tr>\n",
       "    <tr>\n",
       "      <th>8</th>\n",
       "      <td>F02</td>\n",
       "      <td>True</td>\n",
       "    </tr>\n",
       "    <tr>\n",
       "      <th>9</th>\n",
       "      <td>F03</td>\n",
       "      <td>True</td>\n",
       "    </tr>\n",
       "    <tr>\n",
       "      <th>10</th>\n",
       "      <td>G20</td>\n",
       "      <td>True</td>\n",
       "    </tr>\n",
       "    <tr>\n",
       "      <th>11</th>\n",
       "      <td>G30</td>\n",
       "      <td>True</td>\n",
       "    </tr>\n",
       "    <tr>\n",
       "      <th>12</th>\n",
       "      <td>G43</td>\n",
       "      <td>True</td>\n",
       "    </tr>\n",
       "    <tr>\n",
       "      <th>13</th>\n",
       "      <td>I10</td>\n",
       "      <td>True</td>\n",
       "    </tr>\n",
       "    <tr>\n",
       "      <th>14</th>\n",
       "      <td>I11</td>\n",
       "      <td>True</td>\n",
       "    </tr>\n",
       "    <tr>\n",
       "      <th>15</th>\n",
       "      <td>I12</td>\n",
       "      <td>True</td>\n",
       "    </tr>\n",
       "    <tr>\n",
       "      <th>16</th>\n",
       "      <td>I13</td>\n",
       "      <td>True</td>\n",
       "    </tr>\n",
       "    <tr>\n",
       "      <th>17</th>\n",
       "      <td>I15</td>\n",
       "      <td>True</td>\n",
       "    </tr>\n",
       "    <tr>\n",
       "      <th>18</th>\n",
       "      <td>I21</td>\n",
       "      <td>True</td>\n",
       "    </tr>\n",
       "    <tr>\n",
       "      <th>19</th>\n",
       "      <td>I22</td>\n",
       "      <td>True</td>\n",
       "    </tr>\n",
       "    <tr>\n",
       "      <th>20</th>\n",
       "      <td>I50</td>\n",
       "      <td>True</td>\n",
       "    </tr>\n",
       "    <tr>\n",
       "      <th>21</th>\n",
       "      <td>I63</td>\n",
       "      <td>True</td>\n",
       "    </tr>\n",
       "    <tr>\n",
       "      <th>22</th>\n",
       "      <td>I64</td>\n",
       "      <td>True</td>\n",
       "    </tr>\n",
       "    <tr>\n",
       "      <th>23</th>\n",
       "      <td>I70</td>\n",
       "      <td>True</td>\n",
       "    </tr>\n",
       "    <tr>\n",
       "      <th>24</th>\n",
       "      <td>J45</td>\n",
       "      <td>True</td>\n",
       "    </tr>\n",
       "  </tbody>\n",
       "</table>\n",
       "</div>"
      ],
      "text/plain": [
       "   query  notfound\n",
       "0    E10      True\n",
       "1    E11      True\n",
       "2    E12      True\n",
       "3    E13      True\n",
       "4    E14      True\n",
       "5    E66      True\n",
       "6    F00      True\n",
       "7    F01      True\n",
       "8    F02      True\n",
       "9    F03      True\n",
       "10   G20      True\n",
       "11   G30      True\n",
       "12   G43      True\n",
       "13   I10      True\n",
       "14   I11      True\n",
       "15   I12      True\n",
       "16   I13      True\n",
       "17   I15      True\n",
       "18   I21      True\n",
       "19   I22      True\n",
       "20   I50      True\n",
       "21   I63      True\n",
       "22   I64      True\n",
       "23   I70      True\n",
       "24   J45      True"
      ]
     },
     "execution_count": 59,
     "metadata": {},
     "output_type": "execute_result"
    }
   ],
   "source": [
    "get_disease_mapping(md,diseases[0])"
   ]
  },
  {
   "cell_type": "code",
   "execution_count": null,
   "metadata": {},
   "outputs": [],
   "source": []
  }
 ],
 "metadata": {
  "kernelspec": {
   "display_name": "Python 3",
   "language": "python",
   "name": "python3"
  },
  "language_info": {
   "codemirror_mode": {
    "name": "ipython",
    "version": 3
   },
   "file_extension": ".py",
   "mimetype": "text/x-python",
   "name": "python",
   "nbconvert_exporter": "python",
   "pygments_lexer": "ipython3",
   "version": "3.8.10"
  }
 },
 "nbformat": 4,
 "nbformat_minor": 4
}
