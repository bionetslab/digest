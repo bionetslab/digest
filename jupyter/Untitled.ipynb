{
 "cells": [
  {
   "cell_type": "markdown",
   "metadata": {},
   "source": [
    "# Testing environment for DoSE"
   ]
  },
  {
   "cell_type": "markdown",
   "metadata": {},
   "source": [
    "## Setup"
   ]
  },
  {
   "cell_type": "markdown",
   "metadata": {},
   "source": [
    "### Load libraries"
   ]
  },
  {
   "cell_type": "code",
   "execution_count": 5,
   "metadata": {},
   "outputs": [],
   "source": [
    "import pandas as pd\n",
    "import numpy as np \n",
    "import gseapy\n",
    "from biothings_client import get_client"
   ]
  },
  {
   "cell_type": "markdown",
   "metadata": {},
   "source": [
    "### Define data"
   ]
  },
  {
   "cell_type": "code",
   "execution_count": 6,
   "metadata": {},
   "outputs": [],
   "source": [
    "seeds_file = \"Input/0007079.txt\"\n",
    "betweenness_file = \"Input/0007079_added_200_dmd_betweenness_hub_0.01.txt\"\n",
    "significance_file = \"Input/0007079_added_200_dmd_significance_hub_1.txt\"\n",
    "diseases_file = \"Input/ICD10_commROCG_raw.txt\"\n",
    "disease_clusters_file = \"Input/ICD10_commROCG_cluster.txt\""
   ]
  },
  {
   "cell_type": "markdown",
   "metadata": {},
   "source": [
    "### Load data"
   ]
  },
  {
   "cell_type": "code",
   "execution_count": 7,
   "metadata": {},
   "outputs": [],
   "source": [
    "seeds = pd.read_csv(seeds_file, sep=\"\\t\", header=None)[0]\n",
    "betweenness = pd.read_csv(betweenness_file, sep=\"\\t\")['node']\n",
    "significance = pd.read_csv(significance_file, sep=\"\\t\")['node']\n",
    "diseases = pd.read_csv(diseases_file, sep=\"\\t\", header=None)\n",
    "disease_clusters = pd.read_csv(disease_clusters_file, sep=\"\\t\", header=None)"
   ]
  },
  {
   "cell_type": "code",
   "execution_count": 8,
   "metadata": {},
   "outputs": [
    {
     "name": "stdout",
     "output_type": "stream",
     "text": [
      "Time:  4.253599999515245e-05\n"
     ]
    }
   ],
   "source": [
    "import timeit\n",
    "start = timeit.default_timer()\n",
    "\n",
    "stop = timeit.default_timer()\n",
    "print('Time: ', stop - start)  "
   ]
  },
  {
   "cell_type": "markdown",
   "metadata": {},
   "source": [
    "## Mapper"
   ]
  },
  {
   "cell_type": "code",
   "execution_count": 44,
   "metadata": {},
   "outputs": [],
   "source": [
    "id_type_key = {'entrez':'entrezgene','ensembl':'ensembl.gene','symbol':'symbol','uniprot':'uniprot.Swiss-Prot'}\n",
    "gene_ids=['uniprot.Swiss-Prot','symbol','ensembl.gene','entrezgene']"
   ]
  },
  {
   "cell_type": "code",
   "execution_count": 102,
   "metadata": {},
   "outputs": [],
   "source": [
    "def preprocess_results(mapping, multicol, singlecol, key, explode=False):\n",
    "    \n",
    "    def convert_to_string(cell, key):\n",
    "        if str(cell) != 'nan':\n",
    "            extracted_ids = [val.get(key) for val in cell]\n",
    "            return ';'.join(extracted_ids)\n",
    "        return cell\n",
    "    \n",
    "    mapping[multicol] = mapping[multicol].apply(lambda x: convert_to_string(x, key)) if multicol in mapping else np.nan\n",
    "    if singlecol in mapping:\n",
    "        mapping[multicol].fillna(mapping[singlecol], inplace=True)\n",
    "        mapping = mapping.drop(columns=[singlecol])\n",
    "    if explode:\n",
    "        mapping = mapping[multicol].split(';').explode(multicol)\n",
    "        mapping.rename(columns={multicol: singlecol}, inplace = True)\n",
    "    return mapping\n",
    "\n",
    "def get_prev_mapping(gene_set, id_type, file):\n",
    "    # ===== Get mapping from local mapping file =====\n",
    "    prev_mapping = pd.read_csv(file, header=0, dtype=str)\n",
    "    df = prev_mapping[prev_mapping[id_type_key[id_type]].isin(gene_set)]\n",
    "    # ===== Get missing values =====\n",
    "    missing = list(set(gene_set)-set(prev_mapping[id_type_key[id_type]]))\n",
    "    return (df, missing, prev_mapping)\n",
    "    \n",
    "\n",
    "def get_gene_mapping(gene_set, id_type):\n",
    "    \"\"\"\n",
    "    Simple converter.\n",
    "\n",
    "    :param gene_set: Set of gene ids\n",
    "    :return: Dataframe\n",
    "    \"\"\"\n",
    "    # ===== Get mapping from previous mappings =====\n",
    "    df, missing, prev_mapping = get_prev_mapping(gene_set=gene_set, id_type=id_type, file='gene_id_mapping.csv')\n",
    "    # ===== Get mapping for missing values =====\n",
    "    if len(missing) > 0:\n",
    "        mg = get_client(\"gene\")\n",
    "        mapping = mg.querymany(missing, scopes=id_type_key[id_type], fields=','.join(gene_ids),\n",
    "                     species='human', returnall=False, as_dataframe=True, df_index=False)\n",
    "        mapping = mapping.drop(columns=[id_type_key[id_type]])\n",
    "        mapping.rename(columns={'query': id_type_key[id_type]}, inplace = True)\n",
    "        # ===== Split if there are multiple ensembl ids =====\n",
    "        if 'ensembl' in mapping:\n",
    "            mapping = preprocess_results(mapping=mapping, multicol='ensembl', singlecol='ensembl.gene', key='gene', explode=True)\n",
    "        mapping = mapping.drop(columns=['_id','_score'])\n",
    "        # ===== Add results from missing values =====\n",
    "        pd.concat([prev_mapping,mapping]).to_csv('gene_id_mapping.csv', index=False)\n",
    "        df = pd.concat([df, mapping]).reset_index(drop=True)\n",
    "    return df\n",
    "\n",
    "def get_gene_to_attributes(gene_set, id_type):\n",
    "    \"\"\"\n",
    "    Simple converter.\n",
    "\n",
    "    :param gene_set: Set of gene ids\n",
    "    :return: Dataframe\n",
    "    \"\"\"\n",
    "    gene_mapping, _, _ = get_prev_mapping(gene_set=gene_set, id_type=id_type, file='gene_id_mapping.csv')\n",
    "    df, missing, prev_mapping = get_prev_mapping(gene_set=set(gene_mapping['entrezgene']), id_type='entrez', file='gene_att_mapping.csv')\n",
    "    if len(missing) > 0:\n",
    "        mg = get_client(\"gene\")\n",
    "        gene_ids=['uniprot.Swiss-Prot','symbol','ensembl.gene','entrezgene']\n",
    "        mapping = mg.querymany(missing, scopes=','.join(gene_ids),\n",
    "                            fields='pathway.kegg.id, go.BP.id, go.CC.id, go.MF.id',\n",
    "                            species='human', returnall=False, as_dataframe=True, df_index=False)\n",
    "        mapping.rename(columns={'query': 'entrezgene'}, inplace = True)\n",
    "        for column in ['go.BP','go.CC','go.MF','pathway.kegg']:\n",
    "            mapping = preprocess_results(mapping=mapping, multicol=column, singlecol=column+'.id', key='id')\n",
    "        mapping = mapping.drop(columns=['_id','_score'])\n",
    "        # ===== Add results from missing values =====\n",
    "        #pd.concat([prev_mapping,mapping]).to_csv('gene_att_mapping.csv', index=False)        \n",
    "        df = pd.concat([df, mapping]).reset_index(drop=True)\n",
    "    print(gene_mapping.dtypes)\n",
    "    # work with not unique values...\n",
    "    df[id_type_key[id_type]] = df['entrezgene'].map(gene_mapping.set_index('entrezgene')[id_type_key[id_type]])\n",
    "    df = df.drop(columns=['entrezgene'])\n",
    "    return df"
   ]
  },
  {
   "cell_type": "code",
   "execution_count": 84,
   "metadata": {},
   "outputs": [
    {
     "name": "stdout",
     "output_type": "stream",
     "text": [
      "Time:  0.00981743599913898\n"
     ]
    }
   ],
   "source": [
    "start = timeit.default_timer()\n",
    "reference_mapping = get_gene_mapping(seeds, 'uniprot')\n",
    "target_mapping = get_gene_mapping(significance, 'uniprot')\n",
    "stop = timeit.default_timer()\n",
    "print('Time: ', stop - start)"
   ]
  },
  {
   "cell_type": "code",
   "execution_count": 85,
   "metadata": {},
   "outputs": [
    {
     "data": {
      "text/html": [
       "<div>\n",
       "<style scoped>\n",
       "    .dataframe tbody tr th:only-of-type {\n",
       "        vertical-align: middle;\n",
       "    }\n",
       "\n",
       "    .dataframe tbody tr th {\n",
       "        vertical-align: top;\n",
       "    }\n",
       "\n",
       "    .dataframe thead th {\n",
       "        text-align: right;\n",
       "    }\n",
       "</style>\n",
       "<table border=\"1\" class=\"dataframe\">\n",
       "  <thead>\n",
       "    <tr style=\"text-align: right;\">\n",
       "      <th></th>\n",
       "      <th>entrezgene</th>\n",
       "      <th>ensembl.gene</th>\n",
       "      <th>symbol</th>\n",
       "      <th>uniprot.Swiss-Prot</th>\n",
       "    </tr>\n",
       "  </thead>\n",
       "  <tbody>\n",
       "    <tr>\n",
       "      <th>191</th>\n",
       "      <td>125</td>\n",
       "      <td>ENSG00000196616</td>\n",
       "      <td>ADH1B</td>\n",
       "      <td>P00325</td>\n",
       "    </tr>\n",
       "    <tr>\n",
       "      <th>192</th>\n",
       "      <td>2555</td>\n",
       "      <td>ENSG00000151834</td>\n",
       "      <td>GABRA2</td>\n",
       "      <td>P47869</td>\n",
       "    </tr>\n",
       "    <tr>\n",
       "      <th>193</th>\n",
       "      <td>126</td>\n",
       "      <td>ENSG00000248144</td>\n",
       "      <td>ADH1C</td>\n",
       "      <td>P00326</td>\n",
       "    </tr>\n",
       "    <tr>\n",
       "      <th>194</th>\n",
       "      <td>3356</td>\n",
       "      <td>ENSG00000102468</td>\n",
       "      <td>HTR2A</td>\n",
       "      <td>P28223</td>\n",
       "    </tr>\n",
       "  </tbody>\n",
       "</table>\n",
       "</div>"
      ],
      "text/plain": [
       "     entrezgene     ensembl.gene  symbol uniprot.Swiss-Prot\n",
       "191         125  ENSG00000196616   ADH1B             P00325\n",
       "192        2555  ENSG00000151834  GABRA2             P47869\n",
       "193         126  ENSG00000248144   ADH1C             P00326\n",
       "194        3356  ENSG00000102468   HTR2A             P28223"
      ]
     },
     "execution_count": 85,
     "metadata": {},
     "output_type": "execute_result"
    }
   ],
   "source": [
    "reference_mapping"
   ]
  },
  {
   "cell_type": "code",
   "execution_count": 69,
   "metadata": {},
   "outputs": [
    {
     "data": {
      "text/html": [
       "<div>\n",
       "<style scoped>\n",
       "    .dataframe tbody tr th:only-of-type {\n",
       "        vertical-align: middle;\n",
       "    }\n",
       "\n",
       "    .dataframe tbody tr th {\n",
       "        vertical-align: top;\n",
       "    }\n",
       "\n",
       "    .dataframe thead th {\n",
       "        text-align: right;\n",
       "    }\n",
       "</style>\n",
       "<table border=\"1\" class=\"dataframe\">\n",
       "  <thead>\n",
       "    <tr style=\"text-align: right;\">\n",
       "      <th></th>\n",
       "      <th>entrezgene</th>\n",
       "      <th>ensembl.gene</th>\n",
       "      <th>symbol</th>\n",
       "      <th>uniprot.Swiss-Prot</th>\n",
       "    </tr>\n",
       "  </thead>\n",
       "  <tbody>\n",
       "    <tr>\n",
       "      <th>0</th>\n",
       "      <td>1394</td>\n",
       "      <td>ENSG00000120088</td>\n",
       "      <td>CRHR1</td>\n",
       "      <td>P34998</td>\n",
       "    </tr>\n",
       "    <tr>\n",
       "      <th>1</th>\n",
       "      <td>1394</td>\n",
       "      <td>ENSG00000276191</td>\n",
       "      <td>CRHR1</td>\n",
       "      <td>P34998</td>\n",
       "    </tr>\n",
       "    <tr>\n",
       "      <th>2</th>\n",
       "      <td>104909134</td>\n",
       "      <td>ENSG00000263715</td>\n",
       "      <td>LINC02210-CRHR1</td>\n",
       "      <td>P34998</td>\n",
       "    </tr>\n",
       "    <tr>\n",
       "      <th>3</th>\n",
       "      <td>104909134</td>\n",
       "      <td>ENSG00000278232</td>\n",
       "      <td>LINC02210-CRHR1</td>\n",
       "      <td>P34998</td>\n",
       "    </tr>\n",
       "    <tr>\n",
       "      <th>4</th>\n",
       "      <td>104909134</td>\n",
       "      <td>ENSG00000282456</td>\n",
       "      <td>LINC02210-CRHR1</td>\n",
       "      <td>P34998</td>\n",
       "    </tr>\n",
       "    <tr>\n",
       "      <th>...</th>\n",
       "      <td>...</td>\n",
       "      <td>...</td>\n",
       "      <td>...</td>\n",
       "      <td>...</td>\n",
       "    </tr>\n",
       "    <tr>\n",
       "      <th>212</th>\n",
       "      <td>1742</td>\n",
       "      <td>ENSG00000132535</td>\n",
       "      <td>DLG4</td>\n",
       "      <td>P78352</td>\n",
       "    </tr>\n",
       "    <tr>\n",
       "      <th>213</th>\n",
       "      <td>4684</td>\n",
       "      <td>ENSG00000149294</td>\n",
       "      <td>NCAM1</td>\n",
       "      <td>P13591</td>\n",
       "    </tr>\n",
       "    <tr>\n",
       "      <th>214</th>\n",
       "      <td>2778</td>\n",
       "      <td>ENSG00000087460</td>\n",
       "      <td>GNAS</td>\n",
       "      <td>O95467</td>\n",
       "    </tr>\n",
       "    <tr>\n",
       "      <th>215</th>\n",
       "      <td>2776</td>\n",
       "      <td>ENSG00000156052</td>\n",
       "      <td>GNAQ</td>\n",
       "      <td>P50148</td>\n",
       "    </tr>\n",
       "    <tr>\n",
       "      <th>216</th>\n",
       "      <td>5578</td>\n",
       "      <td>ENSG00000154229</td>\n",
       "      <td>PRKCA</td>\n",
       "      <td>P17252</td>\n",
       "    </tr>\n",
       "  </tbody>\n",
       "</table>\n",
       "<p>213 rows × 4 columns</p>\n",
       "</div>"
      ],
      "text/plain": [
       "     entrezgene     ensembl.gene           symbol uniprot.Swiss-Prot\n",
       "0          1394  ENSG00000120088            CRHR1             P34998\n",
       "1          1394  ENSG00000276191            CRHR1             P34998\n",
       "2     104909134  ENSG00000263715  LINC02210-CRHR1             P34998\n",
       "3     104909134  ENSG00000278232  LINC02210-CRHR1             P34998\n",
       "4     104909134  ENSG00000282456  LINC02210-CRHR1             P34998\n",
       "..          ...              ...              ...                ...\n",
       "212        1742  ENSG00000132535             DLG4             P78352\n",
       "213        4684  ENSG00000149294            NCAM1             P13591\n",
       "214        2778  ENSG00000087460             GNAS             O95467\n",
       "215        2776  ENSG00000156052             GNAQ             P50148\n",
       "216        5578  ENSG00000154229            PRKCA             P17252\n",
       "\n",
       "[213 rows x 4 columns]"
      ]
     },
     "execution_count": 69,
     "metadata": {},
     "output_type": "execute_result"
    }
   ],
   "source": [
    "target_mapping"
   ]
  },
  {
   "cell_type": "code",
   "execution_count": 103,
   "metadata": {},
   "outputs": [
    {
     "name": "stdout",
     "output_type": "stream",
     "text": [
      "querying 1-4...done.\n",
      "Finished.\n",
      "entrezgene            object\n",
      "ensembl.gene          object\n",
      "symbol                object\n",
      "uniprot.Swiss-Prot    object\n",
      "dtype: object\n",
      "querying 1-200...done.\n",
      "Finished.\n",
      "entrezgene            object\n",
      "ensembl.gene          object\n",
      "symbol                object\n",
      "uniprot.Swiss-Prot    object\n",
      "dtype: object\n"
     ]
    },
    {
     "ename": "InvalidIndexError",
     "evalue": "Reindexing only valid with uniquely valued Index objects",
     "output_type": "error",
     "traceback": [
      "\u001b[0;31m---------------------------------------------------------------------------\u001b[0m",
      "\u001b[0;31mInvalidIndexError\u001b[0m                         Traceback (most recent call last)",
      "\u001b[0;32m<ipython-input-103-6139f00ef5a8>\u001b[0m in \u001b[0;36m<module>\u001b[0;34m\u001b[0m\n\u001b[1;32m      1\u001b[0m \u001b[0mstart\u001b[0m \u001b[0;34m=\u001b[0m \u001b[0mtimeit\u001b[0m\u001b[0;34m.\u001b[0m\u001b[0mdefault_timer\u001b[0m\u001b[0;34m(\u001b[0m\u001b[0;34m)\u001b[0m\u001b[0;34m\u001b[0m\u001b[0;34m\u001b[0m\u001b[0m\n\u001b[1;32m      2\u001b[0m \u001b[0mreference_kegg_mapping\u001b[0m \u001b[0;34m=\u001b[0m \u001b[0mget_gene_to_attributes\u001b[0m\u001b[0;34m(\u001b[0m\u001b[0mseeds\u001b[0m\u001b[0;34m,\u001b[0m \u001b[0;34m'uniprot'\u001b[0m\u001b[0;34m)\u001b[0m\u001b[0;34m\u001b[0m\u001b[0;34m\u001b[0m\u001b[0m\n\u001b[0;32m----> 3\u001b[0;31m \u001b[0mtarget_kegg_mapping\u001b[0m \u001b[0;34m=\u001b[0m \u001b[0mget_gene_to_attributes\u001b[0m\u001b[0;34m(\u001b[0m\u001b[0msignificance\u001b[0m\u001b[0;34m,\u001b[0m \u001b[0;34m'uniprot'\u001b[0m\u001b[0;34m)\u001b[0m\u001b[0;34m\u001b[0m\u001b[0;34m\u001b[0m\u001b[0m\n\u001b[0m\u001b[1;32m      4\u001b[0m \u001b[0mstop\u001b[0m \u001b[0;34m=\u001b[0m \u001b[0mtimeit\u001b[0m\u001b[0;34m.\u001b[0m\u001b[0mdefault_timer\u001b[0m\u001b[0;34m(\u001b[0m\u001b[0;34m)\u001b[0m\u001b[0;34m\u001b[0m\u001b[0;34m\u001b[0m\u001b[0m\n\u001b[1;32m      5\u001b[0m \u001b[0mprint\u001b[0m\u001b[0;34m(\u001b[0m\u001b[0;34m'Time: '\u001b[0m\u001b[0;34m,\u001b[0m \u001b[0mstop\u001b[0m \u001b[0;34m-\u001b[0m \u001b[0mstart\u001b[0m\u001b[0;34m)\u001b[0m\u001b[0;34m\u001b[0m\u001b[0;34m\u001b[0m\u001b[0m\n",
      "\u001b[0;32m<ipython-input-102-ea1253bf62fa>\u001b[0m in \u001b[0;36mget_gene_to_attributes\u001b[0;34m(gene_set, id_type)\u001b[0m\n\u001b[1;32m     73\u001b[0m         \u001b[0mdf\u001b[0m \u001b[0;34m=\u001b[0m \u001b[0mpd\u001b[0m\u001b[0;34m.\u001b[0m\u001b[0mconcat\u001b[0m\u001b[0;34m(\u001b[0m\u001b[0;34m[\u001b[0m\u001b[0mdf\u001b[0m\u001b[0;34m,\u001b[0m \u001b[0mmapping\u001b[0m\u001b[0;34m]\u001b[0m\u001b[0;34m)\u001b[0m\u001b[0;34m.\u001b[0m\u001b[0mreset_index\u001b[0m\u001b[0;34m(\u001b[0m\u001b[0mdrop\u001b[0m\u001b[0;34m=\u001b[0m\u001b[0;32mTrue\u001b[0m\u001b[0;34m)\u001b[0m\u001b[0;34m\u001b[0m\u001b[0;34m\u001b[0m\u001b[0m\n\u001b[1;32m     74\u001b[0m     \u001b[0mprint\u001b[0m\u001b[0;34m(\u001b[0m\u001b[0mgene_mapping\u001b[0m\u001b[0;34m.\u001b[0m\u001b[0mdtypes\u001b[0m\u001b[0;34m)\u001b[0m\u001b[0;34m\u001b[0m\u001b[0;34m\u001b[0m\u001b[0m\n\u001b[0;32m---> 75\u001b[0;31m     \u001b[0mdf\u001b[0m\u001b[0;34m[\u001b[0m\u001b[0mid_type_key\u001b[0m\u001b[0;34m[\u001b[0m\u001b[0mid_type\u001b[0m\u001b[0;34m]\u001b[0m\u001b[0;34m]\u001b[0m \u001b[0;34m=\u001b[0m \u001b[0mdf\u001b[0m\u001b[0;34m[\u001b[0m\u001b[0;34m'entrezgene'\u001b[0m\u001b[0;34m]\u001b[0m\u001b[0;34m.\u001b[0m\u001b[0mmap\u001b[0m\u001b[0;34m(\u001b[0m\u001b[0mgene_mapping\u001b[0m\u001b[0;34m.\u001b[0m\u001b[0mset_index\u001b[0m\u001b[0;34m(\u001b[0m\u001b[0;34m'entrezgene'\u001b[0m\u001b[0;34m)\u001b[0m\u001b[0;34m[\u001b[0m\u001b[0mid_type_key\u001b[0m\u001b[0;34m[\u001b[0m\u001b[0mid_type\u001b[0m\u001b[0;34m]\u001b[0m\u001b[0;34m]\u001b[0m\u001b[0;34m)\u001b[0m\u001b[0;34m\u001b[0m\u001b[0;34m\u001b[0m\u001b[0m\n\u001b[0m\u001b[1;32m     76\u001b[0m     \u001b[0mdf\u001b[0m \u001b[0;34m=\u001b[0m \u001b[0mdf\u001b[0m\u001b[0;34m.\u001b[0m\u001b[0mdrop\u001b[0m\u001b[0;34m(\u001b[0m\u001b[0mcolumns\u001b[0m\u001b[0;34m=\u001b[0m\u001b[0;34m[\u001b[0m\u001b[0;34m'entrezgene'\u001b[0m\u001b[0;34m]\u001b[0m\u001b[0;34m)\u001b[0m\u001b[0;34m\u001b[0m\u001b[0;34m\u001b[0m\u001b[0m\n\u001b[1;32m     77\u001b[0m     \u001b[0;32mreturn\u001b[0m \u001b[0mdf\u001b[0m\u001b[0;34m\u001b[0m\u001b[0;34m\u001b[0m\u001b[0m\n",
      "\u001b[0;32m~/.local/lib/python3.8/site-packages/pandas/core/series.py\u001b[0m in \u001b[0;36mmap\u001b[0;34m(self, arg, na_action)\u001b[0m\n\u001b[1;32m   3907\u001b[0m         \u001b[0mdtype\u001b[0m\u001b[0;34m:\u001b[0m \u001b[0mobject\u001b[0m\u001b[0;34m\u001b[0m\u001b[0;34m\u001b[0m\u001b[0m\n\u001b[1;32m   3908\u001b[0m         \"\"\"\n\u001b[0;32m-> 3909\u001b[0;31m         \u001b[0mnew_values\u001b[0m \u001b[0;34m=\u001b[0m \u001b[0msuper\u001b[0m\u001b[0;34m(\u001b[0m\u001b[0;34m)\u001b[0m\u001b[0;34m.\u001b[0m\u001b[0m_map_values\u001b[0m\u001b[0;34m(\u001b[0m\u001b[0marg\u001b[0m\u001b[0;34m,\u001b[0m \u001b[0mna_action\u001b[0m\u001b[0;34m=\u001b[0m\u001b[0mna_action\u001b[0m\u001b[0;34m)\u001b[0m\u001b[0;34m\u001b[0m\u001b[0;34m\u001b[0m\u001b[0m\n\u001b[0m\u001b[1;32m   3910\u001b[0m         return self._constructor(new_values, index=self.index).__finalize__(\n\u001b[1;32m   3911\u001b[0m             \u001b[0mself\u001b[0m\u001b[0;34m,\u001b[0m \u001b[0mmethod\u001b[0m\u001b[0;34m=\u001b[0m\u001b[0;34m\"map\"\u001b[0m\u001b[0;34m\u001b[0m\u001b[0;34m\u001b[0m\u001b[0m\n",
      "\u001b[0;32m~/.local/lib/python3.8/site-packages/pandas/core/base.py\u001b[0m in \u001b[0;36m_map_values\u001b[0;34m(self, mapper, na_action)\u001b[0m\n\u001b[1;32m    905\u001b[0m             \u001b[0mvalues\u001b[0m \u001b[0;34m=\u001b[0m \u001b[0mself\u001b[0m\u001b[0;34m.\u001b[0m\u001b[0m_values\u001b[0m\u001b[0;34m\u001b[0m\u001b[0;34m\u001b[0m\u001b[0m\n\u001b[1;32m    906\u001b[0m \u001b[0;34m\u001b[0m\u001b[0m\n\u001b[0;32m--> 907\u001b[0;31m             \u001b[0mindexer\u001b[0m \u001b[0;34m=\u001b[0m \u001b[0mmapper\u001b[0m\u001b[0;34m.\u001b[0m\u001b[0mindex\u001b[0m\u001b[0;34m.\u001b[0m\u001b[0mget_indexer\u001b[0m\u001b[0;34m(\u001b[0m\u001b[0mvalues\u001b[0m\u001b[0;34m)\u001b[0m\u001b[0;34m\u001b[0m\u001b[0;34m\u001b[0m\u001b[0m\n\u001b[0m\u001b[1;32m    908\u001b[0m             \u001b[0mnew_values\u001b[0m \u001b[0;34m=\u001b[0m \u001b[0malgorithms\u001b[0m\u001b[0;34m.\u001b[0m\u001b[0mtake_1d\u001b[0m\u001b[0;34m(\u001b[0m\u001b[0mmapper\u001b[0m\u001b[0;34m.\u001b[0m\u001b[0m_values\u001b[0m\u001b[0;34m,\u001b[0m \u001b[0mindexer\u001b[0m\u001b[0;34m)\u001b[0m\u001b[0;34m\u001b[0m\u001b[0;34m\u001b[0m\u001b[0m\n\u001b[1;32m    909\u001b[0m \u001b[0;34m\u001b[0m\u001b[0m\n",
      "\u001b[0;32m~/.local/lib/python3.8/site-packages/pandas/core/indexes/base.py\u001b[0m in \u001b[0;36mget_indexer\u001b[0;34m(self, target, method, limit, tolerance)\u001b[0m\n\u001b[1;32m   3169\u001b[0m \u001b[0;34m\u001b[0m\u001b[0m\n\u001b[1;32m   3170\u001b[0m         \u001b[0;32mif\u001b[0m \u001b[0;32mnot\u001b[0m \u001b[0mself\u001b[0m\u001b[0;34m.\u001b[0m\u001b[0mis_unique\u001b[0m\u001b[0;34m:\u001b[0m\u001b[0;34m\u001b[0m\u001b[0;34m\u001b[0m\u001b[0m\n\u001b[0;32m-> 3171\u001b[0;31m             raise InvalidIndexError(\n\u001b[0m\u001b[1;32m   3172\u001b[0m                 \u001b[0;34m\"Reindexing only valid with uniquely valued Index objects\"\u001b[0m\u001b[0;34m\u001b[0m\u001b[0;34m\u001b[0m\u001b[0m\n\u001b[1;32m   3173\u001b[0m             )\n",
      "\u001b[0;31mInvalidIndexError\u001b[0m: Reindexing only valid with uniquely valued Index objects"
     ]
    }
   ],
   "source": [
    "start = timeit.default_timer()\n",
    "reference_kegg_mapping = get_gene_to_attributes(seeds, 'uniprot')\n",
    "target_kegg_mapping = get_gene_to_attributes(significance, 'uniprot')\n",
    "stop = timeit.default_timer()\n",
    "print('Time: ', stop - start)"
   ]
  },
  {
   "cell_type": "code",
   "execution_count": 104,
   "metadata": {},
   "outputs": [
    {
     "data": {
      "text/html": [
       "<div>\n",
       "<style scoped>\n",
       "    .dataframe tbody tr th:only-of-type {\n",
       "        vertical-align: middle;\n",
       "    }\n",
       "\n",
       "    .dataframe tbody tr th {\n",
       "        vertical-align: top;\n",
       "    }\n",
       "\n",
       "    .dataframe thead th {\n",
       "        text-align: right;\n",
       "    }\n",
       "</style>\n",
       "<table border=\"1\" class=\"dataframe\">\n",
       "  <thead>\n",
       "    <tr style=\"text-align: right;\">\n",
       "      <th></th>\n",
       "      <th>go.BP</th>\n",
       "      <th>go.CC</th>\n",
       "      <th>go.MF</th>\n",
       "      <th>pathway.kegg</th>\n",
       "      <th>uniprot.Swiss-Prot</th>\n",
       "    </tr>\n",
       "  </thead>\n",
       "  <tbody>\n",
       "    <tr>\n",
       "      <th>0</th>\n",
       "      <td>GO:0001523;GO:0006069;GO:0006069;GO:0006069;GO...</td>\n",
       "      <td>GO:0005654;GO:0005829;GO:0005829;GO:0005829;GO...</td>\n",
       "      <td>GO:0004024;GO:0004024;GO:0004745;GO:0004745;GO...</td>\n",
       "      <td>hsa00010;hsa00071;hsa00350;hsa00620;hsa00830;h...</td>\n",
       "      <td>P00325</td>\n",
       "    </tr>\n",
       "    <tr>\n",
       "      <th>1</th>\n",
       "      <td>GO:0001659;GO:0006874;GO:0007186;GO:0007187;GO...</td>\n",
       "      <td>GO:0005829;GO:0005886;GO:0005886;GO:0005887;GO...</td>\n",
       "      <td>GO:0001587;GO:0001618;GO:0001965;GO:0004993;GO...</td>\n",
       "      <td>hsa04020;hsa04080;hsa04540;hsa04726;hsa04750</td>\n",
       "      <td>P28223</td>\n",
       "    </tr>\n",
       "    <tr>\n",
       "      <th>2</th>\n",
       "      <td>GO:0006069;GO:0006069;GO:0006069;GO:0042572;GO...</td>\n",
       "      <td>GO:0005654;GO:0005829;GO:0005829;GO:0005829;GO...</td>\n",
       "      <td>GO:0004022;GO:0004024;GO:0004745;GO:0008270</td>\n",
       "      <td>hsa00010;hsa00071;hsa00350;hsa00620;hsa00830;h...</td>\n",
       "      <td>P00326</td>\n",
       "    </tr>\n",
       "    <tr>\n",
       "      <th>3</th>\n",
       "      <td>GO:0001505;GO:0006836;GO:0007165;GO:0007214;GO...</td>\n",
       "      <td>GO:0005886;GO:0005887;GO:0030285;GO:0030424;GO...</td>\n",
       "      <td>GO:0004890;GO:0005237;GO:0005254;GO:0008503;GO...</td>\n",
       "      <td>hsa04080;hsa04723;hsa04727;hsa04742;hsa05032;h...</td>\n",
       "      <td>P47869</td>\n",
       "    </tr>\n",
       "  </tbody>\n",
       "</table>\n",
       "</div>"
      ],
      "text/plain": [
       "                                               go.BP  \\\n",
       "0  GO:0001523;GO:0006069;GO:0006069;GO:0006069;GO...   \n",
       "1  GO:0001659;GO:0006874;GO:0007186;GO:0007187;GO...   \n",
       "2  GO:0006069;GO:0006069;GO:0006069;GO:0042572;GO...   \n",
       "3  GO:0001505;GO:0006836;GO:0007165;GO:0007214;GO...   \n",
       "\n",
       "                                               go.CC  \\\n",
       "0  GO:0005654;GO:0005829;GO:0005829;GO:0005829;GO...   \n",
       "1  GO:0005829;GO:0005886;GO:0005886;GO:0005887;GO...   \n",
       "2  GO:0005654;GO:0005829;GO:0005829;GO:0005829;GO...   \n",
       "3  GO:0005886;GO:0005887;GO:0030285;GO:0030424;GO...   \n",
       "\n",
       "                                               go.MF  \\\n",
       "0  GO:0004024;GO:0004024;GO:0004745;GO:0004745;GO...   \n",
       "1  GO:0001587;GO:0001618;GO:0001965;GO:0004993;GO...   \n",
       "2        GO:0004022;GO:0004024;GO:0004745;GO:0008270   \n",
       "3  GO:0004890;GO:0005237;GO:0005254;GO:0008503;GO...   \n",
       "\n",
       "                                        pathway.kegg uniprot.Swiss-Prot  \n",
       "0  hsa00010;hsa00071;hsa00350;hsa00620;hsa00830;h...             P00325  \n",
       "1       hsa04020;hsa04080;hsa04540;hsa04726;hsa04750             P28223  \n",
       "2  hsa00010;hsa00071;hsa00350;hsa00620;hsa00830;h...             P00326  \n",
       "3  hsa04080;hsa04723;hsa04727;hsa04742;hsa05032;h...             P47869  "
      ]
     },
     "execution_count": 104,
     "metadata": {},
     "output_type": "execute_result"
    }
   ],
   "source": [
    "reference_kegg_mapping"
   ]
  },
  {
   "cell_type": "code",
   "execution_count": 82,
   "metadata": {},
   "outputs": [
    {
     "ename": "NameError",
     "evalue": "name 'target_kegg_mapping' is not defined",
     "output_type": "error",
     "traceback": [
      "\u001b[0;31m---------------------------------------------------------------------------\u001b[0m",
      "\u001b[0;31mNameError\u001b[0m                                 Traceback (most recent call last)",
      "\u001b[0;32m<ipython-input-82-960476496c11>\u001b[0m in \u001b[0;36m<module>\u001b[0;34m\u001b[0m\n\u001b[0;32m----> 1\u001b[0;31m \u001b[0mtarget_kegg_mapping\u001b[0m\u001b[0;34m\u001b[0m\u001b[0;34m\u001b[0m\u001b[0m\n\u001b[0m",
      "\u001b[0;31mNameError\u001b[0m: name 'target_kegg_mapping' is not defined"
     ]
    }
   ],
   "source": [
    "target_kegg_mapping"
   ]
  },
  {
   "cell_type": "code",
   "execution_count": 74,
   "metadata": {},
   "outputs": [],
   "source": []
  },
  {
   "cell_type": "code",
   "execution_count": null,
   "metadata": {},
   "outputs": [],
   "source": []
  },
  {
   "cell_type": "code",
   "execution_count": null,
   "metadata": {},
   "outputs": [],
   "source": []
  },
  {
   "cell_type": "code",
   "execution_count": null,
   "metadata": {},
   "outputs": [],
   "source": []
  },
  {
   "cell_type": "code",
   "execution_count": 9,
   "metadata": {},
   "outputs": [
    {
     "name": "stdout",
     "output_type": "stream",
     "text": [
      "querying 1-4...done.\n",
      "Finished.\n",
      "querying 1-200...done.\n",
      "Finished.\n",
      "1 input query terms found dup hits:\n",
      "\t[('P34998', 2)]\n",
      "Pass \"returnall=True\" to return complete lists of duplicate or missing query terms.\n",
      "Time:  3.357143184999984\n"
     ]
    }
   ],
   "source": []
  },
  {
   "cell_type": "code",
   "execution_count": 10,
   "metadata": {},
   "outputs": [
    {
     "data": {
      "text/html": [
       "<div>\n",
       "<style scoped>\n",
       "    .dataframe tbody tr th:only-of-type {\n",
       "        vertical-align: middle;\n",
       "    }\n",
       "\n",
       "    .dataframe tbody tr th {\n",
       "        vertical-align: top;\n",
       "    }\n",
       "\n",
       "    .dataframe thead th {\n",
       "        text-align: right;\n",
       "    }\n",
       "</style>\n",
       "<table border=\"1\" class=\"dataframe\">\n",
       "  <thead>\n",
       "    <tr style=\"text-align: right;\">\n",
       "      <th></th>\n",
       "      <th>query</th>\n",
       "      <th>_id</th>\n",
       "      <th>_score</th>\n",
       "      <th>pathway.kegg</th>\n",
       "      <th>pathway.kegg.id</th>\n",
       "    </tr>\n",
       "  </thead>\n",
       "  <tbody>\n",
       "    <tr>\n",
       "      <th>43</th>\n",
       "      <td>P34998</td>\n",
       "      <td>1394</td>\n",
       "      <td>16.838882</td>\n",
       "      <td>[{'id': 'hsa04080'}, {'id': 'hsa04730'}, {'id'...</td>\n",
       "      <td>NaN</td>\n",
       "    </tr>\n",
       "    <tr>\n",
       "      <th>44</th>\n",
       "      <td>P34998</td>\n",
       "      <td>104909134</td>\n",
       "      <td>16.356878</td>\n",
       "      <td>NaN</td>\n",
       "      <td>NaN</td>\n",
       "    </tr>\n",
       "  </tbody>\n",
       "</table>\n",
       "</div>"
      ],
      "text/plain": [
       "     query        _id     _score  \\\n",
       "43  P34998       1394  16.838882   \n",
       "44  P34998  104909134  16.356878   \n",
       "\n",
       "                                         pathway.kegg pathway.kegg.id  \n",
       "43  [{'id': 'hsa04080'}, {'id': 'hsa04730'}, {'id'...             NaN  \n",
       "44                                                NaN             NaN  "
      ]
     },
     "execution_count": 10,
     "metadata": {},
     "output_type": "execute_result"
    }
   ],
   "source": [
    "target_kegg_mapping[target_kegg_mapping['query']=='P34998']"
   ]
  },
  {
   "cell_type": "code",
   "execution_count": 11,
   "metadata": {},
   "outputs": [],
   "source": [
    "md = get_client(\"disease\")"
   ]
  },
  {
   "cell_type": "code",
   "execution_count": 16,
   "metadata": {},
   "outputs": [],
   "source": [
    "def get_disease_mapping(md, diseases):\n",
    "    \"\"\"\n",
    "    Simple converter.\n",
    "\n",
    "    :param gene_set: Set of gene ids\n",
    "    :return: Dataframe\n",
    "    \"\"\"\n",
    "    return md.getdiseases(diseases,\n",
    "                          fields='disgenet.genes_related_to_disease.gene_id,disgenet.variants_related_to_disease.rsid',\n",
    "                          species='human', returnall=False, as_dataframe=True, df_index=False)"
   ]
  },
  {
   "cell_type": "code",
   "execution_count": 19,
   "metadata": {},
   "outputs": [],
   "source": [
    "mondos=['MONDO:0004979','MONDO:0016264','MONDO:0012996']"
   ]
  },
  {
   "cell_type": "code",
   "execution_count": 20,
   "metadata": {},
   "outputs": [
    {
     "name": "stdout",
     "output_type": "stream",
     "text": [
      "querying 1-3...done.\n"
     ]
    },
    {
     "data": {
      "text/html": [
       "<div>\n",
       "<style scoped>\n",
       "    .dataframe tbody tr th:only-of-type {\n",
       "        vertical-align: middle;\n",
       "    }\n",
       "\n",
       "    .dataframe tbody tr th {\n",
       "        vertical-align: top;\n",
       "    }\n",
       "\n",
       "    .dataframe thead th {\n",
       "        text-align: right;\n",
       "    }\n",
       "</style>\n",
       "<table border=\"1\" class=\"dataframe\">\n",
       "  <thead>\n",
       "    <tr style=\"text-align: right;\">\n",
       "      <th></th>\n",
       "      <th>query</th>\n",
       "      <th>_id</th>\n",
       "      <th>_version</th>\n",
       "      <th>disgenet._license</th>\n",
       "      <th>disgenet.genes_related_to_disease.gene_id</th>\n",
       "      <th>disgenet.genes_related_to_disease</th>\n",
       "      <th>disgenet.variants_related_to_disease</th>\n",
       "    </tr>\n",
       "  </thead>\n",
       "  <tbody>\n",
       "    <tr>\n",
       "      <th>0</th>\n",
       "      <td>MONDO:0004979</td>\n",
       "      <td>MONDO:0004979</td>\n",
       "      <td>1</td>\n",
       "      <td>https://creativecommons.org/licenses/by/4.0/</td>\n",
       "      <td>7040.0</td>\n",
       "      <td>NaN</td>\n",
       "      <td>NaN</td>\n",
       "    </tr>\n",
       "    <tr>\n",
       "      <th>1</th>\n",
       "      <td>MONDO:0016264</td>\n",
       "      <td>MONDO:0016264</td>\n",
       "      <td>1</td>\n",
       "      <td>https://creativecommons.org/licenses/by/4.0/</td>\n",
       "      <td>NaN</td>\n",
       "      <td>[{'gene_id': 58}, {'gene_id': 60}, {'gene_id':...</td>\n",
       "      <td>[{'rsid': 'rs11065904'}, {'rsid': 'rs121434254...</td>\n",
       "    </tr>\n",
       "    <tr>\n",
       "      <th>2</th>\n",
       "      <td>MONDO:0012996</td>\n",
       "      <td>MONDO:0012996</td>\n",
       "      <td>1</td>\n",
       "      <td>https://creativecommons.org/licenses/by/4.0/</td>\n",
       "      <td>NaN</td>\n",
       "      <td>[{'gene_id': 2628}, {'gene_id': 6535}, {'gene_...</td>\n",
       "      <td>[{'rsid': 'rs1566842679'}, {'rsid': 'rs3975147...</td>\n",
       "    </tr>\n",
       "  </tbody>\n",
       "</table>\n",
       "</div>"
      ],
      "text/plain": [
       "           query            _id  _version  \\\n",
       "0  MONDO:0004979  MONDO:0004979         1   \n",
       "1  MONDO:0016264  MONDO:0016264         1   \n",
       "2  MONDO:0012996  MONDO:0012996         1   \n",
       "\n",
       "                              disgenet._license  \\\n",
       "0  https://creativecommons.org/licenses/by/4.0/   \n",
       "1  https://creativecommons.org/licenses/by/4.0/   \n",
       "2  https://creativecommons.org/licenses/by/4.0/   \n",
       "\n",
       "   disgenet.genes_related_to_disease.gene_id  \\\n",
       "0                                     7040.0   \n",
       "1                                        NaN   \n",
       "2                                        NaN   \n",
       "\n",
       "                   disgenet.genes_related_to_disease  \\\n",
       "0                                                NaN   \n",
       "1  [{'gene_id': 58}, {'gene_id': 60}, {'gene_id':...   \n",
       "2  [{'gene_id': 2628}, {'gene_id': 6535}, {'gene_...   \n",
       "\n",
       "                disgenet.variants_related_to_disease  \n",
       "0                                                NaN  \n",
       "1  [{'rsid': 'rs11065904'}, {'rsid': 'rs121434254...  \n",
       "2  [{'rsid': 'rs1566842679'}, {'rsid': 'rs3975147...  "
      ]
     },
     "execution_count": 20,
     "metadata": {},
     "output_type": "execute_result"
    }
   ],
   "source": [
    "#get_disease_mapping(md,diseases[0])\n",
    "get_disease_mapping(md,mondos)"
   ]
  },
  {
   "cell_type": "code",
   "execution_count": null,
   "metadata": {},
   "outputs": [],
   "source": []
  }
 ],
 "metadata": {
  "kernelspec": {
   "display_name": "Python 3",
   "language": "python",
   "name": "python3"
  },
  "language_info": {
   "codemirror_mode": {
    "name": "ipython",
    "version": 3
   },
   "file_extension": ".py",
   "mimetype": "text/x-python",
   "name": "python",
   "nbconvert_exporter": "python",
   "pygments_lexer": "ipython3",
   "version": "3.8.10"
  }
 },
 "nbformat": 4,
 "nbformat_minor": 4
}
