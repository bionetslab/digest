{
 "cells": [
  {
   "cell_type": "markdown",
   "metadata": {},
   "source": [
    "# Testing environment for DoSE"
   ]
  },
  {
   "cell_type": "markdown",
   "metadata": {},
   "source": [
    "## Setup"
   ]
  },
  {
   "cell_type": "markdown",
   "metadata": {},
   "source": [
    "### Load libraries"
   ]
  },
  {
   "cell_type": "code",
   "execution_count": 1,
   "metadata": {},
   "outputs": [],
   "source": [
    "import pandas as pd\n",
    "import numpy as np \n",
    "import gseapy\n",
    "from biothings_client import get_client"
   ]
  },
  {
   "cell_type": "markdown",
   "metadata": {},
   "source": [
    "### Define data"
   ]
  },
  {
   "cell_type": "code",
   "execution_count": 2,
   "metadata": {},
   "outputs": [],
   "source": [
    "seeds_file = \"Input/0007079.txt\"\n",
    "betweenness_file = \"Input/0007079_added_200_dmd_betweenness_hub_0.01.txt\"\n",
    "significance_file = \"Input/0007079_added_200_dmd_significance_hub_1.txt\"\n",
    "diseases_file = \"Input/ICD10_commROCG_raw.txt\"\n",
    "disease_clusters_file = \"Input/ICD10_commROCG_cluster.txt\""
   ]
  },
  {
   "cell_type": "markdown",
   "metadata": {},
   "source": [
    "### Load data"
   ]
  },
  {
   "cell_type": "code",
   "execution_count": 3,
   "metadata": {},
   "outputs": [],
   "source": [
    "disease_id = \"0007079\"\n",
    "seeds = pd.read_csv(seeds_file, sep=\"\\t\", header=None)[0]\n",
    "betweenness = pd.read_csv(betweenness_file, sep=\"\\t\")['node']\n",
    "significance = pd.read_csv(significance_file, sep=\"\\t\")['node']\n",
    "diseases = pd.read_csv(diseases_file, sep=\"\\t\", header=None)\n",
    "disease_clusters = pd.read_csv(disease_clusters_file, sep=\"\\t\", header=None)"
   ]
  },
  {
   "cell_type": "code",
   "execution_count": 4,
   "metadata": {},
   "outputs": [
    {
     "name": "stdout",
     "output_type": "stream",
     "text": [
      "Time:  4.699100099969655e-05\n"
     ]
    }
   ],
   "source": [
    "import timeit\n",
    "start = timeit.default_timer()\n",
    "\n",
    "stop = timeit.default_timer()\n",
    "print('Time: ', stop - start)  "
   ]
  },
  {
   "cell_type": "markdown",
   "metadata": {},
   "source": [
    "## Network from NeDReX"
   ]
  },
  {
   "cell_type": "code",
   "execution_count": 44,
   "metadata": {},
   "outputs": [],
   "source": [
    "from urllib import request, parse\n",
    "import json"
   ]
  },
  {
   "cell_type": "code",
   "execution_count": 45,
   "metadata": {},
   "outputs": [],
   "source": [
    "url = 'https://api.nedrex.net/graph_builder'"
   ]
  },
  {
   "cell_type": "code",
   "execution_count": 46,
   "metadata": {},
   "outputs": [],
   "source": [
    "myobj = {\n",
    "    \"nodes\":[\"protein\"],\n",
    "    \"edges\":[\"protein_interacts_with_protein\"],\n",
    "    \"iid_evidence\":[\"exp\"],\n",
    "    \"ppi_self_loops\": True,\n",
    "    \"taxid\":[9606],\n",
    "    \"concise\": True,\n",
    "    \"include_omim\": True,\n",
    "    \"disgenet_threshold\": 0,\n",
    "    \"use_omim_ids\": False,\n",
    "}"
   ]
  },
  {
   "cell_type": "code",
   "execution_count": 47,
   "metadata": {},
   "outputs": [],
   "source": [
    "data = json.dumps(myobj).encode('utf8')\n",
    "req =  request.Request(url, data=data) # this will make the method \"POST\"\n",
    "resp = request.urlopen(req)"
   ]
  },
  {
   "cell_type": "code",
   "execution_count": 48,
   "metadata": {
    "scrolled": true
   },
   "outputs": [
    {
     "name": "stdout",
     "output_type": "stream",
     "text": [
      "\"e1e15418-2c09-4c9e-8ad5-ed02aed4d5a8\"\n"
     ]
    }
   ],
   "source": [
    "print(resp.read().decode('utf8'))"
   ]
  },
  {
   "cell_type": "markdown",
   "metadata": {},
   "source": [
    "## Enriched gene values"
   ]
  },
  {
   "cell_type": "code",
   "execution_count": 4,
   "metadata": {},
   "outputs": [],
   "source": [
    "import gseapy"
   ]
  },
  {
   "cell_type": "code",
   "execution_count": 9,
   "metadata": {},
   "outputs": [],
   "source": [
    "ID_TYPE_KEY = {'entrez': 'entrezgene', 'ensembl': 'ensembl.gene', 'symbol': 'symbol', 'uniprot': 'uniprot.Swiss-Prot'}"
   ]
  },
  {
   "cell_type": "code",
   "execution_count": 51,
   "metadata": {},
   "outputs": [],
   "source": [
    "ENRICH_KEY = {'GO_Molecular_Function_2015':'go.MF', 'GO_Biological_Process_2015':'go.BP', 'GO_Cellular_Component_2015':'go.CC', 'KEGG_2016':'pathway.kegg'}"
   ]
  },
  {
   "cell_type": "code",
   "execution_count": 5,
   "metadata": {},
   "outputs": [
    {
     "data": {
      "text/plain": [
       "0    P28223\n",
       "1    P00325\n",
       "2    P00326\n",
       "3    P47869\n",
       "Name: 0, dtype: object"
      ]
     },
     "execution_count": 5,
     "metadata": {},
     "output_type": "execute_result"
    }
   ],
   "source": [
    "seeds"
   ]
  },
  {
   "cell_type": "code",
   "execution_count": 8,
   "metadata": {},
   "outputs": [
    {
     "data": {
      "text/html": [
       "<div>\n",
       "<style scoped>\n",
       "    .dataframe tbody tr th:only-of-type {\n",
       "        vertical-align: middle;\n",
       "    }\n",
       "\n",
       "    .dataframe tbody tr th {\n",
       "        vertical-align: top;\n",
       "    }\n",
       "\n",
       "    .dataframe thead th {\n",
       "        text-align: right;\n",
       "    }\n",
       "</style>\n",
       "<table border=\"1\" class=\"dataframe\">\n",
       "  <thead>\n",
       "    <tr style=\"text-align: right;\">\n",
       "      <th></th>\n",
       "      <th>entrezgene</th>\n",
       "      <th>symbol</th>\n",
       "      <th>uniprot.Swiss-Prot</th>\n",
       "      <th>ensembl.gene</th>\n",
       "    </tr>\n",
       "  </thead>\n",
       "  <tbody>\n",
       "    <tr>\n",
       "      <th>0</th>\n",
       "      <td>1</td>\n",
       "      <td>A1BG</td>\n",
       "      <td>P04217</td>\n",
       "      <td>ENSG00000121410</td>\n",
       "    </tr>\n",
       "    <tr>\n",
       "      <th>1</th>\n",
       "      <td>2</td>\n",
       "      <td>A2M</td>\n",
       "      <td>P01023</td>\n",
       "      <td>ENSG00000175899</td>\n",
       "    </tr>\n",
       "    <tr>\n",
       "      <th>2</th>\n",
       "      <td>9</td>\n",
       "      <td>NAT1</td>\n",
       "      <td>P18440</td>\n",
       "      <td>ENSG00000171428</td>\n",
       "    </tr>\n",
       "    <tr>\n",
       "      <th>3</th>\n",
       "      <td>10</td>\n",
       "      <td>NAT2</td>\n",
       "      <td>P11245</td>\n",
       "      <td>ENSG00000156006</td>\n",
       "    </tr>\n",
       "    <tr>\n",
       "      <th>4</th>\n",
       "      <td>12</td>\n",
       "      <td>SERPINA3</td>\n",
       "      <td>P01011</td>\n",
       "      <td>ENSG00000196136</td>\n",
       "    </tr>\n",
       "  </tbody>\n",
       "</table>\n",
       "</div>"
      ],
      "text/plain": [
       "   entrezgene    symbol uniprot.Swiss-Prot     ensembl.gene\n",
       "0           1      A1BG             P04217  ENSG00000121410\n",
       "1           2       A2M             P01023  ENSG00000175899\n",
       "2           9      NAT1             P18440  ENSG00000171428\n",
       "3          10      NAT2             P11245  ENSG00000156006\n",
       "4          12  SERPINA3             P01011  ENSG00000196136"
      ]
     },
     "execution_count": 8,
     "metadata": {},
     "output_type": "execute_result"
    }
   ],
   "source": [
    "gene_id_mapping = pd.read_csv(\"../mapping_files/gene_id_mapping.csv\")\n",
    "gene_id_mapping.head(5)"
   ]
  },
  {
   "cell_type": "code",
   "execution_count": 11,
   "metadata": {},
   "outputs": [
    {
     "data": {
      "text/plain": [
       "73       ADH1B\n",
       "74       ADH1C\n",
       "1502    GABRA2\n",
       "1924     HTR2A\n",
       "Name: symbol, dtype: object"
      ]
     },
     "execution_count": 11,
     "metadata": {},
     "output_type": "execute_result"
    }
   ],
   "source": [
    "gene_id_mapping[gene_id_mapping[ID_TYPE_KEY['uniprot']].isin(seeds)]['symbol']"
   ]
  },
  {
   "cell_type": "code",
   "execution_count": 30,
   "metadata": {},
   "outputs": [
    {
     "name": "stderr",
     "output_type": "stream",
     "text": [
      "2021-12-13 09:23:51,605 Warning: No enrich terms using library GO_Cellular_Component_2015 when cutoff = 0.05\n"
     ]
    },
    {
     "data": {
      "text/html": [
       "<div>\n",
       "<style scoped>\n",
       "    .dataframe tbody tr th:only-of-type {\n",
       "        vertical-align: middle;\n",
       "    }\n",
       "\n",
       "    .dataframe tbody tr th {\n",
       "        vertical-align: top;\n",
       "    }\n",
       "\n",
       "    .dataframe thead th {\n",
       "        text-align: right;\n",
       "    }\n",
       "</style>\n",
       "<table border=\"1\" class=\"dataframe\">\n",
       "  <thead>\n",
       "    <tr style=\"text-align: right;\">\n",
       "      <th></th>\n",
       "      <th>Gene_set</th>\n",
       "      <th>Term</th>\n",
       "      <th>Overlap</th>\n",
       "      <th>P-value</th>\n",
       "      <th>Adjusted P-value</th>\n",
       "      <th>Old P-value</th>\n",
       "      <th>Old Adjusted P-value</th>\n",
       "      <th>Odds Ratio</th>\n",
       "      <th>Combined Score</th>\n",
       "      <th>Genes</th>\n",
       "    </tr>\n",
       "  </thead>\n",
       "  <tbody>\n",
       "    <tr>\n",
       "      <th>0</th>\n",
       "      <td>GO_Molecular_Function_2015</td>\n",
       "      <td>alcohol dehydrogenase (NAD) activity (GO:0004022)</td>\n",
       "      <td>2/8</td>\n",
       "      <td>8.396276e-07</td>\n",
       "      <td>0.000022</td>\n",
       "      <td>0</td>\n",
       "      <td>0</td>\n",
       "      <td>3331.666667</td>\n",
       "      <td>46611.040785</td>\n",
       "      <td>ADH1C;ADH1B</td>\n",
       "    </tr>\n",
       "    <tr>\n",
       "      <th>1</th>\n",
       "      <td>GO_Molecular_Function_2015</td>\n",
       "      <td>oxidoreductase activity, acting on the CH-OH g...</td>\n",
       "      <td>2/115</td>\n",
       "      <td>1.951745e-04</td>\n",
       "      <td>0.002195</td>\n",
       "      <td>0</td>\n",
       "      <td>0</td>\n",
       "      <td>175.955752</td>\n",
       "      <td>1502.946605</td>\n",
       "      <td>ADH1C;ADH1B</td>\n",
       "    </tr>\n",
       "    <tr>\n",
       "      <th>2</th>\n",
       "      <td>GO_Molecular_Function_2015</td>\n",
       "      <td>oxidoreductase activity, acting on CH-OH group...</td>\n",
       "      <td>2/131</td>\n",
       "      <td>2.532625e-04</td>\n",
       "      <td>0.002195</td>\n",
       "      <td>0</td>\n",
       "      <td>0</td>\n",
       "      <td>154.007752</td>\n",
       "      <td>1275.351143</td>\n",
       "      <td>ADH1C;ADH1B</td>\n",
       "    </tr>\n",
       "    <tr>\n",
       "      <th>3</th>\n",
       "      <td>GO_Molecular_Function_2015</td>\n",
       "      <td>serotonin binding (GO:0051378)</td>\n",
       "      <td>1/8</td>\n",
       "      <td>1.599128e-03</td>\n",
       "      <td>0.009354</td>\n",
       "      <td>0</td>\n",
       "      <td>0</td>\n",
       "      <td>951.857143</td>\n",
       "      <td>6128.338527</td>\n",
       "      <td>HTR2A</td>\n",
       "    </tr>\n",
       "    <tr>\n",
       "      <th>4</th>\n",
       "      <td>GO_Molecular_Function_2015</td>\n",
       "      <td>amine binding (GO:0043176)</td>\n",
       "      <td>1/9</td>\n",
       "      <td>1.798886e-03</td>\n",
       "      <td>0.009354</td>\n",
       "      <td>0</td>\n",
       "      <td>0</td>\n",
       "      <td>832.833333</td>\n",
       "      <td>5263.996189</td>\n",
       "      <td>HTR2A</td>\n",
       "    </tr>\n",
       "    <tr>\n",
       "      <th>...</th>\n",
       "      <td>...</td>\n",
       "      <td>...</td>\n",
       "      <td>...</td>\n",
       "      <td>...</td>\n",
       "      <td>...</td>\n",
       "      <td>...</td>\n",
       "      <td>...</td>\n",
       "      <td>...</td>\n",
       "      <td>...</td>\n",
       "      <td>...</td>\n",
       "    </tr>\n",
       "    <tr>\n",
       "      <th>189</th>\n",
       "      <td>KEGG_2016</td>\n",
       "      <td>Inflammatory mediator regulation of TRP channe...</td>\n",
       "      <td>1/98</td>\n",
       "      <td>1.945771e-02</td>\n",
       "      <td>0.023521</td>\n",
       "      <td>0</td>\n",
       "      <td>0</td>\n",
       "      <td>68.381443</td>\n",
       "      <td>269.389509</td>\n",
       "      <td>HTR2A</td>\n",
       "    </tr>\n",
       "    <tr>\n",
       "      <th>190</th>\n",
       "      <td>KEGG_2016</td>\n",
       "      <td>Retrograde endocannabinoid signaling Homo sapi...</td>\n",
       "      <td>1/101</td>\n",
       "      <td>2.004884e-02</td>\n",
       "      <td>0.023521</td>\n",
       "      <td>0</td>\n",
       "      <td>0</td>\n",
       "      <td>66.320000</td>\n",
       "      <td>259.283608</td>\n",
       "      <td>GABRA2</td>\n",
       "    </tr>\n",
       "    <tr>\n",
       "      <th>191</th>\n",
       "      <td>KEGG_2016</td>\n",
       "      <td>Metabolic pathways Homo sapiens hsa01100</td>\n",
       "      <td>2/1239</td>\n",
       "      <td>2.115550e-02</td>\n",
       "      <td>0.023521</td>\n",
       "      <td>0</td>\n",
       "      <td>0</td>\n",
       "      <td>15.164915</td>\n",
       "      <td>58.473719</td>\n",
       "      <td>ADH1C;ADH1B</td>\n",
       "    </tr>\n",
       "    <tr>\n",
       "      <th>192</th>\n",
       "      <td>KEGG_2016</td>\n",
       "      <td>Serotonergic synapse Homo sapiens hsa04726</td>\n",
       "      <td>1/112</td>\n",
       "      <td>2.221403e-02</td>\n",
       "      <td>0.023521</td>\n",
       "      <td>0</td>\n",
       "      <td>0</td>\n",
       "      <td>59.714715</td>\n",
       "      <td>227.335771</td>\n",
       "      <td>HTR2A</td>\n",
       "    </tr>\n",
       "    <tr>\n",
       "      <th>193</th>\n",
       "      <td>KEGG_2016</td>\n",
       "      <td>Calcium signaling pathway Homo sapiens hsa04020</td>\n",
       "      <td>1/180</td>\n",
       "      <td>3.551934e-02</td>\n",
       "      <td>0.035519</td>\n",
       "      <td>0</td>\n",
       "      <td>0</td>\n",
       "      <td>36.903166</td>\n",
       "      <td>123.170886</td>\n",
       "      <td>HTR2A</td>\n",
       "    </tr>\n",
       "  </tbody>\n",
       "</table>\n",
       "<p>127 rows × 10 columns</p>\n",
       "</div>"
      ],
      "text/plain": [
       "                       Gene_set  \\\n",
       "0    GO_Molecular_Function_2015   \n",
       "1    GO_Molecular_Function_2015   \n",
       "2    GO_Molecular_Function_2015   \n",
       "3    GO_Molecular_Function_2015   \n",
       "4    GO_Molecular_Function_2015   \n",
       "..                          ...   \n",
       "189                   KEGG_2016   \n",
       "190                   KEGG_2016   \n",
       "191                   KEGG_2016   \n",
       "192                   KEGG_2016   \n",
       "193                   KEGG_2016   \n",
       "\n",
       "                                                  Term Overlap       P-value  \\\n",
       "0    alcohol dehydrogenase (NAD) activity (GO:0004022)     2/8  8.396276e-07   \n",
       "1    oxidoreductase activity, acting on the CH-OH g...   2/115  1.951745e-04   \n",
       "2    oxidoreductase activity, acting on CH-OH group...   2/131  2.532625e-04   \n",
       "3                       serotonin binding (GO:0051378)     1/8  1.599128e-03   \n",
       "4                           amine binding (GO:0043176)     1/9  1.798886e-03   \n",
       "..                                                 ...     ...           ...   \n",
       "189  Inflammatory mediator regulation of TRP channe...    1/98  1.945771e-02   \n",
       "190  Retrograde endocannabinoid signaling Homo sapi...   1/101  2.004884e-02   \n",
       "191           Metabolic pathways Homo sapiens hsa01100  2/1239  2.115550e-02   \n",
       "192         Serotonergic synapse Homo sapiens hsa04726   1/112  2.221403e-02   \n",
       "193    Calcium signaling pathway Homo sapiens hsa04020   1/180  3.551934e-02   \n",
       "\n",
       "     Adjusted P-value  Old P-value  Old Adjusted P-value   Odds Ratio  \\\n",
       "0            0.000022            0                     0  3331.666667   \n",
       "1            0.002195            0                     0   175.955752   \n",
       "2            0.002195            0                     0   154.007752   \n",
       "3            0.009354            0                     0   951.857143   \n",
       "4            0.009354            0                     0   832.833333   \n",
       "..                ...          ...                   ...          ...   \n",
       "189          0.023521            0                     0    68.381443   \n",
       "190          0.023521            0                     0    66.320000   \n",
       "191          0.023521            0                     0    15.164915   \n",
       "192          0.023521            0                     0    59.714715   \n",
       "193          0.035519            0                     0    36.903166   \n",
       "\n",
       "     Combined Score        Genes  \n",
       "0      46611.040785  ADH1C;ADH1B  \n",
       "1       1502.946605  ADH1C;ADH1B  \n",
       "2       1275.351143  ADH1C;ADH1B  \n",
       "3       6128.338527        HTR2A  \n",
       "4       5263.996189        HTR2A  \n",
       "..              ...          ...  \n",
       "189      269.389509        HTR2A  \n",
       "190      259.283608       GABRA2  \n",
       "191       58.473719  ADH1C;ADH1B  \n",
       "192      227.335771        HTR2A  \n",
       "193      123.170886        HTR2A  \n",
       "\n",
       "[127 rows x 10 columns]"
      ]
     },
     "execution_count": 30,
     "metadata": {},
     "output_type": "execute_result"
    }
   ],
   "source": [
    "enrichr_df_target = gseapy.enrichr(gene_list=list(gene_id_mapping[gene_id_mapping[ID_TYPE_KEY['uniprot']].isin(seeds)]['symbol']),\n",
    "                                               description='atts',\n",
    "                                               gene_sets=list(ENRICH_KEY.keys()),\n",
    "                                               cutoff=0.05).results\n",
    "enrichr_df_target = enrichr_df_target[enrichr_df_target['Adjusted P-value'] < 0.05]\n",
    "enrichr_df_target"
   ]
  },
  {
   "cell_type": "code",
   "execution_count": 31,
   "metadata": {},
   "outputs": [
    {
     "data": {
      "text/plain": [
       "176            Tyrosine metabolism Homo sapiens hsa00350\n",
       "177         Fatty acid degradation Homo sapiens hsa00071\n",
       "178             Retinol metabolism Homo sapiens hsa00830\n",
       "179    Glycolysis / Gluconeogenesis Homo sapiens hsa0...\n",
       "180    Drug metabolism - cytochrome P450 Homo sapiens...\n",
       "181    Metabolism of xenobiotics by cytochrome P450 H...\n",
       "182        Chemical carcinogenesis Homo sapiens hsa05204\n",
       "183    Neuroactive ligand-receptor interaction Homo s...\n",
       "184             Nicotine addiction Homo sapiens hsa05033\n",
       "185             Taste transduction Homo sapiens hsa04742\n",
       "186              GABAergic synapse Homo sapiens hsa04727\n",
       "187                   Gap junction Homo sapiens hsa04540\n",
       "188             Morphine addiction Homo sapiens hsa05032\n",
       "189    Inflammatory mediator regulation of TRP channe...\n",
       "190    Retrograde endocannabinoid signaling Homo sapi...\n",
       "191             Metabolic pathways Homo sapiens hsa01100\n",
       "192           Serotonergic synapse Homo sapiens hsa04726\n",
       "193      Calcium signaling pathway Homo sapiens hsa04020\n",
       "Name: Term, dtype: object"
      ]
     },
     "execution_count": 31,
     "metadata": {},
     "output_type": "execute_result"
    }
   ],
   "source": [
    "enrichr_df_target[enrichr_df_target[\"Gene_set\"]==\"KEGG_2016\"][\"Term\"]"
   ]
  },
  {
   "cell_type": "code",
   "execution_count": 37,
   "metadata": {},
   "outputs": [],
   "source": [
    "if len(enrichr_df_target) > 0:\n",
    "        enrichr_df_target.insert(2, 'Term_ID', enrichr_df_target['Term'].str.extract(r'(GO:[0-9]*|hsa[0-9]*)')[0])"
   ]
  },
  {
   "cell_type": "code",
   "execution_count": 50,
   "metadata": {},
   "outputs": [
    {
     "data": {
      "text/html": [
       "<div>\n",
       "<style scoped>\n",
       "    .dataframe tbody tr th:only-of-type {\n",
       "        vertical-align: middle;\n",
       "    }\n",
       "\n",
       "    .dataframe tbody tr th {\n",
       "        vertical-align: top;\n",
       "    }\n",
       "\n",
       "    .dataframe thead th {\n",
       "        text-align: right;\n",
       "    }\n",
       "</style>\n",
       "<table border=\"1\" class=\"dataframe\">\n",
       "  <thead>\n",
       "    <tr style=\"text-align: right;\">\n",
       "      <th>Gene_set</th>\n",
       "      <th>GO_Biological_Process_2015</th>\n",
       "      <th>GO_Molecular_Function_2015</th>\n",
       "      <th>KEGG_2016</th>\n",
       "    </tr>\n",
       "  </thead>\n",
       "  <tbody>\n",
       "    <tr>\n",
       "      <th>0</th>\n",
       "      <td>NaN</td>\n",
       "      <td>GO:0004022</td>\n",
       "      <td>NaN</td>\n",
       "    </tr>\n",
       "    <tr>\n",
       "      <th>1</th>\n",
       "      <td>NaN</td>\n",
       "      <td>GO:0016616</td>\n",
       "      <td>NaN</td>\n",
       "    </tr>\n",
       "    <tr>\n",
       "      <th>2</th>\n",
       "      <td>NaN</td>\n",
       "      <td>GO:0016614</td>\n",
       "      <td>NaN</td>\n",
       "    </tr>\n",
       "    <tr>\n",
       "      <th>3</th>\n",
       "      <td>NaN</td>\n",
       "      <td>GO:0051378</td>\n",
       "      <td>NaN</td>\n",
       "    </tr>\n",
       "    <tr>\n",
       "      <th>4</th>\n",
       "      <td>NaN</td>\n",
       "      <td>GO:0043176</td>\n",
       "      <td>NaN</td>\n",
       "    </tr>\n",
       "    <tr>\n",
       "      <th>...</th>\n",
       "      <td>...</td>\n",
       "      <td>...</td>\n",
       "      <td>...</td>\n",
       "    </tr>\n",
       "    <tr>\n",
       "      <th>189</th>\n",
       "      <td>NaN</td>\n",
       "      <td>NaN</td>\n",
       "      <td>hsa04750</td>\n",
       "    </tr>\n",
       "    <tr>\n",
       "      <th>190</th>\n",
       "      <td>NaN</td>\n",
       "      <td>NaN</td>\n",
       "      <td>hsa04723</td>\n",
       "    </tr>\n",
       "    <tr>\n",
       "      <th>191</th>\n",
       "      <td>NaN</td>\n",
       "      <td>NaN</td>\n",
       "      <td>hsa01100</td>\n",
       "    </tr>\n",
       "    <tr>\n",
       "      <th>192</th>\n",
       "      <td>NaN</td>\n",
       "      <td>NaN</td>\n",
       "      <td>hsa04726</td>\n",
       "    </tr>\n",
       "    <tr>\n",
       "      <th>193</th>\n",
       "      <td>NaN</td>\n",
       "      <td>NaN</td>\n",
       "      <td>hsa04020</td>\n",
       "    </tr>\n",
       "  </tbody>\n",
       "</table>\n",
       "<p>127 rows × 3 columns</p>\n",
       "</div>"
      ],
      "text/plain": [
       "Gene_set GO_Biological_Process_2015 GO_Molecular_Function_2015 KEGG_2016\n",
       "0                               NaN                 GO:0004022       NaN\n",
       "1                               NaN                 GO:0016616       NaN\n",
       "2                               NaN                 GO:0016614       NaN\n",
       "3                               NaN                 GO:0051378       NaN\n",
       "4                               NaN                 GO:0043176       NaN\n",
       "..                              ...                        ...       ...\n",
       "189                             NaN                        NaN  hsa04750\n",
       "190                             NaN                        NaN  hsa04723\n",
       "191                             NaN                        NaN  hsa01100\n",
       "192                             NaN                        NaN  hsa04726\n",
       "193                             NaN                        NaN  hsa04020\n",
       "\n",
       "[127 rows x 3 columns]"
      ]
     },
     "execution_count": 50,
     "metadata": {},
     "output_type": "execute_result"
    }
   ],
   "source": [
    "pivot = enrichr_df_target[['Gene_set','Term_ID']].pivot(columns='Gene_set')\n",
    "pivot['Term_ID']"
   ]
  },
  {
   "cell_type": "code",
   "execution_count": 49,
   "metadata": {},
   "outputs": [
    {
     "data": {
      "text/plain": [
       "{'hsa00010',\n",
       " 'hsa00071',\n",
       " 'hsa00350',\n",
       " 'hsa00830',\n",
       " 'hsa00980',\n",
       " 'hsa00982',\n",
       " 'hsa01100',\n",
       " 'hsa04020',\n",
       " 'hsa04080',\n",
       " 'hsa04540',\n",
       " 'hsa04723',\n",
       " 'hsa04726',\n",
       " 'hsa04727',\n",
       " 'hsa04742',\n",
       " 'hsa04750',\n",
       " 'hsa05032',\n",
       " 'hsa05033',\n",
       " 'hsa05204'}"
      ]
     },
     "execution_count": 49,
     "metadata": {},
     "output_type": "execute_result"
    }
   ],
   "source": [
    "set(pivot['Term_ID']['KEGG_2016'].dropna())"
   ]
  },
  {
   "cell_type": "code",
   "execution_count": 54,
   "metadata": {},
   "outputs": [
    {
     "data": {
      "text/plain": [
       "{'go.MF': {'GO:0001965',\n",
       "  'GO:0004022',\n",
       "  'GO:0004890',\n",
       "  'GO:0004993',\n",
       "  'GO:0005230',\n",
       "  'GO:0005253',\n",
       "  'GO:0005254',\n",
       "  'GO:0008144',\n",
       "  'GO:0008227',\n",
       "  'GO:0008270',\n",
       "  'GO:0015103',\n",
       "  'GO:0015108',\n",
       "  'GO:0015276',\n",
       "  'GO:0016614',\n",
       "  'GO:0016616',\n",
       "  'GO:0016917',\n",
       "  'GO:0022834',\n",
       "  'GO:0030594',\n",
       "  'GO:0043176',\n",
       "  'GO:0051378'},\n",
       " 'go.BP': {'GO:0001505',\n",
       "  'GO:0001659',\n",
       "  'GO:0003013',\n",
       "  'GO:0003018',\n",
       "  'GO:0006066',\n",
       "  'GO:0006067',\n",
       "  'GO:0006069',\n",
       "  'GO:0006109',\n",
       "  'GO:0006110',\n",
       "  'GO:0006805',\n",
       "  'GO:0006821',\n",
       "  'GO:0006836',\n",
       "  'GO:0006939',\n",
       "  'GO:0007200',\n",
       "  'GO:0007202',\n",
       "  'GO:0007204',\n",
       "  'GO:0007210',\n",
       "  'GO:0007214',\n",
       "  'GO:0007268',\n",
       "  'GO:0007613',\n",
       "  'GO:0009266',\n",
       "  'GO:0010517',\n",
       "  'GO:0010518',\n",
       "  'GO:0010675',\n",
       "  'GO:0010676',\n",
       "  'GO:0010863',\n",
       "  'GO:0014059',\n",
       "  'GO:0014065',\n",
       "  'GO:0014820',\n",
       "  'GO:0014824',\n",
       "  'GO:0014829',\n",
       "  'GO:0014848',\n",
       "  'GO:0015698',\n",
       "  'GO:0016048',\n",
       "  'GO:0019229',\n",
       "  'GO:0030431',\n",
       "  'GO:0030534',\n",
       "  'GO:0032845',\n",
       "  'GO:0034308',\n",
       "  'GO:0035150',\n",
       "  'GO:0042220',\n",
       "  'GO:0042310',\n",
       "  'GO:0043266',\n",
       "  'GO:0043267',\n",
       "  'GO:0043271',\n",
       "  'GO:0043279',\n",
       "  'GO:0043467',\n",
       "  'GO:0043470',\n",
       "  'GO:0043471',\n",
       "  'GO:0044380',\n",
       "  'GO:0045821',\n",
       "  'GO:0045834',\n",
       "  'GO:0045907',\n",
       "  'GO:0045913',\n",
       "  'GO:0046889',\n",
       "  'GO:0046890',\n",
       "  'GO:0048015',\n",
       "  'GO:0048017',\n",
       "  'GO:0048148',\n",
       "  'GO:0048871',\n",
       "  'GO:0050433',\n",
       "  'GO:0050731',\n",
       "  'GO:0050795',\n",
       "  'GO:0050805',\n",
       "  'GO:0050880',\n",
       "  'GO:0050961',\n",
       "  'GO:0050965',\n",
       "  'GO:0050974',\n",
       "  'GO:0050982',\n",
       "  'GO:0051209',\n",
       "  'GO:0051282',\n",
       "  'GO:0051283',\n",
       "  'GO:0051952',\n",
       "  'GO:0051966',\n",
       "  'GO:0051967',\n",
       "  'GO:0060191',\n",
       "  'GO:0060193',\n",
       "  'GO:0060359',\n",
       "  'GO:0060401',\n",
       "  'GO:0060402',\n",
       "  'GO:0070372',\n",
       "  'GO:0070374',\n",
       "  'GO:0071071',\n",
       "  'GO:0098661',\n",
       "  'GO:1900274',\n",
       "  'GO:1901615',\n",
       "  'GO:1902476',\n",
       "  'GO:1903524',\n",
       "  'GO:2000021'},\n",
       " 'go.CC': set(),\n",
       " 'pathway.kegg': {'hsa00010',\n",
       "  'hsa00071',\n",
       "  'hsa00350',\n",
       "  'hsa00830',\n",
       "  'hsa00980',\n",
       "  'hsa00982',\n",
       "  'hsa01100',\n",
       "  'hsa04020',\n",
       "  'hsa04080',\n",
       "  'hsa04540',\n",
       "  'hsa04723',\n",
       "  'hsa04726',\n",
       "  'hsa04727',\n",
       "  'hsa04742',\n",
       "  'hsa04750',\n",
       "  'hsa05032',\n",
       "  'hsa05033',\n",
       "  'hsa05204'}}"
      ]
     },
     "execution_count": 54,
     "metadata": {},
     "output_type": "execute_result"
    }
   ],
   "source": [
    "dicto = dict()\n",
    "for key in ENRICH_KEY.keys():\n",
    "    if key in pivot['Term_ID']:\n",
    "        dicto[ENRICH_KEY[key]] = set(pivot['Term_ID'][key].dropna())\n",
    "    else:\n",
    "        dicto[ENRICH_KEY[key]] = set()\n",
    "dicto"
   ]
  },
  {
   "cell_type": "code",
   "execution_count": null,
   "metadata": {},
   "outputs": [],
   "source": [
    "import timeit\n",
    "start = timeit.default_timer()\n",
    "\n",
    "stop = timeit.default_timer()\n",
    "print('Time: ', stop - start)  "
   ]
  }
 ],
 "metadata": {
  "kernelspec": {
   "display_name": "Python 3",
   "language": "python",
   "name": "python3"
  },
  "language_info": {
   "codemirror_mode": {
    "name": "ipython",
    "version": 3
   },
   "file_extension": ".py",
   "mimetype": "text/x-python",
   "name": "python",
   "nbconvert_exporter": "python",
   "pygments_lexer": "ipython3",
   "version": "3.8.10"
  }
 },
 "nbformat": 4,
 "nbformat_minor": 4
}
