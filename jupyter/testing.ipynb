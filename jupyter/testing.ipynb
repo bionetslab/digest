{
 "cells": [
  {
   "cell_type": "markdown",
   "metadata": {},
   "source": [
    "# Testing environment for DoSE"
   ]
  },
  {
   "cell_type": "markdown",
   "metadata": {},
   "source": [
    "## Setup"
   ]
  },
  {
   "cell_type": "markdown",
   "metadata": {},
   "source": [
    "### Load libraries"
   ]
  },
  {
   "cell_type": "code",
   "execution_count": 1,
   "metadata": {},
   "outputs": [],
   "source": [
    "import pandas as pd\n",
    "import numpy as np \n",
    "import gseapy\n",
    "from biothings_client import get_client"
   ]
  },
  {
   "cell_type": "markdown",
   "metadata": {},
   "source": [
    "### Define data"
   ]
  },
  {
   "cell_type": "code",
   "execution_count": 2,
   "metadata": {},
   "outputs": [],
   "source": [
    "seeds_file = \"Input/0007079.txt\"\n",
    "betweenness_file = \"Input/0007079_added_200_dmd_betweenness_hub_0.01.txt\"\n",
    "significance_file = \"Input/0007079_added_200_dmd_significance_hub_1.txt\"\n",
    "diseases_file = \"Input/ICD10_commROCG_raw.txt\"\n",
    "disease_clusters_file = \"Input/ICD10_commROCG_cluster.txt\""
   ]
  },
  {
   "cell_type": "markdown",
   "metadata": {},
   "source": [
    "### Load data"
   ]
  },
  {
   "cell_type": "code",
   "execution_count": 3,
   "metadata": {},
   "outputs": [],
   "source": [
    "disease_id = \"0007079\"\n",
    "seeds = pd.read_csv(seeds_file, sep=\"\\t\", header=None)[0]\n",
    "betweenness = pd.read_csv(betweenness_file, sep=\"\\t\")['node']\n",
    "significance = pd.read_csv(significance_file, sep=\"\\t\")['node']\n",
    "diseases = pd.read_csv(diseases_file, sep=\"\\t\", header=None)\n",
    "disease_clusters = pd.read_csv(disease_clusters_file, sep=\"\\t\", header=None)"
   ]
  },
  {
   "cell_type": "code",
   "execution_count": 4,
   "metadata": {},
   "outputs": [
    {
     "name": "stdout",
     "output_type": "stream",
     "text": [
      "Time:  4.699100099969655e-05\n"
     ]
    }
   ],
   "source": [
    "import timeit\n",
    "start = timeit.default_timer()\n",
    "\n",
    "stop = timeit.default_timer()\n",
    "print('Time: ', stop - start)  "
   ]
  },
  {
   "cell_type": "markdown",
   "metadata": {},
   "source": [
    "## Network from NeDReX"
   ]
  },
  {
   "cell_type": "code",
   "execution_count": 44,
   "metadata": {},
   "outputs": [],
   "source": [
    "from urllib import request, parse\n",
    "import json"
   ]
  },
  {
   "cell_type": "code",
   "execution_count": 45,
   "metadata": {},
   "outputs": [],
   "source": [
    "url = 'https://api.nedrex.net/graph_builder'"
   ]
  },
  {
   "cell_type": "code",
   "execution_count": 46,
   "metadata": {},
   "outputs": [],
   "source": [
    "myobj = {\n",
    "    \"nodes\":[\"protein\"],\n",
    "    \"edges\":[\"protein_interacts_with_protein\"],\n",
    "    \"iid_evidence\":[\"exp\"],\n",
    "    \"ppi_self_loops\": True,\n",
    "    \"taxid\":[9606],\n",
    "    \"concise\": True,\n",
    "    \"include_omim\": True,\n",
    "    \"disgenet_threshold\": 0,\n",
    "    \"use_omim_ids\": False,\n",
    "}"
   ]
  },
  {
   "cell_type": "code",
   "execution_count": 47,
   "metadata": {},
   "outputs": [],
   "source": [
    "data = json.dumps(myobj).encode('utf8')\n",
    "req =  request.Request(url, data=data) # this will make the method \"POST\"\n",
    "resp = request.urlopen(req)"
   ]
  },
  {
   "cell_type": "code",
   "execution_count": 48,
   "metadata": {
    "scrolled": true
   },
   "outputs": [
    {
     "name": "stdout",
     "output_type": "stream",
     "text": [
      "\"e1e15418-2c09-4c9e-8ad5-ed02aed4d5a8\"\n"
     ]
    }
   ],
   "source": [
    "print(resp.read().decode('utf8'))"
   ]
  },
  {
   "cell_type": "markdown",
   "metadata": {},
   "source": [
    "## TEST"
   ]
  },
  {
   "cell_type": "code",
   "execution_count": 3,
   "metadata": {},
   "outputs": [],
   "source": [
    "FILES_DIR = \"../mapping_files/\""
   ]
  },
  {
   "cell_type": "code",
   "execution_count": 4,
   "metadata": {},
   "outputs": [],
   "source": [
    "file_names = {'gene_ids': FILES_DIR + 'gene_id_mapping.csv',\n",
    "                  'gene_atts': FILES_DIR + 'gene_att_mapping.csv',\n",
    "                  'disorder_ids': FILES_DIR + 'disease_id_mapping.csv',\n",
    "                  'disorder_atts': FILES_DIR + 'disease_att_mapping.csv',\n",
    "                  'go_BP': FILES_DIR + 'gene_dist_go_BP.csv',\n",
    "                  'go_CC': FILES_DIR + 'gene_dist_go_CC.csv',\n",
    "                  'go_MF': FILES_DIR + 'gene_dist_go_MF.csv',\n",
    "                  'pathway_kegg': FILES_DIR + 'gene_dist_pathway_kegg.csv',\n",
    "                  'related_genes': FILES_DIR + 'disease_dist_rel_genes.csv',\n",
    "                  'related_variants': FILES_DIR + 'disease_dist_rel_variants.csv',\n",
    "                  'related_pathways': FILES_DIR + 'disease_dist_rel_pathways.csv'}"
   ]
  },
  {
   "cell_type": "code",
   "execution_count": null,
   "metadata": {},
   "outputs": [],
   "source": [
    "def _load_file_distances(self, file_readers: list, sep: str, mapping_name: str):\n",
    "    header=\n",
    "\n",
    "\n",
    "with open(self.file_names['go_BP']) as f1, open(self.file_names['go_CC']) as f2, \\\n",
    "                    open(self.file_names['go_MF']) as f3, open(self.file_names['pathway_kegg']) as f4:\n",
    "    "
   ]
  },
  {
   "cell_type": "code",
   "execution_count": 5,
   "metadata": {},
   "outputs": [
    {
     "data": {
      "text/html": [
       "<div>\n",
       "<style scoped>\n",
       "    .dataframe tbody tr th:only-of-type {\n",
       "        vertical-align: middle;\n",
       "    }\n",
       "\n",
       "    .dataframe tbody tr th {\n",
       "        vertical-align: top;\n",
       "    }\n",
       "\n",
       "    .dataframe thead th {\n",
       "        text-align: right;\n",
       "    }\n",
       "</style>\n",
       "<table border=\"1\" class=\"dataframe\">\n",
       "  <thead>\n",
       "    <tr style=\"text-align: right;\">\n",
       "      <th></th>\n",
       "      <th>entrezgene</th>\n",
       "      <th>symbol</th>\n",
       "      <th>uniprot.Swiss-Prot</th>\n",
       "      <th>ensembl.gene</th>\n",
       "    </tr>\n",
       "  </thead>\n",
       "  <tbody>\n",
       "    <tr>\n",
       "      <th>0</th>\n",
       "      <td>1</td>\n",
       "      <td>A1BG</td>\n",
       "      <td>P04217</td>\n",
       "      <td>ENSG00000121410</td>\n",
       "    </tr>\n",
       "    <tr>\n",
       "      <th>1</th>\n",
       "      <td>2</td>\n",
       "      <td>A2M</td>\n",
       "      <td>P01023</td>\n",
       "      <td>ENSG00000175899</td>\n",
       "    </tr>\n",
       "    <tr>\n",
       "      <th>2</th>\n",
       "      <td>9</td>\n",
       "      <td>NAT1</td>\n",
       "      <td>P18440</td>\n",
       "      <td>ENSG00000171428</td>\n",
       "    </tr>\n",
       "    <tr>\n",
       "      <th>3</th>\n",
       "      <td>10</td>\n",
       "      <td>NAT2</td>\n",
       "      <td>P11245</td>\n",
       "      <td>ENSG00000156006</td>\n",
       "    </tr>\n",
       "    <tr>\n",
       "      <th>4</th>\n",
       "      <td>12</td>\n",
       "      <td>SERPINA3</td>\n",
       "      <td>P01011</td>\n",
       "      <td>ENSG00000196136</td>\n",
       "    </tr>\n",
       "    <tr>\n",
       "      <th>...</th>\n",
       "      <td>...</td>\n",
       "      <td>...</td>\n",
       "      <td>...</td>\n",
       "      <td>...</td>\n",
       "    </tr>\n",
       "    <tr>\n",
       "      <th>16013</th>\n",
       "      <td>54331</td>\n",
       "      <td>GNG2</td>\n",
       "      <td>P59768</td>\n",
       "      <td>ENSG00000172020</td>\n",
       "    </tr>\n",
       "    <tr>\n",
       "      <th>16014</th>\n",
       "      <td>3215</td>\n",
       "      <td>HOXB5</td>\n",
       "      <td>P09067</td>\n",
       "      <td>ENSG00000087460</td>\n",
       "    </tr>\n",
       "    <tr>\n",
       "      <th>16015</th>\n",
       "      <td>375519</td>\n",
       "      <td>GJB7</td>\n",
       "      <td>Q6PEY0</td>\n",
       "      <td>ENSG00000173020</td>\n",
       "    </tr>\n",
       "    <tr>\n",
       "      <th>16016</th>\n",
       "      <td>22979</td>\n",
       "      <td>EFR3B</td>\n",
       "      <td>Q9Y2G0</td>\n",
       "      <td>ENSG00000186469</td>\n",
       "    </tr>\n",
       "    <tr>\n",
       "      <th>16017</th>\n",
       "      <td>6237</td>\n",
       "      <td>RRAS</td>\n",
       "      <td>P10301</td>\n",
       "      <td>ENSG00000120075</td>\n",
       "    </tr>\n",
       "  </tbody>\n",
       "</table>\n",
       "<p>16018 rows × 4 columns</p>\n",
       "</div>"
      ],
      "text/plain": [
       "      entrezgene    symbol uniprot.Swiss-Prot     ensembl.gene\n",
       "0              1      A1BG             P04217  ENSG00000121410\n",
       "1              2       A2M             P01023  ENSG00000175899\n",
       "2              9      NAT1             P18440  ENSG00000171428\n",
       "3             10      NAT2             P11245  ENSG00000156006\n",
       "4             12  SERPINA3             P01011  ENSG00000196136\n",
       "...          ...       ...                ...              ...\n",
       "16013      54331      GNG2             P59768  ENSG00000172020\n",
       "16014       3215     HOXB5             P09067  ENSG00000087460\n",
       "16015     375519      GJB7             Q6PEY0  ENSG00000173020\n",
       "16016      22979     EFR3B             Q9Y2G0  ENSG00000186469\n",
       "16017       6237      RRAS             P10301  ENSG00000120075\n",
       "\n",
       "[16018 rows x 4 columns]"
      ]
     },
     "execution_count": 5,
     "metadata": {},
     "output_type": "execute_result"
    }
   ],
   "source": [
    "gene_ids = pd.read_csv(file_names['gene_ids'], dtype=str)\n",
    "gene_ids"
   ]
  },
  {
   "cell_type": "code",
   "execution_count": 7,
   "metadata": {},
   "outputs": [],
   "source": [
    "import graph_tool as gt"
   ]
  },
  {
   "cell_type": "code",
   "execution_count": 9,
   "metadata": {},
   "outputs": [
    {
     "data": {
      "text/plain": [
       "<generator object Graph.add_vertex.<locals>.<genexpr> at 0x7fd6dcb25a50>"
      ]
     },
     "execution_count": 9,
     "metadata": {},
     "output_type": "execute_result"
    }
   ],
   "source": [
    "g = gt.Graph()\n",
    "g.add_vertex(len(gene_ids.entrezgene))"
   ]
  },
  {
   "cell_type": "code",
   "execution_count": 12,
   "metadata": {},
   "outputs": [
    {
     "data": {
      "text/plain": [
       "array([    0,     1,     2, ..., 16015, 16016, 16017])"
      ]
     },
     "execution_count": 12,
     "metadata": {},
     "output_type": "execute_result"
    }
   ],
   "source": [
    "g.get_vertices()"
   ]
  },
  {
   "cell_type": "code",
   "execution_count": 25,
   "metadata": {},
   "outputs": [],
   "source": [
    "vertex_ids = g.new_vertex_property(\"string\")\n",
    "for v in g.iter_vertices():\n",
    "    g.vertex_properties[\"ids\"][v] = gene_ids.entrezgene[v]"
   ]
  },
  {
   "cell_type": "code",
   "execution_count": 29,
   "metadata": {},
   "outputs": [
    {
     "name": "stdout",
     "output_type": "stream",
     "text": [
      "None\n"
     ]
    }
   ],
   "source": [
    "print(g.vertex_properties[\"ids\"].a)"
   ]
  },
  {
   "cell_type": "code",
   "execution_count": 27,
   "metadata": {},
   "outputs": [
    {
     "name": "stdout",
     "output_type": "stream",
     "text": [
      "ids            (vertex)  (type: string)\n"
     ]
    }
   ],
   "source": [
    "g.list_properties()"
   ]
  },
  {
   "cell_type": "code",
   "execution_count": 34,
   "metadata": {},
   "outputs": [
    {
     "name": "stdout",
     "output_type": "stream",
     "text": [
      "[00:00:57|3602.38MB] \n"
     ]
    }
   ],
   "source": [
    "import os\n",
    "import time\n",
    "import psutil\n",
    "start_time = time.time()\n",
    "go_BP = pd.read_csv(file_names['go_BP'])\n",
    "memory_usage = '{0:.2f}'.format(psutil.Process(os.getpid()).memory_info().rss / 1024 ** 2)\n",
    "time_usage = time.strftime(\"%H:%M:%S\", time.gmtime(time.time() - start_time))\n",
    "print('[{}|{}MB] '.format(time_usage, memory_usage))"
   ]
  },
  {
   "cell_type": "code",
   "execution_count": 50,
   "metadata": {},
   "outputs": [],
   "source": [
    "go_BP.set_index('entrezgene', inplace=True)"
   ]
  },
  {
   "cell_type": "code",
   "execution_count": 32,
   "metadata": {},
   "outputs": [
    {
     "name": "stdout",
     "output_type": "stream",
     "text": [
      "[00:00:14|527.83MB] \n"
     ]
    }
   ],
   "source": [
    "import os\n",
    "import time\n",
    "import psutil\n",
    "start_time = time.time()\n",
    "go_BP = gt.load_graph('../entrez-go_BP-network.graphml')\n",
    "memory_usage = '{0:.2f}'.format(psutil.Process(os.getpid()).memory_info().rss / 1024 ** 2)\n",
    "time_usage = time.strftime(\"%H:%M:%S\", time.gmtime(time.time() - start_time))\n",
    "print('[{}|{}MB] '.format(time_usage, memory_usage))"
   ]
  },
  {
   "cell_type": "code",
   "execution_count": 57,
   "metadata": {},
   "outputs": [],
   "source": [
    "go_BP = None"
   ]
  },
  {
   "cell_type": "code",
   "execution_count": 55,
   "metadata": {},
   "outputs": [
    {
     "name": "stdout",
     "output_type": "stream",
     "text": [
      "[00:00:01|4828.75MB] \n"
     ]
    }
   ],
   "source": [
    "import scipy\n",
    "import os\n",
    "import time\n",
    "import psutil\n",
    "start_time = time.time()\n",
    "sparse = scipy.sparse.csr_matrix(go_BP.values)\n",
    "memory_usage = '{0:.2f}'.format(psutil.Process(os.getpid()).memory_info().rss / 1024 ** 2)\n",
    "time_usage = time.strftime(\"%H:%M:%S\", time.gmtime(time.time() - start_time))\n",
    "print('[{}|{}MB] '.format(time_usage, memory_usage))"
   ]
  },
  {
   "cell_type": "code",
   "execution_count": 52,
   "metadata": {},
   "outputs": [
    {
     "data": {
      "text/plain": [
       "<14430x14430 sparse matrix of type '<class 'numpy.float64'>'\n",
       "\twith 10367466 stored elements in Compressed Sparse Row format>"
      ]
     },
     "execution_count": 52,
     "metadata": {},
     "output_type": "execute_result"
    }
   ],
   "source": [
    "sparse"
   ]
  },
  {
   "cell_type": "code",
   "execution_count": 49,
   "metadata": {},
   "outputs": [
    {
     "data": {
      "text/plain": [
       "Index(['entrezgene', '1', '10', '100', '1000', '10000', '10001', '10003',\n",
       "       '1001', '10010',\n",
       "       ...\n",
       "       '9987', '9988', '9989', '999', '9990', '9991', '9992', '9993', '9994',\n",
       "       '9997'],\n",
       "      dtype='object', length=14431)"
      ]
     },
     "execution_count": 49,
     "metadata": {},
     "output_type": "execute_result"
    }
   ],
   "source": [
    "go_BP.columns"
   ]
  },
  {
   "cell_type": "code",
   "execution_count": 54,
   "metadata": {},
   "outputs": [
    {
     "name": "stdout",
     "output_type": "stream",
     "text": [
      "[[0.         0.         0.01428571 ... 0.02941176 0.         0.        ]]\n"
     ]
    }
   ],
   "source": [
    "print(sparse[3, :].toarray())"
   ]
  },
  {
   "cell_type": "code",
   "execution_count": 56,
   "metadata": {},
   "outputs": [
    {
     "data": {
      "text/plain": [
       "0.0212765957446808"
      ]
     },
     "execution_count": 56,
     "metadata": {},
     "output_type": "execute_result"
    }
   ],
   "source": [
    "sparse[3,4]"
   ]
  },
  {
   "cell_type": "code",
   "execution_count": 59,
   "metadata": {},
   "outputs": [
    {
     "ename": "TypeError",
     "evalue": "'NoneType' object is not subscriptable",
     "output_type": "error",
     "traceback": [
      "\u001b[0;31m---------------------------------------------------------------------------\u001b[0m",
      "\u001b[0;31mTypeError\u001b[0m                                 Traceback (most recent call last)",
      "\u001b[0;32m<ipython-input-59-b0f537a6f305>\u001b[0m in \u001b[0;36m<module>\u001b[0;34m\u001b[0m\n\u001b[0;32m----> 1\u001b[0;31m \u001b[0mgo_BP\u001b[0m\u001b[0;34m[\u001b[0m\u001b[0;36m3\u001b[0m\u001b[0;34m,\u001b[0m\u001b[0;36m4\u001b[0m\u001b[0;34m]\u001b[0m\u001b[0;34m\u001b[0m\u001b[0;34m\u001b[0m\u001b[0m\n\u001b[0m",
      "\u001b[0;31mTypeError\u001b[0m: 'NoneType' object is not subscriptable"
     ]
    }
   ],
   "source": [
    "go_BP[3,4]"
   ]
  },
  {
   "cell_type": "code",
   "execution_count": 60,
   "metadata": {},
   "outputs": [],
   "source": [
    "scipy.sparse.save_npz(\"yourmatrix.npz\", sparse)"
   ]
  },
  {
   "cell_type": "code",
   "execution_count": 62,
   "metadata": {},
   "outputs": [
    {
     "data": {
      "text/plain": [
       "<14430x14430 sparse matrix of type '<class 'numpy.float64'>'\n",
       "\twith 10367466 stored elements in Compressed Sparse Row format>"
      ]
     },
     "execution_count": 62,
     "metadata": {},
     "output_type": "execute_result"
    }
   ],
   "source": [
    "scipy.sparse.load_npz(\"yourmatrix.npz\")"
   ]
  },
  {
   "cell_type": "code",
   "execution_count": 4,
   "metadata": {},
   "outputs": [],
   "source": [
    "import scipy.sparse as sp\n",
    "test = sp.coo_matrix(None)"
   ]
  },
  {
   "cell_type": "code",
   "execution_count": 8,
   "metadata": {},
   "outputs": [
    {
     "data": {
      "text/plain": [
       "0"
      ]
     },
     "execution_count": 8,
     "metadata": {},
     "output_type": "execute_result"
    }
   ],
   "source": [
    "test.nnz"
   ]
  },
  {
   "cell_type": "code",
   "execution_count": null,
   "metadata": {},
   "outputs": [],
   "source": []
  }
 ],
 "metadata": {
  "kernelspec": {
   "display_name": "Python 3",
   "language": "python",
   "name": "python3"
  },
  "language_info": {
   "codemirror_mode": {
    "name": "ipython",
    "version": 3
   },
   "file_extension": ".py",
   "mimetype": "text/x-python",
   "name": "python",
   "nbconvert_exporter": "python",
   "pygments_lexer": "ipython3",
   "version": "3.8.10"
  }
 },
 "nbformat": 4,
 "nbformat_minor": 4
}
