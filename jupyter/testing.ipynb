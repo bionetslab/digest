{
 "cells": [
  {
   "cell_type": "markdown",
   "metadata": {},
   "source": [
    "# Testing environment for DoSE"
   ]
  },
  {
   "cell_type": "markdown",
   "metadata": {},
   "source": [
    "## Setup"
   ]
  },
  {
   "cell_type": "markdown",
   "metadata": {},
   "source": [
    "### Load libraries"
   ]
  },
  {
   "cell_type": "code",
   "execution_count": 1,
   "metadata": {},
   "outputs": [],
   "source": [
    "import pandas as pd\n",
    "import numpy as np \n",
    "import gseapy\n",
    "from biothings_client import get_client"
   ]
  },
  {
   "cell_type": "markdown",
   "metadata": {},
   "source": [
    "### Define data"
   ]
  },
  {
   "cell_type": "code",
   "execution_count": 2,
   "metadata": {},
   "outputs": [],
   "source": [
    "seeds_file = \"Input/0007079.txt\"\n",
    "betweenness_file = \"Input/0007079_added_200_dmd_betweenness_hub_0.01.txt\"\n",
    "significance_file = \"Input/0007079_added_200_dmd_significance_hub_1.txt\"\n",
    "diseases_file = \"Input/ICD10_commROCG_raw.txt\"\n",
    "disease_clusters_file = \"Input/ICD10_commROCG_cluster.txt\""
   ]
  },
  {
   "cell_type": "markdown",
   "metadata": {},
   "source": [
    "### Load data"
   ]
  },
  {
   "cell_type": "code",
   "execution_count": 3,
   "metadata": {},
   "outputs": [],
   "source": [
    "disease_id = \"0007079\"\n",
    "seeds = pd.read_csv(seeds_file, sep=\"\\t\", header=None)[0]\n",
    "betweenness = pd.read_csv(betweenness_file, sep=\"\\t\")['node']\n",
    "significance = pd.read_csv(significance_file, sep=\"\\t\")['node']\n",
    "diseases = pd.read_csv(diseases_file, sep=\"\\t\", header=None)\n",
    "disease_clusters = pd.read_csv(disease_clusters_file, sep=\"\\t\", header=None)"
   ]
  },
  {
   "cell_type": "code",
   "execution_count": 4,
   "metadata": {},
   "outputs": [
    {
     "name": "stdout",
     "output_type": "stream",
     "text": [
      "Time:  4.699100099969655e-05\n"
     ]
    }
   ],
   "source": [
    "import timeit\n",
    "start = timeit.default_timer()\n",
    "\n",
    "stop = timeit.default_timer()\n",
    "print('Time: ', stop - start)  "
   ]
  },
  {
   "cell_type": "markdown",
   "metadata": {},
   "source": [
    "## Network from NeDReX"
   ]
  },
  {
   "cell_type": "code",
   "execution_count": 44,
   "metadata": {},
   "outputs": [],
   "source": [
    "from urllib import request, parse\n",
    "import json"
   ]
  },
  {
   "cell_type": "code",
   "execution_count": 45,
   "metadata": {},
   "outputs": [],
   "source": [
    "url = 'https://api.nedrex.net/graph_builder'"
   ]
  },
  {
   "cell_type": "code",
   "execution_count": 46,
   "metadata": {},
   "outputs": [],
   "source": [
    "myobj = {\n",
    "    \"nodes\":[\"protein\"],\n",
    "    \"edges\":[\"protein_interacts_with_protein\"],\n",
    "    \"iid_evidence\":[\"exp\"],\n",
    "    \"ppi_self_loops\": True,\n",
    "    \"taxid\":[9606],\n",
    "    \"concise\": True,\n",
    "    \"include_omim\": True,\n",
    "    \"disgenet_threshold\": 0,\n",
    "    \"use_omim_ids\": False,\n",
    "}"
   ]
  },
  {
   "cell_type": "code",
   "execution_count": 47,
   "metadata": {},
   "outputs": [],
   "source": [
    "data = json.dumps(myobj).encode('utf8')\n",
    "req =  request.Request(url, data=data) # this will make the method \"POST\"\n",
    "resp = request.urlopen(req)"
   ]
  },
  {
   "cell_type": "code",
   "execution_count": 48,
   "metadata": {
    "scrolled": true
   },
   "outputs": [
    {
     "name": "stdout",
     "output_type": "stream",
     "text": [
      "\"e1e15418-2c09-4c9e-8ad5-ed02aed4d5a8\"\n"
     ]
    }
   ],
   "source": [
    "print(resp.read().decode('utf8'))"
   ]
  },
  {
   "cell_type": "code",
   "execution_count": null,
   "metadata": {},
   "outputs": [],
   "source": []
  }
 ],
 "metadata": {
  "kernelspec": {
   "display_name": "Python 3",
   "language": "python",
   "name": "python3"
  },
  "language_info": {
   "codemirror_mode": {
    "name": "ipython",
    "version": 3
   },
   "file_extension": ".py",
   "mimetype": "text/x-python",
   "name": "python",
   "nbconvert_exporter": "python",
   "pygments_lexer": "ipython3",
   "version": "3.8.10"
  }
 },
 "nbformat": 4,
 "nbformat_minor": 4
}
