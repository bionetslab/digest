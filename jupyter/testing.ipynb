{
 "cells": [
  {
   "cell_type": "markdown",
   "metadata": {},
   "source": [
    "# Testing environment for DoSE"
   ]
  },
  {
   "cell_type": "markdown",
   "metadata": {},
   "source": [
    "## Setup"
   ]
  },
  {
   "cell_type": "markdown",
   "metadata": {},
   "source": [
    "### Load libraries"
   ]
  },
  {
   "cell_type": "code",
   "execution_count": 23,
   "metadata": {},
   "outputs": [],
   "source": [
    "import pandas as pd\n",
    "import numpy as np \n",
    "import gseapy\n",
    "from biothings_client import get_client"
   ]
  },
  {
   "cell_type": "markdown",
   "metadata": {},
   "source": [
    "### Define data"
   ]
  },
  {
   "cell_type": "code",
   "execution_count": 2,
   "metadata": {},
   "outputs": [],
   "source": [
    "seeds_file = \"Input/0007079.txt\"\n",
    "betweenness_file = \"Input/0007079_added_200_dmd_betweenness_hub_0.01.txt\"\n",
    "significance_file = \"Input/0007079_added_200_dmd_significance_hub_1.txt\"\n",
    "diseases_file = \"Input/ICD10_commROCG_raw.txt\"\n",
    "disease_clusters_file = \"Input/ICD10_commROCG_cluster.txt\""
   ]
  },
  {
   "cell_type": "markdown",
   "metadata": {},
   "source": [
    "### Load data"
   ]
  },
  {
   "cell_type": "code",
   "execution_count": 3,
   "metadata": {},
   "outputs": [],
   "source": [
    "disease_id = \"0007079\"\n",
    "seeds = pd.read_csv(seeds_file, sep=\"\\t\", header=None)[0]\n",
    "betweenness = pd.read_csv(betweenness_file, sep=\"\\t\")['node']\n",
    "significance = pd.read_csv(significance_file, sep=\"\\t\")['node']\n",
    "diseases = pd.read_csv(diseases_file, sep=\"\\t\", header=None)\n",
    "disease_clusters = pd.read_csv(disease_clusters_file, sep=\"\\t\", header=None)"
   ]
  },
  {
   "cell_type": "code",
   "execution_count": 4,
   "metadata": {},
   "outputs": [
    {
     "name": "stdout",
     "output_type": "stream",
     "text": [
      "Time:  4.699100099969655e-05\n"
     ]
    }
   ],
   "source": [
    "import timeit\n",
    "start = timeit.default_timer()\n",
    "\n",
    "stop = timeit.default_timer()\n",
    "print('Time: ', stop - start)  "
   ]
  },
  {
   "cell_type": "markdown",
   "metadata": {},
   "source": [
    "## Testing"
   ]
  },
  {
   "cell_type": "code",
   "execution_count": 7,
   "metadata": {},
   "outputs": [],
   "source": [
    "import graph_tool as gt"
   ]
  },
  {
   "cell_type": "code",
   "execution_count": 9,
   "metadata": {},
   "outputs": [],
   "source": [
    "g = gt.load_graph(\"../tmp-network.graphml\")"
   ]
  },
  {
   "cell_type": "code",
   "execution_count": 19,
   "metadata": {},
   "outputs": [
    {
     "data": {
      "text/plain": [
       "'Q14315'"
      ]
     },
     "execution_count": 19,
     "metadata": {},
     "output_type": "execute_result"
    }
   ],
   "source": [
    "g.vertex_properties[\"ID\"][1]"
   ]
  },
  {
   "cell_type": "code",
   "execution_count": 21,
   "metadata": {},
   "outputs": [],
   "source": [
    "full_list = list()\n",
    "for v in g.vertices():\n",
    "    neighbors = list()\n",
    "    for n in v.out_neighbors():\n",
    "        neighbors.append(g.vertex_properties[\"ID\"][n])\n",
    "    full_list.append([g.vertex_properties[\"ID\"][v], neighbors, len(neighbors)])"
   ]
  },
  {
   "cell_type": "code",
   "execution_count": 26,
   "metadata": {},
   "outputs": [
    {
     "data": {
      "text/html": [
       "<div>\n",
       "<style scoped>\n",
       "    .dataframe tbody tr th:only-of-type {\n",
       "        vertical-align: middle;\n",
       "    }\n",
       "\n",
       "    .dataframe tbody tr th {\n",
       "        vertical-align: top;\n",
       "    }\n",
       "\n",
       "    .dataframe thead th {\n",
       "        text-align: right;\n",
       "    }\n",
       "</style>\n",
       "<table border=\"1\" class=\"dataframe\">\n",
       "  <thead>\n",
       "    <tr style=\"text-align: right;\">\n",
       "      <th></th>\n",
       "      <th>id</th>\n",
       "      <th>neighbors</th>\n",
       "      <th>degree</th>\n",
       "    </tr>\n",
       "  </thead>\n",
       "  <tbody>\n",
       "    <tr>\n",
       "      <th>0</th>\n",
       "      <td>P45985</td>\n",
       "      <td>[Q14315, Q12851, Q9UPT6, Q16584, Q9Y6R4, Q9Y2U...</td>\n",
       "      <td>458</td>\n",
       "    </tr>\n",
       "    <tr>\n",
       "      <th>1</th>\n",
       "      <td>Q14315</td>\n",
       "      <td>[Q92629, Q9NP98, Q9NZV8, Q9NPC6, Q8TDC0, Q86SQ...</td>\n",
       "      <td>417</td>\n",
       "    </tr>\n",
       "    <tr>\n",
       "      <th>2</th>\n",
       "      <td>P35609</td>\n",
       "      <td>[Q86TC9, Q12959, Q9NRI5, Q13224, Q9NP98, Q9UQP...</td>\n",
       "      <td>351</td>\n",
       "    </tr>\n",
       "    <tr>\n",
       "      <th>3</th>\n",
       "      <td>Q86TC9</td>\n",
       "      <td>[Q8WZ42, Q9H6A0, Q9NYZ3, Q92538, Q86TC9, Q969Q...</td>\n",
       "      <td>105</td>\n",
       "    </tr>\n",
       "    <tr>\n",
       "      <th>4</th>\n",
       "      <td>P49354</td>\n",
       "      <td>[Q04771, Q12974, Q9UBN7, P52735, P52630, Q1415...</td>\n",
       "      <td>100</td>\n",
       "    </tr>\n",
       "    <tr>\n",
       "      <th>...</th>\n",
       "      <td>...</td>\n",
       "      <td>...</td>\n",
       "      <td>...</td>\n",
       "    </tr>\n",
       "    <tr>\n",
       "      <th>19597</th>\n",
       "      <td>Q6ZV50</td>\n",
       "      <td>[A0A087WXM9]</td>\n",
       "      <td>1</td>\n",
       "    </tr>\n",
       "    <tr>\n",
       "      <th>19598</th>\n",
       "      <td>B1AL88</td>\n",
       "      <td>[Q9UI14]</td>\n",
       "      <td>1</td>\n",
       "    </tr>\n",
       "    <tr>\n",
       "      <th>19599</th>\n",
       "      <td>P60606</td>\n",
       "      <td>[Q13585]</td>\n",
       "      <td>1</td>\n",
       "    </tr>\n",
       "    <tr>\n",
       "      <th>19600</th>\n",
       "      <td>Q6ZVK1</td>\n",
       "      <td>[Q9P2X0]</td>\n",
       "      <td>1</td>\n",
       "    </tr>\n",
       "    <tr>\n",
       "      <th>19601</th>\n",
       "      <td>P0DJ07</td>\n",
       "      <td>[P61601]</td>\n",
       "      <td>1</td>\n",
       "    </tr>\n",
       "  </tbody>\n",
       "</table>\n",
       "<p>19602 rows × 3 columns</p>\n",
       "</div>"
      ],
      "text/plain": [
       "           id                                          neighbors  degree\n",
       "0      P45985  [Q14315, Q12851, Q9UPT6, Q16584, Q9Y6R4, Q9Y2U...     458\n",
       "1      Q14315  [Q92629, Q9NP98, Q9NZV8, Q9NPC6, Q8TDC0, Q86SQ...     417\n",
       "2      P35609  [Q86TC9, Q12959, Q9NRI5, Q13224, Q9NP98, Q9UQP...     351\n",
       "3      Q86TC9  [Q8WZ42, Q9H6A0, Q9NYZ3, Q92538, Q86TC9, Q969Q...     105\n",
       "4      P49354  [Q04771, Q12974, Q9UBN7, P52735, P52630, Q1415...     100\n",
       "...       ...                                                ...     ...\n",
       "19597  Q6ZV50                                       [A0A087WXM9]       1\n",
       "19598  B1AL88                                           [Q9UI14]       1\n",
       "19599  P60606                                           [Q13585]       1\n",
       "19600  Q6ZVK1                                           [Q9P2X0]       1\n",
       "19601  P0DJ07                                           [P61601]       1\n",
       "\n",
       "[19602 rows x 3 columns]"
      ]
     },
     "execution_count": 26,
     "metadata": {},
     "output_type": "execute_result"
    }
   ],
   "source": [
    "pd.DataFrame(full_list, columns=[\"id\", \"neighbors\", \"degree\"])"
   ]
  },
  {
   "cell_type": "code",
   "execution_count": 32,
   "metadata": {},
   "outputs": [
    {
     "data": {
      "text/html": [
       "<div>\n",
       "<style scoped>\n",
       "    .dataframe tbody tr th:only-of-type {\n",
       "        vertical-align: middle;\n",
       "    }\n",
       "\n",
       "    .dataframe tbody tr th {\n",
       "        vertical-align: top;\n",
       "    }\n",
       "\n",
       "    .dataframe thead th {\n",
       "        text-align: right;\n",
       "    }\n",
       "</style>\n",
       "<table border=\"1\" class=\"dataframe\">\n",
       "  <thead>\n",
       "    <tr style=\"text-align: right;\">\n",
       "      <th></th>\n",
       "      <th>entrezgene</th>\n",
       "      <th>symbol</th>\n",
       "      <th>uniprot.Swiss-Prot</th>\n",
       "      <th>ensembl.gene</th>\n",
       "    </tr>\n",
       "  </thead>\n",
       "  <tbody>\n",
       "    <tr>\n",
       "      <th>0</th>\n",
       "      <td>1</td>\n",
       "      <td>A1BG</td>\n",
       "      <td>P04217</td>\n",
       "      <td>ENSG00000121410</td>\n",
       "    </tr>\n",
       "    <tr>\n",
       "      <th>1</th>\n",
       "      <td>2</td>\n",
       "      <td>A2M</td>\n",
       "      <td>P01023</td>\n",
       "      <td>ENSG00000175899</td>\n",
       "    </tr>\n",
       "    <tr>\n",
       "      <th>2</th>\n",
       "      <td>3</td>\n",
       "      <td>A2MP1</td>\n",
       "      <td>NaN</td>\n",
       "      <td>ENSG00000256069</td>\n",
       "    </tr>\n",
       "    <tr>\n",
       "      <th>3</th>\n",
       "      <td>9</td>\n",
       "      <td>NAT1</td>\n",
       "      <td>P18440</td>\n",
       "      <td>ENSG00000171428</td>\n",
       "    </tr>\n",
       "    <tr>\n",
       "      <th>4</th>\n",
       "      <td>10</td>\n",
       "      <td>NAT2</td>\n",
       "      <td>P11245</td>\n",
       "      <td>ENSG00000156006</td>\n",
       "    </tr>\n",
       "    <tr>\n",
       "      <th>...</th>\n",
       "      <td>...</td>\n",
       "      <td>...</td>\n",
       "      <td>...</td>\n",
       "      <td>...</td>\n",
       "    </tr>\n",
       "    <tr>\n",
       "      <th>61638</th>\n",
       "      <td>8923215</td>\n",
       "      <td>NaN</td>\n",
       "      <td>NaN</td>\n",
       "      <td>NaN</td>\n",
       "    </tr>\n",
       "    <tr>\n",
       "      <th>61639</th>\n",
       "      <td>8923216</td>\n",
       "      <td>NaN</td>\n",
       "      <td>NaN</td>\n",
       "      <td>NaN</td>\n",
       "    </tr>\n",
       "    <tr>\n",
       "      <th>61640</th>\n",
       "      <td>8923217</td>\n",
       "      <td>NaN</td>\n",
       "      <td>NaN</td>\n",
       "      <td>NaN</td>\n",
       "    </tr>\n",
       "    <tr>\n",
       "      <th>61641</th>\n",
       "      <td>8923218</td>\n",
       "      <td>NaN</td>\n",
       "      <td>NaN</td>\n",
       "      <td>NaN</td>\n",
       "    </tr>\n",
       "    <tr>\n",
       "      <th>61642</th>\n",
       "      <td>8923219</td>\n",
       "      <td>NaN</td>\n",
       "      <td>NaN</td>\n",
       "      <td>NaN</td>\n",
       "    </tr>\n",
       "  </tbody>\n",
       "</table>\n",
       "<p>61643 rows × 4 columns</p>\n",
       "</div>"
      ],
      "text/plain": [
       "      entrezgene symbol uniprot.Swiss-Prot     ensembl.gene\n",
       "0              1   A1BG             P04217  ENSG00000121410\n",
       "1              2    A2M             P01023  ENSG00000175899\n",
       "2              3  A2MP1                NaN  ENSG00000256069\n",
       "3              9   NAT1             P18440  ENSG00000171428\n",
       "4             10   NAT2             P11245  ENSG00000156006\n",
       "...          ...    ...                ...              ...\n",
       "61638    8923215    NaN                NaN              NaN\n",
       "61639    8923216    NaN                NaN              NaN\n",
       "61640    8923217    NaN                NaN              NaN\n",
       "61641    8923218    NaN                NaN              NaN\n",
       "61642    8923219    NaN                NaN              NaN\n",
       "\n",
       "[61643 rows x 4 columns]"
      ]
     },
     "execution_count": 32,
     "metadata": {},
     "output_type": "execute_result"
    }
   ],
   "source": [
    "atts = pd.read_csv(\"../mapping_files/gene_id_mapping.csv\", dtype=\"str\")\n",
    "atts"
   ]
  },
  {
   "cell_type": "code",
   "execution_count": 30,
   "metadata": {},
   "outputs": [
    {
     "data": {
      "text/html": [
       "<div>\n",
       "<style scoped>\n",
       "    .dataframe tbody tr th:only-of-type {\n",
       "        vertical-align: middle;\n",
       "    }\n",
       "\n",
       "    .dataframe tbody tr th {\n",
       "        vertical-align: top;\n",
       "    }\n",
       "\n",
       "    .dataframe thead th {\n",
       "        text-align: right;\n",
       "    }\n",
       "</style>\n",
       "<table border=\"1\" class=\"dataframe\">\n",
       "  <thead>\n",
       "    <tr style=\"text-align: right;\">\n",
       "      <th></th>\n",
       "      <th>mondo</th>\n",
       "      <th>disgenet.variants_related_to_disease</th>\n",
       "      <th>disgenet.genes_related_to_disease</th>\n",
       "      <th>ctd.pathway_related_to_disease</th>\n",
       "    </tr>\n",
       "  </thead>\n",
       "  <tbody>\n",
       "    <tr>\n",
       "      <th>0</th>\n",
       "      <td>0000001</td>\n",
       "      <td>rs1800454;rs11864909;rs1570360;rs112329286;rs9...</td>\n",
       "      <td>10806;6184;146;6934;1244;3065;59272;6891;8694;...</td>\n",
       "      <td>NaN</td>\n",
       "    </tr>\n",
       "    <tr>\n",
       "      <th>1</th>\n",
       "      <td>0000004</td>\n",
       "      <td>rs1564421528;rs104894118;rs770374710;rs1219186...</td>\n",
       "      <td>1586;2908;55532;215;4791;5551;540;10108;5087;6...</td>\n",
       "      <td>hsa04913;hsa_M00107;hsa01100;hsa00140;hsa04925</td>\n",
       "    </tr>\n",
       "    <tr>\n",
       "      <th>2</th>\n",
       "      <td>0000005</td>\n",
       "      <td>rs121434451;rs773764015;rs121434448;rs7014851</td>\n",
       "      <td>55806</td>\n",
       "      <td>NaN</td>\n",
       "    </tr>\n",
       "    <tr>\n",
       "      <th>3</th>\n",
       "      <td>0000009</td>\n",
       "      <td>rs121918036;rs181991348;rs753947399;rs5030764;...</td>\n",
       "      <td>2623;7171;722;9402;1432;26073;9370;10598;10855...</td>\n",
       "      <td>NaN</td>\n",
       "    </tr>\n",
       "    <tr>\n",
       "      <th>4</th>\n",
       "      <td>0000022</td>\n",
       "      <td>rs6313</td>\n",
       "      <td>1815;51540;554;277;551;54796;276;6783;627;1392...</td>\n",
       "      <td>NaN</td>\n",
       "    </tr>\n",
       "    <tr>\n",
       "      <th>...</th>\n",
       "      <td>...</td>\n",
       "      <td>...</td>\n",
       "      <td>...</td>\n",
       "      <td>...</td>\n",
       "    </tr>\n",
       "    <tr>\n",
       "      <th>24115</th>\n",
       "      <td>0400000</td>\n",
       "      <td>NaN</td>\n",
       "      <td>NaN</td>\n",
       "      <td>NaN</td>\n",
       "    </tr>\n",
       "    <tr>\n",
       "      <th>24116</th>\n",
       "      <td>0400002</td>\n",
       "      <td>NaN</td>\n",
       "      <td>NaN</td>\n",
       "      <td>NaN</td>\n",
       "    </tr>\n",
       "    <tr>\n",
       "      <th>24117</th>\n",
       "      <td>0400003</td>\n",
       "      <td>NaN</td>\n",
       "      <td>NaN</td>\n",
       "      <td>NaN</td>\n",
       "    </tr>\n",
       "    <tr>\n",
       "      <th>24118</th>\n",
       "      <td>0400004</td>\n",
       "      <td>NaN</td>\n",
       "      <td>NaN</td>\n",
       "      <td>NaN</td>\n",
       "    </tr>\n",
       "    <tr>\n",
       "      <th>24119</th>\n",
       "      <td>0400005</td>\n",
       "      <td>NaN</td>\n",
       "      <td>NaN</td>\n",
       "      <td>NaN</td>\n",
       "    </tr>\n",
       "  </tbody>\n",
       "</table>\n",
       "<p>24120 rows × 4 columns</p>\n",
       "</div>"
      ],
      "text/plain": [
       "         mondo               disgenet.variants_related_to_disease  \\\n",
       "0      0000001  rs1800454;rs11864909;rs1570360;rs112329286;rs9...   \n",
       "1      0000004  rs1564421528;rs104894118;rs770374710;rs1219186...   \n",
       "2      0000005      rs121434451;rs773764015;rs121434448;rs7014851   \n",
       "3      0000009  rs121918036;rs181991348;rs753947399;rs5030764;...   \n",
       "4      0000022                                             rs6313   \n",
       "...        ...                                                ...   \n",
       "24115  0400000                                                NaN   \n",
       "24116  0400002                                                NaN   \n",
       "24117  0400003                                                NaN   \n",
       "24118  0400004                                                NaN   \n",
       "24119  0400005                                                NaN   \n",
       "\n",
       "                       disgenet.genes_related_to_disease  \\\n",
       "0      10806;6184;146;6934;1244;3065;59272;6891;8694;...   \n",
       "1      1586;2908;55532;215;4791;5551;540;10108;5087;6...   \n",
       "2                                                  55806   \n",
       "3      2623;7171;722;9402;1432;26073;9370;10598;10855...   \n",
       "4      1815;51540;554;277;551;54796;276;6783;627;1392...   \n",
       "...                                                  ...   \n",
       "24115                                                NaN   \n",
       "24116                                                NaN   \n",
       "24117                                                NaN   \n",
       "24118                                                NaN   \n",
       "24119                                                NaN   \n",
       "\n",
       "                       ctd.pathway_related_to_disease  \n",
       "0                                                 NaN  \n",
       "1      hsa04913;hsa_M00107;hsa01100;hsa00140;hsa04925  \n",
       "2                                                 NaN  \n",
       "3                                                 NaN  \n",
       "4                                                 NaN  \n",
       "...                                               ...  \n",
       "24115                                             NaN  \n",
       "24116                                             NaN  \n",
       "24117                                             NaN  \n",
       "24118                                             NaN  \n",
       "24119                                             NaN  \n",
       "\n",
       "[24120 rows x 4 columns]"
      ]
     },
     "execution_count": 30,
     "metadata": {},
     "output_type": "execute_result"
    }
   ],
   "source": []
  },
  {
   "cell_type": "code",
   "execution_count": null,
   "metadata": {},
   "outputs": [],
   "source": []
  }
 ],
 "metadata": {
  "kernelspec": {
   "display_name": "Python 3",
   "language": "python",
   "name": "python3"
  },
  "language_info": {
   "codemirror_mode": {
    "name": "ipython",
    "version": 3
   },
   "file_extension": ".py",
   "mimetype": "text/x-python",
   "name": "python",
   "nbconvert_exporter": "python",
   "pygments_lexer": "ipython3",
   "version": "3.8.10"
  }
 },
 "nbformat": 4,
 "nbformat_minor": 4
}
