{
 "cells": [
  {
   "cell_type": "markdown",
   "metadata": {},
   "source": [
    "# Testing environment for DoSE"
   ]
  },
  {
   "cell_type": "markdown",
   "metadata": {},
   "source": [
    "## Setup"
   ]
  },
  {
   "cell_type": "markdown",
   "metadata": {},
   "source": [
    "### Load libraries"
   ]
  },
  {
   "cell_type": "code",
   "execution_count": 1,
   "metadata": {},
   "outputs": [],
   "source": [
    "import pandas as pd\n",
    "import numpy as np \n",
    "import gseapy\n",
    "from biothings_client import get_client"
   ]
  },
  {
   "cell_type": "markdown",
   "metadata": {},
   "source": [
    "### Define data"
   ]
  },
  {
   "cell_type": "code",
   "execution_count": 2,
   "metadata": {},
   "outputs": [],
   "source": [
    "seeds_file = \"Input/0007079.txt\"\n",
    "betweenness_file = \"Input/0007079_added_200_dmd_betweenness_hub_0.01.txt\"\n",
    "significance_file = \"Input/0007079_added_200_dmd_significance_hub_1.txt\"\n",
    "diseases_file = \"Input/ICD10_commROCG_raw.txt\"\n",
    "disease_clusters_file = \"Input/ICD10_commROCG_cluster.txt\""
   ]
  },
  {
   "cell_type": "markdown",
   "metadata": {},
   "source": [
    "### Load data"
   ]
  },
  {
   "cell_type": "code",
   "execution_count": 3,
   "metadata": {},
   "outputs": [],
   "source": [
    "disease_id = \"0007079\"\n",
    "seeds = pd.read_csv(seeds_file, sep=\"\\t\", header=None)[0]\n",
    "betweenness = pd.read_csv(betweenness_file, sep=\"\\t\")['node']\n",
    "significance = pd.read_csv(significance_file, sep=\"\\t\")['node']\n",
    "diseases = pd.read_csv(diseases_file, sep=\"\\t\", header=None)\n",
    "disease_clusters = pd.read_csv(disease_clusters_file, sep=\"\\t\", header=None)"
   ]
  },
  {
   "cell_type": "code",
   "execution_count": 4,
   "metadata": {},
   "outputs": [
    {
     "name": "stdout",
     "output_type": "stream",
     "text": [
      "Time:  4.699100099969655e-05\n"
     ]
    }
   ],
   "source": [
    "import timeit\n",
    "start = timeit.default_timer()\n",
    "\n",
    "stop = timeit.default_timer()\n",
    "print('Time: ', stop - start)  "
   ]
  },
  {
   "cell_type": "markdown",
   "metadata": {},
   "source": [
    "## Network from NeDReX"
   ]
  },
  {
   "cell_type": "code",
   "execution_count": 8,
   "metadata": {},
   "outputs": [],
   "source": [
    "import os\n",
    "import pandas as pd"
   ]
  },
  {
   "cell_type": "code",
   "execution_count": 9,
   "metadata": {},
   "outputs": [],
   "source": [
    "iid_files = {\"rat\": \"rat_annotated_PPIs\",\n",
    "            \"human\": \"human_annotated_PPIs\",\n",
    "            \"mouse\": \"mouse_annotated_PPIs\",\n",
    "            \"yeast\": \"yeast_annotated_PPIs\",\n",
    "            \"fly\": \"fly_annotated_PPIs\",\n",
    "            \"worm\": \"worm_annotated_PPIs\",\n",
    "            \"chicken\": \"chicken_annotated_PPIs\"}"
   ]
  },
  {
   "cell_type": "code",
   "execution_count": 10,
   "metadata": {},
   "outputs": [
    {
     "data": {
      "text/plain": [
       "0"
      ]
     },
     "execution_count": 10,
     "metadata": {},
     "output_type": "execute_result"
    }
   ],
   "source": [
    "os.system(\"mkdir tmp\")\n",
    "os.system(\"wget 'http://iid.ophid.utoronto.ca/static/download/\"+iid_files['rat']+\".txt.gz' -P tmp/\")\n",
    "os.system(\"gzip -d tmp/\"+iid_files['rat']+\".txt.gz\")"
   ]
  },
  {
   "cell_type": "code",
   "execution_count": 11,
   "metadata": {},
   "outputs": [],
   "source": [
    "with open('tmp/'+iid_files['rat']+\"_uniprot.sif\", 'a') as sif_file1:\n",
    "    with open('tmp/'+iid_files['rat']+\"_symbols.sif\", 'a') as sif_file2:\n",
    "        with open(\"tmp/\"+iid_files['rat']+\".txt\") as fp:\n",
    "            line_split = fp.readline().split(\"\\t\")\n",
    "            sif_file1.write(line_split[0]+\"\\t\"+line_split[7]+\"\\t\"+line_split[1]+\"\\n\")\n",
    "            sif_file2.write(line_split[2]+\"\\t\"+line_split[7]+\"\\t\"+line_split[3]+\"\\n\")\n",
    "            for line in fp:\n",
    "                line_split = line.split(\"\\t\")\n",
    "                sif_file1.write(line_split[0]+\"\\t\"+line_split[7]+\"\\t\"+line_split[1]+\"\\n\")\n",
    "                sif_file2.write(line_split[2]+\"\\t\"+line_split[7]+\"\\t\"+line_split[3]+\"\\n\")"
   ]
  },
  {
   "cell_type": "code",
   "execution_count": 12,
   "metadata": {},
   "outputs": [
    {
     "data": {
      "text/plain": [
       "0"
      ]
     },
     "execution_count": 12,
     "metadata": {},
     "output_type": "execute_result"
    }
   ],
   "source": [
    "os.system(\"mv tmp/*.sif ./\")\n",
    "os.system(\"rm -R tmp\")"
   ]
  },
  {
   "cell_type": "code",
   "execution_count": 4,
   "metadata": {},
   "outputs": [
    {
     "name": "stdout",
     "output_type": "stream",
     "text": [
      "{(0, 0): 1, (1, 0): 4, (2, 0): 7, (0, 1): 2, (1, 1): 5, (2, 1): 8, (1, 2): 6, (2, 2): 9}\n"
     ]
    }
   ],
   "source": [
    "import numpy as np\n",
    "from scipy.sparse import csr_matrix\n",
    "\n",
    "c = csr_matrix(np.array([[1,2,0],\n",
    "                         [4,5,6],\n",
    "                         [7,8,9]])) # construct an example matrix\n",
    "d = dict(c.todok().items()) # convert to dictionary of keys format\n",
    "print(d)"
   ]
  },
  {
   "cell_type": "code",
   "execution_count": 15,
   "metadata": {},
   "outputs": [
    {
     "ename": "KeyError",
     "evalue": "(0, 2)",
     "output_type": "error",
     "traceback": [
      "\u001b[0;31m---------------------------------------------------------------------------\u001b[0m",
      "\u001b[0;31mKeyError\u001b[0m                                  Traceback (most recent call last)",
      "\u001b[0;32m<ipython-input-15-b519053ee6e7>\u001b[0m in \u001b[0;36m<module>\u001b[0;34m\u001b[0m\n\u001b[1;32m      1\u001b[0m \u001b[0mid1\u001b[0m\u001b[0;34m,\u001b[0m \u001b[0mid2\u001b[0m \u001b[0;34m=\u001b[0m \u001b[0;36m0\u001b[0m\u001b[0;34m,\u001b[0m \u001b[0;36m2\u001b[0m\u001b[0;34m\u001b[0m\u001b[0;34m\u001b[0m\u001b[0m\n\u001b[1;32m      2\u001b[0m \u001b[0;31m#if (id1, id2) in d:\u001b[0m\u001b[0;34m\u001b[0m\u001b[0;34m\u001b[0m\u001b[0;34m\u001b[0m\u001b[0m\n\u001b[0;32m----> 3\u001b[0;31m \u001b[0mprint\u001b[0m\u001b[0;34m(\u001b[0m\u001b[0md\u001b[0m\u001b[0;34m[\u001b[0m\u001b[0;34m(\u001b[0m\u001b[0mid1\u001b[0m\u001b[0;34m,\u001b[0m\u001b[0mid2\u001b[0m\u001b[0;34m)\u001b[0m\u001b[0;34m]\u001b[0m\u001b[0;34m)\u001b[0m\u001b[0;34m\u001b[0m\u001b[0;34m\u001b[0m\u001b[0m\n\u001b[0m",
      "\u001b[0;31mKeyError\u001b[0m: (0, 2)"
     ]
    }
   ],
   "source": [
    "id1, id2 = 0, 2\n",
    "#if (id1, id2) in d:\n",
    "print(d[(id1,id2)])"
   ]
  },
  {
   "cell_type": "code",
   "execution_count": 13,
   "metadata": {},
   "outputs": [
    {
     "name": "stdout",
     "output_type": "stream",
     "text": [
      "0 0 1\n",
      "1 0 4\n",
      "2 0 7\n",
      "0 1 2\n",
      "1 1 5\n",
      "2 1 8\n",
      "1 2 6\n",
      "2 2 9\n"
     ]
    }
   ],
   "source": [
    "for m, n in c.todok().items():\n",
    "    s, t = m\n",
    "    print(s,t , n)"
   ]
  },
  {
   "cell_type": "code",
   "execution_count": 24,
   "metadata": {},
   "outputs": [
    {
     "data": {
      "text/html": [
       "<div>\n",
       "<style scoped>\n",
       "    .dataframe tbody tr th:only-of-type {\n",
       "        vertical-align: middle;\n",
       "    }\n",
       "\n",
       "    .dataframe tbody tr th {\n",
       "        vertical-align: top;\n",
       "    }\n",
       "\n",
       "    .dataframe thead th {\n",
       "        text-align: right;\n",
       "    }\n",
       "</style>\n",
       "<table border=\"1\" class=\"dataframe\">\n",
       "  <thead>\n",
       "    <tr style=\"text-align: right;\">\n",
       "      <th></th>\n",
       "      <th>mondo</th>\n",
       "      <th>omim</th>\n",
       "      <th>snomedct</th>\n",
       "      <th>umls</th>\n",
       "      <th>orpha</th>\n",
       "      <th>mesh</th>\n",
       "      <th>doid</th>\n",
       "      <th>ICD-10</th>\n",
       "    </tr>\n",
       "  </thead>\n",
       "  <tbody>\n",
       "    <tr>\n",
       "      <th>0</th>\n",
       "      <td>0012344</td>\n",
       "      <td>609790</td>\n",
       "      <td>NaN</td>\n",
       "      <td>C1853360</td>\n",
       "      <td>NaN</td>\n",
       "      <td>C565228</td>\n",
       "      <td>0110044</td>\n",
       "      <td>G30</td>\n",
       "    </tr>\n",
       "    <tr>\n",
       "      <th>1</th>\n",
       "      <td>0013673</td>\n",
       "      <td>614296</td>\n",
       "      <td>734022008</td>\n",
       "      <td>C4518338</td>\n",
       "      <td>411590</td>\n",
       "      <td>C565631</td>\n",
       "      <td>NaN</td>\n",
       "      <td>E13</td>\n",
       "    </tr>\n",
       "    <tr>\n",
       "      <th>2</th>\n",
       "      <td>0011016</td>\n",
       "      <td>601208</td>\n",
       "      <td>NaN</td>\n",
       "      <td>C1832605</td>\n",
       "      <td>NaN</td>\n",
       "      <td>C563371</td>\n",
       "      <td>0110750</td>\n",
       "      <td>E10</td>\n",
       "    </tr>\n",
       "    <tr>\n",
       "      <th>3</th>\n",
       "      <td>0012335</td>\n",
       "      <td>609734</td>\n",
       "      <td>702949005</td>\n",
       "      <td>C1857854</td>\n",
       "      <td>71526</td>\n",
       "      <td>C565726</td>\n",
       "      <td>NaN</td>\n",
       "      <td>E66</td>\n",
       "    </tr>\n",
       "    <tr>\n",
       "      <th>4</th>\n",
       "      <td>0012321</td>\n",
       "      <td>609636</td>\n",
       "      <td>NaN</td>\n",
       "      <td>C1864828</td>\n",
       "      <td>NaN</td>\n",
       "      <td>C566465</td>\n",
       "      <td>0110043</td>\n",
       "      <td>G30</td>\n",
       "    </tr>\n",
       "    <tr>\n",
       "      <th>...</th>\n",
       "      <td>...</td>\n",
       "      <td>...</td>\n",
       "      <td>...</td>\n",
       "      <td>...</td>\n",
       "      <td>...</td>\n",
       "      <td>...</td>\n",
       "      <td>...</td>\n",
       "      <td>...</td>\n",
       "    </tr>\n",
       "    <tr>\n",
       "      <th>182</th>\n",
       "      <td>0004784</td>\n",
       "      <td>NaN</td>\n",
       "      <td>389145006</td>\n",
       "      <td>C0155877</td>\n",
       "      <td>NaN</td>\n",
       "      <td>NaN</td>\n",
       "      <td>9415</td>\n",
       "      <td>J45</td>\n",
       "    </tr>\n",
       "    <tr>\n",
       "      <th>183</th>\n",
       "      <td>0016464</td>\n",
       "      <td>NaN</td>\n",
       "      <td>NaN</td>\n",
       "      <td>C0342337</td>\n",
       "      <td>2298</td>\n",
       "      <td>NaN</td>\n",
       "      <td>NaN</td>\n",
       "      <td>E13</td>\n",
       "    </tr>\n",
       "    <tr>\n",
       "      <th>184</th>\n",
       "      <td>0017636</td>\n",
       "      <td>NaN</td>\n",
       "      <td>NaN</td>\n",
       "      <td>CN203531</td>\n",
       "      <td>306669</td>\n",
       "      <td>NaN</td>\n",
       "      <td>NaN</td>\n",
       "      <td>G20</td>\n",
       "    </tr>\n",
       "    <tr>\n",
       "      <th>185</th>\n",
       "      <td>0017279</td>\n",
       "      <td>NaN</td>\n",
       "      <td>715345007</td>\n",
       "      <td>NaN</td>\n",
       "      <td>2828</td>\n",
       "      <td>NaN</td>\n",
       "      <td>0060894</td>\n",
       "      <td>G20</td>\n",
       "    </tr>\n",
       "    <tr>\n",
       "      <th>186</th>\n",
       "      <td>0006658</td>\n",
       "      <td>NaN</td>\n",
       "      <td>NaN</td>\n",
       "      <td>C0878486</td>\n",
       "      <td>NaN</td>\n",
       "      <td>D050379</td>\n",
       "      <td>5162</td>\n",
       "      <td>I70</td>\n",
       "    </tr>\n",
       "  </tbody>\n",
       "</table>\n",
       "<p>187 rows × 8 columns</p>\n",
       "</div>"
      ],
      "text/plain": [
       "       mondo    omim   snomedct      umls   orpha     mesh     doid ICD-10\n",
       "0    0012344  609790        NaN  C1853360     NaN  C565228  0110044    G30\n",
       "1    0013673  614296  734022008  C4518338  411590  C565631      NaN    E13\n",
       "2    0011016  601208        NaN  C1832605     NaN  C563371  0110750    E10\n",
       "3    0012335  609734  702949005  C1857854   71526  C565726      NaN    E66\n",
       "4    0012321  609636        NaN  C1864828     NaN  C566465  0110043    G30\n",
       "..       ...     ...        ...       ...     ...      ...      ...    ...\n",
       "182  0004784     NaN  389145006  C0155877     NaN      NaN     9415    J45\n",
       "183  0016464     NaN        NaN  C0342337    2298      NaN      NaN    E13\n",
       "184  0017636     NaN        NaN  CN203531  306669      NaN      NaN    G20\n",
       "185  0017279     NaN  715345007       NaN    2828      NaN  0060894    G20\n",
       "186  0006658     NaN        NaN  C0878486     NaN  D050379     5162    I70\n",
       "\n",
       "[187 rows x 8 columns]"
      ]
     },
     "execution_count": 24,
     "metadata": {},
     "output_type": "execute_result"
    }
   ],
   "source": [
    "df = pd.read_csv(\"../test.csv\", dtype=str)\n",
    "df"
   ]
  },
  {
   "cell_type": "code",
   "execution_count": 23,
   "metadata": {},
   "outputs": [
    {
     "data": {
      "text/html": [
       "<div>\n",
       "<style scoped>\n",
       "    .dataframe tbody tr th:only-of-type {\n",
       "        vertical-align: middle;\n",
       "    }\n",
       "\n",
       "    .dataframe tbody tr th {\n",
       "        vertical-align: top;\n",
       "    }\n",
       "\n",
       "    .dataframe thead th {\n",
       "        text-align: right;\n",
       "    }\n",
       "</style>\n",
       "<table border=\"1\" class=\"dataframe\">\n",
       "  <thead>\n",
       "    <tr style=\"text-align: right;\">\n",
       "      <th></th>\n",
       "      <th>mondo</th>\n",
       "      <th>omim</th>\n",
       "      <th>snomedct</th>\n",
       "      <th>umls</th>\n",
       "      <th>orpha</th>\n",
       "      <th>mesh</th>\n",
       "      <th>doid</th>\n",
       "      <th>ICD-10</th>\n",
       "    </tr>\n",
       "  </thead>\n",
       "  <tbody>\n",
       "    <tr>\n",
       "      <th>0</th>\n",
       "      <td>0012344</td>\n",
       "      <td>609790</td>\n",
       "      <td>NaN</td>\n",
       "      <td>C1853360</td>\n",
       "      <td>NaN</td>\n",
       "      <td>C565228</td>\n",
       "      <td>0110044</td>\n",
       "      <td>G30</td>\n",
       "    </tr>\n",
       "    <tr>\n",
       "      <th>1</th>\n",
       "      <td>0013673</td>\n",
       "      <td>614296</td>\n",
       "      <td>734022008</td>\n",
       "      <td>C4518338</td>\n",
       "      <td>411590</td>\n",
       "      <td>C565631</td>\n",
       "      <td>NaN</td>\n",
       "      <td>E13</td>\n",
       "    </tr>\n",
       "    <tr>\n",
       "      <th>2</th>\n",
       "      <td>0011016</td>\n",
       "      <td>601208</td>\n",
       "      <td>NaN</td>\n",
       "      <td>C1832605</td>\n",
       "      <td>NaN</td>\n",
       "      <td>C563371</td>\n",
       "      <td>0110750</td>\n",
       "      <td>E10</td>\n",
       "    </tr>\n",
       "    <tr>\n",
       "      <th>3</th>\n",
       "      <td>0012335</td>\n",
       "      <td>609734</td>\n",
       "      <td>702949005</td>\n",
       "      <td>C1857854</td>\n",
       "      <td>71526</td>\n",
       "      <td>C565726</td>\n",
       "      <td>NaN</td>\n",
       "      <td>E66</td>\n",
       "    </tr>\n",
       "    <tr>\n",
       "      <th>4</th>\n",
       "      <td>0012321</td>\n",
       "      <td>609636</td>\n",
       "      <td>NaN</td>\n",
       "      <td>C1864828</td>\n",
       "      <td>NaN</td>\n",
       "      <td>C566465</td>\n",
       "      <td>0110043</td>\n",
       "      <td>G30</td>\n",
       "    </tr>\n",
       "    <tr>\n",
       "      <th>...</th>\n",
       "      <td>...</td>\n",
       "      <td>...</td>\n",
       "      <td>...</td>\n",
       "      <td>...</td>\n",
       "      <td>...</td>\n",
       "      <td>...</td>\n",
       "      <td>...</td>\n",
       "      <td>...</td>\n",
       "    </tr>\n",
       "    <tr>\n",
       "      <th>182</th>\n",
       "      <td>0004784</td>\n",
       "      <td>NaN</td>\n",
       "      <td>389145006</td>\n",
       "      <td>C0155877</td>\n",
       "      <td>NaN</td>\n",
       "      <td>NaN</td>\n",
       "      <td>9415</td>\n",
       "      <td>J45</td>\n",
       "    </tr>\n",
       "    <tr>\n",
       "      <th>183</th>\n",
       "      <td>0016464</td>\n",
       "      <td>NaN</td>\n",
       "      <td>NaN</td>\n",
       "      <td>C0342337</td>\n",
       "      <td>2298</td>\n",
       "      <td>NaN</td>\n",
       "      <td>NaN</td>\n",
       "      <td>E13</td>\n",
       "    </tr>\n",
       "    <tr>\n",
       "      <th>184</th>\n",
       "      <td>0017636</td>\n",
       "      <td>NaN</td>\n",
       "      <td>NaN</td>\n",
       "      <td>CN203531</td>\n",
       "      <td>306669</td>\n",
       "      <td>NaN</td>\n",
       "      <td>NaN</td>\n",
       "      <td>G20</td>\n",
       "    </tr>\n",
       "    <tr>\n",
       "      <th>185</th>\n",
       "      <td>0017279</td>\n",
       "      <td>NaN</td>\n",
       "      <td>715345007</td>\n",
       "      <td>NaN</td>\n",
       "      <td>2828</td>\n",
       "      <td>NaN</td>\n",
       "      <td>0060894</td>\n",
       "      <td>G20</td>\n",
       "    </tr>\n",
       "    <tr>\n",
       "      <th>186</th>\n",
       "      <td>0006658</td>\n",
       "      <td>NaN</td>\n",
       "      <td>NaN</td>\n",
       "      <td>C0878486</td>\n",
       "      <td>NaN</td>\n",
       "      <td>D050379</td>\n",
       "      <td>5162</td>\n",
       "      <td>I70</td>\n",
       "    </tr>\n",
       "  </tbody>\n",
       "</table>\n",
       "<p>374 rows × 8 columns</p>\n",
       "</div>"
      ],
      "text/plain": [
       "       mondo    omim   snomedct      umls   orpha     mesh     doid ICD-10\n",
       "0    0012344  609790        NaN  C1853360     NaN  C565228  0110044    G30\n",
       "1    0013673  614296  734022008  C4518338  411590  C565631      NaN    E13\n",
       "2    0011016  601208        NaN  C1832605     NaN  C563371  0110750    E10\n",
       "3    0012335  609734  702949005  C1857854   71526  C565726      NaN    E66\n",
       "4    0012321  609636        NaN  C1864828     NaN  C566465  0110043    G30\n",
       "..       ...     ...        ...       ...     ...      ...      ...    ...\n",
       "182  0004784     NaN  389145006  C0155877     NaN      NaN     9415    J45\n",
       "183  0016464     NaN        NaN  C0342337    2298      NaN      NaN    E13\n",
       "184  0017636     NaN        NaN  CN203531  306669      NaN      NaN    G20\n",
       "185  0017279     NaN  715345007       NaN    2828      NaN  0060894    G20\n",
       "186  0006658     NaN        NaN  C0878486     NaN  D050379     5162    I70\n",
       "\n",
       "[374 rows x 8 columns]"
      ]
     },
     "execution_count": 23,
     "metadata": {},
     "output_type": "execute_result"
    }
   ],
   "source": [
    "def split_and_expand_column(data, split_string, column_name):\n",
    "    \"\"\"\n",
    "    Split column value in data by split_string and expand the dataframe\n",
    "    to have a separate row for each value in split set.\n",
    "\n",
    "    :param data: dataframe with data\n",
    "    :param split_string: separator of values in cell\n",
    "    :param column_name: column to split each cell of\n",
    "    :return: expanded data dataframe\n",
    "    \"\"\"\n",
    "    s = data[column_name].str.split(split_string, expand=True).stack()\n",
    "    i = s.index.get_level_values(0)\n",
    "    df2 = data.loc[i].copy()\n",
    "    df2[column_name] = s.values\n",
    "    return df2\n",
    "\n",
    "icd_unstack = split_and_expand_column(data=df, split_string=\",\", column_name=\"ICD-10\")\n",
    "mapping = pd.concat([icd_unstack, df[df['ICD-10'] != '']])\n",
    "mapping"
   ]
  },
  {
   "cell_type": "code",
   "execution_count": 25,
   "metadata": {},
   "outputs": [],
   "source": [
    "mapping = df.copy()"
   ]
  },
  {
   "cell_type": "code",
   "execution_count": 83,
   "metadata": {},
   "outputs": [],
   "source": [
    "def combine_rowsets(x):\n",
    "    #print(x)\n",
    "    return set().union(x)"
   ]
  },
  {
   "cell_type": "code",
   "execution_count": 31,
   "metadata": {},
   "outputs": [
    {
     "name": "stdout",
     "output_type": "stream",
     "text": [
      "Time:  0.006711977000122715\n"
     ]
    },
    {
     "name": "stderr",
     "output_type": "stream",
     "text": [
      "<ipython-input-31-f3d73ebdf547>:3: UserWarning: DataFrame columns are not unique, some columns will be omitted.\n",
      "  dichti = mapping.set_index('mondo')[['ICD-10']].T.to_dict('list')\n"
     ]
    }
   ],
   "source": [
    "import timeit\n",
    "start = timeit.default_timer()\n",
    "dichti = mapping.set_index('mondo')[['ICD-10']].T.to_dict('list')\n",
    "stop = timeit.default_timer()\n",
    "print('Time: ', stop - start)  "
   ]
  },
  {
   "cell_type": "code",
   "execution_count": 91,
   "metadata": {},
   "outputs": [
    {
     "name": "stdout",
     "output_type": "stream",
     "text": [
      "Time:  0.0063025869994817185\n"
     ]
    }
   ],
   "source": [
    "import timeit\n",
    "start = timeit.default_timer()\n",
    "dicht = df.groupby('mondo')[['ICD-10']].agg(lambda g: combine_rowsets(set(g.values))).to_dict()['ICD-10']\n",
    "stop = timeit.default_timer()\n",
    "print('Time: ', stop - start)  "
   ]
  },
  {
   "cell_type": "code",
   "execution_count": 51,
   "metadata": {},
   "outputs": [
    {
     "data": {
      "text/plain": [
       "<pandas.core.groupby.generic.DataFrameGroupBy object at 0x7fee41850790>"
      ]
     },
     "execution_count": 51,
     "metadata": {},
     "output_type": "execute_result"
    }
   ],
   "source": [
    "df.groupby('mondo')[['ICD-10']]"
   ]
  },
  {
   "cell_type": "code",
   "execution_count": 27,
   "metadata": {},
   "outputs": [
    {
     "name": "stdout",
     "output_type": "stream",
     "text": [
      "Time:  0.02314313700026105\n"
     ]
    }
   ],
   "source": [
    "import timeit\n",
    "start = timeit.default_timer()\n",
    "att_id_to_id = dict()\n",
    "for att_id in mapping['mondo'].unique():\n",
    "    att_id_to_id[att_id] = list(mapping[mapping['mondo'] == att_id]['ICD-10'])\n",
    "stop = timeit.default_timer()\n",
    "print('Time: ', stop - start)  "
   ]
  },
  {
   "cell_type": "code",
   "execution_count": 79,
   "metadata": {},
   "outputs": [
    {
     "data": {
      "text/plain": [
       "{'0012344': ['G30'],\n",
       " '0013673': ['E13'],\n",
       " '0011016': ['E10'],\n",
       " '0012335': ['E66'],\n",
       " '0012321': ['G30'],\n",
       " '0011057': ['I64'],\n",
       " '0011033': ['E10'],\n",
       " '0011068': ['E10'],\n",
       " '0014768': ['F01'],\n",
       " '0001491': ['J45'],\n",
       " '0014796': ['G20'],\n",
       " '0001302': ['I11'],\n",
       " '0002679': ['I63'],\n",
       " '0001200': ['I15'],\n",
       " '0015825': ['E66'],\n",
       " '0001134': ['I10'],\n",
       " '0013078': ['E10'],\n",
       " '0014309': ['E66'],\n",
       " '0004979': ['J45'],\n",
       " '0004975': ['G30'],\n",
       " '0002277': ['I70'],\n",
       " '0002275': ['I70'],\n",
       " '0014231': ['G20'],\n",
       " '0011847': ['G43'],\n",
       " '0010482': ['G20'],\n",
       " '0011777': ['G30'],\n",
       " '0008071': ['I15'],\n",
       " '0012919': ['E10'],\n",
       " '0012920': ['E10'],\n",
       " '0012921': ['E10'],\n",
       " '0011647': ['G30'],\n",
       " '0012961': ['E10'],\n",
       " '0000980': ['I70'],\n",
       " '0011572': ['E10'],\n",
       " '0011562': ['G20'],\n",
       " '0011561': ['G30'],\n",
       " '0011517': ['I15'],\n",
       " '0011502': ['E13'],\n",
       " '0000914': ['F01'],\n",
       " '0009101': ['E13'],\n",
       " '0000700': ['G43'],\n",
       " '0009192': ['E13'],\n",
       " '0013992': ['E66'],\n",
       " '0013991': ['E66'],\n",
       " '0012630': ['G30'],\n",
       " '0012631': ['G30'],\n",
       " '0011302': ['E10'],\n",
       " '0012632': ['G30'],\n",
       " '0012609': ['G30'],\n",
       " '0012520': ['E13'],\n",
       " '0001876': ['I70'],\n",
       " '0001815': ['G20'],\n",
       " '0012422': ['E10'],\n",
       " '0011122': ['E66'],\n",
       " '0011123': ['E10'],\n",
       " '0013781': ['I15'],\n",
       " '0013782': ['I15'],\n",
       " '0013778': ['I15'],\n",
       " '0013777': ['I15'],\n",
       " '0011168': ['E10'],\n",
       " '0011167': ['E10'],\n",
       " '0011194': ['G30'],\n",
       " '0005148': ['E11'],\n",
       " '0005147': ['E10'],\n",
       " '0018466': ['G20'],\n",
       " '0005180': ['G20'],\n",
       " '0005044': ['I12'],\n",
       " '0005084': ['F00'],\n",
       " '0005068': ['I22'],\n",
       " '0005071': ['G20'],\n",
       " '0007772': ['I15'],\n",
       " '0018244': ['E66'],\n",
       " '0005009': ['I50'],\n",
       " '0007669': ['E11'],\n",
       " '0018321': ['G20'],\n",
       " '0005015': ['E13'],\n",
       " '0005010': ['I22'],\n",
       " '0018105': ['E13'],\n",
       " '0007454': ['E10'],\n",
       " '0006044': ['I12'],\n",
       " '0007432': ['F01'],\n",
       " '0010862': ['E10'],\n",
       " '0010861': ['E10'],\n",
       " '0010864': ['E10'],\n",
       " '0010863': ['E10'],\n",
       " '0009874': ['E13'],\n",
       " '0010961': ['E66'],\n",
       " '0010950': ['E10'],\n",
       " '0019162': ['I15'],\n",
       " '0019182': ['E66'],\n",
       " '0010785': ['E13'],\n",
       " '0019115': ['E66'],\n",
       " '0010829': ['F01'],\n",
       " '0009830': ['G20'],\n",
       " '0007089': ['G30'],\n",
       " '0008323': ['I15'],\n",
       " '0019017': ['E13'],\n",
       " '0010709': ['G20'],\n",
       " '0004765': ['J45'],\n",
       " '0004781': ['I21'],\n",
       " '0004784': ['J45'],\n",
       " '0004648': ['F01'],\n",
       " '0017994': ['E66'],\n",
       " '0016464': ['E13'],\n",
       " '0015140': ['G30'],\n",
       " '0006993': ['I50'],\n",
       " '0018925': ['G43'],\n",
       " '0006947': ['I15'],\n",
       " '0018911': ['E11'],\n",
       " '0017636': ['G20'],\n",
       " '0005475': ['G43'],\n",
       " '0006716': ['I22'],\n",
       " '0006727': ['I50'],\n",
       " '0017279': ['G20'],\n",
       " '0018585': ['I63'],\n",
       " '0005277': ['G43'],\n",
       " '0006658': ['I70'],\n",
       " '0019977': ['G20'],\n",
       " '0019976': ['F01'],\n",
       " '0005311': ['I70']}"
      ]
     },
     "execution_count": 79,
     "metadata": {},
     "output_type": "execute_result"
    }
   ],
   "source": [
    "dichti"
   ]
  },
  {
   "cell_type": "code",
   "execution_count": 88,
   "metadata": {},
   "outputs": [
    {
     "data": {
      "text/plain": [
       "{'0000700': {'G43'},\n",
       " '0000914': {'F01'},\n",
       " '0000980': {'I70'},\n",
       " '0001134': {'I10'},\n",
       " '0001200': {'I15'},\n",
       " '0001302': {'I11'},\n",
       " '0001491': {'J45'},\n",
       " '0001815': {'G20'},\n",
       " '0001876': {'I70'},\n",
       " '0002275': {'I70'},\n",
       " '0002277': {'I70'},\n",
       " '0002679': {'I63'},\n",
       " '0004648': {'F01'},\n",
       " '0004765': {'J45'},\n",
       " '0004781': {'I21'},\n",
       " '0004784': {'J45'},\n",
       " '0004975': {'G30'},\n",
       " '0004979': {'J45'},\n",
       " '0005009': {'I50'},\n",
       " '0005010': {'I21', 'I22'},\n",
       " '0005015': {'E10', 'E11', 'E12', 'E13', 'E14'},\n",
       " '0005044': {'I10', 'I11', 'I12', 'I13', 'I15'},\n",
       " '0005068': {'I21', 'I22'},\n",
       " '0005071': {'G20', 'G30', 'G43'},\n",
       " '0005084': {'F00'},\n",
       " '0005147': {'E10'},\n",
       " '0005148': {'E11'},\n",
       " '0005180': {'G20'},\n",
       " '0005277': {'G43'},\n",
       " '0005311': {'I70'},\n",
       " '0005475': {'G43'},\n",
       " '0006044': {'I12'},\n",
       " '0006658': {'I70'},\n",
       " '0006716': {'I21', 'I22'},\n",
       " '0006727': {'I50'},\n",
       " '0006947': {'I15'},\n",
       " '0006993': {'I50'},\n",
       " '0007089': {'G30'},\n",
       " '0007432': {'F01'},\n",
       " '0007454': {'E10'},\n",
       " '0007669': {'E11'},\n",
       " '0007772': {'I15'},\n",
       " '0008071': {'I15'},\n",
       " '0008323': {'I15'},\n",
       " '0009101': {'E13'},\n",
       " '0009192': {'E13'},\n",
       " '0009830': {'G20'},\n",
       " '0009874': {'E13'},\n",
       " '0010482': {'G20'},\n",
       " '0010709': {'G20'},\n",
       " '0010785': {'E13'},\n",
       " '0010829': {'F01'},\n",
       " '0010861': {'E10'},\n",
       " '0010862': {'E10'},\n",
       " '0010863': {'E10'},\n",
       " '0010864': {'E10'},\n",
       " '0010950': {'E10'},\n",
       " '0010961': {'E66'},\n",
       " '0011016': {'E10'},\n",
       " '0011033': {'E10'},\n",
       " '0011057': {'I63', 'I64'},\n",
       " '0011068': {'E10'},\n",
       " '0011122': {'E66'},\n",
       " '0011123': {'E10'},\n",
       " '0011167': {'E10'},\n",
       " '0011168': {'E10'},\n",
       " '0011194': {'G30'},\n",
       " '0011302': {'E10'},\n",
       " '0011502': {'E13'},\n",
       " '0011517': {'I15'},\n",
       " '0011561': {'G30'},\n",
       " '0011562': {'G20'},\n",
       " '0011572': {'E10'},\n",
       " '0011647': {'G30'},\n",
       " '0011777': {'G30'},\n",
       " '0011847': {'G43'},\n",
       " '0012321': {'G30'},\n",
       " '0012335': {'E66'},\n",
       " '0012344': {'G30'},\n",
       " '0012422': {'E10'},\n",
       " '0012520': {'E13'},\n",
       " '0012609': {'G30'},\n",
       " '0012630': {'G30'},\n",
       " '0012631': {'G30'},\n",
       " '0012632': {'G30'},\n",
       " '0012919': {'E10'},\n",
       " '0012920': {'E10'},\n",
       " '0012921': {'E10'},\n",
       " '0012961': {'E10'},\n",
       " '0013078': {'E10'},\n",
       " '0013673': {'E13'},\n",
       " '0013777': {'I15'},\n",
       " '0013778': {'I15'},\n",
       " '0013781': {'I15'},\n",
       " '0013782': {'I15'},\n",
       " '0013991': {'E66'},\n",
       " '0013992': {'E66'},\n",
       " '0014231': {'G20'},\n",
       " '0014309': {'E66'},\n",
       " '0014768': {'F01'},\n",
       " '0014796': {'G20'},\n",
       " '0015140': {'G30'},\n",
       " '0015825': {'E66'},\n",
       " '0016464': {'E13'},\n",
       " '0017279': {'G20'},\n",
       " '0017636': {'G20'},\n",
       " '0017994': {'E66'},\n",
       " '0018105': {'E13'},\n",
       " '0018244': {'E66'},\n",
       " '0018321': {'G20'},\n",
       " '0018466': {'G20'},\n",
       " '0018585': {'I63'},\n",
       " '0018911': {'E11'},\n",
       " '0018925': {'G43'},\n",
       " '0019017': {'E13'},\n",
       " '0019115': {'E66'},\n",
       " '0019162': {'I15'},\n",
       " '0019182': {'E66'},\n",
       " '0019976': {'F01'},\n",
       " '0019977': {'G20'}}"
      ]
     },
     "execution_count": 88,
     "metadata": {},
     "output_type": "execute_result"
    }
   ],
   "source": [
    "dicht"
   ]
  },
  {
   "cell_type": "code",
   "execution_count": 92,
   "metadata": {},
   "outputs": [
    {
     "name": "stdout",
     "output_type": "stream",
     "text": [
      "['I64']\n",
      "{'I63', 'I64'}\n",
      "['I63', 'I64']\n"
     ]
    }
   ],
   "source": [
    "print(dichti['0011057'])\n",
    "print(dicht['0011057'])\n",
    "print(att_id_to_id['0011057'])"
   ]
  },
  {
   "cell_type": "code",
   "execution_count": null,
   "metadata": {},
   "outputs": [],
   "source": []
  }
 ],
 "metadata": {
  "kernelspec": {
   "display_name": "Python 3",
   "language": "python",
   "name": "python3"
  },
  "language_info": {
   "codemirror_mode": {
    "name": "ipython",
    "version": 3
   },
   "file_extension": ".py",
   "mimetype": "text/x-python",
   "name": "python",
   "nbconvert_exporter": "python",
   "pygments_lexer": "ipython3",
   "version": "3.8.10"
  }
 },
 "nbformat": 4,
 "nbformat_minor": 4
}
