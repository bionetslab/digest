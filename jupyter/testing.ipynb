{
 "cells": [
  {
   "cell_type": "markdown",
   "metadata": {},
   "source": [
    "# Testing environment for DoSE"
   ]
  },
  {
   "cell_type": "markdown",
   "metadata": {},
   "source": [
    "## Setup"
   ]
  },
  {
   "cell_type": "markdown",
   "metadata": {},
   "source": [
    "### Load libraries"
   ]
  },
  {
   "cell_type": "code",
   "execution_count": 1,
   "metadata": {},
   "outputs": [],
   "source": [
    "import pandas as pd\n",
    "import numpy as np \n",
    "import gseapy\n",
    "from biothings_client import get_client"
   ]
  },
  {
   "cell_type": "markdown",
   "metadata": {},
   "source": [
    "### Define data"
   ]
  },
  {
   "cell_type": "code",
   "execution_count": 2,
   "metadata": {},
   "outputs": [],
   "source": [
    "seeds_file = \"Input/0007079.txt\"\n",
    "betweenness_file = \"Input/0007079_added_200_dmd_betweenness_hub_0.01.txt\"\n",
    "significance_file = \"Input/0007079_added_200_dmd_significance_hub_1.txt\"\n",
    "diseases_file = \"Input/ICD10_commROCG_raw.txt\"\n",
    "disease_clusters_file = \"Input/ICD10_commROCG_cluster.txt\""
   ]
  },
  {
   "cell_type": "markdown",
   "metadata": {},
   "source": [
    "### Load data"
   ]
  },
  {
   "cell_type": "code",
   "execution_count": 3,
   "metadata": {},
   "outputs": [],
   "source": [
    "disease_id = \"0007079\"\n",
    "seeds = pd.read_csv(seeds_file, sep=\"\\t\", header=None)[0]\n",
    "betweenness = pd.read_csv(betweenness_file, sep=\"\\t\")['node']\n",
    "significance = pd.read_csv(significance_file, sep=\"\\t\")['node']\n",
    "diseases = pd.read_csv(diseases_file, sep=\"\\t\", header=None)\n",
    "disease_clusters = pd.read_csv(disease_clusters_file, sep=\"\\t\", header=None)"
   ]
  },
  {
   "cell_type": "code",
   "execution_count": 4,
   "metadata": {},
   "outputs": [
    {
     "name": "stdout",
     "output_type": "stream",
     "text": [
      "Time:  4.699100099969655e-05\n"
     ]
    }
   ],
   "source": [
    "import timeit\n",
    "start = timeit.default_timer()\n",
    "\n",
    "stop = timeit.default_timer()\n",
    "print('Time: ', stop - start)  "
   ]
  },
  {
   "cell_type": "markdown",
   "metadata": {},
   "source": [
    "## Network from NeDReX"
   ]
  },
  {
   "cell_type": "code",
   "execution_count": 8,
   "metadata": {},
   "outputs": [],
   "source": [
    "import os\n",
    "import pandas as pd"
   ]
  },
  {
   "cell_type": "code",
   "execution_count": 9,
   "metadata": {},
   "outputs": [],
   "source": [
    "iid_files = {\"rat\": \"rat_annotated_PPIs\",\n",
    "            \"human\": \"human_annotated_PPIs\",\n",
    "            \"mouse\": \"mouse_annotated_PPIs\",\n",
    "            \"yeast\": \"yeast_annotated_PPIs\",\n",
    "            \"fly\": \"fly_annotated_PPIs\",\n",
    "            \"worm\": \"worm_annotated_PPIs\",\n",
    "            \"chicken\": \"chicken_annotated_PPIs\"}"
   ]
  },
  {
   "cell_type": "code",
   "execution_count": 10,
   "metadata": {},
   "outputs": [
    {
     "data": {
      "text/plain": [
       "0"
      ]
     },
     "execution_count": 10,
     "metadata": {},
     "output_type": "execute_result"
    }
   ],
   "source": [
    "os.system(\"mkdir tmp\")\n",
    "os.system(\"wget 'http://iid.ophid.utoronto.ca/static/download/\"+iid_files['rat']+\".txt.gz' -P tmp/\")\n",
    "os.system(\"gzip -d tmp/\"+iid_files['rat']+\".txt.gz\")"
   ]
  },
  {
   "cell_type": "code",
   "execution_count": 11,
   "metadata": {},
   "outputs": [],
   "source": [
    "with open('tmp/'+iid_files['rat']+\"_uniprot.sif\", 'a') as sif_file1:\n",
    "    with open('tmp/'+iid_files['rat']+\"_symbols.sif\", 'a') as sif_file2:\n",
    "        with open(\"tmp/\"+iid_files['rat']+\".txt\") as fp:\n",
    "            line_split = fp.readline().split(\"\\t\")\n",
    "            sif_file1.write(line_split[0]+\"\\t\"+line_split[7]+\"\\t\"+line_split[1]+\"\\n\")\n",
    "            sif_file2.write(line_split[2]+\"\\t\"+line_split[7]+\"\\t\"+line_split[3]+\"\\n\")\n",
    "            for line in fp:\n",
    "                line_split = line.split(\"\\t\")\n",
    "                sif_file1.write(line_split[0]+\"\\t\"+line_split[7]+\"\\t\"+line_split[1]+\"\\n\")\n",
    "                sif_file2.write(line_split[2]+\"\\t\"+line_split[7]+\"\\t\"+line_split[3]+\"\\n\")"
   ]
  },
  {
   "cell_type": "code",
   "execution_count": 12,
   "metadata": {},
   "outputs": [
    {
     "data": {
      "text/plain": [
       "0"
      ]
     },
     "execution_count": 12,
     "metadata": {},
     "output_type": "execute_result"
    }
   ],
   "source": [
    "os.system(\"mv tmp/*.sif ./\")\n",
    "os.system(\"rm -R tmp\")"
   ]
  },
  {
   "cell_type": "code",
   "execution_count": null,
   "metadata": {},
   "outputs": [],
   "source": []
  }
 ],
 "metadata": {
  "kernelspec": {
   "display_name": "Python 3",
   "language": "python",
   "name": "python3"
  },
  "language_info": {
   "codemirror_mode": {
    "name": "ipython",
    "version": 3
   },
   "file_extension": ".py",
   "mimetype": "text/x-python",
   "name": "python",
   "nbconvert_exporter": "python",
   "pygments_lexer": "ipython3",
   "version": "3.8.10"
  }
 },
 "nbformat": 4,
 "nbformat_minor": 4
}
